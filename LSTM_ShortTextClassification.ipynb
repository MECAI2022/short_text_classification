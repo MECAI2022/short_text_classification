{
  "cells": [
    {
      "cell_type": "markdown",
      "metadata": {
        "id": "view-in-github",
        "colab_type": "text"
      },
      "source": [
        "<a href=\"https://colab.research.google.com/github/MECAI2022/short_text_classification/blob/main/LSTM_ShortTextClassification.ipynb\" target=\"_parent\"><img src=\"https://colab.research.google.com/assets/colab-badge.svg\" alt=\"Open In Colab\"/></a>"
      ]
    },
    {
      "cell_type": "markdown",
      "metadata": {
        "id": "w8MMLZLtuZgm"
      },
      "source": [
        "# Short Text Classification"
      ]
    },
    {
      "cell_type": "markdown",
      "metadata": {
        "id": "Jc-PeepLukl1"
      },
      "source": [
        "## Imports"
      ]
    },
    {
      "cell_type": "code",
      "execution_count": null,
      "metadata": {
        "id": "zburO8zPSqoy"
      },
      "outputs": [],
      "source": [
        "from google.colab import drive, output\n",
        "drive.mount('/content/drive')\n",
        "\n",
        "import pandas as pd\n",
        "import numpy as np\n",
        "\n",
        "from matplotlib import pyplot as plt\n",
        "\n",
        "import re\n",
        "import nltk\n",
        "from nltk.corpus import stopwords\n",
        "\n",
        "from sklearn.model_selection import train_test_split\n",
        "nltk.download('stopwords')\n",
        "\n",
        "import tensorflow as tf\n",
        "from tensorflow.keras.preprocessing.text import Tokenizer\n",
        "from tensorflow.keras.preprocessing.sequence import pad_sequences\n",
        "from tensorflow.keras.models import Model\n",
        "\n",
        "from sklearn.model_selection import train_test_split\n",
        "!pip install tensorflow_addons\n",
        "import tensorflow_addons as tfa\n",
        "\n",
        "!pip install unidecode\n",
        "import unidecode\n",
        "\n",
        "!git clone https://github.com/MECAI2022/short_text_classification.git\n",
        "import sys\n",
        "sys.path.insert(0,'/content/short_text_classification/')\n",
        "from pre_treatment_product import pre_process_text\n",
        "\n",
        "import warnings\n",
        "warnings.filterwarnings('ignore')\n",
        "\n",
        "output.clear()"
      ]
    },
    {
      "cell_type": "markdown",
      "metadata": {
        "id": "FYVICAczvKf0"
      },
      "source": [
        "## Preparando os Dados"
      ]
    },
    {
      "cell_type": "code",
      "execution_count": null,
      "metadata": {
        "id": "9yJqWGm3S9MO"
      },
      "outputs": [],
      "source": [
        "filepath = \"/content/drive/MyDrive/MAI5003 - Short text classification (Classificação de Produtos)/dataset_produtos_V02.xlsx\"\n",
        "df = pd.read_excel(filepath)"
      ]
    },
    {
      "cell_type": "code",
      "execution_count": null,
      "metadata": {
        "id": "k4KTKpcNDHB6",
        "outputId": "fd30992b-ca54-4db1-9d09-ff5833f3730c",
        "colab": {
          "base_uri": "https://localhost:8080/",
          "height": 206
        }
      },
      "outputs": [
        {
          "output_type": "execute_result",
          "data": {
            "text/plain": [
              "                            nm_item               segmento  \\\n",
              "0             cueca sunga lupo g817  4-FASHION E ESPORTIVO   \n",
              "1  touca natacao glide bestway26006  4-FASHION E ESPORTIVO   \n",
              "2             oculos nat infant und  4-FASHION E ESPORTIVO   \n",
              "3            es sunga lisa masc v22  4-FASHION E ESPORTIVO   \n",
              "4   sunga folhagem tex azl 1m ppv21  4-FASHION E ESPORTIVO   \n",
              "\n",
              "                categoria             subcategoria         nm_product  \\\n",
              "0            66-VESTUARIO          165-MODA INTIMA              CUECA   \n",
              "1  63-VESTUARIO ESPORTIVO     156-ROUPAS AQUATICAS   TOUCA DE NATACAO   \n",
              "2   61-ARTIGOS ESPORTIVOS  147-ARTIGOS DE PROTECAO  OCULOS DE NATACAO   \n",
              "3            66-VESTUARIO          167-MODA PRAIA               SUNGA   \n",
              "4            66-VESTUARIO          167-MODA PRAIA               SUNGA   \n",
              "\n",
              "                                              corpus  \n",
              "0                        cueca sunga lupo g817 cueca  \n",
              "1  touca natacao glide bestway26006 touca de natacao  \n",
              "2            oculos nat infant und oculos de natacao  \n",
              "3                       es sunga lisa masc v22 sunga  \n",
              "4              sunga folhagem tex azl 1m ppv21 sunga  "
            ],
            "text/html": [
              "\n",
              "  <div id=\"df-68455eac-f6ac-479b-9934-b737736bfbec\">\n",
              "    <div class=\"colab-df-container\">\n",
              "      <div>\n",
              "<style scoped>\n",
              "    .dataframe tbody tr th:only-of-type {\n",
              "        vertical-align: middle;\n",
              "    }\n",
              "\n",
              "    .dataframe tbody tr th {\n",
              "        vertical-align: top;\n",
              "    }\n",
              "\n",
              "    .dataframe thead th {\n",
              "        text-align: right;\n",
              "    }\n",
              "</style>\n",
              "<table border=\"1\" class=\"dataframe\">\n",
              "  <thead>\n",
              "    <tr style=\"text-align: right;\">\n",
              "      <th></th>\n",
              "      <th>nm_item</th>\n",
              "      <th>segmento</th>\n",
              "      <th>categoria</th>\n",
              "      <th>subcategoria</th>\n",
              "      <th>nm_product</th>\n",
              "      <th>corpus</th>\n",
              "    </tr>\n",
              "  </thead>\n",
              "  <tbody>\n",
              "    <tr>\n",
              "      <th>0</th>\n",
              "      <td>cueca sunga lupo g817</td>\n",
              "      <td>4-FASHION E ESPORTIVO</td>\n",
              "      <td>66-VESTUARIO</td>\n",
              "      <td>165-MODA INTIMA</td>\n",
              "      <td>CUECA</td>\n",
              "      <td>cueca sunga lupo g817 cueca</td>\n",
              "    </tr>\n",
              "    <tr>\n",
              "      <th>1</th>\n",
              "      <td>touca natacao glide bestway26006</td>\n",
              "      <td>4-FASHION E ESPORTIVO</td>\n",
              "      <td>63-VESTUARIO ESPORTIVO</td>\n",
              "      <td>156-ROUPAS AQUATICAS</td>\n",
              "      <td>TOUCA DE NATACAO</td>\n",
              "      <td>touca natacao glide bestway26006 touca de natacao</td>\n",
              "    </tr>\n",
              "    <tr>\n",
              "      <th>2</th>\n",
              "      <td>oculos nat infant und</td>\n",
              "      <td>4-FASHION E ESPORTIVO</td>\n",
              "      <td>61-ARTIGOS ESPORTIVOS</td>\n",
              "      <td>147-ARTIGOS DE PROTECAO</td>\n",
              "      <td>OCULOS DE NATACAO</td>\n",
              "      <td>oculos nat infant und oculos de natacao</td>\n",
              "    </tr>\n",
              "    <tr>\n",
              "      <th>3</th>\n",
              "      <td>es sunga lisa masc v22</td>\n",
              "      <td>4-FASHION E ESPORTIVO</td>\n",
              "      <td>66-VESTUARIO</td>\n",
              "      <td>167-MODA PRAIA</td>\n",
              "      <td>SUNGA</td>\n",
              "      <td>es sunga lisa masc v22 sunga</td>\n",
              "    </tr>\n",
              "    <tr>\n",
              "      <th>4</th>\n",
              "      <td>sunga folhagem tex azl 1m ppv21</td>\n",
              "      <td>4-FASHION E ESPORTIVO</td>\n",
              "      <td>66-VESTUARIO</td>\n",
              "      <td>167-MODA PRAIA</td>\n",
              "      <td>SUNGA</td>\n",
              "      <td>sunga folhagem tex azl 1m ppv21 sunga</td>\n",
              "    </tr>\n",
              "  </tbody>\n",
              "</table>\n",
              "</div>\n",
              "      <button class=\"colab-df-convert\" onclick=\"convertToInteractive('df-68455eac-f6ac-479b-9934-b737736bfbec')\"\n",
              "              title=\"Convert this dataframe to an interactive table.\"\n",
              "              style=\"display:none;\">\n",
              "        \n",
              "  <svg xmlns=\"http://www.w3.org/2000/svg\" height=\"24px\"viewBox=\"0 0 24 24\"\n",
              "       width=\"24px\">\n",
              "    <path d=\"M0 0h24v24H0V0z\" fill=\"none\"/>\n",
              "    <path d=\"M18.56 5.44l.94 2.06.94-2.06 2.06-.94-2.06-.94-.94-2.06-.94 2.06-2.06.94zm-11 1L8.5 8.5l.94-2.06 2.06-.94-2.06-.94L8.5 2.5l-.94 2.06-2.06.94zm10 10l.94 2.06.94-2.06 2.06-.94-2.06-.94-.94-2.06-.94 2.06-2.06.94z\"/><path d=\"M17.41 7.96l-1.37-1.37c-.4-.4-.92-.59-1.43-.59-.52 0-1.04.2-1.43.59L10.3 9.45l-7.72 7.72c-.78.78-.78 2.05 0 2.83L4 21.41c.39.39.9.59 1.41.59.51 0 1.02-.2 1.41-.59l7.78-7.78 2.81-2.81c.8-.78.8-2.07 0-2.86zM5.41 20L4 18.59l7.72-7.72 1.47 1.35L5.41 20z\"/>\n",
              "  </svg>\n",
              "      </button>\n",
              "      \n",
              "  <style>\n",
              "    .colab-df-container {\n",
              "      display:flex;\n",
              "      flex-wrap:wrap;\n",
              "      gap: 12px;\n",
              "    }\n",
              "\n",
              "    .colab-df-convert {\n",
              "      background-color: #E8F0FE;\n",
              "      border: none;\n",
              "      border-radius: 50%;\n",
              "      cursor: pointer;\n",
              "      display: none;\n",
              "      fill: #1967D2;\n",
              "      height: 32px;\n",
              "      padding: 0 0 0 0;\n",
              "      width: 32px;\n",
              "    }\n",
              "\n",
              "    .colab-df-convert:hover {\n",
              "      background-color: #E2EBFA;\n",
              "      box-shadow: 0px 1px 2px rgba(60, 64, 67, 0.3), 0px 1px 3px 1px rgba(60, 64, 67, 0.15);\n",
              "      fill: #174EA6;\n",
              "    }\n",
              "\n",
              "    [theme=dark] .colab-df-convert {\n",
              "      background-color: #3B4455;\n",
              "      fill: #D2E3FC;\n",
              "    }\n",
              "\n",
              "    [theme=dark] .colab-df-convert:hover {\n",
              "      background-color: #434B5C;\n",
              "      box-shadow: 0px 1px 3px 1px rgba(0, 0, 0, 0.15);\n",
              "      filter: drop-shadow(0px 1px 2px rgba(0, 0, 0, 0.3));\n",
              "      fill: #FFFFFF;\n",
              "    }\n",
              "  </style>\n",
              "\n",
              "      <script>\n",
              "        const buttonEl =\n",
              "          document.querySelector('#df-68455eac-f6ac-479b-9934-b737736bfbec button.colab-df-convert');\n",
              "        buttonEl.style.display =\n",
              "          google.colab.kernel.accessAllowed ? 'block' : 'none';\n",
              "\n",
              "        async function convertToInteractive(key) {\n",
              "          const element = document.querySelector('#df-68455eac-f6ac-479b-9934-b737736bfbec');\n",
              "          const dataTable =\n",
              "            await google.colab.kernel.invokeFunction('convertToInteractive',\n",
              "                                                     [key], {});\n",
              "          if (!dataTable) return;\n",
              "\n",
              "          const docLinkHtml = 'Like what you see? Visit the ' +\n",
              "            '<a target=\"_blank\" href=https://colab.research.google.com/notebooks/data_table.ipynb>data table notebook</a>'\n",
              "            + ' to learn more about interactive tables.';\n",
              "          element.innerHTML = '';\n",
              "          dataTable['output_type'] = 'display_data';\n",
              "          await google.colab.output.renderOutput(dataTable, element);\n",
              "          const docLink = document.createElement('div');\n",
              "          docLink.innerHTML = docLinkHtml;\n",
              "          element.appendChild(docLink);\n",
              "        }\n",
              "      </script>\n",
              "    </div>\n",
              "  </div>\n",
              "  "
            ]
          },
          "metadata": {},
          "execution_count": 3
        }
      ],
      "source": [
        "# Aplicando de limpeza no dataset\n",
        "pre_process = pre_process_text(stopwords_language='portuguese')\n",
        "df['nm_item'] = df['nm_item'].astype(str).map(lambda x: pre_process.transform(x))\n",
        "df = df.drop_duplicates()\n",
        "df.head()"
      ]
    },
    {
      "cell_type": "code",
      "source": [
        "counts = df['nm_product'].value_counts()\n",
        "df = df[~df['nm_product'].isin(counts[counts < 3].index)]"
      ],
      "metadata": {
        "id": "I2oBp9jVJh6-"
      },
      "execution_count": null,
      "outputs": []
    },
    {
      "cell_type": "code",
      "source": [
        "df.info()"
      ],
      "metadata": {
        "colab": {
          "base_uri": "https://localhost:8080/"
        },
        "id": "Szfb4iy8_CJD",
        "outputId": "386b14e9-8780-43e2-91a4-a3fa5e2e84c5"
      },
      "execution_count": null,
      "outputs": [
        {
          "output_type": "stream",
          "name": "stdout",
          "text": [
            "<class 'pandas.core.frame.DataFrame'>\n",
            "Int64Index: 184710 entries, 0 to 193333\n",
            "Data columns (total 6 columns):\n",
            " #   Column        Non-Null Count   Dtype \n",
            "---  ------        --------------   ----- \n",
            " 0   nm_item       184710 non-null  object\n",
            " 1   segmento      184710 non-null  object\n",
            " 2   categoria     184710 non-null  object\n",
            " 3   subcategoria  184710 non-null  object\n",
            " 4   nm_product    184710 non-null  object\n",
            " 5   corpus        184710 non-null  object\n",
            "dtypes: object(6)\n",
            "memory usage: 9.9+ MB\n"
          ]
        }
      ]
    },
    {
      "cell_type": "markdown",
      "metadata": {
        "id": "dja7-fhpkD8C"
      },
      "source": [
        "### Definindo algumas variáveis globais\n",
        "\n",
        "Definindo algumas variáveis ​​globais que serão usadas no notebook.\n",
        "\n",
        "- `EMBEDDING_DIM`: Dimensão do embedding, será utilizada na camada de embedding do modelo.\n",
        "\n",
        "- `MAX_SEQUENCE_LENGTH`: Comprimento máximo de todas as sequências.\n",
        "\n",
        "- `MAX_NB_WORDS`: Número máximo de exemplos a serem usados."
      ]
    },
    {
      "cell_type": "code",
      "execution_count": null,
      "metadata": {
        "id": "dLn3Fo5ekD8C"
      },
      "outputs": [],
      "source": [
        "# Dimensão do Embbeding.\n",
        "EMBEDDING_DIM = 100\n",
        "\n",
        "# Número máximo que sequência que a rede neural irá utilizar\n",
        "MAX_SEQUENCE_LENGTH = 15\n",
        "\n",
        "# O número máximo de palavras a serem usadas. (mais frequente)\n",
        "MAX_NB_WORDS = 42000"
      ]
    },
    {
      "cell_type": "markdown",
      "metadata": {
        "id": "SAjnJyGakD8D"
      },
      "source": [
        "### Gerando o Vocabulário"
      ]
    },
    {
      "cell_type": "markdown",
      "metadata": {
        "id": "xRvMNJamkD8D"
      },
      "source": [
        "Para a maioria das terefas de NLP, o passo inicial na praparação dos dados é extrair um vocabulário de palavras do corpus do dataset. É necessário definir como representar os textos em representações numéricas que podem ser usadas para treinar a rede neural. Essas representações são chamadas de Tokens"
      ]
    },
    {
      "cell_type": "code",
      "execution_count": null,
      "metadata": {
        "colab": {
          "base_uri": "https://localhost:8080/"
        },
        "id": "cvQJBDMwUZhS",
        "outputId": "a6a1ac61-b6a5-4a76-a8a0-ea9db8d30659"
      },
      "outputs": [
        {
          "output_type": "stream",
          "name": "stdout",
          "text": [
            "Encontrou 46860 tokens únicos.\n"
          ]
        }
      ],
      "source": [
        "# Inicializando a classe Tokenizer\n",
        "tokenizer = Tokenizer(num_words=MAX_NB_WORDS)\n",
        "\n",
        "# Gerando indices para cada palavra no corpus\n",
        "tokenizer.fit_on_texts(df['nm_item'].values)\n",
        "\n",
        "# Pega o dicionário de indices de palavras e imprime a quantidade\n",
        "word_index = tokenizer.word_index\n",
        "print(f'Encontrou {len(word_index)} tokens únicos.')"
      ]
    },
    {
      "cell_type": "markdown",
      "metadata": {
        "id": "aCXqx5xukD8D"
      },
      "source": [
        "O parâmetro `num_words` usado no inicializador especifica o número máximo de palavras menos uma (com base na frequência) para manter ao gerar sequências. "
      ]
    },
    {
      "cell_type": "markdown",
      "metadata": {
        "id": "kv4TL88BkD8E"
      },
      "source": [
        "### Texto para Sequeências e Padding\n",
        "\n",
        " Agora pode-se usar o resultado da cédula anterior para converter cada uma das frases de entrada em uma sequência de tokens. Em seguida é usado o padding para preencher as sequências em um comprimento uniforme já que é o que o modelo espera receber."
      ]
    },
    {
      "cell_type": "code",
      "execution_count": null,
      "metadata": {
        "colab": {
          "base_uri": "https://localhost:8080/"
        },
        "id": "P_xt2jTmUceq",
        "outputId": "346615c3-bbcc-4a6b-d126-4b0954cdc421"
      },
      "outputs": [
        {
          "output_type": "stream",
          "name": "stdout",
          "text": [
            "Shape of data tensor: (184710, 15)\n"
          ]
        }
      ],
      "source": [
        "# Gerando uma lista de sequência de token\n",
        "sequences = tokenizer.texts_to_sequences(df['nm_item'].values)\n",
        "\n",
        "# Preenchendo as sequências para um comprimento uniforme\n",
        "X = pad_sequences(sequences, maxlen=MAX_SEQUENCE_LENGTH)\n",
        "print('Shape of data tensor:', X.shape)"
      ]
    },
    {
      "cell_type": "markdown",
      "metadata": {
        "id": "DTNuEV9_kD8E"
      },
      "source": [
        "### Utilizando Word Embedding Pré Treinados"
      ]
    },
    {
      "cell_type": "code",
      "execution_count": null,
      "metadata": {
        "id": "bKQUt92ykD8E"
      },
      "outputs": [],
      "source": [
        "class Embeddings():\n",
        "    \"\"\"\n",
        "    Classe para ler o arquivo word embedding e criar a matriz de word embedding\n",
        "    \"\"\"\n",
        "\n",
        "    def __init__(self, path, vector_dimension):\n",
        "        self.path = path \n",
        "        self.vector_dimension = vector_dimension\n",
        "    \n",
        "    @staticmethod\n",
        "    def get_coefs(word, *arr): \n",
        "        return word, np.asarray(arr, dtype='float32')\n",
        "\n",
        "    def get_embedding_index(self):\n",
        "        embeddings_index = dict(self.get_coefs(*o.split(\" \")) for o in open(self.path, errors='ignore'))\n",
        "        return embeddings_index\n",
        "\n",
        "    def create_embedding_matrix(self, tokenizer, max_features):\n",
        "        \"\"\"\n",
        "        Método pata criar a matrix de word embadding\n",
        "        \"\"\"\n",
        "        model_embed = self.get_embedding_index()\n",
        "\n",
        "        embedding_matrix = np.zeros((max_features + 1, self.vector_dimension))\n",
        "        for word, index in tokenizer.word_index.items():\n",
        "            if index > max_features:\n",
        "                break\n",
        "            else:\n",
        "                try:\n",
        "                    embedding_matrix[index] = model_embed[word]\n",
        "                except:\n",
        "                    continue\n",
        "        return embedding_matrix"
      ]
    },
    {
      "cell_type": "code",
      "source": [
        "# baixando word embadding e extraindo zip\n",
        "!wget http://143.107.183.175:22980/download.php?file=embeddings/glove/glove_s100.zip\n",
        "!unzip /content/download.php?file=embeddings%2Fglove%2Fglove_s100.zip"
      ],
      "metadata": {
        "id": "OKAOe907Tl2A",
        "colab": {
          "base_uri": "https://localhost:8080/"
        },
        "outputId": "5ce140c9-4b11-4be9-b80b-37d3e2b5c001"
      },
      "execution_count": null,
      "outputs": [
        {
          "output_type": "stream",
          "name": "stdout",
          "text": [
            "--2022-11-03 05:21:13--  http://143.107.183.175:22980/download.php?file=embeddings/glove/glove_s100.zip\n",
            "Connecting to 143.107.183.175:22980... connected.\n",
            "HTTP request sent, awaiting response... 200 OK\n",
            "Length: 348388454 (332M) [application/octet-stream]\n",
            "Saving to: ‘download.php?file=embeddings%2Fglove%2Fglove_s100.zip.3’\n",
            "\n",
            "download.php?file=e 100%[===================>] 332.25M  7.74MB/s    in 46s     \n",
            "\n",
            "2022-11-03 05:21:59 (7.29 MB/s) - ‘download.php?file=embeddings%2Fglove%2Fglove_s100.zip.3’ saved [348388454/348388454]\n",
            "\n",
            "Archive:  /content/download.php?file=embeddings%2Fglove%2Fglove_s100.zip\n",
            "replace glove_s100.txt? [y]es, [n]o, [A]ll, [N]one, [r]ename: y\n",
            "  inflating: glove_s100.txt          \n"
          ]
        }
      ]
    },
    {
      "cell_type": "code",
      "execution_count": null,
      "metadata": {
        "id": "6UozHgoTkD8E"
      },
      "outputs": [],
      "source": [
        "# Criando a matrix de word embadding\n",
        "embed_path = 'glove_s100.txt'\n",
        "embed_dim = 100\n",
        "embedding = Embeddings(embed_path, embed_dim)\n",
        "EMBEDDINGS_MATRIX = embedding.create_embedding_matrix(tokenizer, len(tokenizer.word_counts))"
      ]
    },
    {
      "cell_type": "markdown",
      "metadata": {
        "id": "gnt-Mo_Gjjkm"
      },
      "source": [
        "## Modelo"
      ]
    },
    {
      "cell_type": "code",
      "execution_count": null,
      "metadata": {
        "colab": {
          "base_uri": "https://localhost:8080/"
        },
        "id": "MmlkJa7wK1U5",
        "outputId": "36103760-98f1-4e8e-a766-1867c571368a"
      },
      "outputs": [
        {
          "output_type": "stream",
          "name": "stdout",
          "text": [
            "Shape of label tensor: (184710, 6)\n",
            "Shape of label tensor: (184710, 67)\n",
            "Shape of label tensor: (184710, 151)\n",
            "Shape of label tensor: (184710, 703)\n"
          ]
        }
      ],
      "source": [
        "# Pegando os Labels do dataset\n",
        "Y1 = pd.get_dummies(df['segmento']).values\n",
        "print('Shape of label tensor:', Y1.shape)\n",
        "\n",
        "Y2 = pd.get_dummies(df['categoria']).values\n",
        "print('Shape of label tensor:', Y2.shape)\n",
        "\n",
        "Y3 = pd.get_dummies(df['subcategoria']).values\n",
        "print('Shape of label tensor:', Y3.shape)\n",
        "\n",
        "Y4 = pd.get_dummies(df['nm_product']).values\n",
        "print('Shape of label tensor:', Y4.shape)"
      ]
    },
    {
      "cell_type": "markdown",
      "metadata": {
        "id": "bcK_lIT2kD8F"
      },
      "source": [
        "### Seperando os dados"
      ]
    },
    {
      "cell_type": "code",
      "execution_count": null,
      "metadata": {
        "id": "dYftOSSEMJRT"
      },
      "outputs": [],
      "source": [
        "# Separando os dados em Teste e Treino\n",
        "X_train, X_test, Y1_train, Y1_test = train_test_split(X,Y1, test_size = 0.2, stratify=df['nm_product'].values, random_state = 42)\n",
        "_, _, Y2_train, Y2_test = train_test_split(X,Y2, test_size = 0.2, stratify=df['nm_product'].values, random_state = 42)\n",
        "_, _, Y3_train, Y3_test = train_test_split(X,Y3, test_size = 0.2, stratify=df['nm_product'].values, random_state = 42)\n",
        "_, _, Y4_train, Y4_test = train_test_split(X,Y4, test_size = 0.2, stratify=df['nm_product'].values, random_state = 42)"
      ]
    },
    {
      "cell_type": "markdown",
      "metadata": {
        "id": "fL9LYMlzkD8F"
      },
      "source": [
        "### Contruindo e Compilando o Modelo\n",
        "\n",
        "Com os dados pré-processados, agora podemos construir o modelo de classificação. \n",
        "\n",
        "- `Embadding`: A entrada será uma camada Embedding. A ideia principal aqui é representar cada palavra no vocabulário com vetores. Esses vetores têm pesos treináveis ​​para que, à medida que a rede neural aprende, as palavras com maior probabilidade de aparecer em uma das categorias convergirão para pesos semelhantes. Por exemplo, palavras que aparecem no corpus que são classificados como Mercearia serão agrupados mais próximos.\n",
        "\n",
        "- `Bidirectional(LSTM)`: Em resumo, A camada LSTM (Long Short-Term Memory) calcula o estado de um passo de tempo atual e o passa para os próximos passos de tempo onde esse estado também é atualizado. O processo se repete até o passo de tempo final, onde a computação da saída é afetada por todos os estados anteriores. Além disso, ela pode ser configurado para ser bidirecional (Este caso) para se possível obter o relacionamento das palavras posteriores com as anteriores.\n",
        "\n",
        "- `Conv1D`: Redes neurais convolucionais (CNNs ou ConvNets) são classes de redes neurais que usam a operação de convolução em dados de entrada para detectar padrões nos dados.\n",
        "\n",
        "- `Dropout`: Dropout é uma técnica comum de regularização. A técnica Dropout envolve a omissão de neurônios que atuam como detectores de features da rede neural durante cada etapa de treinamento. A exclusão de cada neurônio é determinada aleatoriamente.\n",
        "\n",
        "- `MaxPooling1D`: é uma operação de pooling que calcula o valor máximo para patches de um mapa features e o usa para criar um mapa de features com amostragem reduzida (em pool). "
      ]
    },
    {
      "cell_type": "code",
      "execution_count": null,
      "metadata": {
        "colab": {
          "base_uri": "https://localhost:8080/"
        },
        "id": "OSlttutbJxQU",
        "outputId": "d75d14a9-e924-4226-defb-222a9a9d8819"
      },
      "outputs": [
        {
          "output_type": "stream",
          "name": "stderr",
          "text": [
            "WARNING:tensorflow:Layer lstm will not use cuDNN kernels since it doesn't meet the criteria. It will use a generic GPU kernel as fallback when running on GPU.\n",
            "WARNING:tensorflow:Layer lstm will not use cuDNN kernels since it doesn't meet the criteria. It will use a generic GPU kernel as fallback when running on GPU.\n",
            "WARNING:tensorflow:Layer lstm will not use cuDNN kernels since it doesn't meet the criteria. It will use a generic GPU kernel as fallback when running on GPU.\n",
            "WARNING:tensorflow:Layer lstm_1 will not use cuDNN kernels since it doesn't meet the criteria. It will use a generic GPU kernel as fallback when running on GPU.\n",
            "WARNING:tensorflow:Layer lstm_1 will not use cuDNN kernels since it doesn't meet the criteria. It will use a generic GPU kernel as fallback when running on GPU.\n",
            "WARNING:tensorflow:Layer lstm_1 will not use cuDNN kernels since it doesn't meet the criteria. It will use a generic GPU kernel as fallback when running on GPU.\n"
          ]
        },
        {
          "output_type": "stream",
          "name": "stdout",
          "text": [
            "Model: \"model\"\n",
            "__________________________________________________________________________________________________\n",
            " Layer (type)                   Output Shape         Param #     Connected to                     \n",
            "==================================================================================================\n",
            " nm_item (InputLayer)           [(None, 15)]         0           []                               \n",
            "                                                                                                  \n",
            " embedding (Embedding)          (None, 15, 100)      4686100     ['nm_item[0][0]']                \n",
            "                                                                                                  \n",
            " spatial_dropout1d (SpatialDrop  (None, 15, 100)     0           ['embedding[0][0]']              \n",
            " out1D)                                                                                           \n",
            "                                                                                                  \n",
            " bidirectional (Bidirectional)  (None, 15, 200)      160800      ['spatial_dropout1d[0][0]']      \n",
            "                                                                                                  \n",
            " bidirectional_1 (Bidirectional  (None, 400)         641600      ['bidirectional[0][0]']          \n",
            " )                                                                                                \n",
            "                                                                                                  \n",
            " segmento (Dense)               (None, 6)            2406        ['bidirectional_1[0][0]']        \n",
            "                                                                                                  \n",
            " categoria (Dense)              (None, 67)           26867       ['bidirectional_1[0][0]']        \n",
            "                                                                                                  \n",
            " subcategoria (Dense)           (None, 151)          60551       ['bidirectional_1[0][0]']        \n",
            "                                                                                                  \n",
            " produto (Dense)                (None, 703)          281903      ['bidirectional_1[0][0]']        \n",
            "                                                                                                  \n",
            "==================================================================================================\n",
            "Total params: 5,860,227\n",
            "Trainable params: 5,860,227\n",
            "Non-trainable params: 0\n",
            "__________________________________________________________________________________________________\n"
          ]
        }
      ],
      "source": [
        "# Arquiterura da rede\n",
        "\n",
        "# Definindo as camadas da rede\n",
        "input_layer = tf.keras.layers.Input(X.shape[1], name='nm_item')\n",
        "x = tf.keras.layers.Embedding(len(word_index)+1, EMBEDDING_DIM, weights=[EMBEDDINGS_MATRIX], trainable=True)(input_layer)\n",
        "x = tf.keras.layers.SpatialDropout1D(0.2)(x)\n",
        "#x = tf.keras.layers.Conv1D(32, 5, activation='relu')(x)\n",
        "#x = tf.keras.layers.MaxPooling1D(pool_size=2)(x)\n",
        "x = tf.keras.layers.Bidirectional(tf.keras.layers.LSTM(100, dropout=0.2, recurrent_dropout=0.2, return_sequences=True))(x)\n",
        "x = tf.keras.layers.Bidirectional(tf.keras.layers.LSTM(200, dropout=0.2, recurrent_dropout=0.2))(x)\n",
        "#x = tf.keras.layers.Dense(64, activation='relu')(x)\n",
        "\n",
        "# Saída da rede\n",
        "segmento = tf.keras.layers.Dense(Y1.shape[1], activation='softmax', name='segmento')(x)\n",
        "categoria = tf.keras.layers.Dense(Y2.shape[1], activation='softmax', name='categoria')(x)\n",
        "subcategoria = tf.keras.layers.Dense(Y3.shape[1], activation='softmax', name='subcategoria')(x)\n",
        "produto = tf.keras.layers.Dense(Y4.shape[1], activation='softmax', name='produto')(x)\n",
        "\n",
        "# Definindo a entrada e saídas do modelo \n",
        "model = Model(inputs=input_layer, outputs=[segmento, categoria, subcategoria, produto])\n",
        "\n",
        "# Definiando as métricas f1\n",
        "f1_segmento = tfa.metrics.F1Score(num_classes=Y1.shape[1], average='macro')\n",
        "f1_categoria = tfa.metrics.F1Score(num_classes=Y2.shape[1], average='macro')\n",
        "f1_subcategoria = tfa.metrics.F1Score(num_classes=Y3.shape[1], average='macro')\n",
        "f1_produto = tfa.metrics.F1Score(num_classes=Y4.shape[1], average='macro')\n",
        "\n",
        "# Especificando o otimizador e compilador do modelo com as funçõpes de perda\n",
        "# tf.keras.optimizers.Adam(1e-5)\n",
        "model.compile(optimizer='adam', \n",
        "              loss={'segmento': 'categorical_crossentropy', \n",
        "                    'categoria': 'categorical_crossentropy',\n",
        "                    'subcategoria': 'categorical_crossentropy',\n",
        "                    'produto': 'categorical_crossentropy'},\n",
        "              metrics={'segmento': [f1_segmento],\n",
        "                       'categoria': [f1_categoria],\n",
        "                       'subcategoria': [f1_subcategoria],\n",
        "                       'produto': [f1_produto]})\n",
        "\n",
        "# Resumo do modelo\n",
        "model.summary()"
      ]
    },
    {
      "cell_type": "code",
      "execution_count": null,
      "metadata": {
        "colab": {
          "base_uri": "https://localhost:8080/",
          "height": 644
        },
        "id": "8fw4tCyoksJC",
        "outputId": "f6b52638-629e-45d2-d7d6-f6f28cec603a"
      },
      "outputs": [
        {
          "output_type": "execute_result",
          "data": {
            "image/png": "[encoded data removed]",
            "text/plain": [
              "<IPython.core.display.Image object>"
            ]
          },
          "metadata": {},
          "execution_count": 15
        }
      ],
      "source": [
        "# Esquema da arquitetura do Modelo\n",
        "img_file = './model_arch.png'\n",
        "\n",
        "tf.keras.utils.plot_model(model, to_file=img_file, show_shapes=True, show_layer_names=True)"
      ]
    },
    {
      "cell_type": "markdown",
      "metadata": {
        "id": "w3QWXNjEkD8F"
      },
      "source": [
        "### Treinando o Modelo\n",
        "\n",
        "Próxima etapa é o treinamento do modelo"
      ]
    },
    {
      "cell_type": "code",
      "execution_count": null,
      "metadata": {
        "id": "_-pGl6ozQlim",
        "colab": {
          "base_uri": "https://localhost:8080/"
        },
        "outputId": "bdd92781-0106-49cf-b1a3-caed2ebaa68b"
      },
      "outputs": [
        {
          "output_type": "stream",
          "name": "stdout",
          "text": [
            "Epoch 1/50\n",
            "1848/1848 [==============================] - 556s 294ms/step - loss: 4.6473 - segmento_loss: 0.1792 - categoria_loss: 0.9641 - subcategoria_loss: 1.3320 - produto_loss: 2.1719 - segmento_f1_score: 0.6644 - categoria_f1_score: 0.5189 - subcategoria_f1_score: 0.4988 - produto_f1_score: 0.3321 - val_loss: 1.5392 - val_segmento_loss: 0.0573 - val_categoria_loss: 0.3224 - val_subcategoria_loss: 0.4210 - val_produto_loss: 0.7386 - val_segmento_f1_score: 0.9106 - val_categoria_f1_score: 0.7897 - val_subcategoria_f1_score: 0.7998 - val_produto_f1_score: 0.6144\n",
            "Epoch 2/50\n",
            "1848/1848 [==============================] - 548s 296ms/step - loss: 1.4241 - segmento_loss: 0.0529 - categoria_loss: 0.3005 - subcategoria_loss: 0.3936 - produto_loss: 0.6771 - segmento_f1_score: 0.8957 - categoria_f1_score: 0.8029 - subcategoria_f1_score: 0.8085 - produto_f1_score: 0.6523 - val_loss: 1.0440 - val_segmento_loss: 0.0355 - val_categoria_loss: 0.2287 - val_subcategoria_loss: 0.2971 - val_produto_loss: 0.4826 - val_segmento_f1_score: 0.9431 - val_categoria_f1_score: 0.8344 - val_subcategoria_f1_score: 0.8534 - val_produto_f1_score: 0.7263\n",
            "Epoch 3/50\n",
            "1848/1848 [==============================] - 541s 293ms/step - loss: 0.9323 - segmento_loss: 0.0312 - categoria_loss: 0.2012 - subcategoria_loss: 0.2583 - produto_loss: 0.4415 - segmento_f1_score: 0.9405 - categoria_f1_score: 0.8441 - subcategoria_f1_score: 0.8638 - produto_f1_score: 0.7484 - val_loss: 0.8681 - val_segmento_loss: 0.0296 - val_categoria_loss: 0.1955 - val_subcategoria_loss: 0.2463 - val_produto_loss: 0.3966 - val_segmento_f1_score: 0.9543 - val_categoria_f1_score: 0.8626 - val_subcategoria_f1_score: 0.8827 - val_produto_f1_score: 0.7812\n",
            "Epoch 4/50\n",
            "1848/1848 [==============================] - 537s 291ms/step - loss: 0.7087 - segmento_loss: 0.0218 - categoria_loss: 0.1546 - subcategoria_loss: 0.1976 - produto_loss: 0.3346 - segmento_f1_score: 0.9572 - categoria_f1_score: 0.8824 - subcategoria_f1_score: 0.8936 - produto_f1_score: 0.8035 - val_loss: 0.7942 - val_segmento_loss: 0.0253 - val_categoria_loss: 0.1842 - val_subcategoria_loss: 0.2283 - val_produto_loss: 0.3564 - val_segmento_f1_score: 0.9596 - val_categoria_f1_score: 0.8770 - val_subcategoria_f1_score: 0.8953 - val_produto_f1_score: 0.8084\n",
            "Epoch 5/50\n",
            "1848/1848 [==============================] - 534s 289ms/step - loss: 0.5765 - segmento_loss: 0.0166 - categoria_loss: 0.1261 - subcategoria_loss: 0.1608 - produto_loss: 0.2731 - segmento_f1_score: 0.9661 - categoria_f1_score: 0.8918 - subcategoria_f1_score: 0.9044 - produto_f1_score: 0.8387 - val_loss: 0.7660 - val_segmento_loss: 0.0260 - val_categoria_loss: 0.1766 - val_subcategoria_loss: 0.2222 - val_produto_loss: 0.3412 - val_segmento_f1_score: 0.9577 - val_categoria_f1_score: 0.8871 - val_subcategoria_f1_score: 0.9044 - val_produto_f1_score: 0.8221\n",
            "Epoch 6/50\n",
            "1848/1848 [==============================] - 529s 286ms/step - loss: 0.4822 - segmento_loss: 0.0135 - categoria_loss: 0.1063 - subcategoria_loss: 0.1339 - produto_loss: 0.2284 - segmento_f1_score: 0.9728 - categoria_f1_score: 0.9199 - subcategoria_f1_score: 0.9266 - produto_f1_score: 0.8672 - val_loss: 0.7465 - val_segmento_loss: 0.0274 - val_categoria_loss: 0.1686 - val_subcategoria_loss: 0.2144 - val_produto_loss: 0.3361 - val_segmento_f1_score: 0.9545 - val_categoria_f1_score: 0.8862 - val_subcategoria_f1_score: 0.8981 - val_produto_f1_score: 0.8336\n",
            "Epoch 7/50\n",
            "1848/1848 [==============================] - 519s 281ms/step - loss: 0.4184 - segmento_loss: 0.0105 - categoria_loss: 0.0927 - subcategoria_loss: 0.1176 - produto_loss: 0.1976 - segmento_f1_score: 0.9762 - categoria_f1_score: 0.9328 - subcategoria_f1_score: 0.9366 - produto_f1_score: 0.8821 - val_loss: 0.7668 - val_segmento_loss: 0.0268 - val_categoria_loss: 0.1776 - val_subcategoria_loss: 0.2236 - val_produto_loss: 0.3387 - val_segmento_f1_score: 0.9554 - val_categoria_f1_score: 0.8983 - val_subcategoria_f1_score: 0.9168 - val_produto_f1_score: 0.8412\n",
            "Epoch 8/50\n",
            "1848/1848 [==============================] - 520s 282ms/step - loss: 0.3665 - segmento_loss: 0.0101 - categoria_loss: 0.0810 - subcategoria_loss: 0.1014 - produto_loss: 0.1740 - segmento_f1_score: 0.9816 - categoria_f1_score: 0.9460 - subcategoria_f1_score: 0.9445 - produto_f1_score: 0.8947 - val_loss: 0.7568 - val_segmento_loss: 0.0259 - val_categoria_loss: 0.1787 - val_subcategoria_loss: 0.2206 - val_produto_loss: 0.3315 - val_segmento_f1_score: 0.9591 - val_categoria_f1_score: 0.8882 - val_subcategoria_f1_score: 0.9119 - val_produto_f1_score: 0.8387\n",
            "Epoch 9/50\n",
            "1848/1848 [==============================] - 517s 280ms/step - loss: 0.3285 - segmento_loss: 0.0085 - categoria_loss: 0.0729 - subcategoria_loss: 0.0911 - produto_loss: 0.1560 - segmento_f1_score: 0.9827 - categoria_f1_score: 0.9558 - subcategoria_f1_score: 0.9544 - produto_f1_score: 0.9063 - val_loss: 0.7661 - val_segmento_loss: 0.0282 - val_categoria_loss: 0.1805 - val_subcategoria_loss: 0.2232 - val_produto_loss: 0.3341 - val_segmento_f1_score: 0.9636 - val_categoria_f1_score: 0.8856 - val_subcategoria_f1_score: 0.9093 - val_produto_f1_score: 0.8496\n"
          ]
        }
      ],
      "source": [
        "epochs = 50\n",
        "batch_size = 64\n",
        "\n",
        "#Treinando o Modelo\n",
        "history = model.fit(X_train, \n",
        "                    [Y1_train, Y2_train, Y3_train, Y4_train], \n",
        "                    epochs=epochs, \n",
        "                    batch_size=batch_size, \n",
        "                    validation_split=0.2, \n",
        "                    callbacks=[tf.keras.callbacks.EarlyStopping(monitor='val_loss', patience=3, min_delta=0.0001)]\n",
        "                    )"
      ]
    },
    {
      "cell_type": "code",
      "execution_count": null,
      "metadata": {
        "colab": {
          "base_uri": "https://localhost:8080/"
        },
        "id": "hOBQJG42iXA1",
        "outputId": "4866ae83-c441-46a9-d442-d03de04dd509"
      },
      "outputs": [
        {
          "output_type": "stream",
          "name": "stdout",
          "text": [
            "1155/1155 [==============================] - 29s 25ms/step - loss: 0.7504 - segmento_loss: 0.0247 - categoria_loss: 0.1761 - subcategoria_loss: 0.2187 - produto_loss: 0.3309 - segmento_f1_score: 0.9565 - categoria_f1_score: 0.8922 - subcategoria_f1_score: 0.9093 - produto_f1_score: 0.8568\n"
          ]
        }
      ],
      "source": [
        "# Avaliando o modelo no conjunto de Teste\n",
        "accr = model.evaluate(X_test,[Y1_test, Y2_test, Y3_test, Y4_test])"
      ]
    },
    {
      "cell_type": "markdown",
      "metadata": {
        "id": "oMJ3021mkD8G"
      },
      "source": [
        "### Visualizando os Resultados\n",
        "\n",
        "Agora vamos plotar o resultado"
      ]
    },
    {
      "cell_type": "markdown",
      "metadata": {
        "id": "-semkf1OkD8G"
      },
      "source": [
        "### Salvando o Modelo"
      ]
    },
    {
      "cell_type": "code",
      "execution_count": null,
      "metadata": {
        "id": "-c1OhWM2pQmR"
      },
      "outputs": [],
      "source": [
        "# Salvando o modelo\n",
        "import time\n",
        "timestr = time.strftime(\"%Y%m%d-%H%M\")\n",
        "model.save(f\"/content/drive/MyDrive/MAI5003 - Short text classification (Classificação de Produtos)/Notebooks/pesos/LSTModel{timestr}.h5\")"
      ]
    },
    {
      "cell_type": "markdown",
      "metadata": {
        "id": "XcGmjEtztA7B"
      },
      "source": [
        "## Utilizando o Modelo"
      ]
    },
    {
      "cell_type": "code",
      "execution_count": null,
      "metadata": {
        "id": "EanKxioCsMKT"
      },
      "outputs": [],
      "source": [
        "# carregando o modelo\n",
        "#pesos = \"MultiModelitem_glove.h5\"\n",
        "#model = tf.keras.models.load_model(pesos)"
      ]
    },
    {
      "cell_type": "code",
      "execution_count": null,
      "metadata": {
        "id": "wDPyLKflhUeK"
      },
      "outputs": [],
      "source": [
        "# Pegando os Labels do dataset\n",
        "label_segmento = np.sort(df['segmento'].unique())\n",
        "label_categoria = np.sort(df['categoria'].unique())\n",
        "label_subcategoria = np.sort(df['subcategoria'].unique())\n",
        "label_produto = np.sort(df['nm_product'].unique())"
      ]
    },
    {
      "cell_type": "code",
      "execution_count": null,
      "metadata": {
        "id": "MKC4nCsckD8H",
        "outputId": "1848633d-2ee6-4897-ee63-75f42dea40a3",
        "colab": {
          "base_uri": "https://localhost:8080/"
        }
      },
      "outputs": [
        {
          "output_type": "stream",
          "name": "stdout",
          "text": [
            "flor lirio variado pt15\n",
            "1/1 [==============================] - 0s 34ms/step\n",
            "Segmento: 2-CASA E CONSTRUCAO\n",
            "Categoria: ['39-DIVERSOS DECORACAO E JARDIM' '51-HIDRAULICA E GAS'\n",
            " '44-FERRAGENS E FERRAMENTAS']\n",
            "Subcategoria: ['96-DIVERSOS DECORACAO E JARDIM' '124-TUBOS E CONEXOES' '89-PISCINAS']\n",
            "Produto: ['PLANTAS E SEMENTES' 'VASO PARA PLANTAS' 'OUTRO DECORACAO E JARDIM']\n"
          ]
        }
      ],
      "source": [
        "# Top 3\n",
        "text = \"FLOR LIRIO VARIADO PT15\"\n",
        "new_complaint = pre_process.transform(text)\n",
        "print(new_complaint)\n",
        "seq = tokenizer.texts_to_sequences([new_complaint])\n",
        "padded = pad_sequences(seq, maxlen=MAX_SEQUENCE_LENGTH)\n",
        "pred = model.predict(padded)\n",
        "print(f'Segmento: {label_segmento[np.argmax(pred[0])]}')\n",
        "print(f'Categoria: {label_categoria[np.argsort(pred[1].flatten())[::-1]][:3]}')\n",
        "print(f'Subcategoria: {label_subcategoria[np.argsort(pred[2].flatten())[::-1]][:3]}')\n",
        "print(f'Produto: {label_produto[np.argsort(pred[3].flatten())[::-1]][:3]}')"
      ]
    }
  ],
  "metadata": {
    "accelerator": "GPU",
    "colab": {
      "provenance": [],
      "collapsed_sections": [],
      "include_colab_link": true
    },
    "kernelspec": {
      "display_name": "Python 3.9.12 ('base')",
      "language": "python",
      "name": "python3"
    },
    "language_info": {
      "codemirror_mode": {
        "name": "ipython",
        "version": 3
      },
      "file_extension": ".py",
      "mimetype": "text/x-python",
      "name": "python",
      "nbconvert_exporter": "python",
      "pygments_lexer": "ipython3",
      "version": "3.9.12"
    },
    "vscode": {
      "interpreter": {
        "hash": "5e8c03361d51ea297a904a747262448c3ce723e881811895dfdbcc412e3247a1"
      }
    }
  },
  "nbformat": 4,
  "nbformat_minor": 0
}