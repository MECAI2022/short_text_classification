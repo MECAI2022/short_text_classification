{
  "cells": [
    {
      "cell_type": "markdown",
      "metadata": {
        "id": "view-in-github",
        "colab_type": "text"
      },
      "source": [
        "<a href=\"https://colab.research.google.com/github/MECAI2022/short_text_classification/blob/main/LSTM_ShortTextClassification.ipynb\" target=\"_parent\"><img src=\"https://colab.research.google.com/assets/colab-badge.svg\" alt=\"Open In Colab\"/></a>"
      ]
    },
    {
      "cell_type": "markdown",
      "metadata": {
        "id": "w8MMLZLtuZgm"
      },
      "source": [
        "# Short Text Classification"
      ]
    },
    {
      "cell_type": "markdown",
      "metadata": {
        "id": "Jc-PeepLukl1"
      },
      "source": [
        "## Imports"
      ]
    },
    {
      "cell_type": "code",
      "execution_count": null,
      "metadata": {
        "id": "zburO8zPSqoy"
      },
      "outputs": [],
      "source": [
        "from google.colab import drive, output\n",
        "drive.mount('/content/drive')\n",
        "\n",
        "import pandas as pd\n",
        "import numpy as np\n",
        "\n",
        "from matplotlib import pyplot as plt\n",
        "\n",
        "import re\n",
        "import nltk\n",
        "from nltk.corpus import stopwords\n",
        "\n",
        "from sklearn.model_selection import train_test_split\n",
        "nltk.download('stopwords')\n",
        "\n",
        "import tensorflow as tf\n",
        "from tensorflow.keras.preprocessing.text import Tokenizer\n",
        "from tensorflow.keras.preprocessing.sequence import pad_sequences\n",
        "from tensorflow.keras.models import Model\n",
        "\n",
        "from sklearn.model_selection import train_test_split\n",
        "!pip install tensorflow_addons\n",
        "import tensorflow_addons as tfa\n",
        "\n",
        "!pip install unidecode\n",
        "import unidecode\n",
        "\n",
        "import warnings\n",
        "warnings.filterwarnings('ignore')\n",
        "\n",
        "output.clear()"
      ]
    },
    {
      "cell_type": "markdown",
      "metadata": {
        "id": "FYVICAczvKf0"
      },
      "source": [
        "## Preparando os Dados"
      ]
    },
    {
      "cell_type": "code",
      "execution_count": null,
      "metadata": {
        "id": "9yJqWGm3S9MO"
      },
      "outputs": [],
      "source": [
        "filepath = \"/content/drive/MyDrive/MAI 5003 - Short text classification (Classificação de Produtos)/dataset_produtos.xlsx\"\n",
        "df = pd.read_excel(filepath)"
      ]
    },
    {
      "cell_type": "code",
      "source": [
        "df.info()"
      ],
      "metadata": {
        "colab": {
          "base_uri": "https://localhost:8080/"
        },
        "id": "Szfb4iy8_CJD",
        "outputId": "a2bda15e-6e2d-4ef0-8d58-44d0c7496fe1"
      },
      "execution_count": null,
      "outputs": [
        {
          "output_type": "stream",
          "name": "stdout",
          "text": [
            "<class 'pandas.core.frame.DataFrame'>\n",
            "RangeIndex: 158113 entries, 0 to 158112\n",
            "Data columns (total 5 columns):\n",
            " #   Column        Non-Null Count   Dtype \n",
            "---  ------        --------------   ----- \n",
            " 0   nm_item       158113 non-null  object\n",
            " 1   segmento      158113 non-null  object\n",
            " 2   categoria     158113 non-null  object\n",
            " 3   subcategoria  158113 non-null  object\n",
            " 4   nm_product    158113 non-null  object\n",
            "dtypes: object(5)\n",
            "memory usage: 6.0+ MB\n"
          ]
        }
      ]
    },
    {
      "cell_type": "code",
      "execution_count": null,
      "metadata": {
        "id": "UTXAClGiC1TT"
      },
      "outputs": [],
      "source": [
        "# Função para limpar o dataset\n",
        "def remove_stopwords(sentence):\n",
        "\n",
        "    # List of stopwords\n",
        "    stopwords = nltk.corpus.stopwords.words('portuguese')\n",
        "\n",
        "    # Remove all the special characters\n",
        "    sentence = re.sub(r'\\W', ' ', str(sentence))\n",
        "\n",
        "    # remove all single characters\n",
        "    sentence = re.sub(r'\\s+[a-zA-Z]\\s+', ' ', sentence)\n",
        "\n",
        "    # Remove single characters from the start\n",
        "    sentence = re.sub(r'\\^[a-zA-Z]\\s+', ' ', sentence) \n",
        "    \n",
        "    # Substituting multiple spaces with single space\n",
        "    sentence = re.sub(r'\\s+', ' ', sentence, flags=re.I)\n",
        "\n",
        "    # Removing prefixed 'b'\n",
        "    sentence = re.sub(r'^b\\s+', '', sentence)\n",
        "    \n",
        "    # Converting to Lowercase\n",
        "    sentence = sentence.lower()\n",
        "\n",
        "    words = sentence.split()\n",
        "    no_words = [w for w in words if w not in stopwords]\n",
        "    sentence = \" \".join(no_words)\n",
        "\n",
        "    sentence = unidecode.unidecode(sentence)\n",
        "\n",
        "    return sentence"
      ]
    },
    {
      "cell_type": "code",
      "execution_count": null,
      "metadata": {
        "id": "k4KTKpcNDHB6",
        "outputId": "45be6ead-a4fb-480b-edb4-9b46c4bd5ccb",
        "colab": {
          "base_uri": "https://localhost:8080/",
          "height": 206
        }
      },
      "outputs": [
        {
          "output_type": "execute_result",
          "data": {
            "text/plain": [
              "                              nm_item           segmento  \\\n",
              "0          apresuntado rezende pec kg  1-BENS DE CONSUMO   \n",
              "1             carne suin espinhaco kg  1-BENS DE CONSUMO   \n",
              "2           whisky white 1lhorse trad  1-BENS DE CONSUMO   \n",
              "3  whisky johnn walker 1l unred label  1-BENS DE CONSUMO   \n",
              "4      lte cond mocasemi desn tp 395g  1-BENS DE CONSUMO   \n",
              "\n",
              "                categoria         subcategoria        nm_product  \\\n",
              "0    3-FRIOS E LATICINIOS          6-EMBUTIDOS       APRESUNTADO   \n",
              "1    1-ACOUGUE E PEIXARIA            1-ACOUGUE       CARNE SUINA   \n",
              "2  18-BEBIDAS ALCOOLICAS         56-DESTILADOS            WHISKY   \n",
              "3  18-BEBIDAS ALCOOLICAS         56-DESTILADOS            WHISKY   \n",
              "4             6-MERCEARIA  22-MERCEARIA LACTEA  LEITE CONDENSADO   \n",
              "\n",
              "                                            corpus  \n",
              "0           apresuntado rezende pec kg apresuntado  \n",
              "1              carne suin espinhaco kg carne suina  \n",
              "2                 whisky white 1lhorse trad whisky  \n",
              "3        whisky johnn walker 1l unred label whisky  \n",
              "4  lte cond mocasemi desn tp 395g leite condensado  "
            ],
            "text/html": [
              "\n",
              "  <div id=\"df-d110c1e9-2a74-4cb9-be6c-68da1b2d1114\">\n",
              "    <div class=\"colab-df-container\">\n",
              "      <div>\n",
              "<style scoped>\n",
              "    .dataframe tbody tr th:only-of-type {\n",
              "        vertical-align: middle;\n",
              "    }\n",
              "\n",
              "    .dataframe tbody tr th {\n",
              "        vertical-align: top;\n",
              "    }\n",
              "\n",
              "    .dataframe thead th {\n",
              "        text-align: right;\n",
              "    }\n",
              "</style>\n",
              "<table border=\"1\" class=\"dataframe\">\n",
              "  <thead>\n",
              "    <tr style=\"text-align: right;\">\n",
              "      <th></th>\n",
              "      <th>nm_item</th>\n",
              "      <th>segmento</th>\n",
              "      <th>categoria</th>\n",
              "      <th>subcategoria</th>\n",
              "      <th>nm_product</th>\n",
              "      <th>corpus</th>\n",
              "    </tr>\n",
              "  </thead>\n",
              "  <tbody>\n",
              "    <tr>\n",
              "      <th>0</th>\n",
              "      <td>apresuntado rezende pec kg</td>\n",
              "      <td>1-BENS DE CONSUMO</td>\n",
              "      <td>3-FRIOS E LATICINIOS</td>\n",
              "      <td>6-EMBUTIDOS</td>\n",
              "      <td>APRESUNTADO</td>\n",
              "      <td>apresuntado rezende pec kg apresuntado</td>\n",
              "    </tr>\n",
              "    <tr>\n",
              "      <th>1</th>\n",
              "      <td>carne suin espinhaco kg</td>\n",
              "      <td>1-BENS DE CONSUMO</td>\n",
              "      <td>1-ACOUGUE E PEIXARIA</td>\n",
              "      <td>1-ACOUGUE</td>\n",
              "      <td>CARNE SUINA</td>\n",
              "      <td>carne suin espinhaco kg carne suina</td>\n",
              "    </tr>\n",
              "    <tr>\n",
              "      <th>2</th>\n",
              "      <td>whisky white 1lhorse trad</td>\n",
              "      <td>1-BENS DE CONSUMO</td>\n",
              "      <td>18-BEBIDAS ALCOOLICAS</td>\n",
              "      <td>56-DESTILADOS</td>\n",
              "      <td>WHISKY</td>\n",
              "      <td>whisky white 1lhorse trad whisky</td>\n",
              "    </tr>\n",
              "    <tr>\n",
              "      <th>3</th>\n",
              "      <td>whisky johnn walker 1l unred label</td>\n",
              "      <td>1-BENS DE CONSUMO</td>\n",
              "      <td>18-BEBIDAS ALCOOLICAS</td>\n",
              "      <td>56-DESTILADOS</td>\n",
              "      <td>WHISKY</td>\n",
              "      <td>whisky johnn walker 1l unred label whisky</td>\n",
              "    </tr>\n",
              "    <tr>\n",
              "      <th>4</th>\n",
              "      <td>lte cond mocasemi desn tp 395g</td>\n",
              "      <td>1-BENS DE CONSUMO</td>\n",
              "      <td>6-MERCEARIA</td>\n",
              "      <td>22-MERCEARIA LACTEA</td>\n",
              "      <td>LEITE CONDENSADO</td>\n",
              "      <td>lte cond mocasemi desn tp 395g leite condensado</td>\n",
              "    </tr>\n",
              "  </tbody>\n",
              "</table>\n",
              "</div>\n",
              "      <button class=\"colab-df-convert\" onclick=\"convertToInteractive('df-d110c1e9-2a74-4cb9-be6c-68da1b2d1114')\"\n",
              "              title=\"Convert this dataframe to an interactive table.\"\n",
              "              style=\"display:none;\">\n",
              "        \n",
              "  <svg xmlns=\"http://www.w3.org/2000/svg\" height=\"24px\"viewBox=\"0 0 24 24\"\n",
              "       width=\"24px\">\n",
              "    <path d=\"M0 0h24v24H0V0z\" fill=\"none\"/>\n",
              "    <path d=\"M18.56 5.44l.94 2.06.94-2.06 2.06-.94-2.06-.94-.94-2.06-.94 2.06-2.06.94zm-11 1L8.5 8.5l.94-2.06 2.06-.94-2.06-.94L8.5 2.5l-.94 2.06-2.06.94zm10 10l.94 2.06.94-2.06 2.06-.94-2.06-.94-.94-2.06-.94 2.06-2.06.94z\"/><path d=\"M17.41 7.96l-1.37-1.37c-.4-.4-.92-.59-1.43-.59-.52 0-1.04.2-1.43.59L10.3 9.45l-7.72 7.72c-.78.78-.78 2.05 0 2.83L4 21.41c.39.39.9.59 1.41.59.51 0 1.02-.2 1.41-.59l7.78-7.78 2.81-2.81c.8-.78.8-2.07 0-2.86zM5.41 20L4 18.59l7.72-7.72 1.47 1.35L5.41 20z\"/>\n",
              "  </svg>\n",
              "      </button>\n",
              "      \n",
              "  <style>\n",
              "    .colab-df-container {\n",
              "      display:flex;\n",
              "      flex-wrap:wrap;\n",
              "      gap: 12px;\n",
              "    }\n",
              "\n",
              "    .colab-df-convert {\n",
              "      background-color: #E8F0FE;\n",
              "      border: none;\n",
              "      border-radius: 50%;\n",
              "      cursor: pointer;\n",
              "      display: none;\n",
              "      fill: #1967D2;\n",
              "      height: 32px;\n",
              "      padding: 0 0 0 0;\n",
              "      width: 32px;\n",
              "    }\n",
              "\n",
              "    .colab-df-convert:hover {\n",
              "      background-color: #E2EBFA;\n",
              "      box-shadow: 0px 1px 2px rgba(60, 64, 67, 0.3), 0px 1px 3px 1px rgba(60, 64, 67, 0.15);\n",
              "      fill: #174EA6;\n",
              "    }\n",
              "\n",
              "    [theme=dark] .colab-df-convert {\n",
              "      background-color: #3B4455;\n",
              "      fill: #D2E3FC;\n",
              "    }\n",
              "\n",
              "    [theme=dark] .colab-df-convert:hover {\n",
              "      background-color: #434B5C;\n",
              "      box-shadow: 0px 1px 3px 1px rgba(0, 0, 0, 0.15);\n",
              "      filter: drop-shadow(0px 1px 2px rgba(0, 0, 0, 0.3));\n",
              "      fill: #FFFFFF;\n",
              "    }\n",
              "  </style>\n",
              "\n",
              "      <script>\n",
              "        const buttonEl =\n",
              "          document.querySelector('#df-d110c1e9-2a74-4cb9-be6c-68da1b2d1114 button.colab-df-convert');\n",
              "        buttonEl.style.display =\n",
              "          google.colab.kernel.accessAllowed ? 'block' : 'none';\n",
              "\n",
              "        async function convertToInteractive(key) {\n",
              "          const element = document.querySelector('#df-d110c1e9-2a74-4cb9-be6c-68da1b2d1114');\n",
              "          const dataTable =\n",
              "            await google.colab.kernel.invokeFunction('convertToInteractive',\n",
              "                                                     [key], {});\n",
              "          if (!dataTable) return;\n",
              "\n",
              "          const docLinkHtml = 'Like what you see? Visit the ' +\n",
              "            '<a target=\"_blank\" href=https://colab.research.google.com/notebooks/data_table.ipynb>data table notebook</a>'\n",
              "            + ' to learn more about interactive tables.';\n",
              "          element.innerHTML = '';\n",
              "          dataTable['output_type'] = 'display_data';\n",
              "          await google.colab.output.renderOutput(dataTable, element);\n",
              "          const docLink = document.createElement('div');\n",
              "          docLink.innerHTML = docLinkHtml;\n",
              "          element.appendChild(docLink);\n",
              "        }\n",
              "      </script>\n",
              "    </div>\n",
              "  </div>\n",
              "  "
            ]
          },
          "metadata": {},
          "execution_count": 12
        }
      ],
      "source": [
        "# Aplicando de limpeza no dataset\n",
        "df['corpus'] = df['nm_item'] + ' ' + df['nm_product'] \n",
        "df['nm_item'] = df['nm_item'].map(lambda x: remove_stopwords(x))\n",
        "df['corpus'] = df['corpus'].map(lambda x: remove_stopwords(x))\n",
        "df.head()"
      ]
    },
    {
      "cell_type": "markdown",
      "metadata": {
        "id": "dja7-fhpkD8C"
      },
      "source": [
        "### Definindo algumas variáveis globais\n",
        "\n",
        "Definindo algumas variáveis ​​globais que serão usadas no notebook.\n",
        "\n",
        "- `EMBEDDING_DIM`: Dimensão do embedding, será utilizada na camada de embedding do modelo.\n",
        "\n",
        "- `MAX_SEQUENCE_LENGTH`: Comprimento máximo de todas as sequências.\n",
        "\n",
        "- `MAX_NB_WORDS`: Número máximo de exemplos a serem usados."
      ]
    },
    {
      "cell_type": "code",
      "execution_count": null,
      "metadata": {
        "id": "dLn3Fo5ekD8C"
      },
      "outputs": [],
      "source": [
        "# Dimensão do Embbeding.\n",
        "EMBEDDING_DIM = 100\n",
        "\n",
        "# Número máximo que sequência que a rede neural irá utilizar\n",
        "MAX_SEQUENCE_LENGTH = 15\n",
        "\n",
        "# O número máximo de palavras a serem usadas. (mais frequente)\n",
        "MAX_NB_WORDS = 40000"
      ]
    },
    {
      "cell_type": "markdown",
      "metadata": {
        "id": "SAjnJyGakD8D"
      },
      "source": [
        "### Gerando o Vocabulário"
      ]
    },
    {
      "cell_type": "markdown",
      "metadata": {
        "id": "xRvMNJamkD8D"
      },
      "source": [
        "Para a maioria das terefas de NLP, o passo inicial na praparação dos dados é extrair um vocabulário de palavras do corpus do dataset. É necessário definir como representar os textos em representações numéricas que podem ser usadas para treinar a rede neural. Essas representações são chamadas de Tokens"
      ]
    },
    {
      "cell_type": "code",
      "execution_count": null,
      "metadata": {
        "colab": {
          "base_uri": "https://localhost:8080/"
        },
        "id": "cvQJBDMwUZhS",
        "outputId": "02dc6ee1-2963-4af7-ef7b-eb02b8dbd2a9"
      },
      "outputs": [
        {
          "output_type": "stream",
          "name": "stdout",
          "text": [
            "Encontrou 34847 tokens únicos.\n"
          ]
        }
      ],
      "source": [
        "# Inicializando a classe Tokenizer\n",
        "tokenizer = Tokenizer(num_words=MAX_NB_WORDS)\n",
        "\n",
        "# Gerando indices para cada palavra no corpus\n",
        "tokenizer.fit_on_texts(df['corpus'].values)\n",
        "\n",
        "# Pega o dicionário de indices de palavras e imprime a quantidade\n",
        "word_index = tokenizer.word_index\n",
        "print(f'Encontrou {len(word_index)} tokens únicos.')"
      ]
    },
    {
      "cell_type": "markdown",
      "metadata": {
        "id": "aCXqx5xukD8D"
      },
      "source": [
        "O parâmetro `num_words` usado no inicializador especifica o número máximo de palavras menos uma (com base na frequência) para manter ao gerar sequências. "
      ]
    },
    {
      "cell_type": "markdown",
      "metadata": {
        "id": "kv4TL88BkD8E"
      },
      "source": [
        "### Texto para Sequeências e Padding\n",
        "\n",
        " Agora pode-se usar o resultado da cédula anterior para converter cada uma das frases de entrada em uma sequência de tokens. Em seguida é usado o padding para preencher as sequências em um comprimento uniforme já que é o que o modelo espera receber."
      ]
    },
    {
      "cell_type": "code",
      "execution_count": null,
      "metadata": {
        "colab": {
          "base_uri": "https://localhost:8080/"
        },
        "id": "P_xt2jTmUceq",
        "outputId": "6713da02-0fae-4f08-a1b4-233c98395b7a"
      },
      "outputs": [
        {
          "output_type": "stream",
          "name": "stdout",
          "text": [
            "Shape of data tensor: (158113, 15)\n"
          ]
        }
      ],
      "source": [
        "# Gerando uma lista de sequência de token\n",
        "sequences = tokenizer.texts_to_sequences(df['nm_item'].values)\n",
        "\n",
        "# Preenche as sequências para um comprimento uniforme\n",
        "X = pad_sequences(sequences, maxlen=MAX_SEQUENCE_LENGTH)\n",
        "print('Shape of data tensor:', X.shape)"
      ]
    },
    {
      "cell_type": "markdown",
      "metadata": {
        "id": "DTNuEV9_kD8E"
      },
      "source": [
        "### Utilizando Word Embedding Pré Treinados"
      ]
    },
    {
      "cell_type": "code",
      "execution_count": null,
      "metadata": {
        "id": "bKQUt92ykD8E"
      },
      "outputs": [],
      "source": [
        "class Embeddings():\n",
        "    \"\"\"\n",
        "    Classe para ler o arquivo word embedding e criar a matriz de word embedding\n",
        "    \"\"\"\n",
        "\n",
        "    def __init__(self, path, vector_dimension):\n",
        "        self.path = path \n",
        "        self.vector_dimension = vector_dimension\n",
        "    \n",
        "    @staticmethod\n",
        "    def get_coefs(word, *arr): \n",
        "        return word, np.asarray(arr, dtype='float32')\n",
        "\n",
        "    def get_embedding_index(self):\n",
        "        embeddings_index = dict(self.get_coefs(*o.split(\" \")) for o in open(self.path, errors='ignore'))\n",
        "        return embeddings_index\n",
        "\n",
        "    def create_embedding_matrix(self, tokenizer, max_features):\n",
        "        \"\"\"\n",
        "        Método pata criar a matrix de word embadding\n",
        "        \"\"\"\n",
        "        model_embed = self.get_embedding_index()\n",
        "\n",
        "        embedding_matrix = np.zeros((max_features + 1, self.vector_dimension))\n",
        "        for word, index in tokenizer.word_index.items():\n",
        "            if index > max_features:\n",
        "                break\n",
        "            else:\n",
        "                try:\n",
        "                    embedding_matrix[index] = model_embed[word]\n",
        "                except:\n",
        "                    continue\n",
        "        return embedding_matrix"
      ]
    },
    {
      "cell_type": "code",
      "source": [
        "# baixando word embadding e extraindo zip\n",
        "!wget http://143.107.183.175:22980/download.php?file=embeddings/glove/glove_s100.zip\n",
        "!unzip /content/download.php?file=embeddings%2Fglove%2Fglove_s100.zip"
      ],
      "metadata": {
        "id": "OKAOe907Tl2A"
      },
      "execution_count": null,
      "outputs": []
    },
    {
      "cell_type": "code",
      "execution_count": null,
      "metadata": {
        "id": "6UozHgoTkD8E"
      },
      "outputs": [],
      "source": [
        "# Criando a matrix de word embadding\n",
        "embed_path = 'glove_s100.txt'\n",
        "embed_dim = 100\n",
        "embedding = Embeddings(embed_path, embed_dim)\n",
        "EMBEDDINGS_MATRIX = embedding.create_embedding_matrix(tokenizer, len(tokenizer.word_counts))"
      ]
    },
    {
      "cell_type": "markdown",
      "metadata": {
        "id": "gnt-Mo_Gjjkm"
      },
      "source": [
        "## Modelo"
      ]
    },
    {
      "cell_type": "code",
      "execution_count": null,
      "metadata": {
        "colab": {
          "base_uri": "https://localhost:8080/"
        },
        "id": "MmlkJa7wK1U5",
        "outputId": "15c198d0-9cb5-43c1-c626-158ba7bddc63"
      },
      "outputs": [
        {
          "output_type": "stream",
          "name": "stdout",
          "text": [
            "Shape of label tensor: (158113, 6)\n",
            "Shape of label tensor: (158113, 70)\n",
            "Shape of label tensor: (158113, 153)\n",
            "Shape of label tensor: (158113, 715)\n"
          ]
        }
      ],
      "source": [
        "# Pegando os Labels do dataset\n",
        "Y1 = pd.get_dummies(df['segmento']).values\n",
        "print('Shape of label tensor:', Y1.shape)\n",
        "\n",
        "Y2 = pd.get_dummies(df['categoria']).values\n",
        "print('Shape of label tensor:', Y2.shape)\n",
        "\n",
        "Y3 = pd.get_dummies(df['subcategoria']).values\n",
        "print('Shape of label tensor:', Y3.shape)\n",
        "\n",
        "Y4 = pd.get_dummies(df['nm_product']).values\n",
        "print('Shape of label tensor:', Y4.shape)"
      ]
    },
    {
      "cell_type": "markdown",
      "metadata": {
        "id": "bcK_lIT2kD8F"
      },
      "source": [
        "### Seperando os dados"
      ]
    },
    {
      "cell_type": "code",
      "execution_count": null,
      "metadata": {
        "id": "dYftOSSEMJRT"
      },
      "outputs": [],
      "source": [
        "# Separando os dados em Teste e Treino\n",
        "X_train, X_test, Y1_train, Y1_test = train_test_split(X,Y1, test_size = 0.2, random_state = 42)\n",
        "_, _, Y2_train, Y2_test = train_test_split(X,Y2, test_size = 0.2, random_state = 42)\n",
        "_, _, Y3_train, Y3_test = train_test_split(X,Y3, test_size = 0.2, random_state = 42)\n",
        "_, _, Y4_train, Y4_test = train_test_split(X,Y4, test_size = 0.2, random_state = 42)"
      ]
    },
    {
      "cell_type": "markdown",
      "metadata": {
        "id": "fL9LYMlzkD8F"
      },
      "source": [
        "### Contruindo e Compilando o Modelo\n",
        "\n",
        "Com os dados pré-processados, agora podemos construir o modelo de classificação. \n",
        "\n",
        "- `Embadding`: A entrada será uma camada Embedding. A ideia principal aqui é representar cada palavra no vocabulário com vetores. Esses vetores têm pesos treináveis ​​para que, à medida que a rede neural aprende, as palavras com maior probabilidade de aparecer em uma das categorias convergirão para pesos semelhantes. Por exemplo, palavras que aparecem no corpus que são classificados como Mercearia serão agrupados mais próximos.\n",
        "\n",
        "- `Bidirectional(LSTM)`: Em resumo, A camada LSTM (Long Short-Term Memory) calcula o estado de um passo de tempo atual e o passa para os próximos passos de tempo onde esse estado também é atualizado. O processo se repete até o passo de tempo final, onde a computação da saída é afetada por todos os estados anteriores. Além disso, ela pode ser configurado para ser bidirecional (Este caso) para se possível obter o relacionamento das palavras posteriores com as anteriores.\n",
        "\n",
        "- `Conv1D`: Redes neurais convolucionais (CNNs ou ConvNets) são classes de redes neurais que usam a operação de convolução em dados de entrada para detectar padrões nos dados.\n",
        "\n",
        "- `Dropout`: Dropout é uma técnica comum de regularização. A técnica Dropout envolve a omissão de neurônios que atuam como detectores de features da rede neural durante cada etapa de treinamento. A exclusão de cada neurônio é determinada aleatoriamente.\n",
        "\n",
        "- `MaxPooling1D`: é uma operação de pooling que calcula o valor máximo para patches de um mapa features e o usa para criar um mapa de features com amostragem reduzida (em pool). "
      ]
    },
    {
      "cell_type": "code",
      "execution_count": null,
      "metadata": {
        "colab": {
          "base_uri": "https://localhost:8080/"
        },
        "id": "OSlttutbJxQU",
        "outputId": "a4c7074a-1052-4c9a-cad6-961190515242"
      },
      "outputs": [
        {
          "output_type": "stream",
          "name": "stderr",
          "text": [
            "WARNING:tensorflow:Layer lstm_2 will not use cuDNN kernels since it doesn't meet the criteria. It will use a generic GPU kernel as fallback when running on GPU.\n",
            "WARNING:tensorflow:Layer lstm_2 will not use cuDNN kernels since it doesn't meet the criteria. It will use a generic GPU kernel as fallback when running on GPU.\n",
            "WARNING:tensorflow:Layer lstm_2 will not use cuDNN kernels since it doesn't meet the criteria. It will use a generic GPU kernel as fallback when running on GPU.\n"
          ]
        },
        {
          "output_type": "stream",
          "name": "stdout",
          "text": [
            "Model: \"model_2\"\n",
            "__________________________________________________________________________________________________\n",
            " Layer (type)                   Output Shape         Param #     Connected to                     \n",
            "==================================================================================================\n",
            " nm_item (InputLayer)           [(None, 15)]         0           []                               \n",
            "                                                                                                  \n",
            " embedding_2 (Embedding)        (None, 15, 100)      3484800     ['nm_item[0][0]']                \n",
            "                                                                                                  \n",
            " spatial_dropout1d_1 (SpatialDr  (None, 15, 100)     0           ['embedding_2[0][0]']            \n",
            " opout1D)                                                                                         \n",
            "                                                                                                  \n",
            " bidirectional_2 (Bidirectional  (None, 400)         481600      ['spatial_dropout1d_1[0][0]']    \n",
            " )                                                                                                \n",
            "                                                                                                  \n",
            " segmento (Dense)               (None, 6)            2406        ['bidirectional_2[0][0]']        \n",
            "                                                                                                  \n",
            " categoria (Dense)              (None, 70)           28070       ['bidirectional_2[0][0]']        \n",
            "                                                                                                  \n",
            " subcategoria (Dense)           (None, 153)          61353       ['bidirectional_2[0][0]']        \n",
            "                                                                                                  \n",
            " produto (Dense)                (None, 715)          286715      ['bidirectional_2[0][0]']        \n",
            "                                                                                                  \n",
            "==================================================================================================\n",
            "Total params: 4,344,944\n",
            "Trainable params: 4,344,944\n",
            "Non-trainable params: 0\n",
            "__________________________________________________________________________________________________\n"
          ]
        }
      ],
      "source": [
        "# Arquiterura da rede\n",
        "\n",
        "# Definindo as camadas da rede\n",
        "input_layer = tf.keras.layers.Input(X.shape[1], name='nm_item')\n",
        "x = tf.keras.layers.Embedding(len(word_index)+1, EMBEDDING_DIM, weights=[EMBEDDINGS_MATRIX], trainable=True)(input_layer)\n",
        "x = tf.keras.layers.SpatialDropout1D(0.2)(x)\n",
        "#x = tf.keras.layers.Conv1D(32, 5, activation='relu')(x)\n",
        "#x = tf.keras.layers.MaxPooling1D(pool_size=2)(x)\n",
        "x = tf.keras.layers.Bidirectional(tf.keras.layers.LSTM(100, dropout=0.2, recurrent_dropout=0.2, return_sequences=True))(x)\n",
        "x = tf.keras.layers.Bidirectional(tf.keras.layers.LSTM(200, dropout=0.2, recurrent_dropout=0.2))(x)\n",
        "#x = tf.keras.layers.Dense(64, activation='relu')(x)\n",
        "\n",
        "# Saída da rede\n",
        "segmento = tf.keras.layers.Dense(Y1.shape[1], activation='softmax', name='segmento')(x)\n",
        "categoria = tf.keras.layers.Dense(Y2.shape[1], activation='softmax', name='categoria')(x)\n",
        "subcategoria = tf.keras.layers.Dense(Y3.shape[1], activation='softmax', name='subcategoria')(x)\n",
        "produto = tf.keras.layers.Dense(Y4.shape[1], activation='softmax', name='produto')(x)\n",
        "\n",
        "# Definindo a entrada e saídas do modelo \n",
        "model = Model(inputs=input_layer, outputs=[segmento, categoria, subcategoria, produto])\n",
        "\n",
        "# Definiando as métricas f1\n",
        "f1_segmento = tfa.metrics.F1Score(num_classes=Y1.shape[1], average='macro')\n",
        "f1_categoria = tfa.metrics.F1Score(num_classes=Y2.shape[1], average='macro')\n",
        "f1_subcategoria = tfa.metrics.F1Score(num_classes=Y3.shape[1], average='macro')\n",
        "f1_produto = tfa.metrics.F1Score(num_classes=Y4.shape[1], average='macro')\n",
        "\n",
        "# Especificando o otimizador e compilador do modelo com as funçõpes de perda\n",
        "# tf.keras.optimizers.Adam(1e-5)\n",
        "model.compile(optimizer='adam', \n",
        "              loss={'segmento': 'categorical_crossentropy', \n",
        "                    'categoria': 'categorical_crossentropy',\n",
        "                    'subcategoria': 'categorical_crossentropy',\n",
        "                    'produto': 'categorical_crossentropy'},\n",
        "              metrics={'segmento': [f1_segmento],\n",
        "                       'categoria': [f1_categoria],\n",
        "                       'subcategoria': [f1_subcategoria],\n",
        "                       'produto': [f1_produto]})\n",
        "\n",
        "# Resumo do modelo\n",
        "model.summary()"
      ]
    },
    {
      "cell_type": "code",
      "execution_count": null,
      "metadata": {
        "colab": {
          "base_uri": "https://localhost:8080/",
          "height": 533
        },
        "id": "8fw4tCyoksJC",
        "outputId": "a13616ae-053c-49da-f99a-51caa6b1449c"
      },
      "outputs": [
        {
          "output_type": "execute_result",
          "data": {
            "image/png": "[encoded data removed]",
            "text/plain": [
              "<IPython.core.display.Image object>"
            ]
          },
          "metadata": {},
          "execution_count": 30
        }
      ],
      "source": [
        "# Esquema da arquitetura do Modelo\n",
        "img_file = './model_arch.png'\n",
        "\n",
        "tf.keras.utils.plot_model(model, to_file=img_file, show_shapes=True, show_layer_names=True)"
      ]
    },
    {
      "cell_type": "markdown",
      "metadata": {
        "id": "w3QWXNjEkD8F"
      },
      "source": [
        "### Treinando o Modelo\n",
        "\n",
        "Próxima etapa é o treinamento do modelo"
      ]
    },
    {
      "cell_type": "code",
      "execution_count": null,
      "metadata": {
        "id": "_-pGl6ozQlim",
        "colab": {
          "base_uri": "https://localhost:8080/"
        },
        "outputId": "1fd7010a-e5ae-44ab-df5e-ec2159cb39e3"
      },
      "outputs": [
        {
          "output_type": "stream",
          "name": "stdout",
          "text": [
            "Epoch 1/50\n",
            "1582/1582 [==============================] - 322s 164ms/step - loss: 4.1717 - segmento_loss: 0.1140 - categoria_loss: 0.8473 - subcategoria_loss: 1.2053 - produto_loss: 2.0050 - segmento_f1_score: 0.4647 - categoria_f1_score: 0.3161 - subcategoria_f1_score: 0.2780 - produto_f1_score: 0.1830 - val_loss: 1.5883 - val_segmento_loss: 0.0482 - val_categoria_loss: 0.3159 - val_subcategoria_loss: 0.4343 - val_produto_loss: 0.7899 - val_segmento_f1_score: 0.7594 - val_categoria_f1_score: 0.4785 - val_subcategoria_f1_score: 0.4294 - val_produto_f1_score: 0.3419\n",
            "Epoch 2/50\n",
            "1582/1582 [==============================] - 249s 157ms/step - loss: 1.5090 - segmento_loss: 0.0441 - categoria_loss: 0.3125 - subcategoria_loss: 0.4215 - produto_loss: 0.7309 - segmento_f1_score: 0.7854 - categoria_f1_score: 0.5096 - subcategoria_f1_score: 0.4742 - produto_f1_score: 0.3977 - val_loss: 1.0456 - val_segmento_loss: 0.0313 - val_categoria_loss: 0.2261 - val_subcategoria_loss: 0.2921 - val_produto_loss: 0.4961 - val_segmento_f1_score: 0.8379 - val_categoria_f1_score: 0.5911 - val_subcategoria_f1_score: 0.5449 - val_produto_f1_score: 0.4721\n",
            "Epoch 3/50\n",
            "1582/1582 [==============================] - 241s 153ms/step - loss: 1.0131 - segmento_loss: 0.0284 - categoria_loss: 0.2164 - subcategoria_loss: 0.2846 - produto_loss: 0.4837 - segmento_f1_score: 0.8590 - categoria_f1_score: 0.6156 - subcategoria_f1_score: 0.5775 - produto_f1_score: 0.5161 - val_loss: 0.8507 - val_segmento_loss: 0.0259 - val_categoria_loss: 0.1851 - val_subcategoria_loss: 0.2406 - val_produto_loss: 0.3991 - val_segmento_f1_score: 0.8784 - val_categoria_f1_score: 0.6426 - val_subcategoria_f1_score: 0.5989 - val_produto_f1_score: 0.5454\n",
            "Epoch 4/50\n",
            "1582/1582 [==============================] - 242s 153ms/step - loss: 0.7709 - segmento_loss: 0.0198 - categoria_loss: 0.1688 - subcategoria_loss: 0.2166 - produto_loss: 0.3657 - segmento_f1_score: 0.8995 - categoria_f1_score: 0.6896 - subcategoria_f1_score: 0.6526 - produto_f1_score: 0.5924 - val_loss: 0.7683 - val_segmento_loss: 0.0222 - val_categoria_loss: 0.1783 - val_subcategoria_loss: 0.2202 - val_produto_loss: 0.3474 - val_segmento_f1_score: 0.9059 - val_categoria_f1_score: 0.6647 - val_subcategoria_f1_score: 0.6332 - val_produto_f1_score: 0.5838\n",
            "Epoch 5/50\n",
            "1582/1582 [==============================] - 242s 153ms/step - loss: 0.6179 - segmento_loss: 0.0144 - categoria_loss: 0.1359 - subcategoria_loss: 0.1740 - produto_loss: 0.2936 - segmento_f1_score: 0.9232 - categoria_f1_score: 0.7714 - subcategoria_f1_score: 0.7367 - produto_f1_score: 0.6533 - val_loss: 0.7039 - val_segmento_loss: 0.0208 - val_categoria_loss: 0.1610 - val_subcategoria_loss: 0.2013 - val_produto_loss: 0.3209 - val_segmento_f1_score: 0.9165 - val_categoria_f1_score: 0.7109 - val_subcategoria_f1_score: 0.6488 - val_produto_f1_score: 0.6038\n",
            "Epoch 6/50\n",
            "1582/1582 [==============================] - 238s 150ms/step - loss: 0.5230 - segmento_loss: 0.0119 - categoria_loss: 0.1166 - subcategoria_loss: 0.1475 - produto_loss: 0.2470 - segmento_f1_score: 0.9444 - categoria_f1_score: 0.7907 - subcategoria_f1_score: 0.7652 - produto_f1_score: 0.6949 - val_loss: 0.6815 - val_segmento_loss: 0.0200 - val_categoria_loss: 0.1589 - val_subcategoria_loss: 0.1965 - val_produto_loss: 0.3061 - val_segmento_f1_score: 0.9129 - val_categoria_f1_score: 0.7093 - val_subcategoria_f1_score: 0.6530 - val_produto_f1_score: 0.6113\n",
            "Epoch 7/50\n",
            "1582/1582 [==============================] - 238s 151ms/step - loss: 0.4414 - segmento_loss: 0.0092 - categoria_loss: 0.0985 - subcategoria_loss: 0.1251 - produto_loss: 0.2086 - segmento_f1_score: 0.9528 - categoria_f1_score: 0.8137 - subcategoria_f1_score: 0.8186 - produto_f1_score: 0.7358 - val_loss: 0.6697 - val_segmento_loss: 0.0197 - val_categoria_loss: 0.1577 - val_subcategoria_loss: 0.1937 - val_produto_loss: 0.2986 - val_segmento_f1_score: 0.9242 - val_categoria_f1_score: 0.7241 - val_subcategoria_f1_score: 0.6859 - val_produto_f1_score: 0.6265\n",
            "Epoch 8/50\n",
            "1582/1582 [==============================] - 237s 150ms/step - loss: 0.3806 - segmento_loss: 0.0081 - categoria_loss: 0.0855 - subcategoria_loss: 0.1075 - produto_loss: 0.1795 - segmento_f1_score: 0.9592 - categoria_f1_score: 0.8653 - subcategoria_f1_score: 0.8434 - produto_f1_score: 0.8022 - val_loss: 0.6618 - val_segmento_loss: 0.0195 - val_categoria_loss: 0.1560 - val_subcategoria_loss: 0.1924 - val_produto_loss: 0.2939 - val_segmento_f1_score: 0.9128 - val_categoria_f1_score: 0.7344 - val_subcategoria_f1_score: 0.6852 - val_produto_f1_score: 0.6328\n",
            "Epoch 9/50\n",
            "1582/1582 [==============================] - 236s 149ms/step - loss: 0.3362 - segmento_loss: 0.0066 - categoria_loss: 0.0753 - subcategoria_loss: 0.0950 - produto_loss: 0.1593 - segmento_f1_score: 0.9668 - categoria_f1_score: 0.9014 - subcategoria_f1_score: 0.8717 - produto_f1_score: 0.8152 - val_loss: 0.6725 - val_segmento_loss: 0.0221 - val_categoria_loss: 0.1608 - val_subcategoria_loss: 0.1944 - val_produto_loss: 0.2952 - val_segmento_f1_score: 0.9278 - val_categoria_f1_score: 0.7336 - val_subcategoria_f1_score: 0.6884 - val_produto_f1_score: 0.6479\n",
            "Epoch 10/50\n",
            "1582/1582 [==============================] - 235s 149ms/step - loss: 0.3038 - segmento_loss: 0.0057 - categoria_loss: 0.0690 - subcategoria_loss: 0.0868 - produto_loss: 0.1423 - segmento_f1_score: 0.9772 - categoria_f1_score: 0.8900 - subcategoria_f1_score: 0.8843 - produto_f1_score: 0.8473 - val_loss: 0.6930 - val_segmento_loss: 0.0210 - val_categoria_loss: 0.1692 - val_subcategoria_loss: 0.2007 - val_produto_loss: 0.3021 - val_segmento_f1_score: 0.9191 - val_categoria_f1_score: 0.7567 - val_subcategoria_f1_score: 0.6950 - val_produto_f1_score: 0.6499\n",
            "Epoch 11/50\n",
            "1582/1582 [==============================] - 237s 150ms/step - loss: 0.2667 - segmento_loss: 0.0047 - categoria_loss: 0.0611 - subcategoria_loss: 0.0751 - produto_loss: 0.1259 - segmento_f1_score: 0.9767 - categoria_f1_score: 0.9205 - subcategoria_f1_score: 0.8941 - produto_f1_score: 0.8595 - val_loss: 0.6916 - val_segmento_loss: 0.0220 - val_categoria_loss: 0.1647 - val_subcategoria_loss: 0.2007 - val_produto_loss: 0.3041 - val_segmento_f1_score: 0.9235 - val_categoria_f1_score: 0.7105 - val_subcategoria_f1_score: 0.6837 - val_produto_f1_score: 0.6426\n"
          ]
        }
      ],
      "source": [
        "epochs = 50\n",
        "batch_size = 64\n",
        "\n",
        "#Treinando o Modelo\n",
        "history = model.fit(X_train, \n",
        "                    [Y1_train, Y2_train, Y3_train, Y4_train], \n",
        "                    epochs=epochs, \n",
        "                    batch_size=batch_size, \n",
        "                    validation_split=0.2, \n",
        "                    callbacks=[tf.keras.callbacks.EarlyStopping(monitor='val_loss', patience=3, min_delta=0.0001)]\n",
        "                    )"
      ]
    },
    {
      "cell_type": "code",
      "execution_count": null,
      "metadata": {
        "colab": {
          "base_uri": "https://localhost:8080/"
        },
        "id": "hOBQJG42iXA1",
        "outputId": "73a5a6a0-0914-4fee-bd57-ec36791de972"
      },
      "outputs": [
        {
          "output_type": "stream",
          "name": "stdout",
          "text": [
            "989/989 [==============================] - 13s 13ms/step - loss: 0.7344 - segmento_loss: 0.0250 - categoria_loss: 0.1768 - subcategoria_loss: 0.2125 - produto_loss: 0.3201 - segmento_f1_score: 0.9161 - categoria_f1_score: 0.7331 - subcategoria_f1_score: 0.7068 - produto_f1_score: 0.6434\n"
          ]
        }
      ],
      "source": [
        "# Testando o modelo no conjunto de Teste\n",
        "accr = model.evaluate(X_test,[Y1_test, Y2_test, Y3_test, Y4_test])"
      ]
    },
    {
      "cell_type": "markdown",
      "metadata": {
        "id": "oMJ3021mkD8G"
      },
      "source": [
        "### Visualizando os Resultados\n",
        "\n",
        "Agora vamos plotar o resultado"
      ]
    },
    {
      "cell_type": "markdown",
      "metadata": {
        "id": "-semkf1OkD8G"
      },
      "source": [
        "### Salvando o Modelo"
      ]
    },
    {
      "cell_type": "code",
      "execution_count": null,
      "metadata": {
        "id": "-c1OhWM2pQmR"
      },
      "outputs": [],
      "source": [
        "# Salvando o modelo\n",
        "import time\n",
        "timestr = time.strftime(\"%Y%m%d-%H%M\")\n",
        "model.save(f\"/content/drive/MyDrive/MAI5003 - Short text classification (Classificação de Produtos)/Notebooks/pesos/LSTModel{timestr}.h5\")"
      ]
    },
    {
      "cell_type": "markdown",
      "metadata": {
        "id": "XcGmjEtztA7B"
      },
      "source": [
        "## Utilizando o Modelo"
      ]
    },
    {
      "cell_type": "code",
      "execution_count": null,
      "metadata": {
        "id": "EanKxioCsMKT"
      },
      "outputs": [],
      "source": [
        "# carregando o modelo\n",
        "#pesos = \"MultiModelitem_glove.h5\"\n",
        "#model = tf.keras.models.load_model(pesos)"
      ]
    },
    {
      "cell_type": "code",
      "execution_count": null,
      "metadata": {
        "id": "wDPyLKflhUeK"
      },
      "outputs": [],
      "source": [
        "# Pegando os Labels do dataset\n",
        "label_segmento = np.sort(df['segmento'].unique())\n",
        "label_categoria = np.sort(df['categoria'].unique())\n",
        "label_subcategoria = np.sort(df['subcategoria'].unique())\n",
        "label_produto = np.sort(df['nm_product'].unique())"
      ]
    },
    {
      "cell_type": "code",
      "execution_count": null,
      "metadata": {
        "id": "MKC4nCsckD8H",
        "outputId": "dea04b18-65f2-4559-eabd-455543f3122c",
        "colab": {
          "base_uri": "https://localhost:8080/"
        }
      },
      "outputs": [
        {
          "output_type": "stream",
          "name": "stdout",
          "text": [
            "1/1 [==============================] - 0s 24ms/step\n",
            "Segmento: 1-BENS DE CONSUMO\n",
            "Categoria: ['6-MERCEARIA' '1-ACOUGUE E PEIXARIA' '13-DIVERSOS BAZAR E DEPARTAMENTOS']\n",
            "Subcategoria: ['21-MASSAS' '17-DOCESSALGADOS E BOMBONIERE'\n",
            " '44-DIVERSOS BAZAR E DEPARTAMENTOS' '1-ACOUGUE'\n",
            " '25-PADARIA E CONFEITARIA']\n",
            "Produto: ['MACARRAO' 'DESCONHECIDO' 'BISCOITO' 'PADARIA E CONFEITARIA FRESCA'\n",
            " 'OUTRO BAZAR E DEPARTAMENTOS']\n"
          ]
        }
      ],
      "source": [
        "# Top 3 para categoria e 5 para subcategoria\n",
        "text = \"macarrão\"\n",
        "new_complaint = remove_stopwords(text)\n",
        "seq = tokenizer.texts_to_sequences([new_complaint])\n",
        "padded = pad_sequences(seq, maxlen=MAX_SEQUENCE_LENGTH)\n",
        "pred = model.predict(padded)\n",
        "print(f'Segmento: {label_segmento[np.argmax(pred[0])]}')\n",
        "print(f'Categoria: {label_categoria[np.argsort(pred[1].flatten())[::-1]][:3]}')\n",
        "print(f'Subcategoria: {label_subcategoria[np.argsort(pred[2].flatten())[::-1]][:5]}')\n",
        "print(f'Produto: {label_produto[np.argsort(pred[3].flatten())[::-1]][:5]}')"
      ]
    }
  ],
  "metadata": {
    "accelerator": "GPU",
    "colab": {
      "provenance": [],
      "collapsed_sections": [],
      "include_colab_link": true
    },
    "kernelspec": {
      "display_name": "Python 3.9.12 ('base')",
      "language": "python",
      "name": "python3"
    },
    "language_info": {
      "codemirror_mode": {
        "name": "ipython",
        "version": 3
      },
      "file_extension": ".py",
      "mimetype": "text/x-python",
      "name": "python",
      "nbconvert_exporter": "python",
      "pygments_lexer": "ipython3",
      "version": "3.9.12"
    },
    "vscode": {
      "interpreter": {
        "hash": "5e8c03361d51ea297a904a747262448c3ce723e881811895dfdbcc412e3247a1"
      }
    }
  },
  "nbformat": 4,
  "nbformat_minor": 0
}