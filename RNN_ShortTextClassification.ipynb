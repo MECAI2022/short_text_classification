{
  "cells": [
    {
      "cell_type": "markdown",
      "metadata": {
        "id": "view-in-github",
        "colab_type": "text"
      },
      "source": [
        "<a href=\"https://colab.research.google.com/github/MECAI2022/short_text_classification/blob/main/RNN_ShortTextClassification.ipynb\" target=\"_parent\"><img src=\"https://colab.research.google.com/assets/colab-badge.svg\" alt=\"Open In Colab\"/></a>"
      ]
    },
    {
      "cell_type": "markdown",
      "metadata": {
        "id": "w8MMLZLtuZgm"
      },
      "source": [
        "# RNN"
      ]
    },
    {
      "cell_type": "markdown",
      "metadata": {
        "id": "Jc-PeepLukl1"
      },
      "source": [
        "## Imports"
      ]
    },
    {
      "cell_type": "code",
      "execution_count": null,
      "metadata": {
        "id": "zburO8zPSqoy"
      },
      "outputs": [],
      "source": [
        "import pandas as pd\n",
        "import numpy as np\n",
        "\n",
        "from matplotlib import pyplot as plt\n",
        "\n",
        "import re\n",
        "import nltk\n",
        "from nltk.corpus import stopwords\n",
        "\n",
        "import tensorflow as tf\n",
        "from tensorflow.keras.preprocessing.text import Tokenizer\n",
        "from tensorflow.keras.preprocessing.sequence import pad_sequences\n",
        "from tensorflow.keras.models import Model\n",
        "\n",
        "from sklearn.model_selection import train_test_split\n",
        "import tensorflow_addons as tfa\n",
        "\n",
        "import warnings\n",
        "warnings.filterwarnings('ignore')"
      ]
    },
    {
      "cell_type": "markdown",
      "metadata": {
        "id": "FYVICAczvKf0"
      },
      "source": [
        "## Preparando os Dados"
      ]
    },
    {
      "cell_type": "code",
      "execution_count": null,
      "metadata": {
        "id": "9yJqWGm3S9MO"
      },
      "outputs": [],
      "source": [
        "filepath = \"dataset_produtos.xlsx\"\n",
        "df = pd.read_excel(filepath)"
      ]
    },
    {
      "cell_type": "code",
      "execution_count": null,
      "metadata": {
        "id": "UTXAClGiC1TT"
      },
      "outputs": [],
      "source": [
        "# Função para limpar o dataset\n",
        "def remove_stopwords(sentence):\n",
        "\n",
        "    # List of stopwords\n",
        "    stopwords = nltk.corpus.stopwords.words('portuguese')\n",
        "\n",
        "    # Remove all the special characters\n",
        "    sentence = re.sub(r'\\W', ' ', str(sentence))\n",
        "\n",
        "    # remove all single characters\n",
        "    sentence = re.sub(r'\\s+[a-zA-Z]\\s+', ' ', sentence)\n",
        "\n",
        "    # Remove single characters from the start\n",
        "    sentence = re.sub(r'\\^[a-zA-Z]\\s+', ' ', sentence) \n",
        "    \n",
        "    # Substituting multiple spaces with single space\n",
        "    sentence = re.sub(r'\\s+', ' ', sentence, flags=re.I)\n",
        "\n",
        "    # Removing prefixed 'b'\n",
        "    sentence = re.sub(r'^b\\s+', '', sentence)\n",
        "    \n",
        "    # Converting to Lowercase\n",
        "    sentence = sentence.lower()\n",
        "\n",
        "    words = sentence.split()\n",
        "    no_words = [w for w in words if w not in stopwords]\n",
        "    sentence = \" \".join(no_words)\n",
        "\n",
        "    return sentence"
      ]
    },
    {
      "cell_type": "code",
      "execution_count": null,
      "metadata": {
        "id": "k4KTKpcNDHB6",
        "outputId": "a8760a74-d32a-4e38-ff8f-6ca40838eccd"
      },
      "outputs": [
        {
          "data": {
            "text/html": [
              "<div>\n",
              "<style scoped>\n",
              "    .dataframe tbody tr th:only-of-type {\n",
              "        vertical-align: middle;\n",
              "    }\n",
              "\n",
              "    .dataframe tbody tr th {\n",
              "        vertical-align: top;\n",
              "    }\n",
              "\n",
              "    .dataframe thead th {\n",
              "        text-align: right;\n",
              "    }\n",
              "</style>\n",
              "<table border=\"1\" class=\"dataframe\">\n",
              "  <thead>\n",
              "    <tr style=\"text-align: right;\">\n",
              "      <th></th>\n",
              "      <th>nm_item</th>\n",
              "      <th>segmento</th>\n",
              "      <th>categoria</th>\n",
              "      <th>subcategoria</th>\n",
              "      <th>nm_product</th>\n",
              "    </tr>\n",
              "  </thead>\n",
              "  <tbody>\n",
              "    <tr>\n",
              "      <th>0</th>\n",
              "      <td>apresuntado rezende pec kg apresuntado apresun...</td>\n",
              "      <td>1-BENS DE CONSUMO</td>\n",
              "      <td>3-FRIOS E LATICINIOS</td>\n",
              "      <td>6-EMBUTIDOS</td>\n",
              "      <td>APRESUNTADO</td>\n",
              "    </tr>\n",
              "    <tr>\n",
              "      <th>1</th>\n",
              "      <td>carne suin espinhaco kg carne suina carne suin...</td>\n",
              "      <td>1-BENS DE CONSUMO</td>\n",
              "      <td>1-ACOUGUE E PEIXARIA</td>\n",
              "      <td>1-ACOUGUE</td>\n",
              "      <td>CARNE SUINA</td>\n",
              "    </tr>\n",
              "    <tr>\n",
              "      <th>2</th>\n",
              "      <td>whisky white 1lhorse trad whisky whisky whisky...</td>\n",
              "      <td>1-BENS DE CONSUMO</td>\n",
              "      <td>18-BEBIDAS ALCOOLICAS</td>\n",
              "      <td>56-DESTILADOS</td>\n",
              "      <td>WHISKY</td>\n",
              "    </tr>\n",
              "    <tr>\n",
              "      <th>3</th>\n",
              "      <td>whisky johnn walker 1l unred label whisky whis...</td>\n",
              "      <td>1-BENS DE CONSUMO</td>\n",
              "      <td>18-BEBIDAS ALCOOLICAS</td>\n",
              "      <td>56-DESTILADOS</td>\n",
              "      <td>WHISKY</td>\n",
              "    </tr>\n",
              "    <tr>\n",
              "      <th>4</th>\n",
              "      <td>lte cond mocasemi desn tp 395g leite condensad...</td>\n",
              "      <td>1-BENS DE CONSUMO</td>\n",
              "      <td>6-MERCEARIA</td>\n",
              "      <td>22-MERCEARIA LACTEA</td>\n",
              "      <td>LEITE CONDENSADO</td>\n",
              "    </tr>\n",
              "  </tbody>\n",
              "</table>\n",
              "</div>"
            ],
            "text/plain": [
              "                                             nm_item           segmento  \\\n",
              "0  apresuntado rezende pec kg apresuntado apresun...  1-BENS DE CONSUMO   \n",
              "1  carne suin espinhaco kg carne suina carne suin...  1-BENS DE CONSUMO   \n",
              "2  whisky white 1lhorse trad whisky whisky whisky...  1-BENS DE CONSUMO   \n",
              "3  whisky johnn walker 1l unred label whisky whis...  1-BENS DE CONSUMO   \n",
              "4  lte cond mocasemi desn tp 395g leite condensad...  1-BENS DE CONSUMO   \n",
              "\n",
              "                categoria         subcategoria        nm_product  \n",
              "0    3-FRIOS E LATICINIOS          6-EMBUTIDOS       APRESUNTADO  \n",
              "1    1-ACOUGUE E PEIXARIA            1-ACOUGUE       CARNE SUINA  \n",
              "2  18-BEBIDAS ALCOOLICAS         56-DESTILADOS            WHISKY  \n",
              "3  18-BEBIDAS ALCOOLICAS         56-DESTILADOS            WHISKY  \n",
              "4             6-MERCEARIA  22-MERCEARIA LACTEA  LEITE CONDENSADO  "
            ]
          },
          "execution_count": 12,
          "metadata": {},
          "output_type": "execute_result"
        }
      ],
      "source": [
        "# Aplicando de limpeza no dataset\n",
        "df['corpus'] = df['nm_item'] + ' ' + df['nm_product'] \n",
        "df['nm_item'] = df['nm_item'].map(lambda x: remove_stopwords(x))\n",
        "df['corpus'] = df['corpus'].map(lambda x: remove_stopwords(x))\n",
        "df.head()"
      ]
    },
    {
      "cell_type": "markdown",
      "metadata": {
        "id": "dja7-fhpkD8C"
      },
      "source": [
        "### Definindo algumas variáveis globais\n",
        "\n",
        "Definindo algumas variáveis ​​globais que serão usadas no notebook.\n",
        "\n",
        "- `EMBEDDING_DIM`: Dimensão do embedding, será utilizada na camada de embedding do modelo.\n",
        "\n",
        "- `MAX_SEQUENCE_LENGTH`: Comprimento máximo de todas as sequências.\n",
        "\n",
        "- `MAX_NB_WORDS`: Número máximo de exemplos a serem usados."
      ]
    },
    {
      "cell_type": "code",
      "execution_count": null,
      "metadata": {
        "id": "dLn3Fo5ekD8C"
      },
      "outputs": [],
      "source": [
        "# Dimensão do Embbeding.\n",
        "EMBEDDING_DIM = 100\n",
        "\n",
        "# Número máximo que sequência que a rede neural irá utilizar\n",
        "MAX_SEQUENCE_LENGTH = 15\n",
        "\n",
        "# O número máximo de palavras a serem usadas. (mais frequente)\n",
        "MAX_NB_WORDS = 28000"
      ]
    },
    {
      "cell_type": "markdown",
      "metadata": {
        "id": "SAjnJyGakD8D"
      },
      "source": [
        "### Gerando o Vocabulário"
      ]
    },
    {
      "cell_type": "markdown",
      "metadata": {
        "id": "xRvMNJamkD8D"
      },
      "source": [
        "Para a maioria das terefas de NLP, o passo inicial na praparação dos dados é extrair um vocabulário de palavras do corpus do dataset. É necessário definir como representar os textos em representações numéricas que podem ser usadas para treinar a rede neural. Essas representações são chamadas de Tokens"
      ]
    },
    {
      "cell_type": "code",
      "execution_count": null,
      "metadata": {
        "colab": {
          "base_uri": "https://localhost:8080/"
        },
        "id": "cvQJBDMwUZhS",
        "outputId": "c1bc38f4-bfc6-4ea9-9e68-abbe94479ca7"
      },
      "outputs": [
        {
          "name": "stdout",
          "output_type": "stream",
          "text": [
            "Encontrou 34847 tokens únicos.\n"
          ]
        }
      ],
      "source": [
        "# Inicializando a classe Tokenizer\n",
        "tokenizer = Tokenizer(num_words=MAX_NB_WORDS)\n",
        "\n",
        "# Gerando indices para cada palavra no corpus\n",
        "tokenizer.fit_on_texts(df['cosrpus'].values)\n",
        "\n",
        "# Pega o dicionário de indices de palavras e imprime a quantidade\n",
        "word_index = tokenizer.word_index\n",
        "print(f'Encontrou {len(word_index)} tokens únicos.')"
      ]
    },
    {
      "cell_type": "markdown",
      "metadata": {
        "id": "aCXqx5xukD8D"
      },
      "source": [
        "O parâmetro `num_words` usado no inicializador especifica o número máximo de palavras menos uma (com base na frequência) para manter ao gerar sequências. "
      ]
    },
    {
      "cell_type": "markdown",
      "metadata": {
        "id": "kv4TL88BkD8E"
      },
      "source": [
        "### Texto para Sequeências e Padding\n",
        "\n",
        " Agora pode-se usar o resultado da cédula anterior para converter cada uma das frases de entrada em uma sequência de tokens. Em seguida é usado o padding para preencher as sequências em um comprimento uniforme já que é o que o modelo espera receber."
      ]
    },
    {
      "cell_type": "code",
      "execution_count": null,
      "metadata": {
        "colab": {
          "base_uri": "https://localhost:8080/"
        },
        "id": "P_xt2jTmUceq",
        "outputId": "96146d5c-e3e8-4c95-a9a7-e7b5ced5ee54"
      },
      "outputs": [
        {
          "name": "stdout",
          "output_type": "stream",
          "text": [
            "Shape of data tensor: (158113, 15)\n"
          ]
        }
      ],
      "source": [
        "# Gerando uma lista de sequência de token\n",
        "sequences = tokenizer.texts_to_sequences(df['nm_item'].values)\n",
        "\n",
        "# Preenche as sequências para um comprimento uniforme\n",
        "X = pad_sequences(sequences, maxlen=MAX_SEQUENCE_LENGTH)\n",
        "print('Shape of data tensor:', X.shape)"
      ]
    },
    {
      "cell_type": "markdown",
      "metadata": {
        "id": "DTNuEV9_kD8E"
      },
      "source": [
        "### Utilizando Word Embedding Pré Treinados"
      ]
    },
    {
      "cell_type": "code",
      "execution_count": null,
      "metadata": {
        "id": "bKQUt92ykD8E"
      },
      "outputs": [],
      "source": [
        "class Embeddings():\n",
        "    \"\"\"\n",
        "    Classe para ler o arquivo word embedding e criar a matriz de word embedding\n",
        "    \"\"\"\n",
        "\n",
        "    def __init__(self, path, vector_dimension):\n",
        "        self.path = path \n",
        "        self.vector_dimension = vector_dimension\n",
        "    \n",
        "    @staticmethod\n",
        "    def get_coefs(word, *arr): \n",
        "        return word, np.asarray(arr, dtype='float32')\n",
        "\n",
        "    def get_embedding_index(self):\n",
        "        embeddings_index = dict(self.get_coefs(*o.split(\" \")) for o in open(self.path, errors='ignore'))\n",
        "        return embeddings_index\n",
        "\n",
        "    def create_embedding_matrix(self, tokenizer, max_features):\n",
        "        \"\"\"\n",
        "        Método pata criar a matrix de word embadding\n",
        "        \"\"\"\n",
        "        model_embed = self.get_embedding_index()\n",
        "\n",
        "        embedding_matrix = np.zeros((max_features + 1, self.vector_dimension))\n",
        "        for word, index in tokenizer.word_index.items():\n",
        "            if index > max_features:\n",
        "                break\n",
        "            else:\n",
        "                try:\n",
        "                    embedding_matrix[index] = model_embed[word]\n",
        "                except:\n",
        "                    continue\n",
        "        return embedding_matrix"
      ]
    },
    {
      "cell_type": "code",
      "execution_count": null,
      "metadata": {
        "id": "6UozHgoTkD8E"
      },
      "outputs": [],
      "source": [
        "# Criando a matrix de word embadding\n",
        "embed_path = 'glove_s100.txt'\n",
        "embed_dim = 100\n",
        "embedding = Embeddings(embed_path, embed_dim)\n",
        "EMBEDDINGS_MATRIX = embedding.create_embedding_matrix(tokenizer, len(tokenizer.word_counts))"
      ]
    },
    {
      "cell_type": "markdown",
      "metadata": {
        "id": "gnt-Mo_Gjjkm"
      },
      "source": [
        "## Modelo"
      ]
    },
    {
      "cell_type": "code",
      "execution_count": null,
      "metadata": {
        "colab": {
          "base_uri": "https://localhost:8080/"
        },
        "id": "MmlkJa7wK1U5",
        "outputId": "b7729809-1118-48f6-94b1-3a2c97091d80"
      },
      "outputs": [
        {
          "name": "stdout",
          "output_type": "stream",
          "text": [
            "Shape of label tensor: (158113, 6)\n",
            "Shape of label tensor: (158113, 70)\n",
            "Shape of label tensor: (158113, 153)\n"
          ]
        }
      ],
      "source": [
        "# Pegando os Labels do dataset\n",
        "Y1 = pd.get_dummies(df['segmento']).values\n",
        "print('Shape of label tensor:', Y1.shape)\n",
        "\n",
        "Y2 = pd.get_dummies(df['categoria']).values\n",
        "print('Shape of label tensor:', Y2.shape)\n",
        "\n",
        "Y3 = pd.get_dummies(df['subcategoria']).values\n",
        "print('Shape of label tensor:', Y3.shape)"
      ]
    },
    {
      "cell_type": "markdown",
      "metadata": {
        "id": "bcK_lIT2kD8F"
      },
      "source": [
        "### Seperando os dados"
      ]
    },
    {
      "cell_type": "code",
      "execution_count": null,
      "metadata": {
        "id": "dYftOSSEMJRT"
      },
      "outputs": [],
      "source": [
        "# Separando os dados em Teste e Treino\n",
        "X_train, X_test, Y1_train, Y1_test = train_test_split(X,Y1, test_size = 0.10, random_state = 42)\n",
        "_, _, Y2_train, Y2_test = train_test_split(X,Y2, test_size = 0.10, random_state = 42)\n",
        "_, _, Y3_train, Y3_test = train_test_split(X,Y3, test_size = 0.10, random_state = 42)"
      ]
    },
    {
      "cell_type": "markdown",
      "metadata": {
        "id": "fL9LYMlzkD8F"
      },
      "source": [
        "### Contruindo e Compilando o Modelo\n",
        "\n",
        "Com os dados pré-processados, agora podemos construir o modelo de classificação. \n",
        "\n",
        "- `Embadding`: A entrada será uma camada Embedding. A ideia principal aqui é representar cada palavra no vocabulário com vetores. Esses vetores têm pesos treináveis ​​para que, à medida que a rede neural aprende, as palavras com maior probabilidade de aparecer em uma das categorias convergirão para pesos semelhantes. Por exemplo, palavras que aparecem no corpus que são classificados como Mercearia serão agrupados mais próximos.\n",
        "\n",
        "- `Bidirectional(LSTM)`: Em resumo, A camada LSTM (Long Short-Term Memory) calcula o estado de um passo de tempo atual e o passa para os próximos passos de tempo onde esse estado também é atualizado. O processo se repete até o passo de tempo final, onde a computação da saída é afetada por todos os estados anteriores. Além disso, ela pode ser configurado para ser bidirecional (Este caso) para se possível obter o relacionamento das palavras posteriores com as anteriores.\n",
        "\n",
        "- `Conv1D`: Redes neurais convolucionais (CNNs ou ConvNets) são classes de redes neurais que usam a operação de convolução em dados de entrada para detectar padrões nos dados.\n",
        "\n",
        "- `Dropout`: Dropout é uma técnica comum de regularização. A técnica Dropout envolve a omissão de neurônios que atuam como detectores de features da rede neural durante cada etapa de treinamento. A exclusão de cada neurônio é determinada aleatoriamente.\n",
        "\n",
        "- `MaxPooling1D`: é uma operação de pooling que calcula o valor máximo para patches de um mapa features e o usa para criar um mapa de features com amostragem reduzida (em pool). "
      ]
    },
    {
      "cell_type": "code",
      "execution_count": null,
      "metadata": {
        "colab": {
          "base_uri": "https://localhost:8080/"
        },
        "id": "OSlttutbJxQU",
        "outputId": "cb934776-6bcc-4168-f63b-5838e68182fd"
      },
      "outputs": [
        {
          "name": "stdout",
          "output_type": "stream",
          "text": [
            "Model: \"model\"\n",
            "__________________________________________________________________________________________________\n",
            " Layer (type)                   Output Shape         Param #     Connected to                     \n",
            "==================================================================================================\n",
            " nm_item (InputLayer)           [(None, 15)]         0           []                               \n",
            "                                                                                                  \n",
            " embedding (Embedding)          (None, 15, 100)      3484800     ['nm_item[0][0]']                \n",
            "                                                                                                  \n",
            " dropout (Dropout)              (None, 15, 100)      0           ['embedding[0][0]']              \n",
            "                                                                                                  \n",
            " conv1d (Conv1D)                (None, 11, 32)       16032       ['dropout[0][0]']                \n",
            "                                                                                                  \n",
            " max_pooling1d (MaxPooling1D)   (None, 5, 32)        0           ['conv1d[0][0]']                 \n",
            "                                                                                                  \n",
            " bidirectional (Bidirectional)  (None, 200)          106400      ['max_pooling1d[0][0]']          \n",
            "                                                                                                  \n",
            " dense (Dense)                  (None, 128)          25728       ['bidirectional[0][0]']          \n",
            "                                                                                                  \n",
            " segmento (Dense)               (None, 6)            774         ['dense[0][0]']                  \n",
            "                                                                                                  \n",
            " categoria (Dense)              (None, 70)           9030        ['dense[0][0]']                  \n",
            "                                                                                                  \n",
            " subcategoria (Dense)           (None, 153)          19737       ['dense[0][0]']                  \n",
            "                                                                                                  \n",
            "==================================================================================================\n",
            "Total params: 3,662,501\n",
            "Trainable params: 3,662,501\n",
            "Non-trainable params: 0\n",
            "__________________________________________________________________________________________________\n"
          ]
        }
      ],
      "source": [
        "# Arquiterura da rede\n",
        "\n",
        "# Definindo as camadas da rede\n",
        "input_layer = tf.keras.layers.Input(X.shape[1], name='nm_item')\n",
        "x = tf.keras.layers.Embedding(len(word_index)+1, EMBEDDING_DIM, weights=[EMBEDDINGS_MATRIX], trainable=True)(input_layer)\n",
        "x = tf.keras.layers.Dropout(0.2)(x)\n",
        "x = tf.keras.layers.Conv1D(32, 5, activation='relu')(x)\n",
        "x = tf.keras.layers.MaxPooling1D(pool_size=2)(x)\n",
        "x = tf.keras.layers.Bidirectional(tf.keras.layers.LSTM(100, dropout=0.2, recurrent_dropout=0.2))(x)\n",
        "x = tf.keras.layers.Dense(128, activation='relu')(x)\n",
        "\n",
        "# Saida da rede\n",
        "segmento = tf.keras.layers.Dense(Y1.shape[1], activation='softmax', name='segmento')(x)\n",
        "categoria = tf.keras.layers.Dense(Y2.shape[1], activation='softmax', name='categoria')(x)\n",
        "subcategoria = tf.keras.layers.Dense(Y3.shape[1], activation='softmax', name='subcategoria')(x)\n",
        "\n",
        "# Definindo o modelo com a entrada e a lista de saída\n",
        "model = Model(inputs=input_layer, outputs=[segmento, categoria, subcategoria])\n",
        "\n",
        "# Métrica f1 scores\n",
        "f1_segmento = tfa.metrics.F1Score(num_classes=Y1.shape[1], average='macro')\n",
        "f1_categoria = tfa.metrics.F1Score(num_classes=Y2.shape[1], average='macro')\n",
        "f1_subcategoria = tfa.metrics.F1Score(num_classes=Y3.shape[1], average='macro')\n",
        "\n",
        "# Especificando o otimizador do modelo com as funçõpes de perda e métricas para as 3 saídas\n",
        "model.compile(optimizer='adam', \n",
        "              loss={'segmento': 'categorical_crossentropy', \n",
        "                    'categoria': 'categorical_crossentropy',\n",
        "                    'subcategoria': 'categorical_crossentropy'},\n",
        "              metrics={'segmento': ['accuracy', f1_segmento],\n",
        "                       'categoria': ['accuracy', f1_categoria],\n",
        "                       'subcategoria': ['accuracy', f1_subcategoria]})\n",
        "\n",
        "# Resumo da estrutura da rede\n",
        "model.summary()"
      ]
    },
    {
      "cell_type": "code",
      "execution_count": null,
      "metadata": {
        "colab": {
          "base_uri": "https://localhost:8080/",
          "height": 540
        },
        "id": "8fw4tCyoksJC",
        "outputId": "dca64f43-352d-415e-dc63-88f91b007215"
      },
      "outputs": [
        {
          "data": {
            "image/png": "[encoded data removed]",
            "text/plain": [
              "<IPython.core.display.Image object>"
            ]
          },
          "execution_count": 18,
          "metadata": {},
          "output_type": "execute_result"
        }
      ],
      "source": [
        "# Esquema da arquitetura do Modelo\n",
        "img_file = './model_arch.png'\n",
        "\n",
        "tf.keras.utils.plot_model(model, to_file=img_file, show_shapes=True, show_layer_names=True)"
      ]
    },
    {
      "cell_type": "markdown",
      "metadata": {
        "id": "w3QWXNjEkD8F"
      },
      "source": [
        "### Treinando o Modelo\n",
        "\n",
        "Próxima etapa é o treinamento do modelo"
      ]
    },
    {
      "cell_type": "code",
      "execution_count": null,
      "metadata": {
        "id": "_-pGl6ozQlim"
      },
      "outputs": [],
      "source": [
        "\n",
        "epochs = 50\n",
        "batch_size = 64\n",
        "\n",
        "#Treinando o Modelo\n",
        "history = model.fit(X_train,\n",
        "                    [Y1_train, Y2_train, Y3_train],\n",
        "                    epochs=epochs,\n",
        "                    batch_size=batch_size,\n",
        "                    validation_split=0.2,\n",
        "                    callbacks=[tf.keras.callbacks.EarlyStopping(monitor='val_loss', patience=3, min_delta=0.0001)])"
      ]
    },
    {
      "cell_type": "code",
      "execution_count": null,
      "metadata": {
        "colab": {
          "base_uri": "https://localhost:8080/"
        },
        "id": "hOBQJG42iXA1",
        "outputId": "bdc3038d-15c7-40a3-ee89-76a66f773dfd"
      },
      "outputs": [
        {
          "name": "stdout",
          "output_type": "stream",
          "text": [
            "495/495 [==============================] - 5s 11ms/step - loss: 0.1784 - segmento_loss: 0.0179 - categoria_loss: 0.0722 - subcategoria_loss: 0.0883 - segmento_accuracy: 0.9966 - segmento_f1_score: 0.9079 - categoria_accuracy: 0.9872 - categoria_f1_score: 0.7308 - subcategoria_accuracy: 0.9846 - subcategoria_f1_score: 0.6518\n"
          ]
        }
      ],
      "source": [
        "# Testando o modelo no conjunto de Teste\n",
        "accr = model.evaluate(X_test,[Y1_test, Y2_test, Y3_test])"
      ]
    },
    {
      "cell_type": "markdown",
      "metadata": {
        "id": "oMJ3021mkD8G"
      },
      "source": [
        "### Visualizando os Resultados\n",
        "\n",
        "Agora vamos plotar o resultado"
      ]
    },
    {
      "cell_type": "markdown",
      "metadata": {
        "id": "-semkf1OkD8G"
      },
      "source": [
        "### Salvando o Modelo"
      ]
    },
    {
      "cell_type": "code",
      "execution_count": null,
      "metadata": {
        "id": "-c1OhWM2pQmR"
      },
      "outputs": [],
      "source": [
        "# Salvando o modelo\n",
        "model.save(\"MultiModel3.h5\")"
      ]
    },
    {
      "cell_type": "markdown",
      "metadata": {
        "id": "XcGmjEtztA7B"
      },
      "source": [
        "## Utilizando o Modelo"
      ]
    },
    {
      "cell_type": "code",
      "execution_count": null,
      "metadata": {
        "colab": {
          "base_uri": "https://localhost:8080/"
        },
        "id": "EanKxioCsMKT",
        "outputId": "d81a11e8-e131-4ce0-9353-a4e9554eef4d"
      },
      "outputs": [
        {
          "name": "stdout",
          "output_type": "stream",
          "text": [
            "WARNING:tensorflow:Layer lstm_1 will not use cuDNN kernels since it doesn't meet the criteria. It will use a generic GPU kernel as fallback when running on GPU.\n",
            "WARNING:tensorflow:Layer lstm_1 will not use cuDNN kernels since it doesn't meet the criteria. It will use a generic GPU kernel as fallback when running on GPU.\n",
            "WARNING:tensorflow:Layer lstm_1 will not use cuDNN kernels since it doesn't meet the criteria. It will use a generic GPU kernel as fallback when running on GPU.\n"
          ]
        }
      ],
      "source": [
        "# carregando o modelo\n",
        "pesos = filepath = \"MultiModelitem_glove.h5\"\n",
        "model = tf.keras.models.load_model(pesos)"
      ]
    },
    {
      "cell_type": "code",
      "execution_count": null,
      "metadata": {
        "id": "wDPyLKflhUeK"
      },
      "outputs": [],
      "source": [
        "# Pegando os Labels do dataset\n",
        "label_segmento = np.sort(df['segmento'].unique())\n",
        "label_categoria = np.sort(df['categoria'].unique())\n",
        "label_subcategoria = np.sort(df['subcategoria'].unique())"
      ]
    },
    {
      "cell_type": "code",
      "execution_count": null,
      "metadata": {
        "id": "hiIcsxROkD8H",
        "outputId": "44272597-801c-4082-853e-d83bf0fdbbad"
      },
      "outputs": [
        {
          "name": "stdout",
          "output_type": "stream",
          "text": [
            "1/1 [==============================] - 1s 775ms/step\n",
            "Segmento: 1-BENS DE CONSUMO\n",
            "Categoria: 22-LACTEOS\n",
            "Subcategoria: 62-BEBIDAS LACTEAS\n"
          ]
        }
      ],
      "source": [
        "# Fazendo previsões com o modelo\n",
        "texto = 'BEBIDA GATORADE'\n",
        "novo_item = remove_stopwords(texto)\n",
        "seq = tokenizer.texts_to_sequences([novo_item])\n",
        "padded = pad_sequences(seq, maxlen=MAX_SEQUENCE_LENGTH)\n",
        "pred = model.predict(padded)\n",
        "print(f'Segmento: {label_segmento[np.argmax(pred[0])]}')\n",
        "print(f'Categoria: {label_categoria[np.argmax(pred[1])]}')\n",
        "print(f'Subcategoria: {label_subcategoria[np.argmax(pred[2])]}')"
      ]
    },
    {
      "cell_type": "code",
      "execution_count": null,
      "metadata": {
        "id": "MKC4nCsckD8H",
        "outputId": "4f389561-1c4f-452b-f0b7-3365026c597a"
      },
      "outputs": [
        {
          "name": "stdout",
          "output_type": "stream",
          "text": [
            "1/1 [==============================] - 0s 25ms/step\n",
            "Segmento: 1-BENS DE CONSUMO\n",
            "Categoria: ['32-PRODUTOS DE LIMPEZA' '25-VINHOS E FERMENTADOS'\n",
            " '8-PREPARADOS E CONGELADOS']\n",
            "Subcategoria: ['80-LIMPEZA DOMESTICA' '63-REFRIGERANTES' '65-FERMENTADOS'\n",
            " '79-LAVANDERIA' '30-SORVETES E SOBREMESAS']\n"
          ]
        }
      ],
      "source": [
        "# Top 3 para categoria e top 5 para subcategoria\n",
        "texto = 'PAD BOLO SECO KLM 400G MILHO'\n",
        "novo_item = remove_stopwords(texto)\n",
        "seq = tokenizer.texts_to_sequences([novo_item])\n",
        "padded = pad_sequences(seq, maxlen=MAX_SEQUENCE_LENGTH)\n",
        "pred = model.predict(padded)\n",
        "print(f'Segmento: {label_segmento[np.argmax(pred[0])]}')\n",
        "print(f'Categoria: {label_categoria[np.argsort(pred[1].flatten())[::-1]][:3]}')\n",
        "print(f'Subcategoria: {label_subcategoria[np.argsort(pred[2].flatten())[::-1]][:5]}')"
      ]
    }
  ],
  "metadata": {
    "accelerator": "GPU",
    "colab": {
      "provenance": [],
      "collapsed_sections": [],
      "include_colab_link": true
    },
    "kernelspec": {
      "display_name": "Python 3.9.12 ('base')",
      "language": "python",
      "name": "python3"
    },
    "language_info": {
      "codemirror_mode": {
        "name": "ipython",
        "version": 3
      },
      "file_extension": ".py",
      "mimetype": "text/x-python",
      "name": "python",
      "nbconvert_exporter": "python",
      "pygments_lexer": "ipython3",
      "version": "3.9.12"
    },
    "vscode": {
      "interpreter": {
        "hash": "5e8c03361d51ea297a904a747262448c3ce723e881811895dfdbcc412e3247a1"
      }
    }
  },
  "nbformat": 4,
  "nbformat_minor": 0
}