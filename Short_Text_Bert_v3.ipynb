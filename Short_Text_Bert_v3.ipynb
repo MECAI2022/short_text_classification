{
  "cells": [
    {
      "cell_type": "markdown",
      "metadata": {
        "id": "view-in-github",
        "colab_type": "text"
      },
      "source": [
        "<a href=\"https://colab.research.google.com/github/MECAI2022/short_text_classification/blob/main/Short_Text_Bert_v3.ipynb\" target=\"_parent\"><img src=\"https://colab.research.google.com/assets/colab-badge.svg\" alt=\"Open In Colab\"/></a>"
      ]
    },
    {
      "cell_type": "markdown",
      "metadata": {
        "id": "J5-xoiDDXS0R"
      },
      "source": [
        "### Sort Text com BERT"
      ]
    },
    {
      "cell_type": "code",
      "execution_count": 1,
      "metadata": {
        "colab": {
          "base_uri": "https://localhost:8080/"
        },
        "id": "zax-hsAmXVMD",
        "outputId": "95f1b8c6-32ef-4c9d-a3fe-b625073f193d"
      },
      "outputs": [
        {
          "output_type": "stream",
          "name": "stdout",
          "text": [
            "Fri Nov 11 21:47:54 2022       \n",
            "+-----------------------------------------------------------------------------+\n",
            "| NVIDIA-SMI 460.32.03    Driver Version: 460.32.03    CUDA Version: 11.2     |\n",
            "|-------------------------------+----------------------+----------------------+\n",
            "| GPU  Name        Persistence-M| Bus-Id        Disp.A | Volatile Uncorr. ECC |\n",
            "| Fan  Temp  Perf  Pwr:Usage/Cap|         Memory-Usage | GPU-Util  Compute M. |\n",
            "|                               |                      |               MIG M. |\n",
            "|===============================+======================+======================|\n",
            "|   0  Tesla T4            Off  | 00000000:00:04.0 Off |                    0 |\n",
            "| N/A   55C    P8    11W /  70W |      0MiB / 15109MiB |      0%      Default |\n",
            "|                               |                      |                  N/A |\n",
            "+-------------------------------+----------------------+----------------------+\n",
            "                                                                               \n",
            "+-----------------------------------------------------------------------------+\n",
            "| Processes:                                                                  |\n",
            "|  GPU   GI   CI        PID   Type   Process name                  GPU Memory |\n",
            "|        ID   ID                                                   Usage      |\n",
            "|=============================================================================|\n",
            "|  No running processes found                                                 |\n",
            "+-----------------------------------------------------------------------------+\n"
          ]
        }
      ],
      "source": [
        "!nvidia-smi"
      ]
    },
    {
      "cell_type": "markdown",
      "metadata": {
        "id": "gfO7m-O68wiD"
      },
      "source": [
        "## O Que é BERT?\n",
        "\n",
        "BERT (introduzido [neste artigo](https://arxiv.org/abs/1810.04805)) significa  Bidirectional Encoder Representations from Transformers:\n",
        "\n",
        "- Bidirecional - Para entender o texto que você está analisando, você terá que olhar para trás (nas palavras anteriores) e para frente (nas próximas palavras)\n",
        "- Transformers - O artigo [Attention Is All You Need](https://arxiv.org/abs/1706.03762) apresentou o modelo Transformer. O Transformer lê sequências inteiras de tokens de uma só vez. Em certo sentido, o modelo é não direcional, enquanto os LSTMs lêem sequencialmente (da esquerda para a direita ou da direita para a esquerda). O mecanismo de atenção permite aprender relações contextuais entre palavras.\n",
        "- Embeddings de palavras contextualizadas (pré-treinadas) - [The ELMO paper](https://arxiv.org/abs/1802.05365v2) introduziu uma maneira de codificar palavras com base em seu significado/contexto.\n",
        "\n",
        "O BERT foi treinado mascarando 15% dos tokens com o objetivo de adivinhá-los. Um objetivo adicional era prever a próxima frase. Vejamos exemplos dessas tarefas:\n",
        "\n",
        "### Modelagem de linguagem mascarada (LM mascarado)\n",
        "\n",
        "O objetivo desta tarefa é adivinhar os tokens mascarados. Vamos dar uma olhada em um exemplo, e tentar não torná-lo mais difícil do que tem que ser:\n",
        "\n",
        "Isso é `[máscara]` ela `[máscara]` -> Isso é o que ela disse\n",
        "\n",
        "### Previsão da próxima frase (NSP)\n",
        "\n",
        "Dado um par de duas sentenças, a tarefa é dizer se a segunda segue ou não a primeira (classificação binária). Vamos continuar com o exemplo:\n",
        "\n",
        "*Input* = `[CLS]` Isso é `[mask]` ela `[mask]`. [SEP] Hahaha, legal! [SEP]\n",
        "\n",
        "*Rótulo* = *ÉPróximo*\n",
        "\n",
        "*Input* = `[CLS]` Isso é `[mask]` ela `[mask]`. [SEP] Dwight, seu ignorante `[máscara]`! [SEP]\n",
        "\n",
        "*Rótulo* = *NãoPróximo*\n",
        "\n",
        "O corpus de treinamento foi composto por duas entradas: [Toronto Book Corpus](https://arxiv.org/abs/1506.06724) (800 milhões de palavras) e Wikipedia em inglês (2.500 milhões de palavras). Enquanto o Transformer original possui um codificador (para leitura da entrada) e um decodificador (que faz a previsão), o BERT utiliza apenas o decodificador.\n",
        "\n",
        "BERT é simplesmente vários  pré-treinada de codificadores de transformadores. Quantos codificadores? Temos duas versões - com 12 (BERT base) e 24 (BERT Large).\n",
        "\n",
        "### Isso é útil na prática?\n",
        "\n",
        "O artigo BERT foi lançado junto com [o código-fonte](https://github.com/google-research/bert) e modelos pré-treinados.\n",
        "\n",
        "A melhor parte é que você pode fazer o Transfer Learning (graças às ideias do OpenAI Transformer) com BERT para muitas tarefas de NLP - Classificação, Resposta a Perguntas, Reconhecimento de Entidades, etc. Você pode treinar com pequenas quantidades de dados e obter um ótimo desempenho!"
      ]
    },
    {
      "cell_type": "markdown",
      "metadata": {
        "id": "6YNYgk8EC9f_"
      },
      "source": [
        "#### Setup & Config\n",
        "\n",
        "Vamos precisar da [biblioteca Transformers](https://huggingface.co/transformers/) do Hugging Face:"
      ]
    },
    {
      "cell_type": "code",
      "source": [
        "!git clone https://github.com/MECAI2022/short_text_classification.git\n",
        "import sys\n",
        "sys.path.append('/content/short_text_classification')\n",
        "from pre_treatment_product import pre_process_text"
      ],
      "metadata": {
        "colab": {
          "base_uri": "https://localhost:8080/"
        },
        "id": "FYCVbis7pPch",
        "outputId": "4de08870-aa5a-4e67-f18a-d0be46c2bf3c"
      },
      "execution_count": 2,
      "outputs": [
        {
          "output_type": "stream",
          "name": "stdout",
          "text": [
            "Cloning into 'short_text_classification'...\n",
            "remote: Enumerating objects: 106, done.\u001b[K\n",
            "remote: Counting objects: 100% (106/106), done.\u001b[K\n",
            "remote: Compressing objects: 100% (103/103), done.\u001b[K\n",
            "remote: Total 106 (delta 57), reused 0 (delta 0), pack-reused 0\u001b[K\n",
            "Receiving objects: 100% (106/106), 3.26 MiB | 7.17 MiB/s, done.\n",
            "Resolving deltas: 100% (57/57), done.\n"
          ]
        },
        {
          "output_type": "stream",
          "name": "stderr",
          "text": [
            "[nltk_data] Downloading package stopwords to /root/nltk_data...\n",
            "[nltk_data]   Unzipping corpora/stopwords.zip.\n",
            "[nltk_data] Downloading package wordnet to /root/nltk_data...\n"
          ]
        }
      ]
    },
    {
      "cell_type": "code",
      "source": [
        "!pip install transformers\n",
        "!pip install nlpaug"
      ],
      "metadata": {
        "colab": {
          "base_uri": "https://localhost:8080/"
        },
        "id": "TQgDAtQ6rTzQ",
        "outputId": "fd5ba719-1454-4561-eb5d-c1fa663211c3"
      },
      "execution_count": 3,
      "outputs": [
        {
          "output_type": "stream",
          "name": "stdout",
          "text": [
            "Looking in indexes: https://pypi.org/simple, https://us-python.pkg.dev/colab-wheels/public/simple/\n",
            "Collecting transformers\n",
            "  Downloading transformers-4.24.0-py3-none-any.whl (5.5 MB)\n",
            "\u001b[K     |████████████████████████████████| 5.5 MB 24.3 MB/s \n",
            "\u001b[?25hRequirement already satisfied: tqdm>=4.27 in /usr/local/lib/python3.7/dist-packages (from transformers) (4.64.1)\n",
            "Requirement already satisfied: packaging>=20.0 in /usr/local/lib/python3.7/dist-packages (from transformers) (21.3)\n",
            "Requirement already satisfied: filelock in /usr/local/lib/python3.7/dist-packages (from transformers) (3.8.0)\n",
            "Requirement already satisfied: importlib-metadata in /usr/local/lib/python3.7/dist-packages (from transformers) (4.13.0)\n",
            "Requirement already satisfied: pyyaml>=5.1 in /usr/local/lib/python3.7/dist-packages (from transformers) (6.0)\n",
            "Collecting huggingface-hub<1.0,>=0.10.0\n",
            "  Downloading huggingface_hub-0.10.1-py3-none-any.whl (163 kB)\n",
            "\u001b[K     |████████████████████████████████| 163 kB 48.7 MB/s \n",
            "\u001b[?25hCollecting tokenizers!=0.11.3,<0.14,>=0.11.1\n",
            "  Downloading tokenizers-0.13.2-cp37-cp37m-manylinux_2_17_x86_64.manylinux2014_x86_64.whl (7.6 MB)\n",
            "\u001b[K     |████████████████████████████████| 7.6 MB 45.6 MB/s \n",
            "\u001b[?25hRequirement already satisfied: requests in /usr/local/lib/python3.7/dist-packages (from transformers) (2.23.0)\n",
            "Requirement already satisfied: numpy>=1.17 in /usr/local/lib/python3.7/dist-packages (from transformers) (1.21.6)\n",
            "Requirement already satisfied: regex!=2019.12.17 in /usr/local/lib/python3.7/dist-packages (from transformers) (2022.6.2)\n",
            "Requirement already satisfied: typing-extensions>=3.7.4.3 in /usr/local/lib/python3.7/dist-packages (from huggingface-hub<1.0,>=0.10.0->transformers) (4.1.1)\n",
            "Requirement already satisfied: pyparsing!=3.0.5,>=2.0.2 in /usr/local/lib/python3.7/dist-packages (from packaging>=20.0->transformers) (3.0.9)\n",
            "Requirement already satisfied: zipp>=0.5 in /usr/local/lib/python3.7/dist-packages (from importlib-metadata->transformers) (3.10.0)\n",
            "Requirement already satisfied: certifi>=2017.4.17 in /usr/local/lib/python3.7/dist-packages (from requests->transformers) (2022.9.24)\n",
            "Requirement already satisfied: urllib3!=1.25.0,!=1.25.1,<1.26,>=1.21.1 in /usr/local/lib/python3.7/dist-packages (from requests->transformers) (1.24.3)\n",
            "Requirement already satisfied: chardet<4,>=3.0.2 in /usr/local/lib/python3.7/dist-packages (from requests->transformers) (3.0.4)\n",
            "Requirement already satisfied: idna<3,>=2.5 in /usr/local/lib/python3.7/dist-packages (from requests->transformers) (2.10)\n",
            "Installing collected packages: tokenizers, huggingface-hub, transformers\n",
            "Successfully installed huggingface-hub-0.10.1 tokenizers-0.13.2 transformers-4.24.0\n",
            "Looking in indexes: https://pypi.org/simple, https://us-python.pkg.dev/colab-wheels/public/simple/\n",
            "Collecting nlpaug\n",
            "  Downloading nlpaug-1.1.11-py3-none-any.whl (410 kB)\n",
            "\u001b[K     |████████████████████████████████| 410 kB 23.7 MB/s \n",
            "\u001b[?25hRequirement already satisfied: requests>=2.22.0 in /usr/local/lib/python3.7/dist-packages (from nlpaug) (2.23.0)\n",
            "Requirement already satisfied: numpy>=1.16.2 in /usr/local/lib/python3.7/dist-packages (from nlpaug) (1.21.6)\n",
            "Requirement already satisfied: gdown>=4.0.0 in /usr/local/lib/python3.7/dist-packages (from nlpaug) (4.4.0)\n",
            "Requirement already satisfied: pandas>=1.2.0 in /usr/local/lib/python3.7/dist-packages (from nlpaug) (1.3.5)\n",
            "Requirement already satisfied: tqdm in /usr/local/lib/python3.7/dist-packages (from gdown>=4.0.0->nlpaug) (4.64.1)\n",
            "Requirement already satisfied: six in /usr/local/lib/python3.7/dist-packages (from gdown>=4.0.0->nlpaug) (1.15.0)\n",
            "Requirement already satisfied: beautifulsoup4 in /usr/local/lib/python3.7/dist-packages (from gdown>=4.0.0->nlpaug) (4.6.3)\n",
            "Requirement already satisfied: filelock in /usr/local/lib/python3.7/dist-packages (from gdown>=4.0.0->nlpaug) (3.8.0)\n",
            "Requirement already satisfied: python-dateutil>=2.7.3 in /usr/local/lib/python3.7/dist-packages (from pandas>=1.2.0->nlpaug) (2.8.2)\n",
            "Requirement already satisfied: pytz>=2017.3 in /usr/local/lib/python3.7/dist-packages (from pandas>=1.2.0->nlpaug) (2022.6)\n",
            "Requirement already satisfied: idna<3,>=2.5 in /usr/local/lib/python3.7/dist-packages (from requests>=2.22.0->nlpaug) (2.10)\n",
            "Requirement already satisfied: certifi>=2017.4.17 in /usr/local/lib/python3.7/dist-packages (from requests>=2.22.0->nlpaug) (2022.9.24)\n",
            "Requirement already satisfied: chardet<4,>=3.0.2 in /usr/local/lib/python3.7/dist-packages (from requests>=2.22.0->nlpaug) (3.0.4)\n",
            "Requirement already satisfied: urllib3!=1.25.0,!=1.25.1,<1.26,>=1.21.1 in /usr/local/lib/python3.7/dist-packages (from requests>=2.22.0->nlpaug) (1.24.3)\n",
            "Requirement already satisfied: PySocks!=1.5.7,>=1.5.6 in /usr/local/lib/python3.7/dist-packages (from requests>=2.22.0->nlpaug) (1.7.1)\n",
            "Installing collected packages: nlpaug\n",
            "Successfully installed nlpaug-1.1.11\n"
          ]
        }
      ]
    },
    {
      "cell_type": "code",
      "execution_count": 4,
      "metadata": {
        "id": "wVtdTVF4DazQ",
        "colab": {
          "base_uri": "https://localhost:8080/"
        },
        "outputId": "b6c1f24c-47ad-4bd1-a12e-3f793c993c8b"
      },
      "outputs": [
        {
          "output_type": "stream",
          "name": "stdout",
          "text": [
            "cuda:0\n"
          ]
        }
      ],
      "source": [
        "import transformers\n",
        "from transformers import BertModel, BertTokenizer, AdamW, get_linear_schedule_with_warmup,get_cosine_with_hard_restarts_schedule_with_warmup\n",
        "import torch\n",
        "\n",
        "import os\n",
        "import numpy as np\n",
        "import pandas as pd\n",
        "import seaborn as sns\n",
        "from pylab import rcParams\n",
        "import matplotlib.pyplot as plt\n",
        "from matplotlib import rc\n",
        "from sklearn.model_selection import train_test_split\n",
        "from sklearn.metrics import confusion_matrix, classification_report, f1_score,roc_auc_score\n",
        "from collections import defaultdict\n",
        "from textwrap import wrap\n",
        "from sklearn import preprocessing\n",
        "import itertools\n",
        "\n",
        "from torch import nn, optim\n",
        "from torch.utils.data import Dataset, DataLoader\n",
        "import torch.nn.functional as F\n",
        "from tqdm import tqdm\n",
        "import nlpaug.augmenter.word as naw\n",
        "import nlpaug.augmenter.char as nac\n",
        "\n",
        "%matplotlib inline\n",
        "%config InlineBackend.figure_format='retina'\n",
        "\n",
        "sns.set(style='whitegrid', palette='muted', font_scale=1.2)\n",
        "\n",
        "HAPPY_COLORS_PALETTE = [\"#01BEFE\", \"#FFDD00\", \"#FF7D00\", \"#FF006D\", \"#ADFF02\", \"#8F00FF\"]\n",
        "\n",
        "sns.set_palette(sns.color_palette(HAPPY_COLORS_PALETTE))\n",
        "\n",
        "rcParams['figure.figsize'] = 12, 8\n",
        "\n",
        "RANDOM_SEED = 42\n",
        "np.random.seed(RANDOM_SEED)\n",
        "torch.manual_seed(RANDOM_SEED)\n",
        "import warnings\n",
        "warnings.filterwarnings('ignore')\n",
        "\n",
        "device = torch.device(\"cuda:0\" if torch.cuda.is_available() else \"cpu\")\n",
        "print(device)"
      ]
    },
    {
      "cell_type": "code",
      "source": [
        "from google.colab import drive\n",
        "drive.mount('/content/drive')"
      ],
      "metadata": {
        "colab": {
          "base_uri": "https://localhost:8080/"
        },
        "id": "zdWGzzF5tort",
        "outputId": "37052342-0d4e-4bd1-f2e9-67fb2b42f9e6"
      },
      "execution_count": 5,
      "outputs": [
        {
          "output_type": "stream",
          "name": "stdout",
          "text": [
            "Mounted at /content/drive\n"
          ]
        }
      ]
    },
    {
      "cell_type": "markdown",
      "metadata": {
        "id": "kQzbE6IKD1N8"
      },
      "source": [
        "## EDA"
      ]
    },
    {
      "cell_type": "code",
      "execution_count": 6,
      "metadata": {
        "id": "_PhgD2fiWmTo"
      },
      "outputs": [],
      "source": [
        "filepath = \"/content/drive/MyDrive/glove_files/dataset_produtos_V02.xlsx\"\n",
        "filesave = '/content/drive/MyDrive/BERT'\n",
        "\n",
        "df = pd.read_excel(filepath)\n",
        "df.head()\n",
        "\n",
        "pre_treatment = pre_process_text(stopwords_language = 'portuguese',flg_stemm = True , flg_lemm = False)"
      ]
    },
    {
      "cell_type": "markdown",
      "metadata": {
        "id": "WXZDP5WwEKO8"
      },
      "source": [
        "*   Retirar nome de produtos inválidos\n",
        "*   Retirar produtos com pouca frequência (<=10)\n",
        "*   Pré-processar o texto\n",
        "\n",
        "\n",
        "\n",
        "\n",
        "\n"
      ]
    },
    {
      "cell_type": "code",
      "source": [
        "pre_treatment = pre_process_text(stopwords_language = 'portuguese',flg_stemm = True , flg_lemm = False)\n",
        "\n",
        "df = df[df['nm_item'].notnull()]\n",
        "df = df[df['nm_item'].str.lower()!='nao cadastrado'].reset_index(drop=True)\n",
        "\n",
        "df['nm_item'] = df['nm_item'].apply(lambda x : pre_treatment.transform(x))\n",
        "\n",
        "df = df.drop_duplicates('nm_item').reset_index(drop=True)"
      ],
      "metadata": {
        "id": "5OSKsGJonxqP"
      },
      "execution_count": 7,
      "outputs": []
    },
    {
      "cell_type": "code",
      "source": [
        "import re\n",
        "from unicodedata import normalize\n",
        "\n",
        "def treat_class(word):\n",
        "\n",
        "        word = word.upper()\n",
        "          \n",
        "        #Remove special char\n",
        "\n",
        "        word = normalize('NFKD', word).encode('ASCII', 'ignore').decode('ASCII')\n",
        "        \n",
        "        #Remove numbers \n",
        "\n",
        "        word = re.sub(r'\\b\\d+\\b', '',word)\n",
        "        #Remove punctuation\n",
        "\n",
        "        word = re.sub(r'[^\\w\\s]', '',word)\n",
        "        #Remove multiple Spaces\n",
        "\n",
        "        word = re.sub(r'\\s+', ' ',word)\n",
        "\n",
        "        return word"
      ],
      "metadata": {
        "id": "PrhrVZaq0Ww7"
      },
      "execution_count": 8,
      "outputs": []
    },
    {
      "cell_type": "code",
      "source": [
        "for x in ['segmento','categoria','subcategoria','nm_product']:\n",
        "\n",
        "  df[x] = df[x].apply(lambda x : treat_class(x))\n",
        "\n",
        "  count_class = df[x].value_counts()\n",
        "\n",
        "  print(count_class[count_class<=10].index)\n",
        "\n",
        "  count_class = count_class[count_class>10].index\n",
        "\n",
        "  df = df[df[x].isin(count_class)].reset_index(drop=True)"
      ],
      "metadata": {
        "colab": {
          "base_uri": "https://localhost:8080/"
        },
        "id": "3Qws7uuS4sBk",
        "outputId": "41503b86-2dc4-44bd-fa2f-42de11d54f86"
      },
      "execution_count": 9,
      "outputs": [
        {
          "output_type": "stream",
          "name": "stdout",
          "text": [
            "Index([], dtype='object')\n",
            "Index(['SAUDE ANIMAL', 'SUPLEMENTOS', 'HOSPITALARES E CLINICOS'], dtype='object')\n",
            "Index(['DUTOS E FIACAO'], dtype='object')\n",
            "Index(['ESPIGA DE MILHO', 'AMORA', 'PRODUTO SAZONAL', 'GOIABA', 'CACHECOL',\n",
            "       'GLITER', 'LEITE ESPECIAL', 'RATICIDA', 'ERVILHA SECA', 'ALMEIRAO',\n",
            "       'COCO SECO', 'MIX DE FOLHAS', 'MIX DE FRIOS', 'NECTARINA',\n",
            "       'CARNE OVINA', 'RABANETE', 'PINHAO', 'MARACUJA', 'MEXERICA', 'CHICORIA',\n",
            "       'GERIATRICO', 'PINCA', 'SALSAO', 'OUTRO ACESSORIO PARA CABELOS',\n",
            "       'MARIA MOLE', 'APONTADOR', 'OUTRO GRAO', 'GENGIBRE',\n",
            "       'CORANTE ALIMENTAR', 'GUARDACHUVA', 'ESPETINHO CONGELADO', 'REGUA',\n",
            "       'TINTA ESCOLAR', 'EQUIPAMENTO DE LIMPEZA PISCINA', 'ALHO PORO',\n",
            "       'MAXIXE', 'FORRAGEM PET', 'BORRACHA', 'ESTOJO', 'OUTRO FERMENTADO',\n",
            "       'TINTA', 'AIPO', 'SOBREMESA PRONTA RESFRIADA', 'LAPISEIRA',\n",
            "       'PREPARO PARA SORVETE', 'DOCE DE NATAL', 'CARNE SUINA SAZONAL', 'PASTA',\n",
            "       'ROMA', 'ALCACHOFRA', 'OUTRO HIGIENE E LIMPEZA', 'COALHADA',\n",
            "       'QUEIJO FATIADO', 'PREPARO PARA SAGU', 'OUTRO ARTIGO DE FESTA'],\n",
            "      dtype='object')\n"
          ]
        }
      ]
    },
    {
      "cell_type": "markdown",
      "source": [
        "Puxar máximo número de palavras em uma sentença"
      ],
      "metadata": {
        "id": "RK62GJLT83zz"
      }
    },
    {
      "cell_type": "code",
      "source": [
        "max_lenght = df[\"nm_item\"].apply(lambda x: len(str(x).split(\" \"))).max()"
      ],
      "metadata": {
        "id": "eNBMHNQ_8w5X"
      },
      "execution_count": 10,
      "outputs": []
    },
    {
      "cell_type": "markdown",
      "source": [
        "Transformar classes com label encoder"
      ],
      "metadata": {
        "id": "xNrUnVr5B_pN"
      }
    },
    {
      "cell_type": "code",
      "source": [
        "for x in ['segmento','categoria','subcategoria','nm_product']:\n",
        "\n",
        "  le = preprocessing.LabelEncoder()\n",
        "\n",
        "  df[x+'_enc'] = le.fit_transform(df[x])\n",
        "\n",
        "  print('categ '+ x + ' ' + str(df[x+'_enc'].max()))\n"
      ],
      "metadata": {
        "id": "ToSQspf2B_A1",
        "colab": {
          "base_uri": "https://localhost:8080/"
        },
        "outputId": "3f68e28a-93ef-4523-ca09-6a56b5f81305"
      },
      "execution_count": 11,
      "outputs": [
        {
          "output_type": "stream",
          "name": "stdout",
          "text": [
            "categ segmento 5\n",
            "categ categoria 63\n",
            "categ subcategoria 144\n",
            "categ nm_product 653\n"
          ]
        }
      ]
    },
    {
      "cell_type": "markdown",
      "metadata": {
        "id": "2RIoVgVwFGxN"
      },
      "source": [
        "## Pré-processamento de dados\n"
      ]
    },
    {
      "cell_type": "markdown",
      "metadata": {
        "id": "PQee_h7MktIP"
      },
      "source": [
        "Você já deve saber que os modelos de Machine Learning não funcionam com texto bruto. Você precisa converter texto em números (de algum tipo). O BERT requer ainda mais atenção. Aqui estão os requisitos:\n",
        "\n",
        "- Adicione tokens especiais para separar frases e fazer classificação\n",
        "- Passe sequências de comprimento constante (introduza o padding)\n",
        "- Crie um array de 0s (pad token) e 1s (real token) chamado *atention mask*\n",
        "\n",
        "A biblioteca Transformers fornece uma ampla variedade de modelos de Transformers (incluindo BERT). Funciona com TensorFlow e PyTorch! Ele também inclui tokenizers pré-construídos que fazem o trabalho pesado para nós!"
      ]
    },
    {
      "cell_type": "code",
      "execution_count": 12,
      "metadata": {
        "id": "sVZo_lRVFDQh",
        "colab": {
          "base_uri": "https://localhost:8080/",
          "height": 177,
          "referenced_widgets": [
            "efb50c108ab74ff9a74889970da39f66",
            "66b3c3acb8cf447fb271d996aa878343",
            "5a3385905f37473abfe82790ec67819e",
            "5b888140823c4bbcac875cb39e17970a",
            "10a9c1e60f344c46954c67cfd4a794b0",
            "77328f978463484eb7609945dbc8e5c5",
            "02416b1117494d44936225c39c242b6f",
            "3d0e286cd5c749cf8d52d504530f9c69",
            "ae027bc740e1460493c0e123a9eb2ee1",
            "075d4438df7b4c4abb200e7e0b8fbc74",
            "071b5d1d83d749c6bf328b669e95ab0d",
            "4220fe4ed85c412eb1956eebeb986c0f",
            "46a21abe0fe049bf84e23bf9b1091deb",
            "9af7a29622054b23a187971d02731450",
            "48f4c1e30dfb4a9fa83897c9b86a1334",
            "edca99bb70e747bca47d4756814fb0ed",
            "0ea01eb4dcd940e4b87b12e124c7dc98",
            "e01f1526a1fd4caca235a59a5b87e693",
            "b762dad653bc4732971c169162bb3873",
            "b7f36bcc05194d4191ac86b8e2afc9fd",
            "d6e5553848574b339e6a80cf14550b57",
            "7efd9f4229664225925789a8f389cc32",
            "04a93c21c9864305bf9ca7dc378a0862",
            "077aabe053f244bd839b91a66cae8f12",
            "0c5a28a9b6a3427eb30067376c9786c6",
            "70a5472c74274b74ae4d6e7055309642",
            "3ed76d4f5f50470983501ac70296b5e6",
            "acd8be5c675044c2a4069f4e01e34da0",
            "6cc81c83a3af408ab3900242e6e9020b",
            "438ef9922ec240ffb039256bae40cb57",
            "253e3826059748079990bdc0c3e2da86",
            "d943d09c3bea47569268ae13aa84996e",
            "dc209b36c42b4b0fb85db26c6f0c1651",
            "96ab8cbe26594b88a61705c2613e3308",
            "96a15c39d724467385158ee2b8ecc546",
            "9d77ba9470a141c0852948df1fd43559",
            "fb62d83c82aa448785faf936464e7066",
            "f149429de9014ae89d864c269a6e6aa6",
            "d9b89ea940b64019a628bd4854ea29c9",
            "5e865ea8bd35423cbaecac2c734fb72a",
            "2c167544c29f4871a22d6ecd82b48560",
            "a3ee5c6d383f4d83b86d89a7dfbeb73a",
            "86a50c7911784dd2b37718c339369545",
            "7e912d81646b4e08af2806b5e0e3adc2",
            "3ae7b5de125746c88ed79818ac2395ed",
            "e1642a4ff28f417691e046a84fe96f27",
            "3bc57b01f6894759a7b119e8de95d396",
            "7188a22e9a7345d0993f55c2006ed272",
            "3de5b833ba914a42bccbb275f6d41fef",
            "badee4c7e38548a58079a96c967e66d9",
            "5e4dbfa4180c4b13ad281c8538fad489",
            "19c523ec67a14b929f92e7f59daf7955",
            "310193864b3d4706867449ca24d6e502",
            "89bc4b9cc12f4be5be132295a92a5f12",
            "6a0044db37f4464cb57544814a9f65c4"
          ]
        },
        "outputId": "4037d49c-93b0-4555-d8d8-a0752b07a639"
      },
      "outputs": [
        {
          "output_type": "display_data",
          "data": {
            "text/plain": [
              "Downloading:   0%|          | 0.00/210k [00:00<?, ?B/s]"
            ],
            "application/vnd.jupyter.widget-view+json": {
              "version_major": 2,
              "version_minor": 0,
              "model_id": "efb50c108ab74ff9a74889970da39f66"
            }
          },
          "metadata": {}
        },
        {
          "output_type": "display_data",
          "data": {
            "text/plain": [
              "Downloading:   0%|          | 0.00/2.00 [00:00<?, ?B/s]"
            ],
            "application/vnd.jupyter.widget-view+json": {
              "version_major": 2,
              "version_minor": 0,
              "model_id": "4220fe4ed85c412eb1956eebeb986c0f"
            }
          },
          "metadata": {}
        },
        {
          "output_type": "display_data",
          "data": {
            "text/plain": [
              "Downloading:   0%|          | 0.00/112 [00:00<?, ?B/s]"
            ],
            "application/vnd.jupyter.widget-view+json": {
              "version_major": 2,
              "version_minor": 0,
              "model_id": "04a93c21c9864305bf9ca7dc378a0862"
            }
          },
          "metadata": {}
        },
        {
          "output_type": "display_data",
          "data": {
            "text/plain": [
              "Downloading:   0%|          | 0.00/43.0 [00:00<?, ?B/s]"
            ],
            "application/vnd.jupyter.widget-view+json": {
              "version_major": 2,
              "version_minor": 0,
              "model_id": "96ab8cbe26594b88a61705c2613e3308"
            }
          },
          "metadata": {}
        },
        {
          "output_type": "display_data",
          "data": {
            "text/plain": [
              "Downloading:   0%|          | 0.00/647 [00:00<?, ?B/s]"
            ],
            "application/vnd.jupyter.widget-view+json": {
              "version_major": 2,
              "version_minor": 0,
              "model_id": "3ae7b5de125746c88ed79818ac2395ed"
            }
          },
          "metadata": {}
        }
      ],
      "source": [
        "# Pré Treino Bert feito em Português\n",
        "PRE_TRAINED_MODEL_NAME = 'neuralmind/bert-base-portuguese-cased'\n",
        "\n",
        "tokenizer = BertTokenizer.from_pretrained(PRE_TRAINED_MODEL_NAME)"
      ]
    },
    {
      "cell_type": "markdown",
      "metadata": {
        "id": "7Qp57OGfHy4M"
      },
      "source": [
        "https://huggingface.co/neuralmind/bert-base-portuguese-cased\n",
        "\n",
        "https://github.com/neuralmind-ai/portuguese-bert"
      ]
    },
    {
      "cell_type": "markdown",
      "metadata": {
        "id": "V-oaIAX6GQd-"
      },
      "source": [
        "Vamos carregar um pré-treinado [BertTokenizer](https://huggingface.co/transformers/model_doc/bert.html#berttokenizer):"
      ]
    },
    {
      "cell_type": "markdown",
      "metadata": {
        "id": "-w0xt3vKKwMq"
      },
      "source": [
        "### Escolhendo o comprimento da sequência\n",
        "\n",
        "O BERT trabalha com sequências de comprimento fixo. Usaremos uma estratégia simples para escolher o comprimento máximo. Vamos armazenar o tamanho do token de cada avaliação:"
      ]
    },
    {
      "cell_type": "code",
      "execution_count": 13,
      "metadata": {
        "id": "UQalJqpBLrLB"
      },
      "outputs": [],
      "source": [
        "MAX_LEN = max_lenght"
      ]
    },
    {
      "cell_type": "markdown",
      "metadata": {
        "id": "dKDyNuXWL5KX"
      },
      "source": [
        "Temos todos os blocos de construção necessários para criar um conjunto de dados PyTorch. Vamos fazer isso:"
      ]
    },
    {
      "cell_type": "code",
      "execution_count": 14,
      "metadata": {
        "id": "DxQSt1sZL5kp"
      },
      "outputs": [],
      "source": [
        "class ProdutosVarejoDataset(Dataset):\n",
        "\n",
        "  def __init__(self, nm_item, targets, tokenizer, max_len):\n",
        "    self.nm_item = nm_item\n",
        "    self.targets = targets\n",
        "    self.tokenizer = tokenizer\n",
        "    self.max_len = max_len\n",
        "  \n",
        "  def __len__(self):\n",
        "    return len(self.nm_item)\n",
        "  \n",
        "  def __getitem__(self, item):\n",
        "    nm_item = str(self.nm_item[item])\n",
        "    target = self.targets[item]\n",
        "\n",
        "    encoding = self.tokenizer.encode_plus(\n",
        "      nm_item,\n",
        "      add_special_tokens=True,\n",
        "      max_length=self.max_len,\n",
        "      return_token_type_ids=False,\n",
        "      padding='max_length',\n",
        "      truncation=True,\n",
        "      return_attention_mask=True,\n",
        "      return_tensors='pt',\n",
        "    )\n",
        "\n",
        "    return {\n",
        "      'nm_item_text': nm_item,\n",
        "      'input_ids': encoding['input_ids'].flatten(),\n",
        "      'attention_mask': encoding['attention_mask'].flatten(),\n",
        "      'targets': torch.tensor(target, dtype=torch.long)\n",
        "    }"
      ]
    },
    {
      "cell_type": "markdown",
      "metadata": {
        "id": "2_w5mFC9L-i6"
      },
      "source": [
        "O tokenizer está fazendo a maior parte do trabalho pesado. Também devolvemos os textos de segmentação, para que seja mais fácil avaliar as previsões do nosso modelo. Vamos dividir os dados:"
      ]
    },
    {
      "cell_type": "code",
      "execution_count": 15,
      "metadata": {
        "id": "aLqEExhdL-_p"
      },
      "outputs": [],
      "source": [
        "df_train, df_test = train_test_split(df, test_size=0.25, random_state=RANDOM_SEED,stratify = df['nm_product_enc'])\n",
        "df_val, df_test = train_test_split(df_test, test_size=0.5, random_state=RANDOM_SEED,stratify = df_test['nm_product_enc'])"
      ]
    },
    {
      "cell_type": "code",
      "source": [
        "sns.histplot(df['nm_product'].value_counts())"
      ],
      "metadata": {
        "colab": {
          "base_uri": "https://localhost:8080/",
          "height": 524
        },
        "id": "vVJxvXPClApG",
        "outputId": "6d3d7658-e650-4cc1-ba3c-2d86851638d7"
      },
      "execution_count": 16,
      "outputs": [
        {
          "output_type": "execute_result",
          "data": {
            "text/plain": [
              "<matplotlib.axes._subplots.AxesSubplot at 0x7f2661b24110>"
            ]
          },
          "metadata": {},
          "execution_count": 16
        },
        {
          "output_type": "display_data",
          "data": {
            "text/plain": [
              "<Figure size 864x576 with 1 Axes>"
            ],
            "image/png": "[encoded data removed]"
          },
          "metadata": {
            "image/png": {
              "width": 736,
              "height": 490
            }
          }
        }
      ]
    },
    {
      "cell_type": "code",
      "source": [
        "df['nm_product'].value_counts().describe()"
      ],
      "metadata": {
        "colab": {
          "base_uri": "https://localhost:8080/"
        },
        "id": "37qfSgiSvSpn",
        "outputId": "094af17c-3ad3-46aa-f66b-c8d161579b68"
      },
      "execution_count": 17,
      "outputs": [
        {
          "output_type": "execute_result",
          "data": {
            "text/plain": [
              "count     654.000000\n",
              "mean      280.720183\n",
              "std       592.053578\n",
              "min        11.000000\n",
              "25%        78.000000\n",
              "50%       120.000000\n",
              "75%       257.750000\n",
              "max      8444.000000\n",
              "Name: nm_product, dtype: float64"
            ]
          },
          "metadata": {},
          "execution_count": 17
        }
      ]
    },
    {
      "cell_type": "code",
      "source": [
        "df_train.shape, df_val.shape, df_test.shape"
      ],
      "metadata": {
        "colab": {
          "base_uri": "https://localhost:8080/"
        },
        "id": "3bsuSN1yvlv6",
        "outputId": "d51efef1-70b2-4b40-b5bb-c77fa70f66df"
      },
      "execution_count": 18,
      "outputs": [
        {
          "output_type": "execute_result",
          "data": {
            "text/plain": [
              "((137693, 9), (22949, 9), (22949, 9))"
            ]
          },
          "metadata": {},
          "execution_count": 18
        }
      ]
    },
    {
      "cell_type": "code",
      "source": [
        "import nltk\n",
        "nltk.download('stopwords')\n",
        "\n",
        "def augment_text(df,class_threshold = 20):\n",
        "\n",
        "    new_text=[]\n",
        "\n",
        "    class_counts = df['nm_product'].value_counts()\n",
        "\n",
        "    count_class = class_counts[class_counts <= class_threshold].index\n",
        "\n",
        "    lst_stopwords = nltk.corpus.stopwords.words('portuguese') \n",
        "    aug = naw.SynonymAug(aug_min=1, aug_max=5, lang='por', stopwords=lst_stopwords)\n",
        "\n",
        "    aug_key = nac.KeyboardAug(aug_char_min = 1 , aug_char_max = 3, stopwords = lst_stopwords )\n",
        "\n",
        "    df_m = df[df['nm_product'].isin(count_class)].reset_index(drop=True)\n",
        "    \n",
        "    ## data augmentation loop\n",
        "\n",
        "    final = pd.DataFrame()\n",
        "    for i in range(0,len(df_m)):\n",
        "            z=0\n",
        "            text = df_m.iloc[i]['nm_item']\n",
        "            augmented_text = aug.augment(text,n = 10)\n",
        "            \n",
        "            augmented_text = list(set(augmented_text))\n",
        "\n",
        "            for text2 in augmented_text:\n",
        "\n",
        "                augmented_text2 = aug_key.augment(text2,n = 5)\n",
        "\n",
        "                augmented_text2 = list(set(augmented_text2))\n",
        "\n",
        "                if i%100 == 0:\n",
        "\n",
        "                    print(len(augmented_text))\n",
        "                    print(len(augmented_text2))\n",
        "                    print(i)\n",
        "\n",
        "                base = pd.DataFrame(data = augmented_text2,columns = ['nm_item'] )\n",
        "\n",
        "                base[['segmento','categoria','subcategoria','nm_product',\n",
        "                    'segmento_enc','categoria_enc','subcategoria_enc','nm_product_enc']] = df_m.iloc[i][['segmento','categoria','subcategoria','nm_product',\n",
        "                                                                                                        'segmento_enc','categoria_enc','subcategoria_enc','nm_product_enc']]\n",
        "\n",
        "                df = pd.concat([df,base],ignore_index=True)\n",
        "\n",
        "    ## dataframe\n",
        "\n",
        "    df = df.drop_duplicates('nm_item').reset_index(drop=True)\n",
        "\n",
        "    df = df.sample(frac = 1).reset_index(drop=True)\n",
        "\n",
        "    return df"
      ],
      "metadata": {
        "colab": {
          "base_uri": "https://localhost:8080/"
        },
        "id": "GUvbNPOakTdW",
        "outputId": "5f5efe8e-7fd6-4f7f-e6be-e4e2cb4aeb07"
      },
      "execution_count": 19,
      "outputs": [
        {
          "output_type": "stream",
          "name": "stderr",
          "text": [
            "[nltk_data] Downloading package stopwords to /root/nltk_data...\n",
            "[nltk_data]   Package stopwords is already up-to-date!\n"
          ]
        }
      ]
    },
    {
      "cell_type": "code",
      "execution_count": 20,
      "metadata": {
        "id": "tGSB9J8tMBIC",
        "colab": {
          "base_uri": "https://localhost:8080/"
        },
        "outputId": "466bf873-aa44-4cda-bcba-8da2a5ab62a1"
      },
      "outputs": [
        {
          "output_type": "stream",
          "name": "stderr",
          "text": [
            "[nltk_data] Downloading package wordnet to /root/nltk_data...\n",
            "[nltk_data]   Package wordnet is already up-to-date!\n",
            "[nltk_data] Downloading package omw-1.4 to /root/nltk_data...\n",
            "[nltk_data] Downloading package averaged_perceptron_tagger to\n",
            "[nltk_data]     /root/nltk_data...\n",
            "[nltk_data]   Unzipping taggers/averaged_perceptron_tagger.zip.\n"
          ]
        },
        {
          "output_type": "stream",
          "name": "stdout",
          "text": [
            "1\n",
            "5\n",
            "0\n",
            "7\n",
            "5\n",
            "100\n",
            "7\n",
            "5\n",
            "100\n",
            "7\n",
            "5\n",
            "100\n",
            "7\n",
            "5\n",
            "100\n",
            "7\n",
            "5\n",
            "100\n",
            "7\n",
            "5\n",
            "100\n",
            "7\n",
            "5\n",
            "100\n",
            "1\n",
            "5\n",
            "200\n",
            "1\n",
            "5\n",
            "300\n",
            "2\n",
            "5\n",
            "400\n",
            "2\n",
            "5\n",
            "400\n",
            "10\n",
            "5\n",
            "500\n",
            "10\n",
            "5\n",
            "500\n",
            "10\n",
            "5\n",
            "500\n",
            "10\n",
            "5\n",
            "500\n",
            "10\n",
            "5\n",
            "500\n",
            "10\n",
            "5\n",
            "500\n",
            "10\n",
            "5\n",
            "500\n",
            "10\n",
            "5\n",
            "500\n",
            "10\n",
            "5\n",
            "500\n",
            "10\n",
            "5\n",
            "500\n",
            "1\n",
            "5\n",
            "600\n",
            "1\n",
            "5\n",
            "700\n",
            "0\n"
          ]
        }
      ],
      "source": [
        "df_train2 = augment_text(df_train)\n",
        "\n",
        "print(df_train.duplicated('nm_item').sum())"
      ]
    },
    {
      "cell_type": "code",
      "source": [
        "df_train2.to_csv(os.path.join(filesave,\"train_dataset2.csv\"),sep=';',decimal=',',encoding='utf-8',\n",
        "                    index=False)"
      ],
      "metadata": {
        "id": "nY9Elp6iFI8z"
      },
      "execution_count": null,
      "outputs": []
    },
    {
      "cell_type": "code",
      "source": [
        "sns.kdeplot(df_train['nm_product'].value_counts(),color = 'red',fill=True)\n",
        "sns.kdeplot(df_train2['nm_product'].value_counts(),fill=True)\n",
        "plt.xlim(0,2000)\n",
        "plt.legend(['Before Augmentation','After Augmentation'])\n"
      ],
      "metadata": {
        "colab": {
          "base_uri": "https://localhost:8080/",
          "height": 524
        },
        "id": "nNb4bwq58mwn",
        "outputId": "176e77b2-765e-4d80-a000-4ffc3a894cf3"
      },
      "execution_count": 21,
      "outputs": [
        {
          "output_type": "execute_result",
          "data": {
            "text/plain": [
              "<matplotlib.legend.Legend at 0x7f26607e0b90>"
            ]
          },
          "metadata": {},
          "execution_count": 21
        },
        {
          "output_type": "display_data",
          "data": {
            "text/plain": [
              "<Figure size 864x576 with 1 Axes>"
            ],
            "image/png": "[encoded data removed]"
          },
          "metadata": {
            "image/png": {
              "width": 774,
              "height": 490
            }
          }
        }
      ]
    },
    {
      "cell_type": "code",
      "source": [
        "df_train2.shape, df_val.shape, df_test.shape"
      ],
      "metadata": {
        "colab": {
          "base_uri": "https://localhost:8080/"
        },
        "id": "lYa8DgLnwHny",
        "outputId": "62d77d7f-df92-47c5-8c69-fd9155e3c65c"
      },
      "execution_count": 22,
      "outputs": [
        {
          "output_type": "execute_result",
          "data": {
            "text/plain": [
              "((148927, 9), (22949, 9), (22949, 9))"
            ]
          },
          "metadata": {},
          "execution_count": 22
        }
      ]
    },
    {
      "cell_type": "code",
      "source": [
        "df_train2.isnull().sum()"
      ],
      "metadata": {
        "colab": {
          "base_uri": "https://localhost:8080/"
        },
        "id": "-sFbjmfd5RsZ",
        "outputId": "1686bae1-98f0-4706-f9d2-1929e5dae4da"
      },
      "execution_count": 23,
      "outputs": [
        {
          "output_type": "execute_result",
          "data": {
            "text/plain": [
              "nm_item             0\n",
              "segmento            0\n",
              "categoria           0\n",
              "subcategoria        0\n",
              "nm_product          0\n",
              "segmento_enc        0\n",
              "categoria_enc       0\n",
              "subcategoria_enc    0\n",
              "nm_product_enc      0\n",
              "dtype: int64"
            ]
          },
          "metadata": {},
          "execution_count": 23
        }
      ]
    },
    {
      "cell_type": "markdown",
      "metadata": {
        "id": "Tid8js2AMEzJ"
      },
      "source": [
        "Também precisamos criar alguns load dos dados. Aqui está uma função auxiliar para fazer isso:"
      ]
    },
    {
      "cell_type": "code",
      "execution_count": 24,
      "metadata": {
        "id": "ys08dkFnMFOx"
      },
      "outputs": [],
      "source": [
        "def create_data_loader(X,y, tokenizer, max_len, batch_size):\n",
        "  ds = ProdutosVarejoDataset(\n",
        "    nm_item = X.to_numpy(),\n",
        "    targets = y.to_numpy(),\n",
        "    tokenizer=tokenizer,\n",
        "    max_len=max_len\n",
        "  )\n",
        "\n",
        "  return DataLoader(\n",
        "    ds,\n",
        "    batch_size=batch_size,\n",
        "    num_workers=4\n",
        "  )"
      ]
    },
    {
      "cell_type": "markdown",
      "metadata": {
        "id": "4OhEv9k9Mca6"
      },
      "source": [
        "## Classificação de Produtos com  BERT"
      ]
    },
    {
      "cell_type": "code",
      "execution_count": 25,
      "metadata": {
        "id": "lM-0eiqhNUbN"
      },
      "outputs": [],
      "source": [
        "class ProductClassifier(nn.Module):\n",
        "\n",
        "  def __init__(self, number_classes,list_drop_out):\n",
        "\n",
        "    super(ProductClassifier, self).__init__()\n",
        "    self.bert = BertModel.from_pretrained(PRE_TRAINED_MODEL_NAME, return_dict=False)\n",
        "\n",
        "    self.drop = nn.Dropout(p= list_drop_out)\n",
        "\n",
        "    # O last_hidden_state é uma sequência de estados ocultos da última camada do modelo\n",
        "    self.out1 = nn.Linear(self.bert.config.hidden_size, number_classes[0])\n",
        "    self.out2 = nn.Linear(self.bert.config.hidden_size, number_classes[1])\n",
        "    self.out3 = nn.Linear(self.bert.config.hidden_size, number_classes[2])\n",
        "    self.out4 = nn.Linear(self.bert.config.hidden_size, number_classes[3])\n",
        "  \n",
        "  def forward(self, input_ids, attention_mask):\n",
        "\n",
        "    _, pooled_output = self.bert(\n",
        "      input_ids=input_ids,\n",
        "      attention_mask=attention_mask\n",
        "    )\n",
        "    output = self.drop(pooled_output)\n",
        "\n",
        "    return [self.out1(output),self.out2(output),self.out3(output),self.out4(output)]"
      ]
    },
    {
      "cell_type": "markdown",
      "metadata": {
        "id": "7Q8gFB-7dsYU"
      },
      "source": [
        "### Training\n",
        "\n",
        "To reproduce the training procedure from the BERT paper, we'll use the [AdamW](https://huggingface.co/transformers/main_classes/optimizer_schedules.html#adamw) optimizer provided by Hugging Face. It corrects weight decay, so it's similar to the original paper. We'll also use a linear scheduler with no warmup steps:"
      ]
    },
    {
      "cell_type": "markdown",
      "metadata": {
        "id": "GJu9X-TEd2-t"
      },
      "source": [
        "How do we come up with all hyperparameters? The BERT authors have some recommendations for fine-tuning:\n",
        "\n",
        "- Batch size: 16, 32\n",
        "- Learning rate (Adam): 5e-5, 3e-5, 2e-5\n",
        "- Number of epochs: 2, 3, 4\n",
        "\n",
        "We're going to ignore the number of epochs recommendation but stick with the rest. Note that increasing the batch size reduces the training time significantly, but gives you lower accuracy.\n",
        "\n",
        "Let's continue with writing a helper function for training our model for one epoch:"
      ]
    },
    {
      "cell_type": "code",
      "source": [
        "class FocalLoss(nn.Module):\n",
        "    \"Focal loss implemented using F.cross_entropy\"\n",
        "    def __init__(self, gamma: float = 2.0, weight=None, reduction: str = 'sum') -> None:\n",
        "        super().__init__()\n",
        "        self.gamma = gamma\n",
        "        self.weight = weight\n",
        "        self.reduction = reduction\n",
        "\n",
        "\n",
        "    def forward(self, inp: torch.Tensor, targ: torch.Tensor):\n",
        "        ce_loss = F.cross_entropy(inp, targ, weight=self.weight, reduction=\"none\")\n",
        "        p_t = torch.exp(-ce_loss)\n",
        "        loss = (1 - p_t)**self.gamma * ce_loss\n",
        "        if self.reduction == \"mean\":\n",
        "            loss = loss.mean()\n",
        "        elif self.reduction == \"sum\":\n",
        "            loss = loss.sum()\n",
        "        return loss\n"
      ],
      "metadata": {
        "id": "z5HRXDRhNpBP"
      },
      "execution_count": 26,
      "outputs": []
    },
    {
      "cell_type": "code",
      "execution_count": 27,
      "metadata": {
        "id": "tvGtIud7d1O0"
      },
      "outputs": [],
      "source": [
        "def train_epoch(\n",
        "                model, \n",
        "                data_loader, \n",
        "                loss_fn, \n",
        "                optimizer, \n",
        "                device, \n",
        "                scheduler, \n",
        "                epoch\n",
        "              ):\n",
        "\n",
        "  model = model.train()\n",
        "\n",
        "  losses = []\n",
        "  correct_predictions = 0\n",
        "\n",
        "#   final_preds1 = []\n",
        "#   final_preds2 = []\n",
        "#   final_preds3 = []\n",
        "#   final_preds4 = []\n",
        "\n",
        "#   final_preds = [[],[],[],[]]\n",
        "\n",
        "\n",
        "  targets_total = []\n",
        "\n",
        "  with tqdm(data_loader, unit=\"batch\") as tepoch:\n",
        "\n",
        "    for i,d in enumerate(tepoch):\n",
        "      \n",
        "      tepoch.set_description(f\"Epoch {epoch}\")\n",
        "\n",
        "      input_ids_ = d[\"input_ids\"].to(device)\n",
        "      attention_mask_ = d[\"attention_mask\"].to(device)\n",
        "      targets = d[\"targets\"].to(device)\n",
        "\n",
        "      optimizer.zero_grad()\n",
        "\n",
        "      outputs = model(\n",
        "        input_ids=input_ids_,\n",
        "        attention_mask=attention_mask_\n",
        "      )\n",
        "\n",
        "      loss1 = loss_fn[0](outputs[0], targets[:,0])\n",
        "      loss2 = loss_fn[1](outputs[1], targets[:,1])\n",
        "      loss3 = loss_fn[2](outputs[2], targets[:,2])\n",
        "      loss4 = loss_fn[3](outputs[3], targets[:,3])\n",
        "\n",
        "      loss = loss1 + loss2 + loss3 + loss4\n",
        "\n",
        "      losses.append(loss.item())\n",
        "\n",
        "      loss.backward()\n",
        "      nn.utils.clip_grad_norm_(model.parameters(), max_norm=1.0)\n",
        "      optimizer.step()\n",
        "      scheduler.step()\n",
        "\n",
        "    #   probs = list(map(lambda x : F.softmax(x, dim=1),outputs))\n",
        "      \n",
        "    #   final_preds = list(map(lambda x,y: x.extend(y),final_preds,probs))\n",
        "\n",
        "    #   final_preds1.extend(probs[0])\n",
        "    #   final_preds2.extend(probs[1])\n",
        "    #   final_preds3.extend(probs[2])\n",
        "    #   final_preds4.extend(probs[3])\n",
        "    #   targets_total.extend(targets)\n",
        "\n",
        "      tepoch.set_postfix(loss=loss.item(),                     \n",
        "                         )\n",
        "  return  np.mean(losses)"
      ]
    },
    {
      "cell_type": "code",
      "execution_count": 28,
      "metadata": {
        "id": "Xkg8XyzZd5to"
      },
      "outputs": [],
      "source": [
        "def eval_model(model, data_loader, loss_fn, device):\n",
        "\n",
        "  model = model.eval()\n",
        "\n",
        "  losses = []\n",
        "\n",
        "  final_preds1 = []\n",
        "  final_preds2 = []\n",
        "  final_preds3 = []\n",
        "  final_preds4 = []\n",
        "\n",
        "  targets_total = []\n",
        "\n",
        "\n",
        "#   final_preds = [[],[],[],[]]\n",
        "\n",
        "  i = 0 \n",
        "  with torch.no_grad():\n",
        "\n",
        "    for d in data_loader:\n",
        "\n",
        "      input_ids_ = d[\"input_ids\"].to(device)\n",
        "      attention_mask_ = d[\"attention_mask\"].to(device)\n",
        "      targets = d[\"targets\"].to(device)\n",
        "\n",
        "      optimizer.zero_grad()\n",
        "\n",
        "      outputs = model(\n",
        "        input_ids=input_ids_,\n",
        "        attention_mask=attention_mask_\n",
        "      )\n",
        "\n",
        "      loss1 = loss_fn[0](outputs[0], targets[:,0])\n",
        "      loss2 = loss_fn[1](outputs[1], targets[:,1])\n",
        "      loss3 = loss_fn[2](outputs[2], targets[:,2])\n",
        "      loss4 = loss_fn[3](outputs[3], targets[:,3])\n",
        "\n",
        "      loss = loss1 + loss2 + loss3 + loss4\n",
        "\n",
        "      losses.append(loss.item())\n",
        "\n",
        "      probs = list(map(lambda x : F.softmax(x, dim=1),outputs))\n",
        "      \n",
        "    #   final_preds = list(map(lambda x,y: x.extend(y),final_preds,probs))\n",
        "\n",
        "      final_preds1.extend(probs[0])\n",
        "      final_preds2.extend(probs[1])\n",
        "      final_preds3.extend(probs[2])\n",
        "      final_preds4.extend(probs[3])\n",
        "      targets_total.extend(targets)\n",
        "\n",
        "\n",
        "  final_preds1 = torch.stack(final_preds1).cpu()\n",
        "  final_preds2 = torch.stack(final_preds2).cpu()\n",
        "  final_preds3 = torch.stack(final_preds3).cpu()\n",
        "  final_preds4 = torch.stack(final_preds4).cpu()\n",
        "\n",
        "#   final_preds = list(map(lambda x: torch.stack(x).cpu(),final_preds))\n",
        "\n",
        "  final_preds = [final_preds1,final_preds2,final_preds3,final_preds4]\n",
        "\n",
        "  targets_total = torch.stack(targets_total).cpu()\n",
        "\n",
        "  metrics = {}\n",
        "\n",
        "  for i in range(4):\n",
        "\n",
        "      # metrics.update({'AUC_'+str(i):roc_auc_score(targets_total[:,i].flatten(),final_preds[i].detach(),average='macro',multi_class='ovo')})\n",
        "\n",
        "      _, best_values =  torch.max(final_preds[i],dim=1)\n",
        "\n",
        "      metrics.update({'F1_SCORE_'+str(i):f1_score(targets_total[:,i].flatten(), best_values.detach(), average='macro')})\n",
        "\n",
        "  return metrics"
      ]
    },
    {
      "cell_type": "code",
      "execution_count": null,
      "metadata": {
        "id": "FD7hwSShd-HU",
        "colab": {
          "base_uri": "https://localhost:8080/",
          "height": 260,
          "referenced_widgets": [
            "1a1bce2057bb447582cdcd4d03e715a8",
            "335f92bc256b450c85a2c7ec9b3731b9",
            "fe727137c4f542ad8e6737b76ab7c9a7",
            "62153ccd754f48c0a904c4a53718f5ff",
            "30fd4cbaf37c47cb99dbbaf0573194ba",
            "c9c2050d93834613b440c783b7fd76c7",
            "2cf68de827a24e4ca0e6e2cd07e4fe3f",
            "256cc7a911574379960d181e5ea7c34b",
            "45e9583c305f49a6bd63d4c15fb5661c",
            "35215e7027b64a4d9da15be1962de559",
            "430405f68e8944b59ae5794f32e2cc30"
          ]
        },
        "outputId": "284083f5-6686-423c-b27d-297ddf72eadf"
      },
      "outputs": [
        {
          "output_type": "display_data",
          "data": {
            "text/plain": [
              "Downloading:   0%|          | 0.00/438M [00:00<?, ?B/s]"
            ],
            "application/vnd.jupyter.widget-view+json": {
              "version_major": 2,
              "version_minor": 0,
              "model_id": "1a1bce2057bb447582cdcd4d03e715a8"
            }
          },
          "metadata": {}
        },
        {
          "output_type": "stream",
          "name": "stderr",
          "text": [
            "Some weights of the model checkpoint at neuralmind/bert-base-portuguese-cased were not used when initializing BertModel: ['cls.predictions.transform.dense.bias', 'cls.seq_relationship.bias', 'cls.predictions.transform.LayerNorm.bias', 'cls.predictions.transform.LayerNorm.weight', 'cls.predictions.transform.dense.weight', 'cls.predictions.decoder.weight', 'cls.predictions.bias', 'cls.seq_relationship.weight']\n",
            "- This IS expected if you are initializing BertModel from the checkpoint of a model trained on another task or with another architecture (e.g. initializing a BertForSequenceClassification model from a BertForPreTraining model).\n",
            "- This IS NOT expected if you are initializing BertModel from the checkpoint of a model that you expect to be exactly identical (initializing a BertForSequenceClassification model from a BertForSequenceClassification model).\n"
          ]
        },
        {
          "output_type": "stream",
          "name": "stdout",
          "text": [
            "Epoch 1/20\n",
            "----------\n"
          ]
        },
        {
          "output_type": "stream",
          "name": "stderr",
          "text": [
            "Epoch 0: 100%|██████████| 4654/4654 [16:57<00:00,  4.57batch/s, loss=53.7]"
          ]
        },
        {
          "output_type": "stream",
          "name": "stdout",
          "text": [
            "Train loss 202.36544896975371\n"
          ]
        },
        {
          "output_type": "stream",
          "name": "stderr",
          "text": [
            "\n"
          ]
        },
        {
          "output_type": "stream",
          "name": "stdout",
          "text": [
            "f1-score 0.7397257482463921\n",
            "Epoch 2/20\n",
            "----------\n"
          ]
        },
        {
          "output_type": "stream",
          "name": "stderr",
          "text": [
            "Epoch 1:  45%|████▍     | 2089/4654 [07:38<09:18,  4.59batch/s, loss=20.3]"
          ]
        }
      ],
      "source": [
        "%%time\n",
        "\n",
        "model_dict={\n",
        "            'base':{\"batch_size\":[32],\n",
        "                           \"lr_rate\":[5e-5],\n",
        "                           \"gamma1\":[2],\n",
        "                            \"gamma2\":[1,2],\n",
        "                            \"gamma3\":[1,2],\n",
        "                            \"gamma4\":[2],\n",
        "                            \"drop_out\":[0.2,0.3,0.5],\n",
        "                           \n",
        "                           },\n",
        "                            }\n",
        "\n",
        "EPOCHS = 20\n",
        "EARLY_STOP = 5\n",
        "device = torch.device(\"cuda:0\" if torch.cuda.is_available() else \"cpu\")\n",
        "\n",
        "\n",
        "# final_results = pd.read_csv(os.path.join(filesave,\"BERT_PARAMETERS_v4.csv\"),sep=';',decimal=',',encoding='utf-8')\n",
        "\n",
        "final_results = pd.DataFrame()\n",
        "\n",
        "for modelo in model_dict.keys():\n",
        "    \n",
        "    for p in itertools.product(*model_dict[modelo].values()):\n",
        "        z=0\n",
        "        parameters=dict(zip(model_dict[modelo].keys(),p))\n",
        "\n",
        "        if final_results.empty == False:\n",
        "\n",
        "            check_results = final_results[final_results['Model']==modelo].reset_index(drop=True)\n",
        "\n",
        "            if check_results.empty == False:   \n",
        "\n",
        "                if str(parameters) in check_results['parameters'].to_list() :\n",
        "                    \n",
        "                    print('rodou')\n",
        "                    continue\n",
        "\n",
        "        history = defaultdict(list)\n",
        "        best_accuracy = {'AUC':0.0,\n",
        "                         'F1_SCORE':0.0}\n",
        "\n",
        "        best_accuracy_val = 0 \n",
        "\n",
        "        count = 0\n",
        "        class_size = [df['segmento_enc'].nunique(),df['categoria_enc'].nunique(),df['subcategoria_enc'].nunique(),df['nm_product_enc'].nunique()]\n",
        "\n",
        "        BATCH_SIZE = parameters['batch_size']\n",
        "\n",
        "        train_data_loader = create_data_loader(df_train2['nm_item'],df_train2[['segmento_enc','categoria_enc','subcategoria_enc','nm_product_enc']], tokenizer, MAX_LEN, BATCH_SIZE)\n",
        "        val_data_loader = create_data_loader(df_val['nm_item'],df_val[['segmento_enc','categoria_enc','subcategoria_enc','nm_product_enc']], tokenizer, MAX_LEN, BATCH_SIZE)\n",
        "        test_data_loader = create_data_loader(df_test['nm_item'],df_test[['segmento_enc','categoria_enc','subcategoria_enc','nm_product_enc']], tokenizer, MAX_LEN, BATCH_SIZE)\n",
        "        \n",
        "\n",
        "        model = ProductClassifier(class_size,parameters['drop_out']).to(device)\n",
        "\n",
        "        optimizer = AdamW(model.parameters(), lr= parameters['lr_rate'], correct_bias=False)\n",
        "        total_steps = len(train_data_loader) * EPOCHS\n",
        "\n",
        "        scheduler = get_cosine_with_hard_restarts_schedule_with_warmup(\n",
        "        optimizer,\n",
        "        num_warmup_steps= int(total_steps*0.05),\n",
        "        num_training_steps=total_steps,\n",
        "        num_cycles = 4\n",
        "\n",
        "        )\n",
        "\n",
        "        loss_fn = [FocalLoss(gamma = parameters['gamma1']).to(device),FocalLoss(gamma = parameters['gamma2']).to(device),FocalLoss(gamma = parameters['gamma3']).to(device),FocalLoss(gamma = parameters['gamma4']).to(device)]\n",
        "\n",
        "        model = model.to(device)\n",
        "\n",
        "        for epoch in range(EPOCHS):\n",
        "\n",
        "            print(f'Epoch {epoch + 1}/{EPOCHS}')\n",
        "            print('-' * 10)\n",
        "\n",
        "            train_loss = train_epoch(\n",
        "                model,\n",
        "                train_data_loader, \n",
        "                loss_fn,\n",
        "                optimizer, \n",
        "                device,\n",
        "                scheduler,\n",
        "                epoch = epoch\n",
        "            )\n",
        "\n",
        "            print(f'Train loss {train_loss}')\n",
        "\n",
        "            metrics_val = eval_model(\n",
        "                model,\n",
        "                val_data_loader,\n",
        "                loss_fn, \n",
        "                device,\n",
        "            )\n",
        "\n",
        "        \n",
        "            F1_mean = (metrics_val['F1_SCORE_0']+metrics_val['F1_SCORE_1']+metrics_val['F1_SCORE_2']+metrics_val['F1_SCORE_3'])/4\n",
        "\n",
        "            print('f1-score {f1_score}'.format(f1_score =F1_mean))\n",
        "\n",
        "            if round(F1_mean,5) > round(best_accuracy_val,5):\n",
        "\n",
        "                torch.save(model.state_dict(), 'best_model_state.bin')\n",
        "                best_accuracy_val = F1_mean\n",
        "                best_accuracy = metrics_val\n",
        "\n",
        "                count = 0\n",
        "\n",
        "            else:\n",
        "\n",
        "                count += 1\n",
        "\n",
        "                if count >= EARLY_STOP:\n",
        "\n",
        "                    break\n",
        "\n",
        "        metrics  =  eval_model(\n",
        "                              model,\n",
        "                              test_data_loader,\n",
        "                              loss_fn, \n",
        "                              device,\n",
        "                                    )\n",
        "\n",
        "        results=pd.DataFrame([{'Model':modelo,\n",
        "                    'parameters':parameters,\n",
        "\n",
        "                    # 'AUC_VAL_SEGMENTO':best_accuracy['AUC_0'],\n",
        "                    # 'AUC_VAL_CATEGORIA':best_accuracy['AUC_1'],\n",
        "                    # 'AUC_VAL_SUBCATEGORIA':best_accuracy['AUC_2'],\n",
        "                    # 'AUC_VAL_PRODUTO':best_accuracy['AUC_3'],\n",
        "\n",
        "                    'F1_SCORE_VAL_SEGMENTO':best_accuracy['F1_SCORE_0'],\n",
        "                    'F1_SCORE_VAL_CATEGORIA':best_accuracy['F1_SCORE_1'],\n",
        "                    'F1_SCORE_VAL_SUBCATEGORIA':best_accuracy['F1_SCORE_2'],\n",
        "                    'F1_SCORE_VAL_PRODUTO':best_accuracy['F1_SCORE_3'],\n",
        "\n",
        "                    # 'AUC_TEST_SEGMENTO':metrics['AUC_0'],\n",
        "                    # 'AUC_TEST_CATEGORIA':metrics['AUC_1'],\n",
        "                    # 'AUC_TEST_SUBCATEGORIA':metrics['AUC_2'],\n",
        "                    # 'AUC_TEST_PRODUTO':metrics['AUC_3'],\n",
        "\n",
        "                    'F1_SCORE_TEST_SEGMENTO':metrics['F1_SCORE_0'],\n",
        "                    'F1_SCORE_TEST_CATEGORIA':metrics['F1_SCORE_1'],\n",
        "                    'F1_SCORE_TEST_SUBCATEGORIA':metrics['F1_SCORE_2'],\n",
        "                    'F1_SCORE_TEST_PRODUTO':metrics['F1_SCORE_3'],\n",
        "\n",
        "                    }])\n",
        "\n",
        "        final_results=final_results.append(results,ignore_index=True)\n",
        "\n",
        "        final_results.to_csv(os.path.join(filesave,\"BERT_PARAMETERS_v4.csv\"),sep=';',decimal=',',encoding='utf-8',\n",
        "                    index=False)"
      ]
    },
    {
      "cell_type": "markdown",
      "metadata": {
        "id": "Ie-jdgYtTVMl"
      },
      "source": [
        "### Evaluation\n",
        "\n",
        "Então, quão bom é o nosso modelo na previsão de Segmento? Vamos começar calculando a precisão nos dados de teste:"
      ]
    },
    {
      "cell_type": "code",
      "execution_count": null,
      "metadata": {
        "id": "VZko6upATa7I",
        "outputId": "2de64259-d53d-4d0b-9458-937dd6aafb68"
      },
      "outputs": [
        {
          "ename": "NameError",
          "evalue": "name 'test_data_loader' is not defined",
          "output_type": "error",
          "traceback": [
            "\u001b[1;31m---------------------------------------------------------------------------\u001b[0m",
            "\u001b[1;31mNameError\u001b[0m                                 Traceback (most recent call last)",
            "\u001b[1;32mc:\\Users\\Wesley\\Code\\shortText\\Short_Text_Bert.ipynb Célula: 62\u001b[0m in \u001b[0;36m<cell line: 1>\u001b[1;34m()\u001b[0m\n\u001b[0;32m      <a href='vscode-notebook-cell:/c%3A/Users/Wesley/Code/shortText/Short_Text_Bert.ipynb#Y115sZmlsZQ%3D%3D?line=0'>1</a>\u001b[0m test_acc, _ \u001b[39m=\u001b[39m eval_model(\n\u001b[0;32m      <a href='vscode-notebook-cell:/c%3A/Users/Wesley/Code/shortText/Short_Text_Bert.ipynb#Y115sZmlsZQ%3D%3D?line=1'>2</a>\u001b[0m   model,\n\u001b[1;32m----> <a href='vscode-notebook-cell:/c%3A/Users/Wesley/Code/shortText/Short_Text_Bert.ipynb#Y115sZmlsZQ%3D%3D?line=2'>3</a>\u001b[0m   test_data_loader,\n\u001b[0;32m      <a href='vscode-notebook-cell:/c%3A/Users/Wesley/Code/shortText/Short_Text_Bert.ipynb#Y115sZmlsZQ%3D%3D?line=3'>4</a>\u001b[0m   loss_fn,\n\u001b[0;32m      <a href='vscode-notebook-cell:/c%3A/Users/Wesley/Code/shortText/Short_Text_Bert.ipynb#Y115sZmlsZQ%3D%3D?line=4'>5</a>\u001b[0m   device,\n\u001b[0;32m      <a href='vscode-notebook-cell:/c%3A/Users/Wesley/Code/shortText/Short_Text_Bert.ipynb#Y115sZmlsZQ%3D%3D?line=5'>6</a>\u001b[0m   \u001b[39mlen\u001b[39m(df_test)\n\u001b[0;32m      <a href='vscode-notebook-cell:/c%3A/Users/Wesley/Code/shortText/Short_Text_Bert.ipynb#Y115sZmlsZQ%3D%3D?line=6'>7</a>\u001b[0m )\n\u001b[0;32m      <a href='vscode-notebook-cell:/c%3A/Users/Wesley/Code/shortText/Short_Text_Bert.ipynb#Y115sZmlsZQ%3D%3D?line=8'>9</a>\u001b[0m test_acc\u001b[39m.\u001b[39mitem()\n",
            "\u001b[1;31mNameError\u001b[0m: name 'test_data_loader' is not defined"
          ]
        }
      ],
      "source": [
        "test_acc, _ = eval_model(\n",
        "  model,\n",
        "  test_data_loader,\n",
        "  loss_fn,\n",
        "  device,\n",
        "  len(df_test)\n",
        ")\n",
        "\n",
        "test_acc.item()"
      ]
    },
    {
      "cell_type": "markdown",
      "metadata": {
        "id": "viRJUSeOTneC"
      },
      "source": [
        "Vamos definir uma função auxiliar para obter as previsões do nosso modelo:"
      ]
    },
    {
      "cell_type": "code",
      "execution_count": null,
      "metadata": {
        "id": "eWVt9c9yTbY2"
      },
      "outputs": [],
      "source": [
        "def get_predictions(model, data_loader):\n",
        "  model = model.eval()\n",
        "  \n",
        "  review_texts = []\n",
        "  predictions = []\n",
        "  prediction_probs = []\n",
        "  real_values = []\n",
        "\n",
        "  with torch.no_grad():\n",
        "    for d in data_loader:\n",
        "\n",
        "      texts = d[\"review_text\"]\n",
        "      input_ids = d[\"input_ids\"].to(device)\n",
        "      attention_mask = d[\"attention_mask\"].to(device)\n",
        "      targets = d[\"targets\"].to(device)\n",
        "\n",
        "      outputs = model(\n",
        "        input_ids=input_ids,\n",
        "        attention_mask=attention_mask\n",
        "      )\n",
        "      _, preds = torch.max(outputs, dim=1)\n",
        "\n",
        "      probs = F.softmax(outputs, dim=1)\n",
        "\n",
        "      review_texts.extend(texts)\n",
        "      predictions.extend(preds)\n",
        "      prediction_probs.extend(probs)\n",
        "      real_values.extend(targets)\n",
        "\n",
        "  predictions = torch.stack(predictions).cpu()\n",
        "  prediction_probs = torch.stack(prediction_probs).cpu()\n",
        "  real_values = torch.stack(real_values).cpu()\n",
        "\n",
        "  \n",
        "  return review_texts, predictions, prediction_probs, real_values"
      ]
    },
    {
      "cell_type": "code",
      "execution_count": null,
      "metadata": {
        "id": "wqDtEAAET2qD"
      },
      "outputs": [],
      "source": [
        "y_review_texts, y_pred, y_pred_probs, y_test = get_predictions(\n",
        "  model,\n",
        "  test_data_loader\n",
        ")"
      ]
    },
    {
      "cell_type": "markdown",
      "metadata": {
        "id": "D3fNSJqdT8oT"
      },
      "source": [
        "Vamos dar uma olhada no relatório de classificação\n",
        "\n"
      ]
    },
    {
      "cell_type": "code",
      "execution_count": null,
      "metadata": {
        "colab": {
          "base_uri": "https://localhost:8080/"
        },
        "id": "4nx51SfMT69t",
        "outputId": "ac92cb29-adbc-4323-d6a0-4227a46e6194"
      },
      "outputs": [
        {
          "name": "stdout",
          "output_type": "stream",
          "text": [
            "                       precision    recall  f1-score   support\n",
            "\n",
            "    1-BENS DE CONSUMO       1.00      1.00      1.00      7639\n",
            "         5-HEALTHCARE       0.97      0.88      0.92        72\n",
            "  2-CASA E CONSTRUCAO       0.91      0.93      0.92       102\n",
            "4-FASHION E ESPORTIVO       0.92      0.95      0.93        59\n",
            "       3-ELETROMOVEIS       0.95      0.91      0.93        23\n",
            "       6-PETROQUIMICA       0.80      0.73      0.76        11\n",
            "\n",
            "             accuracy                           0.99      7906\n",
            "            macro avg       0.93      0.90      0.91      7906\n",
            "         weighted avg       0.99      0.99      0.99      7906\n",
            "\n"
          ]
        }
      ],
      "source": [
        "print(classification_report(y_test, y_pred, target_names=classes))"
      ]
    },
    {
      "cell_type": "markdown",
      "metadata": {
        "id": "6XLuZqHsUAyN"
      },
      "source": [
        "\n",
        "Temos muitos poucos exmplos de Petroquimica o leva o modelo a errar bastante nesse segmento"
      ]
    },
    {
      "cell_type": "code",
      "execution_count": null,
      "metadata": {
        "colab": {
          "base_uri": "https://localhost:8080/",
          "height": 586
        },
        "id": "LISbHZAIT-it",
        "outputId": "c8fb3709-6c56-4b60-97fc-f9fb0797a876"
      },
      "outputs": [
        {
          "data": {
            "image/png": "[encoded data removed]",
            "text/plain": [
              "<Figure size 864x576 with 2 Axes>"
            ]
          },
          "metadata": {
            "image/png": {
              "height": 569,
              "width": 837
            }
          },
          "output_type": "display_data"
        }
      ],
      "source": [
        "def show_confusion_matrix(confusion_matrix):\n",
        "  hmap = sns.heatmap(confusion_matrix, annot=True, fmt=\"d\", cmap=\"Blues\")\n",
        "  hmap.yaxis.set_ticklabels(hmap.yaxis.get_ticklabels(), rotation=0, ha='right')\n",
        "  hmap.xaxis.set_ticklabels(hmap.xaxis.get_ticklabels(), rotation=30, ha='right')\n",
        "  plt.ylabel('True Segmento')\n",
        "  plt.xlabel('Predicted Segmento');\n",
        "\n",
        "cm = confusion_matrix(y_test, y_pred)\n",
        "df_cm = pd.DataFrame(cm, index=classes, columns=classes)\n",
        "show_confusion_matrix(df_cm)"
      ]
    },
    {
      "cell_type": "markdown",
      "metadata": {
        "id": "SGrauBCKUNs4"
      },
      "source": [
        "Isso confirma que nosso modelo está tendo dificuldade em classificar segmento de Petroquimica."
      ]
    },
    {
      "cell_type": "markdown",
      "metadata": {
        "id": "VKKFcZWGUtPT"
      },
      "source": [
        "## Utilizando o Modelo\n",
        "\n",
        "Vamos usar nosso modelo para prever o segmento de algum texto novo:"
      ]
    },
    {
      "cell_type": "code",
      "execution_count": null,
      "metadata": {
        "id": "Wp4rNF4zktIW"
      },
      "outputs": [],
      "source": [
        "import json\n",
        "\n",
        "# ler o json\n",
        "with open('product.json', 'r') as myfile:\n",
        "    data=myfile.read()\n",
        "produtos = json.loads(data)\n",
        "\n",
        "label_segmento = np.array(produtos['segmento'])\n",
        "label_categoria = np.array(produtos['categoria'])\n",
        "label_subcategoria = np.array(produtos['subcategoria'])\n",
        "label_produto = np.array(produtos['produto'])"
      ]
    },
    {
      "cell_type": "code",
      "execution_count": null,
      "metadata": {
        "id": "P38NVtVyktIX"
      },
      "outputs": [],
      "source": [
        "class ProductClassifier(nn.Module):\n",
        "\n",
        "  def __init__(self, n_classes):\n",
        "    super(ProductClassifier, self).__init__()\n",
        "    self.bert = BertModel.from_pretrained(PRE_TRAINED_MODEL_NAME, return_dict=False)\n",
        "    self.drop = nn.Dropout(p=0.3)\n",
        "    self.out = nn.Linear(self.bert.config.hidden_size, n_classes)\n",
        "  \n",
        "  def forward(self, input_ids, attention_mask):\n",
        "    _, pooled_output = self.bert(\n",
        "      input_ids=input_ids,\n",
        "      attention_mask=attention_mask\n",
        "    )\n",
        "    output = self.drop(pooled_output)\n",
        "    return self.out(output)\n",
        "\n",
        "# Pré Treino Bert feito em Português\n",
        "PRE_TRAINED_MODEL_NAME = 'neuralmind/bert-base-portuguese-cased'\n",
        "tokenizer = BertTokenizer.from_pretrained(PRE_TRAINED_MODEL_NAME)\n",
        "MAX_LEN = 15"
      ]
    },
    {
      "cell_type": "code",
      "execution_count": null,
      "metadata": {
        "id": "dfOGmiB0ktIX",
        "outputId": "f14ec2fa-6993-4bcb-af00-1d852e8c3bfb"
      },
      "outputs": [
        {
          "name": "stderr",
          "output_type": "stream",
          "text": [
            "Some weights of the model checkpoint at neuralmind/bert-base-portuguese-cased were not used when initializing BertModel: ['cls.predictions.transform.LayerNorm.weight', 'cls.predictions.transform.dense.weight', 'cls.seq_relationship.bias', 'cls.predictions.transform.dense.bias', 'cls.predictions.transform.LayerNorm.bias', 'cls.predictions.bias', 'cls.predictions.decoder.weight', 'cls.seq_relationship.weight']\n",
            "- This IS expected if you are initializing BertModel from the checkpoint of a model trained on another task or with another architecture (e.g. initializing a BertForSequenceClassification model from a BertForPreTraining model).\n",
            "- This IS NOT expected if you are initializing BertModel from the checkpoint of a model that you expect to be exactly identical (initializing a BertForSequenceClassification model from a BertForSequenceClassification model).\n",
            "Some weights of the model checkpoint at neuralmind/bert-base-portuguese-cased were not used when initializing BertModel: ['cls.predictions.transform.LayerNorm.weight', 'cls.predictions.transform.dense.weight', 'cls.seq_relationship.bias', 'cls.predictions.transform.dense.bias', 'cls.predictions.transform.LayerNorm.bias', 'cls.predictions.bias', 'cls.predictions.decoder.weight', 'cls.seq_relationship.weight']\n",
            "- This IS expected if you are initializing BertModel from the checkpoint of a model trained on another task or with another architecture (e.g. initializing a BertForSequenceClassification model from a BertForPreTraining model).\n",
            "- This IS NOT expected if you are initializing BertModel from the checkpoint of a model that you expect to be exactly identical (initializing a BertForSequenceClassification model from a BertForSequenceClassification model).\n",
            "Some weights of the model checkpoint at neuralmind/bert-base-portuguese-cased were not used when initializing BertModel: ['cls.predictions.transform.LayerNorm.weight', 'cls.predictions.transform.dense.weight', 'cls.seq_relationship.bias', 'cls.predictions.transform.dense.bias', 'cls.predictions.transform.LayerNorm.bias', 'cls.predictions.bias', 'cls.predictions.decoder.weight', 'cls.seq_relationship.weight']\n",
            "- This IS expected if you are initializing BertModel from the checkpoint of a model trained on another task or with another architecture (e.g. initializing a BertForSequenceClassification model from a BertForPreTraining model).\n",
            "- This IS NOT expected if you are initializing BertModel from the checkpoint of a model that you expect to be exactly identical (initializing a BertForSequenceClassification model from a BertForSequenceClassification model).\n",
            "Some weights of the model checkpoint at neuralmind/bert-base-portuguese-cased were not used when initializing BertModel: ['cls.predictions.transform.LayerNorm.weight', 'cls.predictions.transform.dense.weight', 'cls.seq_relationship.bias', 'cls.predictions.transform.dense.bias', 'cls.predictions.transform.LayerNorm.bias', 'cls.predictions.bias', 'cls.predictions.decoder.weight', 'cls.seq_relationship.weight']\n",
            "- This IS expected if you are initializing BertModel from the checkpoint of a model trained on another task or with another architecture (e.g. initializing a BertForSequenceClassification model from a BertForPreTraining model).\n",
            "- This IS NOT expected if you are initializing BertModel from the checkpoint of a model that you expect to be exactly identical (initializing a BertForSequenceClassification model from a BertForSequenceClassification model).\n"
          ]
        }
      ],
      "source": [
        "# Carregando os Modelos\n",
        "segmento_model = ProductClassifier(len(label_segmento))\n",
        "segmento_model.load_state_dict(torch.load('pesos/bert_segmento.bin'))\n",
        "segmento_model = segmento_model.to(device)\n",
        "categoria_model = ProductClassifier(len(label_categoria))\n",
        "categoria_model.load_state_dict(torch.load('pesos/bert_categoria.bin'))\n",
        "categoria_model = categoria_model.to(device)\n",
        "subcategoria_model = ProductClassifier(len(label_subcategoria))\n",
        "subcategoria_model.load_state_dict(torch.load('pesos/bert_subcategoria.bin'))\n",
        "subcategoria_model = subcategoria_model.to(device)\n",
        "produto_model = ProductClassifier(len(label_produto))\n",
        "produto_model.load_state_dict(torch.load('pesos/bert_produto.bin'))\n",
        "produto_model = produto_model.to(device)"
      ]
    },
    {
      "cell_type": "code",
      "execution_count": null,
      "metadata": {
        "id": "iXKKEXC2ktIX"
      },
      "outputs": [],
      "source": [
        "def prediction(text, model, topk):\n",
        "    text = text.upper()\n",
        "    encoded_review = tokenizer.encode_plus(\n",
        "    text,\n",
        "    max_length=MAX_LEN,\n",
        "    add_special_tokens=True,\n",
        "    return_token_type_ids=False,\n",
        "    padding='max_length',\n",
        "    truncation=True,\n",
        "    return_attention_mask=True,\n",
        "    return_tensors='pt',\n",
        "    )\n",
        "\n",
        "    input_ids = encoded_review['input_ids'].to(device)\n",
        "    attention_mask = encoded_review['attention_mask'].to(device)\n",
        "\n",
        "    output = model(input_ids, attention_mask)\n",
        "    _, prediction = torch.topk(output, topk)\n",
        "    index = prediction.cpu().data.numpy().flatten()\n",
        "\n",
        "    return index"
      ]
    },
    {
      "cell_type": "markdown",
      "metadata": {
        "id": "Y_uMQh4iU7oz"
      },
      "source": [
        "Temos que usar o tokenizer para codificar o texto:\n",
        "\n"
      ]
    },
    {
      "cell_type": "code",
      "execution_count": null,
      "metadata": {
        "colab": {
          "base_uri": "https://localhost:8080/"
        },
        "id": "qBhmfageU0KH",
        "outputId": "b1d2b53e-4c6d-4147-c22c-0b543cd99734"
      },
      "outputs": [
        {
          "name": "stdout",
          "output_type": "stream",
          "text": [
            "Segmento: ['1-BENS DE CONSUMO']\n",
            "Categoria: ['6-MERCEARIA' '5-HORTIFRUTI (FLV)' '13-DIVERSOS BAZAR E DEPARTAMENTOS']\n",
            "Subcategoria: ['15-CONDIMENTOS' '11-LEGUMES' '44-DIVERSOS BAZAR E DEPARTAMENTOS'\n",
            " '66-VEGETAL HIGIENIZADO E PROCESSADO' '166-MODA INVERNO']\n",
            "Produto: ['TEMPERO PRONTO' 'CALDO INDUSTRIALIZADO' 'BALA' 'AMENDOIM'\n",
            " 'VEGETAL HIGIENIZADO E PROCESSADO']\n"
          ]
        }
      ],
      "source": [
        "# Fazendo previsões com o modelo\n",
        "text = \"tempero\"\n",
        "segmento_pred = prediction(text, segmento_model, 1)\n",
        "print(f'Segmento: {label_segmento[segmento_pred]}')\n",
        "categoria_pred = prediction(text, categoria_model, 3)\n",
        "print(f'Categoria: {label_categoria[categoria_pred]}')\n",
        "subcategoria_pred = prediction(text, subcategoria_model, 5)\n",
        "print(f'Subcategoria: {label_subcategoria[subcategoria_pred]}')\n",
        "produto_pred = prediction(text, produto_model, 5)\n",
        "print(f'Produto: {label_produto[produto_pred]}')"
      ]
    }
  ],
  "metadata": {
    "colab": {
      "collapsed_sections": [],
      "provenance": [],
      "include_colab_link": true
    },
    "kernelspec": {
      "display_name": "Python 3.9.12 ('base')",
      "language": "python",
      "name": "python3"
    },
    "language_info": {
      "codemirror_mode": {
        "name": "ipython",
        "version": 3
      },
      "file_extension": ".py",
      "mimetype": "text/x-python",
      "name": "python",
      "nbconvert_exporter": "python",
      "pygments_lexer": "ipython3",
      "version": "3.9.12"
    },
    "vscode": {
      "interpreter": {
        "hash": "5e8c03361d51ea297a904a747262448c3ce723e881811895dfdbcc412e3247a1"
      }
    },
    "gpuClass": "standard",
    "widgets": {
      "application/vnd.jupyter.widget-state+json": {
        "efb50c108ab74ff9a74889970da39f66": {
          "model_module": "@jupyter-widgets/controls",
          "model_name": "HBoxModel",
          "model_module_version": "1.5.0",
          "state": {
            "_dom_classes": [],
            "_model_module": "@jupyter-widgets/controls",
            "_model_module_version": "1.5.0",
            "_model_name": "HBoxModel",
            "_view_count": null,
            "_view_module": "@jupyter-widgets/controls",
            "_view_module_version": "1.5.0",
            "_view_name": "HBoxView",
            "box_style": "",
            "children": [
              "IPY_MODEL_66b3c3acb8cf447fb271d996aa878343",
              "IPY_MODEL_5a3385905f37473abfe82790ec67819e",
              "IPY_MODEL_5b888140823c4bbcac875cb39e17970a"
            ],
            "layout": "IPY_MODEL_10a9c1e60f344c46954c67cfd4a794b0"
          }
        },
        "66b3c3acb8cf447fb271d996aa878343": {
          "model_module": "@jupyter-widgets/controls",
          "model_name": "HTMLModel",
          "model_module_version": "1.5.0",
          "state": {
            "_dom_classes": [],
            "_model_module": "@jupyter-widgets/controls",
            "_model_module_version": "1.5.0",
            "_model_name": "HTMLModel",
            "_view_count": null,
            "_view_module": "@jupyter-widgets/controls",
            "_view_module_version": "1.5.0",
            "_view_name": "HTMLView",
            "description": "",
            "description_tooltip": null,
            "layout": "IPY_MODEL_77328f978463484eb7609945dbc8e5c5",
            "placeholder": "​",
            "style": "IPY_MODEL_02416b1117494d44936225c39c242b6f",
            "value": "Downloading: 100%"
          }
        },
        "5a3385905f37473abfe82790ec67819e": {
          "model_module": "@jupyter-widgets/controls",
          "model_name": "FloatProgressModel",
          "model_module_version": "1.5.0",
          "state": {
            "_dom_classes": [],
            "_model_module": "@jupyter-widgets/controls",
            "_model_module_version": "1.5.0",
            "_model_name": "FloatProgressModel",
            "_view_count": null,
            "_view_module": "@jupyter-widgets/controls",
            "_view_module_version": "1.5.0",
            "_view_name": "ProgressView",
            "bar_style": "success",
            "description": "",
            "description_tooltip": null,
            "layout": "IPY_MODEL_3d0e286cd5c749cf8d52d504530f9c69",
            "max": 209528,
            "min": 0,
            "orientation": "horizontal",
            "style": "IPY_MODEL_ae027bc740e1460493c0e123a9eb2ee1",
            "value": 209528
          }
        },
        "5b888140823c4bbcac875cb39e17970a": {
          "model_module": "@jupyter-widgets/controls",
          "model_name": "HTMLModel",
          "model_module_version": "1.5.0",
          "state": {
            "_dom_classes": [],
            "_model_module": "@jupyter-widgets/controls",
            "_model_module_version": "1.5.0",
            "_model_name": "HTMLModel",
            "_view_count": null,
            "_view_module": "@jupyter-widgets/controls",
            "_view_module_version": "1.5.0",
            "_view_name": "HTMLView",
            "description": "",
            "description_tooltip": null,
            "layout": "IPY_MODEL_075d4438df7b4c4abb200e7e0b8fbc74",
            "placeholder": "​",
            "style": "IPY_MODEL_071b5d1d83d749c6bf328b669e95ab0d",
            "value": " 210k/210k [00:00&lt;00:00, 2.92MB/s]"
          }
        },
        "10a9c1e60f344c46954c67cfd4a794b0": {
          "model_module": "@jupyter-widgets/base",
          "model_name": "LayoutModel",
          "model_module_version": "1.2.0",
          "state": {
            "_model_module": "@jupyter-widgets/base",
            "_model_module_version": "1.2.0",
            "_model_name": "LayoutModel",
            "_view_count": null,
            "_view_module": "@jupyter-widgets/base",
            "_view_module_version": "1.2.0",
            "_view_name": "LayoutView",
            "align_content": null,
            "align_items": null,
            "align_self": null,
            "border": null,
            "bottom": null,
            "display": null,
            "flex": null,
            "flex_flow": null,
            "grid_area": null,
            "grid_auto_columns": null,
            "grid_auto_flow": null,
            "grid_auto_rows": null,
            "grid_column": null,
            "grid_gap": null,
            "grid_row": null,
            "grid_template_areas": null,
            "grid_template_columns": null,
            "grid_template_rows": null,
            "height": null,
            "justify_content": null,
            "justify_items": null,
            "left": null,
            "margin": null,
            "max_height": null,
            "max_width": null,
            "min_height": null,
            "min_width": null,
            "object_fit": null,
            "object_position": null,
            "order": null,
            "overflow": null,
            "overflow_x": null,
            "overflow_y": null,
            "padding": null,
            "right": null,
            "top": null,
            "visibility": null,
            "width": null
          }
        },
        "77328f978463484eb7609945dbc8e5c5": {
          "model_module": "@jupyter-widgets/base",
          "model_name": "LayoutModel",
          "model_module_version": "1.2.0",
          "state": {
            "_model_module": "@jupyter-widgets/base",
            "_model_module_version": "1.2.0",
            "_model_name": "LayoutModel",
            "_view_count": null,
            "_view_module": "@jupyter-widgets/base",
            "_view_module_version": "1.2.0",
            "_view_name": "LayoutView",
            "align_content": null,
            "align_items": null,
            "align_self": null,
            "border": null,
            "bottom": null,
            "display": null,
            "flex": null,
            "flex_flow": null,
            "grid_area": null,
            "grid_auto_columns": null,
            "grid_auto_flow": null,
            "grid_auto_rows": null,
            "grid_column": null,
            "grid_gap": null,
            "grid_row": null,
            "grid_template_areas": null,
            "grid_template_columns": null,
            "grid_template_rows": null,
            "height": null,
            "justify_content": null,
            "justify_items": null,
            "left": null,
            "margin": null,
            "max_height": null,
            "max_width": null,
            "min_height": null,
            "min_width": null,
            "object_fit": null,
            "object_position": null,
            "order": null,
            "overflow": null,
            "overflow_x": null,
            "overflow_y": null,
            "padding": null,
            "right": null,
            "top": null,
            "visibility": null,
            "width": null
          }
        },
        "02416b1117494d44936225c39c242b6f": {
          "model_module": "@jupyter-widgets/controls",
          "model_name": "DescriptionStyleModel",
          "model_module_version": "1.5.0",
          "state": {
            "_model_module": "@jupyter-widgets/controls",
            "_model_module_version": "1.5.0",
            "_model_name": "DescriptionStyleModel",
            "_view_count": null,
            "_view_module": "@jupyter-widgets/base",
            "_view_module_version": "1.2.0",
            "_view_name": "StyleView",
            "description_width": ""
          }
        },
        "3d0e286cd5c749cf8d52d504530f9c69": {
          "model_module": "@jupyter-widgets/base",
          "model_name": "LayoutModel",
          "model_module_version": "1.2.0",
          "state": {
            "_model_module": "@jupyter-widgets/base",
            "_model_module_version": "1.2.0",
            "_model_name": "LayoutModel",
            "_view_count": null,
            "_view_module": "@jupyter-widgets/base",
            "_view_module_version": "1.2.0",
            "_view_name": "LayoutView",
            "align_content": null,
            "align_items": null,
            "align_self": null,
            "border": null,
            "bottom": null,
            "display": null,
            "flex": null,
            "flex_flow": null,
            "grid_area": null,
            "grid_auto_columns": null,
            "grid_auto_flow": null,
            "grid_auto_rows": null,
            "grid_column": null,
            "grid_gap": null,
            "grid_row": null,
            "grid_template_areas": null,
            "grid_template_columns": null,
            "grid_template_rows": null,
            "height": null,
            "justify_content": null,
            "justify_items": null,
            "left": null,
            "margin": null,
            "max_height": null,
            "max_width": null,
            "min_height": null,
            "min_width": null,
            "object_fit": null,
            "object_position": null,
            "order": null,
            "overflow": null,
            "overflow_x": null,
            "overflow_y": null,
            "padding": null,
            "right": null,
            "top": null,
            "visibility": null,
            "width": null
          }
        },
        "ae027bc740e1460493c0e123a9eb2ee1": {
          "model_module": "@jupyter-widgets/controls",
          "model_name": "ProgressStyleModel",
          "model_module_version": "1.5.0",
          "state": {
            "_model_module": "@jupyter-widgets/controls",
            "_model_module_version": "1.5.0",
            "_model_name": "ProgressStyleModel",
            "_view_count": null,
            "_view_module": "@jupyter-widgets/base",
            "_view_module_version": "1.2.0",
            "_view_name": "StyleView",
            "bar_color": null,
            "description_width": ""
          }
        },
        "075d4438df7b4c4abb200e7e0b8fbc74": {
          "model_module": "@jupyter-widgets/base",
          "model_name": "LayoutModel",
          "model_module_version": "1.2.0",
          "state": {
            "_model_module": "@jupyter-widgets/base",
            "_model_module_version": "1.2.0",
            "_model_name": "LayoutModel",
            "_view_count": null,
            "_view_module": "@jupyter-widgets/base",
            "_view_module_version": "1.2.0",
            "_view_name": "LayoutView",
            "align_content": null,
            "align_items": null,
            "align_self": null,
            "border": null,
            "bottom": null,
            "display": null,
            "flex": null,
            "flex_flow": null,
            "grid_area": null,
            "grid_auto_columns": null,
            "grid_auto_flow": null,
            "grid_auto_rows": null,
            "grid_column": null,
            "grid_gap": null,
            "grid_row": null,
            "grid_template_areas": null,
            "grid_template_columns": null,
            "grid_template_rows": null,
            "height": null,
            "justify_content": null,
            "justify_items": null,
            "left": null,
            "margin": null,
            "max_height": null,
            "max_width": null,
            "min_height": null,
            "min_width": null,
            "object_fit": null,
            "object_position": null,
            "order": null,
            "overflow": null,
            "overflow_x": null,
            "overflow_y": null,
            "padding": null,
            "right": null,
            "top": null,
            "visibility": null,
            "width": null
          }
        },
        "071b5d1d83d749c6bf328b669e95ab0d": {
          "model_module": "@jupyter-widgets/controls",
          "model_name": "DescriptionStyleModel",
          "model_module_version": "1.5.0",
          "state": {
            "_model_module": "@jupyter-widgets/controls",
            "_model_module_version": "1.5.0",
            "_model_name": "DescriptionStyleModel",
            "_view_count": null,
            "_view_module": "@jupyter-widgets/base",
            "_view_module_version": "1.2.0",
            "_view_name": "StyleView",
            "description_width": ""
          }
        },
        "4220fe4ed85c412eb1956eebeb986c0f": {
          "model_module": "@jupyter-widgets/controls",
          "model_name": "HBoxModel",
          "model_module_version": "1.5.0",
          "state": {
            "_dom_classes": [],
            "_model_module": "@jupyter-widgets/controls",
            "_model_module_version": "1.5.0",
            "_model_name": "HBoxModel",
            "_view_count": null,
            "_view_module": "@jupyter-widgets/controls",
            "_view_module_version": "1.5.0",
            "_view_name": "HBoxView",
            "box_style": "",
            "children": [
              "IPY_MODEL_46a21abe0fe049bf84e23bf9b1091deb",
              "IPY_MODEL_9af7a29622054b23a187971d02731450",
              "IPY_MODEL_48f4c1e30dfb4a9fa83897c9b86a1334"
            ],
            "layout": "IPY_MODEL_edca99bb70e747bca47d4756814fb0ed"
          }
        },
        "46a21abe0fe049bf84e23bf9b1091deb": {
          "model_module": "@jupyter-widgets/controls",
          "model_name": "HTMLModel",
          "model_module_version": "1.5.0",
          "state": {
            "_dom_classes": [],
            "_model_module": "@jupyter-widgets/controls",
            "_model_module_version": "1.5.0",
            "_model_name": "HTMLModel",
            "_view_count": null,
            "_view_module": "@jupyter-widgets/controls",
            "_view_module_version": "1.5.0",
            "_view_name": "HTMLView",
            "description": "",
            "description_tooltip": null,
            "layout": "IPY_MODEL_0ea01eb4dcd940e4b87b12e124c7dc98",
            "placeholder": "​",
            "style": "IPY_MODEL_e01f1526a1fd4caca235a59a5b87e693",
            "value": "Downloading: 100%"
          }
        },
        "9af7a29622054b23a187971d02731450": {
          "model_module": "@jupyter-widgets/controls",
          "model_name": "FloatProgressModel",
          "model_module_version": "1.5.0",
          "state": {
            "_dom_classes": [],
            "_model_module": "@jupyter-widgets/controls",
            "_model_module_version": "1.5.0",
            "_model_name": "FloatProgressModel",
            "_view_count": null,
            "_view_module": "@jupyter-widgets/controls",
            "_view_module_version": "1.5.0",
            "_view_name": "ProgressView",
            "bar_style": "success",
            "description": "",
            "description_tooltip": null,
            "layout": "IPY_MODEL_b762dad653bc4732971c169162bb3873",
            "max": 2,
            "min": 0,
            "orientation": "horizontal",
            "style": "IPY_MODEL_b7f36bcc05194d4191ac86b8e2afc9fd",
            "value": 2
          }
        },
        "48f4c1e30dfb4a9fa83897c9b86a1334": {
          "model_module": "@jupyter-widgets/controls",
          "model_name": "HTMLModel",
          "model_module_version": "1.5.0",
          "state": {
            "_dom_classes": [],
            "_model_module": "@jupyter-widgets/controls",
            "_model_module_version": "1.5.0",
            "_model_name": "HTMLModel",
            "_view_count": null,
            "_view_module": "@jupyter-widgets/controls",
            "_view_module_version": "1.5.0",
            "_view_name": "HTMLView",
            "description": "",
            "description_tooltip": null,
            "layout": "IPY_MODEL_d6e5553848574b339e6a80cf14550b57",
            "placeholder": "​",
            "style": "IPY_MODEL_7efd9f4229664225925789a8f389cc32",
            "value": " 2.00/2.00 [00:00&lt;00:00, 37.9B/s]"
          }
        },
        "edca99bb70e747bca47d4756814fb0ed": {
          "model_module": "@jupyter-widgets/base",
          "model_name": "LayoutModel",
          "model_module_version": "1.2.0",
          "state": {
            "_model_module": "@jupyter-widgets/base",
            "_model_module_version": "1.2.0",
            "_model_name": "LayoutModel",
            "_view_count": null,
            "_view_module": "@jupyter-widgets/base",
            "_view_module_version": "1.2.0",
            "_view_name": "LayoutView",
            "align_content": null,
            "align_items": null,
            "align_self": null,
            "border": null,
            "bottom": null,
            "display": null,
            "flex": null,
            "flex_flow": null,
            "grid_area": null,
            "grid_auto_columns": null,
            "grid_auto_flow": null,
            "grid_auto_rows": null,
            "grid_column": null,
            "grid_gap": null,
            "grid_row": null,
            "grid_template_areas": null,
            "grid_template_columns": null,
            "grid_template_rows": null,
            "height": null,
            "justify_content": null,
            "justify_items": null,
            "left": null,
            "margin": null,
            "max_height": null,
            "max_width": null,
            "min_height": null,
            "min_width": null,
            "object_fit": null,
            "object_position": null,
            "order": null,
            "overflow": null,
            "overflow_x": null,
            "overflow_y": null,
            "padding": null,
            "right": null,
            "top": null,
            "visibility": null,
            "width": null
          }
        },
        "0ea01eb4dcd940e4b87b12e124c7dc98": {
          "model_module": "@jupyter-widgets/base",
          "model_name": "LayoutModel",
          "model_module_version": "1.2.0",
          "state": {
            "_model_module": "@jupyter-widgets/base",
            "_model_module_version": "1.2.0",
            "_model_name": "LayoutModel",
            "_view_count": null,
            "_view_module": "@jupyter-widgets/base",
            "_view_module_version": "1.2.0",
            "_view_name": "LayoutView",
            "align_content": null,
            "align_items": null,
            "align_self": null,
            "border": null,
            "bottom": null,
            "display": null,
            "flex": null,
            "flex_flow": null,
            "grid_area": null,
            "grid_auto_columns": null,
            "grid_auto_flow": null,
            "grid_auto_rows": null,
            "grid_column": null,
            "grid_gap": null,
            "grid_row": null,
            "grid_template_areas": null,
            "grid_template_columns": null,
            "grid_template_rows": null,
            "height": null,
            "justify_content": null,
            "justify_items": null,
            "left": null,
            "margin": null,
            "max_height": null,
            "max_width": null,
            "min_height": null,
            "min_width": null,
            "object_fit": null,
            "object_position": null,
            "order": null,
            "overflow": null,
            "overflow_x": null,
            "overflow_y": null,
            "padding": null,
            "right": null,
            "top": null,
            "visibility": null,
            "width": null
          }
        },
        "e01f1526a1fd4caca235a59a5b87e693": {
          "model_module": "@jupyter-widgets/controls",
          "model_name": "DescriptionStyleModel",
          "model_module_version": "1.5.0",
          "state": {
            "_model_module": "@jupyter-widgets/controls",
            "_model_module_version": "1.5.0",
            "_model_name": "DescriptionStyleModel",
            "_view_count": null,
            "_view_module": "@jupyter-widgets/base",
            "_view_module_version": "1.2.0",
            "_view_name": "StyleView",
            "description_width": ""
          }
        },
        "b762dad653bc4732971c169162bb3873": {
          "model_module": "@jupyter-widgets/base",
          "model_name": "LayoutModel",
          "model_module_version": "1.2.0",
          "state": {
            "_model_module": "@jupyter-widgets/base",
            "_model_module_version": "1.2.0",
            "_model_name": "LayoutModel",
            "_view_count": null,
            "_view_module": "@jupyter-widgets/base",
            "_view_module_version": "1.2.0",
            "_view_name": "LayoutView",
            "align_content": null,
            "align_items": null,
            "align_self": null,
            "border": null,
            "bottom": null,
            "display": null,
            "flex": null,
            "flex_flow": null,
            "grid_area": null,
            "grid_auto_columns": null,
            "grid_auto_flow": null,
            "grid_auto_rows": null,
            "grid_column": null,
            "grid_gap": null,
            "grid_row": null,
            "grid_template_areas": null,
            "grid_template_columns": null,
            "grid_template_rows": null,
            "height": null,
            "justify_content": null,
            "justify_items": null,
            "left": null,
            "margin": null,
            "max_height": null,
            "max_width": null,
            "min_height": null,
            "min_width": null,
            "object_fit": null,
            "object_position": null,
            "order": null,
            "overflow": null,
            "overflow_x": null,
            "overflow_y": null,
            "padding": null,
            "right": null,
            "top": null,
            "visibility": null,
            "width": null
          }
        },
        "b7f36bcc05194d4191ac86b8e2afc9fd": {
          "model_module": "@jupyter-widgets/controls",
          "model_name": "ProgressStyleModel",
          "model_module_version": "1.5.0",
          "state": {
            "_model_module": "@jupyter-widgets/controls",
            "_model_module_version": "1.5.0",
            "_model_name": "ProgressStyleModel",
            "_view_count": null,
            "_view_module": "@jupyter-widgets/base",
            "_view_module_version": "1.2.0",
            "_view_name": "StyleView",
            "bar_color": null,
            "description_width": ""
          }
        },
        "d6e5553848574b339e6a80cf14550b57": {
          "model_module": "@jupyter-widgets/base",
          "model_name": "LayoutModel",
          "model_module_version": "1.2.0",
          "state": {
            "_model_module": "@jupyter-widgets/base",
            "_model_module_version": "1.2.0",
            "_model_name": "LayoutModel",
            "_view_count": null,
            "_view_module": "@jupyter-widgets/base",
            "_view_module_version": "1.2.0",
            "_view_name": "LayoutView",
            "align_content": null,
            "align_items": null,
            "align_self": null,
            "border": null,
            "bottom": null,
            "display": null,
            "flex": null,
            "flex_flow": null,
            "grid_area": null,
            "grid_auto_columns": null,
            "grid_auto_flow": null,
            "grid_auto_rows": null,
            "grid_column": null,
            "grid_gap": null,
            "grid_row": null,
            "grid_template_areas": null,
            "grid_template_columns": null,
            "grid_template_rows": null,
            "height": null,
            "justify_content": null,
            "justify_items": null,
            "left": null,
            "margin": null,
            "max_height": null,
            "max_width": null,
            "min_height": null,
            "min_width": null,
            "object_fit": null,
            "object_position": null,
            "order": null,
            "overflow": null,
            "overflow_x": null,
            "overflow_y": null,
            "padding": null,
            "right": null,
            "top": null,
            "visibility": null,
            "width": null
          }
        },
        "7efd9f4229664225925789a8f389cc32": {
          "model_module": "@jupyter-widgets/controls",
          "model_name": "DescriptionStyleModel",
          "model_module_version": "1.5.0",
          "state": {
            "_model_module": "@jupyter-widgets/controls",
            "_model_module_version": "1.5.0",
            "_model_name": "DescriptionStyleModel",
            "_view_count": null,
            "_view_module": "@jupyter-widgets/base",
            "_view_module_version": "1.2.0",
            "_view_name": "StyleView",
            "description_width": ""
          }
        },
        "04a93c21c9864305bf9ca7dc378a0862": {
          "model_module": "@jupyter-widgets/controls",
          "model_name": "HBoxModel",
          "model_module_version": "1.5.0",
          "state": {
            "_dom_classes": [],
            "_model_module": "@jupyter-widgets/controls",
            "_model_module_version": "1.5.0",
            "_model_name": "HBoxModel",
            "_view_count": null,
            "_view_module": "@jupyter-widgets/controls",
            "_view_module_version": "1.5.0",
            "_view_name": "HBoxView",
            "box_style": "",
            "children": [
              "IPY_MODEL_077aabe053f244bd839b91a66cae8f12",
              "IPY_MODEL_0c5a28a9b6a3427eb30067376c9786c6",
              "IPY_MODEL_70a5472c74274b74ae4d6e7055309642"
            ],
            "layout": "IPY_MODEL_3ed76d4f5f50470983501ac70296b5e6"
          }
        },
        "077aabe053f244bd839b91a66cae8f12": {
          "model_module": "@jupyter-widgets/controls",
          "model_name": "HTMLModel",
          "model_module_version": "1.5.0",
          "state": {
            "_dom_classes": [],
            "_model_module": "@jupyter-widgets/controls",
            "_model_module_version": "1.5.0",
            "_model_name": "HTMLModel",
            "_view_count": null,
            "_view_module": "@jupyter-widgets/controls",
            "_view_module_version": "1.5.0",
            "_view_name": "HTMLView",
            "description": "",
            "description_tooltip": null,
            "layout": "IPY_MODEL_acd8be5c675044c2a4069f4e01e34da0",
            "placeholder": "​",
            "style": "IPY_MODEL_6cc81c83a3af408ab3900242e6e9020b",
            "value": "Downloading: 100%"
          }
        },
        "0c5a28a9b6a3427eb30067376c9786c6": {
          "model_module": "@jupyter-widgets/controls",
          "model_name": "FloatProgressModel",
          "model_module_version": "1.5.0",
          "state": {
            "_dom_classes": [],
            "_model_module": "@jupyter-widgets/controls",
            "_model_module_version": "1.5.0",
            "_model_name": "FloatProgressModel",
            "_view_count": null,
            "_view_module": "@jupyter-widgets/controls",
            "_view_module_version": "1.5.0",
            "_view_name": "ProgressView",
            "bar_style": "success",
            "description": "",
            "description_tooltip": null,
            "layout": "IPY_MODEL_438ef9922ec240ffb039256bae40cb57",
            "max": 112,
            "min": 0,
            "orientation": "horizontal",
            "style": "IPY_MODEL_253e3826059748079990bdc0c3e2da86",
            "value": 112
          }
        },
        "70a5472c74274b74ae4d6e7055309642": {
          "model_module": "@jupyter-widgets/controls",
          "model_name": "HTMLModel",
          "model_module_version": "1.5.0",
          "state": {
            "_dom_classes": [],
            "_model_module": "@jupyter-widgets/controls",
            "_model_module_version": "1.5.0",
            "_model_name": "HTMLModel",
            "_view_count": null,
            "_view_module": "@jupyter-widgets/controls",
            "_view_module_version": "1.5.0",
            "_view_name": "HTMLView",
            "description": "",
            "description_tooltip": null,
            "layout": "IPY_MODEL_d943d09c3bea47569268ae13aa84996e",
            "placeholder": "​",
            "style": "IPY_MODEL_dc209b36c42b4b0fb85db26c6f0c1651",
            "value": " 112/112 [00:00&lt;00:00, 1.94kB/s]"
          }
        },
        "3ed76d4f5f50470983501ac70296b5e6": {
          "model_module": "@jupyter-widgets/base",
          "model_name": "LayoutModel",
          "model_module_version": "1.2.0",
          "state": {
            "_model_module": "@jupyter-widgets/base",
            "_model_module_version": "1.2.0",
            "_model_name": "LayoutModel",
            "_view_count": null,
            "_view_module": "@jupyter-widgets/base",
            "_view_module_version": "1.2.0",
            "_view_name": "LayoutView",
            "align_content": null,
            "align_items": null,
            "align_self": null,
            "border": null,
            "bottom": null,
            "display": null,
            "flex": null,
            "flex_flow": null,
            "grid_area": null,
            "grid_auto_columns": null,
            "grid_auto_flow": null,
            "grid_auto_rows": null,
            "grid_column": null,
            "grid_gap": null,
            "grid_row": null,
            "grid_template_areas": null,
            "grid_template_columns": null,
            "grid_template_rows": null,
            "height": null,
            "justify_content": null,
            "justify_items": null,
            "left": null,
            "margin": null,
            "max_height": null,
            "max_width": null,
            "min_height": null,
            "min_width": null,
            "object_fit": null,
            "object_position": null,
            "order": null,
            "overflow": null,
            "overflow_x": null,
            "overflow_y": null,
            "padding": null,
            "right": null,
            "top": null,
            "visibility": null,
            "width": null
          }
        },
        "acd8be5c675044c2a4069f4e01e34da0": {
          "model_module": "@jupyter-widgets/base",
          "model_name": "LayoutModel",
          "model_module_version": "1.2.0",
          "state": {
            "_model_module": "@jupyter-widgets/base",
            "_model_module_version": "1.2.0",
            "_model_name": "LayoutModel",
            "_view_count": null,
            "_view_module": "@jupyter-widgets/base",
            "_view_module_version": "1.2.0",
            "_view_name": "LayoutView",
            "align_content": null,
            "align_items": null,
            "align_self": null,
            "border": null,
            "bottom": null,
            "display": null,
            "flex": null,
            "flex_flow": null,
            "grid_area": null,
            "grid_auto_columns": null,
            "grid_auto_flow": null,
            "grid_auto_rows": null,
            "grid_column": null,
            "grid_gap": null,
            "grid_row": null,
            "grid_template_areas": null,
            "grid_template_columns": null,
            "grid_template_rows": null,
            "height": null,
            "justify_content": null,
            "justify_items": null,
            "left": null,
            "margin": null,
            "max_height": null,
            "max_width": null,
            "min_height": null,
            "min_width": null,
            "object_fit": null,
            "object_position": null,
            "order": null,
            "overflow": null,
            "overflow_x": null,
            "overflow_y": null,
            "padding": null,
            "right": null,
            "top": null,
            "visibility": null,
            "width": null
          }
        },
        "6cc81c83a3af408ab3900242e6e9020b": {
          "model_module": "@jupyter-widgets/controls",
          "model_name": "DescriptionStyleModel",
          "model_module_version": "1.5.0",
          "state": {
            "_model_module": "@jupyter-widgets/controls",
            "_model_module_version": "1.5.0",
            "_model_name": "DescriptionStyleModel",
            "_view_count": null,
            "_view_module": "@jupyter-widgets/base",
            "_view_module_version": "1.2.0",
            "_view_name": "StyleView",
            "description_width": ""
          }
        },
        "438ef9922ec240ffb039256bae40cb57": {
          "model_module": "@jupyter-widgets/base",
          "model_name": "LayoutModel",
          "model_module_version": "1.2.0",
          "state": {
            "_model_module": "@jupyter-widgets/base",
            "_model_module_version": "1.2.0",
            "_model_name": "LayoutModel",
            "_view_count": null,
            "_view_module": "@jupyter-widgets/base",
            "_view_module_version": "1.2.0",
            "_view_name": "LayoutView",
            "align_content": null,
            "align_items": null,
            "align_self": null,
            "border": null,
            "bottom": null,
            "display": null,
            "flex": null,
            "flex_flow": null,
            "grid_area": null,
            "grid_auto_columns": null,
            "grid_auto_flow": null,
            "grid_auto_rows": null,
            "grid_column": null,
            "grid_gap": null,
            "grid_row": null,
            "grid_template_areas": null,
            "grid_template_columns": null,
            "grid_template_rows": null,
            "height": null,
            "justify_content": null,
            "justify_items": null,
            "left": null,
            "margin": null,
            "max_height": null,
            "max_width": null,
            "min_height": null,
            "min_width": null,
            "object_fit": null,
            "object_position": null,
            "order": null,
            "overflow": null,
            "overflow_x": null,
            "overflow_y": null,
            "padding": null,
            "right": null,
            "top": null,
            "visibility": null,
            "width": null
          }
        },
        "253e3826059748079990bdc0c3e2da86": {
          "model_module": "@jupyter-widgets/controls",
          "model_name": "ProgressStyleModel",
          "model_module_version": "1.5.0",
          "state": {
            "_model_module": "@jupyter-widgets/controls",
            "_model_module_version": "1.5.0",
            "_model_name": "ProgressStyleModel",
            "_view_count": null,
            "_view_module": "@jupyter-widgets/base",
            "_view_module_version": "1.2.0",
            "_view_name": "StyleView",
            "bar_color": null,
            "description_width": ""
          }
        },
        "d943d09c3bea47569268ae13aa84996e": {
          "model_module": "@jupyter-widgets/base",
          "model_name": "LayoutModel",
          "model_module_version": "1.2.0",
          "state": {
            "_model_module": "@jupyter-widgets/base",
            "_model_module_version": "1.2.0",
            "_model_name": "LayoutModel",
            "_view_count": null,
            "_view_module": "@jupyter-widgets/base",
            "_view_module_version": "1.2.0",
            "_view_name": "LayoutView",
            "align_content": null,
            "align_items": null,
            "align_self": null,
            "border": null,
            "bottom": null,
            "display": null,
            "flex": null,
            "flex_flow": null,
            "grid_area": null,
            "grid_auto_columns": null,
            "grid_auto_flow": null,
            "grid_auto_rows": null,
            "grid_column": null,
            "grid_gap": null,
            "grid_row": null,
            "grid_template_areas": null,
            "grid_template_columns": null,
            "grid_template_rows": null,
            "height": null,
            "justify_content": null,
            "justify_items": null,
            "left": null,
            "margin": null,
            "max_height": null,
            "max_width": null,
            "min_height": null,
            "min_width": null,
            "object_fit": null,
            "object_position": null,
            "order": null,
            "overflow": null,
            "overflow_x": null,
            "overflow_y": null,
            "padding": null,
            "right": null,
            "top": null,
            "visibility": null,
            "width": null
          }
        },
        "dc209b36c42b4b0fb85db26c6f0c1651": {
          "model_module": "@jupyter-widgets/controls",
          "model_name": "DescriptionStyleModel",
          "model_module_version": "1.5.0",
          "state": {
            "_model_module": "@jupyter-widgets/controls",
            "_model_module_version": "1.5.0",
            "_model_name": "DescriptionStyleModel",
            "_view_count": null,
            "_view_module": "@jupyter-widgets/base",
            "_view_module_version": "1.2.0",
            "_view_name": "StyleView",
            "description_width": ""
          }
        },
        "96ab8cbe26594b88a61705c2613e3308": {
          "model_module": "@jupyter-widgets/controls",
          "model_name": "HBoxModel",
          "model_module_version": "1.5.0",
          "state": {
            "_dom_classes": [],
            "_model_module": "@jupyter-widgets/controls",
            "_model_module_version": "1.5.0",
            "_model_name": "HBoxModel",
            "_view_count": null,
            "_view_module": "@jupyter-widgets/controls",
            "_view_module_version": "1.5.0",
            "_view_name": "HBoxView",
            "box_style": "",
            "children": [
              "IPY_MODEL_96a15c39d724467385158ee2b8ecc546",
              "IPY_MODEL_9d77ba9470a141c0852948df1fd43559",
              "IPY_MODEL_fb62d83c82aa448785faf936464e7066"
            ],
            "layout": "IPY_MODEL_f149429de9014ae89d864c269a6e6aa6"
          }
        },
        "96a15c39d724467385158ee2b8ecc546": {
          "model_module": "@jupyter-widgets/controls",
          "model_name": "HTMLModel",
          "model_module_version": "1.5.0",
          "state": {
            "_dom_classes": [],
            "_model_module": "@jupyter-widgets/controls",
            "_model_module_version": "1.5.0",
            "_model_name": "HTMLModel",
            "_view_count": null,
            "_view_module": "@jupyter-widgets/controls",
            "_view_module_version": "1.5.0",
            "_view_name": "HTMLView",
            "description": "",
            "description_tooltip": null,
            "layout": "IPY_MODEL_d9b89ea940b64019a628bd4854ea29c9",
            "placeholder": "​",
            "style": "IPY_MODEL_5e865ea8bd35423cbaecac2c734fb72a",
            "value": "Downloading: 100%"
          }
        },
        "9d77ba9470a141c0852948df1fd43559": {
          "model_module": "@jupyter-widgets/controls",
          "model_name": "FloatProgressModel",
          "model_module_version": "1.5.0",
          "state": {
            "_dom_classes": [],
            "_model_module": "@jupyter-widgets/controls",
            "_model_module_version": "1.5.0",
            "_model_name": "FloatProgressModel",
            "_view_count": null,
            "_view_module": "@jupyter-widgets/controls",
            "_view_module_version": "1.5.0",
            "_view_name": "ProgressView",
            "bar_style": "success",
            "description": "",
            "description_tooltip": null,
            "layout": "IPY_MODEL_2c167544c29f4871a22d6ecd82b48560",
            "max": 43,
            "min": 0,
            "orientation": "horizontal",
            "style": "IPY_MODEL_a3ee5c6d383f4d83b86d89a7dfbeb73a",
            "value": 43
          }
        },
        "fb62d83c82aa448785faf936464e7066": {
          "model_module": "@jupyter-widgets/controls",
          "model_name": "HTMLModel",
          "model_module_version": "1.5.0",
          "state": {
            "_dom_classes": [],
            "_model_module": "@jupyter-widgets/controls",
            "_model_module_version": "1.5.0",
            "_model_name": "HTMLModel",
            "_view_count": null,
            "_view_module": "@jupyter-widgets/controls",
            "_view_module_version": "1.5.0",
            "_view_name": "HTMLView",
            "description": "",
            "description_tooltip": null,
            "layout": "IPY_MODEL_86a50c7911784dd2b37718c339369545",
            "placeholder": "​",
            "style": "IPY_MODEL_7e912d81646b4e08af2806b5e0e3adc2",
            "value": " 43.0/43.0 [00:00&lt;00:00, 892B/s]"
          }
        },
        "f149429de9014ae89d864c269a6e6aa6": {
          "model_module": "@jupyter-widgets/base",
          "model_name": "LayoutModel",
          "model_module_version": "1.2.0",
          "state": {
            "_model_module": "@jupyter-widgets/base",
            "_model_module_version": "1.2.0",
            "_model_name": "LayoutModel",
            "_view_count": null,
            "_view_module": "@jupyter-widgets/base",
            "_view_module_version": "1.2.0",
            "_view_name": "LayoutView",
            "align_content": null,
            "align_items": null,
            "align_self": null,
            "border": null,
            "bottom": null,
            "display": null,
            "flex": null,
            "flex_flow": null,
            "grid_area": null,
            "grid_auto_columns": null,
            "grid_auto_flow": null,
            "grid_auto_rows": null,
            "grid_column": null,
            "grid_gap": null,
            "grid_row": null,
            "grid_template_areas": null,
            "grid_template_columns": null,
            "grid_template_rows": null,
            "height": null,
            "justify_content": null,
            "justify_items": null,
            "left": null,
            "margin": null,
            "max_height": null,
            "max_width": null,
            "min_height": null,
            "min_width": null,
            "object_fit": null,
            "object_position": null,
            "order": null,
            "overflow": null,
            "overflow_x": null,
            "overflow_y": null,
            "padding": null,
            "right": null,
            "top": null,
            "visibility": null,
            "width": null
          }
        },
        "d9b89ea940b64019a628bd4854ea29c9": {
          "model_module": "@jupyter-widgets/base",
          "model_name": "LayoutModel",
          "model_module_version": "1.2.0",
          "state": {
            "_model_module": "@jupyter-widgets/base",
            "_model_module_version": "1.2.0",
            "_model_name": "LayoutModel",
            "_view_count": null,
            "_view_module": "@jupyter-widgets/base",
            "_view_module_version": "1.2.0",
            "_view_name": "LayoutView",
            "align_content": null,
            "align_items": null,
            "align_self": null,
            "border": null,
            "bottom": null,
            "display": null,
            "flex": null,
            "flex_flow": null,
            "grid_area": null,
            "grid_auto_columns": null,
            "grid_auto_flow": null,
            "grid_auto_rows": null,
            "grid_column": null,
            "grid_gap": null,
            "grid_row": null,
            "grid_template_areas": null,
            "grid_template_columns": null,
            "grid_template_rows": null,
            "height": null,
            "justify_content": null,
            "justify_items": null,
            "left": null,
            "margin": null,
            "max_height": null,
            "max_width": null,
            "min_height": null,
            "min_width": null,
            "object_fit": null,
            "object_position": null,
            "order": null,
            "overflow": null,
            "overflow_x": null,
            "overflow_y": null,
            "padding": null,
            "right": null,
            "top": null,
            "visibility": null,
            "width": null
          }
        },
        "5e865ea8bd35423cbaecac2c734fb72a": {
          "model_module": "@jupyter-widgets/controls",
          "model_name": "DescriptionStyleModel",
          "model_module_version": "1.5.0",
          "state": {
            "_model_module": "@jupyter-widgets/controls",
            "_model_module_version": "1.5.0",
            "_model_name": "DescriptionStyleModel",
            "_view_count": null,
            "_view_module": "@jupyter-widgets/base",
            "_view_module_version": "1.2.0",
            "_view_name": "StyleView",
            "description_width": ""
          }
        },
        "2c167544c29f4871a22d6ecd82b48560": {
          "model_module": "@jupyter-widgets/base",
          "model_name": "LayoutModel",
          "model_module_version": "1.2.0",
          "state": {
            "_model_module": "@jupyter-widgets/base",
            "_model_module_version": "1.2.0",
            "_model_name": "LayoutModel",
            "_view_count": null,
            "_view_module": "@jupyter-widgets/base",
            "_view_module_version": "1.2.0",
            "_view_name": "LayoutView",
            "align_content": null,
            "align_items": null,
            "align_self": null,
            "border": null,
            "bottom": null,
            "display": null,
            "flex": null,
            "flex_flow": null,
            "grid_area": null,
            "grid_auto_columns": null,
            "grid_auto_flow": null,
            "grid_auto_rows": null,
            "grid_column": null,
            "grid_gap": null,
            "grid_row": null,
            "grid_template_areas": null,
            "grid_template_columns": null,
            "grid_template_rows": null,
            "height": null,
            "justify_content": null,
            "justify_items": null,
            "left": null,
            "margin": null,
            "max_height": null,
            "max_width": null,
            "min_height": null,
            "min_width": null,
            "object_fit": null,
            "object_position": null,
            "order": null,
            "overflow": null,
            "overflow_x": null,
            "overflow_y": null,
            "padding": null,
            "right": null,
            "top": null,
            "visibility": null,
            "width": null
          }
        },
        "a3ee5c6d383f4d83b86d89a7dfbeb73a": {
          "model_module": "@jupyter-widgets/controls",
          "model_name": "ProgressStyleModel",
          "model_module_version": "1.5.0",
          "state": {
            "_model_module": "@jupyter-widgets/controls",
            "_model_module_version": "1.5.0",
            "_model_name": "ProgressStyleModel",
            "_view_count": null,
            "_view_module": "@jupyter-widgets/base",
            "_view_module_version": "1.2.0",
            "_view_name": "StyleView",
            "bar_color": null,
            "description_width": ""
          }
        },
        "86a50c7911784dd2b37718c339369545": {
          "model_module": "@jupyter-widgets/base",
          "model_name": "LayoutModel",
          "model_module_version": "1.2.0",
          "state": {
            "_model_module": "@jupyter-widgets/base",
            "_model_module_version": "1.2.0",
            "_model_name": "LayoutModel",
            "_view_count": null,
            "_view_module": "@jupyter-widgets/base",
            "_view_module_version": "1.2.0",
            "_view_name": "LayoutView",
            "align_content": null,
            "align_items": null,
            "align_self": null,
            "border": null,
            "bottom": null,
            "display": null,
            "flex": null,
            "flex_flow": null,
            "grid_area": null,
            "grid_auto_columns": null,
            "grid_auto_flow": null,
            "grid_auto_rows": null,
            "grid_column": null,
            "grid_gap": null,
            "grid_row": null,
            "grid_template_areas": null,
            "grid_template_columns": null,
            "grid_template_rows": null,
            "height": null,
            "justify_content": null,
            "justify_items": null,
            "left": null,
            "margin": null,
            "max_height": null,
            "max_width": null,
            "min_height": null,
            "min_width": null,
            "object_fit": null,
            "object_position": null,
            "order": null,
            "overflow": null,
            "overflow_x": null,
            "overflow_y": null,
            "padding": null,
            "right": null,
            "top": null,
            "visibility": null,
            "width": null
          }
        },
        "7e912d81646b4e08af2806b5e0e3adc2": {
          "model_module": "@jupyter-widgets/controls",
          "model_name": "DescriptionStyleModel",
          "model_module_version": "1.5.0",
          "state": {
            "_model_module": "@jupyter-widgets/controls",
            "_model_module_version": "1.5.0",
            "_model_name": "DescriptionStyleModel",
            "_view_count": null,
            "_view_module": "@jupyter-widgets/base",
            "_view_module_version": "1.2.0",
            "_view_name": "StyleView",
            "description_width": ""
          }
        },
        "3ae7b5de125746c88ed79818ac2395ed": {
          "model_module": "@jupyter-widgets/controls",
          "model_name": "HBoxModel",
          "model_module_version": "1.5.0",
          "state": {
            "_dom_classes": [],
            "_model_module": "@jupyter-widgets/controls",
            "_model_module_version": "1.5.0",
            "_model_name": "HBoxModel",
            "_view_count": null,
            "_view_module": "@jupyter-widgets/controls",
            "_view_module_version": "1.5.0",
            "_view_name": "HBoxView",
            "box_style": "",
            "children": [
              "IPY_MODEL_e1642a4ff28f417691e046a84fe96f27",
              "IPY_MODEL_3bc57b01f6894759a7b119e8de95d396",
              "IPY_MODEL_7188a22e9a7345d0993f55c2006ed272"
            ],
            "layout": "IPY_MODEL_3de5b833ba914a42bccbb275f6d41fef"
          }
        },
        "e1642a4ff28f417691e046a84fe96f27": {
          "model_module": "@jupyter-widgets/controls",
          "model_name": "HTMLModel",
          "model_module_version": "1.5.0",
          "state": {
            "_dom_classes": [],
            "_model_module": "@jupyter-widgets/controls",
            "_model_module_version": "1.5.0",
            "_model_name": "HTMLModel",
            "_view_count": null,
            "_view_module": "@jupyter-widgets/controls",
            "_view_module_version": "1.5.0",
            "_view_name": "HTMLView",
            "description": "",
            "description_tooltip": null,
            "layout": "IPY_MODEL_badee4c7e38548a58079a96c967e66d9",
            "placeholder": "​",
            "style": "IPY_MODEL_5e4dbfa4180c4b13ad281c8538fad489",
            "value": "Downloading: 100%"
          }
        },
        "3bc57b01f6894759a7b119e8de95d396": {
          "model_module": "@jupyter-widgets/controls",
          "model_name": "FloatProgressModel",
          "model_module_version": "1.5.0",
          "state": {
            "_dom_classes": [],
            "_model_module": "@jupyter-widgets/controls",
            "_model_module_version": "1.5.0",
            "_model_name": "FloatProgressModel",
            "_view_count": null,
            "_view_module": "@jupyter-widgets/controls",
            "_view_module_version": "1.5.0",
            "_view_name": "ProgressView",
            "bar_style": "success",
            "description": "",
            "description_tooltip": null,
            "layout": "IPY_MODEL_19c523ec67a14b929f92e7f59daf7955",
            "max": 647,
            "min": 0,
            "orientation": "horizontal",
            "style": "IPY_MODEL_310193864b3d4706867449ca24d6e502",
            "value": 647
          }
        },
        "7188a22e9a7345d0993f55c2006ed272": {
          "model_module": "@jupyter-widgets/controls",
          "model_name": "HTMLModel",
          "model_module_version": "1.5.0",
          "state": {
            "_dom_classes": [],
            "_model_module": "@jupyter-widgets/controls",
            "_model_module_version": "1.5.0",
            "_model_name": "HTMLModel",
            "_view_count": null,
            "_view_module": "@jupyter-widgets/controls",
            "_view_module_version": "1.5.0",
            "_view_name": "HTMLView",
            "description": "",
            "description_tooltip": null,
            "layout": "IPY_MODEL_89bc4b9cc12f4be5be132295a92a5f12",
            "placeholder": "​",
            "style": "IPY_MODEL_6a0044db37f4464cb57544814a9f65c4",
            "value": " 647/647 [00:00&lt;00:00, 3.52kB/s]"
          }
        },
        "3de5b833ba914a42bccbb275f6d41fef": {
          "model_module": "@jupyter-widgets/base",
          "model_name": "LayoutModel",
          "model_module_version": "1.2.0",
          "state": {
            "_model_module": "@jupyter-widgets/base",
            "_model_module_version": "1.2.0",
            "_model_name": "LayoutModel",
            "_view_count": null,
            "_view_module": "@jupyter-widgets/base",
            "_view_module_version": "1.2.0",
            "_view_name": "LayoutView",
            "align_content": null,
            "align_items": null,
            "align_self": null,
            "border": null,
            "bottom": null,
            "display": null,
            "flex": null,
            "flex_flow": null,
            "grid_area": null,
            "grid_auto_columns": null,
            "grid_auto_flow": null,
            "grid_auto_rows": null,
            "grid_column": null,
            "grid_gap": null,
            "grid_row": null,
            "grid_template_areas": null,
            "grid_template_columns": null,
            "grid_template_rows": null,
            "height": null,
            "justify_content": null,
            "justify_items": null,
            "left": null,
            "margin": null,
            "max_height": null,
            "max_width": null,
            "min_height": null,
            "min_width": null,
            "object_fit": null,
            "object_position": null,
            "order": null,
            "overflow": null,
            "overflow_x": null,
            "overflow_y": null,
            "padding": null,
            "right": null,
            "top": null,
            "visibility": null,
            "width": null
          }
        },
        "badee4c7e38548a58079a96c967e66d9": {
          "model_module": "@jupyter-widgets/base",
          "model_name": "LayoutModel",
          "model_module_version": "1.2.0",
          "state": {
            "_model_module": "@jupyter-widgets/base",
            "_model_module_version": "1.2.0",
            "_model_name": "LayoutModel",
            "_view_count": null,
            "_view_module": "@jupyter-widgets/base",
            "_view_module_version": "1.2.0",
            "_view_name": "LayoutView",
            "align_content": null,
            "align_items": null,
            "align_self": null,
            "border": null,
            "bottom": null,
            "display": null,
            "flex": null,
            "flex_flow": null,
            "grid_area": null,
            "grid_auto_columns": null,
            "grid_auto_flow": null,
            "grid_auto_rows": null,
            "grid_column": null,
            "grid_gap": null,
            "grid_row": null,
            "grid_template_areas": null,
            "grid_template_columns": null,
            "grid_template_rows": null,
            "height": null,
            "justify_content": null,
            "justify_items": null,
            "left": null,
            "margin": null,
            "max_height": null,
            "max_width": null,
            "min_height": null,
            "min_width": null,
            "object_fit": null,
            "object_position": null,
            "order": null,
            "overflow": null,
            "overflow_x": null,
            "overflow_y": null,
            "padding": null,
            "right": null,
            "top": null,
            "visibility": null,
            "width": null
          }
        },
        "5e4dbfa4180c4b13ad281c8538fad489": {
          "model_module": "@jupyter-widgets/controls",
          "model_name": "DescriptionStyleModel",
          "model_module_version": "1.5.0",
          "state": {
            "_model_module": "@jupyter-widgets/controls",
            "_model_module_version": "1.5.0",
            "_model_name": "DescriptionStyleModel",
            "_view_count": null,
            "_view_module": "@jupyter-widgets/base",
            "_view_module_version": "1.2.0",
            "_view_name": "StyleView",
            "description_width": ""
          }
        },
        "19c523ec67a14b929f92e7f59daf7955": {
          "model_module": "@jupyter-widgets/base",
          "model_name": "LayoutModel",
          "model_module_version": "1.2.0",
          "state": {
            "_model_module": "@jupyter-widgets/base",
            "_model_module_version": "1.2.0",
            "_model_name": "LayoutModel",
            "_view_count": null,
            "_view_module": "@jupyter-widgets/base",
            "_view_module_version": "1.2.0",
            "_view_name": "LayoutView",
            "align_content": null,
            "align_items": null,
            "align_self": null,
            "border": null,
            "bottom": null,
            "display": null,
            "flex": null,
            "flex_flow": null,
            "grid_area": null,
            "grid_auto_columns": null,
            "grid_auto_flow": null,
            "grid_auto_rows": null,
            "grid_column": null,
            "grid_gap": null,
            "grid_row": null,
            "grid_template_areas": null,
            "grid_template_columns": null,
            "grid_template_rows": null,
            "height": null,
            "justify_content": null,
            "justify_items": null,
            "left": null,
            "margin": null,
            "max_height": null,
            "max_width": null,
            "min_height": null,
            "min_width": null,
            "object_fit": null,
            "object_position": null,
            "order": null,
            "overflow": null,
            "overflow_x": null,
            "overflow_y": null,
            "padding": null,
            "right": null,
            "top": null,
            "visibility": null,
            "width": null
          }
        },
        "310193864b3d4706867449ca24d6e502": {
          "model_module": "@jupyter-widgets/controls",
          "model_name": "ProgressStyleModel",
          "model_module_version": "1.5.0",
          "state": {
            "_model_module": "@jupyter-widgets/controls",
            "_model_module_version": "1.5.0",
            "_model_name": "ProgressStyleModel",
            "_view_count": null,
            "_view_module": "@jupyter-widgets/base",
            "_view_module_version": "1.2.0",
            "_view_name": "StyleView",
            "bar_color": null,
            "description_width": ""
          }
        },
        "89bc4b9cc12f4be5be132295a92a5f12": {
          "model_module": "@jupyter-widgets/base",
          "model_name": "LayoutModel",
          "model_module_version": "1.2.0",
          "state": {
            "_model_module": "@jupyter-widgets/base",
            "_model_module_version": "1.2.0",
            "_model_name": "LayoutModel",
            "_view_count": null,
            "_view_module": "@jupyter-widgets/base",
            "_view_module_version": "1.2.0",
            "_view_name": "LayoutView",
            "align_content": null,
            "align_items": null,
            "align_self": null,
            "border": null,
            "bottom": null,
            "display": null,
            "flex": null,
            "flex_flow": null,
            "grid_area": null,
            "grid_auto_columns": null,
            "grid_auto_flow": null,
            "grid_auto_rows": null,
            "grid_column": null,
            "grid_gap": null,
            "grid_row": null,
            "grid_template_areas": null,
            "grid_template_columns": null,
            "grid_template_rows": null,
            "height": null,
            "justify_content": null,
            "justify_items": null,
            "left": null,
            "margin": null,
            "max_height": null,
            "max_width": null,
            "min_height": null,
            "min_width": null,
            "object_fit": null,
            "object_position": null,
            "order": null,
            "overflow": null,
            "overflow_x": null,
            "overflow_y": null,
            "padding": null,
            "right": null,
            "top": null,
            "visibility": null,
            "width": null
          }
        },
        "6a0044db37f4464cb57544814a9f65c4": {
          "model_module": "@jupyter-widgets/controls",
          "model_name": "DescriptionStyleModel",
          "model_module_version": "1.5.0",
          "state": {
            "_model_module": "@jupyter-widgets/controls",
            "_model_module_version": "1.5.0",
            "_model_name": "DescriptionStyleModel",
            "_view_count": null,
            "_view_module": "@jupyter-widgets/base",
            "_view_module_version": "1.2.0",
            "_view_name": "StyleView",
            "description_width": ""
          }
        },
        "1a1bce2057bb447582cdcd4d03e715a8": {
          "model_module": "@jupyter-widgets/controls",
          "model_name": "HBoxModel",
          "model_module_version": "1.5.0",
          "state": {
            "_dom_classes": [],
            "_model_module": "@jupyter-widgets/controls",
            "_model_module_version": "1.5.0",
            "_model_name": "HBoxModel",
            "_view_count": null,
            "_view_module": "@jupyter-widgets/controls",
            "_view_module_version": "1.5.0",
            "_view_name": "HBoxView",
            "box_style": "",
            "children": [
              "IPY_MODEL_335f92bc256b450c85a2c7ec9b3731b9",
              "IPY_MODEL_fe727137c4f542ad8e6737b76ab7c9a7",
              "IPY_MODEL_62153ccd754f48c0a904c4a53718f5ff"
            ],
            "layout": "IPY_MODEL_30fd4cbaf37c47cb99dbbaf0573194ba"
          }
        },
        "335f92bc256b450c85a2c7ec9b3731b9": {
          "model_module": "@jupyter-widgets/controls",
          "model_name": "HTMLModel",
          "model_module_version": "1.5.0",
          "state": {
            "_dom_classes": [],
            "_model_module": "@jupyter-widgets/controls",
            "_model_module_version": "1.5.0",
            "_model_name": "HTMLModel",
            "_view_count": null,
            "_view_module": "@jupyter-widgets/controls",
            "_view_module_version": "1.5.0",
            "_view_name": "HTMLView",
            "description": "",
            "description_tooltip": null,
            "layout": "IPY_MODEL_c9c2050d93834613b440c783b7fd76c7",
            "placeholder": "​",
            "style": "IPY_MODEL_2cf68de827a24e4ca0e6e2cd07e4fe3f",
            "value": "Downloading: 100%"
          }
        },
        "fe727137c4f542ad8e6737b76ab7c9a7": {
          "model_module": "@jupyter-widgets/controls",
          "model_name": "FloatProgressModel",
          "model_module_version": "1.5.0",
          "state": {
            "_dom_classes": [],
            "_model_module": "@jupyter-widgets/controls",
            "_model_module_version": "1.5.0",
            "_model_name": "FloatProgressModel",
            "_view_count": null,
            "_view_module": "@jupyter-widgets/controls",
            "_view_module_version": "1.5.0",
            "_view_name": "ProgressView",
            "bar_style": "success",
            "description": "",
            "description_tooltip": null,
            "layout": "IPY_MODEL_256cc7a911574379960d181e5ea7c34b",
            "max": 438235074,
            "min": 0,
            "orientation": "horizontal",
            "style": "IPY_MODEL_45e9583c305f49a6bd63d4c15fb5661c",
            "value": 438235074
          }
        },
        "62153ccd754f48c0a904c4a53718f5ff": {
          "model_module": "@jupyter-widgets/controls",
          "model_name": "HTMLModel",
          "model_module_version": "1.5.0",
          "state": {
            "_dom_classes": [],
            "_model_module": "@jupyter-widgets/controls",
            "_model_module_version": "1.5.0",
            "_model_name": "HTMLModel",
            "_view_count": null,
            "_view_module": "@jupyter-widgets/controls",
            "_view_module_version": "1.5.0",
            "_view_name": "HTMLView",
            "description": "",
            "description_tooltip": null,
            "layout": "IPY_MODEL_35215e7027b64a4d9da15be1962de559",
            "placeholder": "​",
            "style": "IPY_MODEL_430405f68e8944b59ae5794f32e2cc30",
            "value": " 438M/438M [00:07&lt;00:00, 58.5MB/s]"
          }
        },
        "30fd4cbaf37c47cb99dbbaf0573194ba": {
          "model_module": "@jupyter-widgets/base",
          "model_name": "LayoutModel",
          "model_module_version": "1.2.0",
          "state": {
            "_model_module": "@jupyter-widgets/base",
            "_model_module_version": "1.2.0",
            "_model_name": "LayoutModel",
            "_view_count": null,
            "_view_module": "@jupyter-widgets/base",
            "_view_module_version": "1.2.0",
            "_view_name": "LayoutView",
            "align_content": null,
            "align_items": null,
            "align_self": null,
            "border": null,
            "bottom": null,
            "display": null,
            "flex": null,
            "flex_flow": null,
            "grid_area": null,
            "grid_auto_columns": null,
            "grid_auto_flow": null,
            "grid_auto_rows": null,
            "grid_column": null,
            "grid_gap": null,
            "grid_row": null,
            "grid_template_areas": null,
            "grid_template_columns": null,
            "grid_template_rows": null,
            "height": null,
            "justify_content": null,
            "justify_items": null,
            "left": null,
            "margin": null,
            "max_height": null,
            "max_width": null,
            "min_height": null,
            "min_width": null,
            "object_fit": null,
            "object_position": null,
            "order": null,
            "overflow": null,
            "overflow_x": null,
            "overflow_y": null,
            "padding": null,
            "right": null,
            "top": null,
            "visibility": null,
            "width": null
          }
        },
        "c9c2050d93834613b440c783b7fd76c7": {
          "model_module": "@jupyter-widgets/base",
          "model_name": "LayoutModel",
          "model_module_version": "1.2.0",
          "state": {
            "_model_module": "@jupyter-widgets/base",
            "_model_module_version": "1.2.0",
            "_model_name": "LayoutModel",
            "_view_count": null,
            "_view_module": "@jupyter-widgets/base",
            "_view_module_version": "1.2.0",
            "_view_name": "LayoutView",
            "align_content": null,
            "align_items": null,
            "align_self": null,
            "border": null,
            "bottom": null,
            "display": null,
            "flex": null,
            "flex_flow": null,
            "grid_area": null,
            "grid_auto_columns": null,
            "grid_auto_flow": null,
            "grid_auto_rows": null,
            "grid_column": null,
            "grid_gap": null,
            "grid_row": null,
            "grid_template_areas": null,
            "grid_template_columns": null,
            "grid_template_rows": null,
            "height": null,
            "justify_content": null,
            "justify_items": null,
            "left": null,
            "margin": null,
            "max_height": null,
            "max_width": null,
            "min_height": null,
            "min_width": null,
            "object_fit": null,
            "object_position": null,
            "order": null,
            "overflow": null,
            "overflow_x": null,
            "overflow_y": null,
            "padding": null,
            "right": null,
            "top": null,
            "visibility": null,
            "width": null
          }
        },
        "2cf68de827a24e4ca0e6e2cd07e4fe3f": {
          "model_module": "@jupyter-widgets/controls",
          "model_name": "DescriptionStyleModel",
          "model_module_version": "1.5.0",
          "state": {
            "_model_module": "@jupyter-widgets/controls",
            "_model_module_version": "1.5.0",
            "_model_name": "DescriptionStyleModel",
            "_view_count": null,
            "_view_module": "@jupyter-widgets/base",
            "_view_module_version": "1.2.0",
            "_view_name": "StyleView",
            "description_width": ""
          }
        },
        "256cc7a911574379960d181e5ea7c34b": {
          "model_module": "@jupyter-widgets/base",
          "model_name": "LayoutModel",
          "model_module_version": "1.2.0",
          "state": {
            "_model_module": "@jupyter-widgets/base",
            "_model_module_version": "1.2.0",
            "_model_name": "LayoutModel",
            "_view_count": null,
            "_view_module": "@jupyter-widgets/base",
            "_view_module_version": "1.2.0",
            "_view_name": "LayoutView",
            "align_content": null,
            "align_items": null,
            "align_self": null,
            "border": null,
            "bottom": null,
            "display": null,
            "flex": null,
            "flex_flow": null,
            "grid_area": null,
            "grid_auto_columns": null,
            "grid_auto_flow": null,
            "grid_auto_rows": null,
            "grid_column": null,
            "grid_gap": null,
            "grid_row": null,
            "grid_template_areas": null,
            "grid_template_columns": null,
            "grid_template_rows": null,
            "height": null,
            "justify_content": null,
            "justify_items": null,
            "left": null,
            "margin": null,
            "max_height": null,
            "max_width": null,
            "min_height": null,
            "min_width": null,
            "object_fit": null,
            "object_position": null,
            "order": null,
            "overflow": null,
            "overflow_x": null,
            "overflow_y": null,
            "padding": null,
            "right": null,
            "top": null,
            "visibility": null,
            "width": null
          }
        },
        "45e9583c305f49a6bd63d4c15fb5661c": {
          "model_module": "@jupyter-widgets/controls",
          "model_name": "ProgressStyleModel",
          "model_module_version": "1.5.0",
          "state": {
            "_model_module": "@jupyter-widgets/controls",
            "_model_module_version": "1.5.0",
            "_model_name": "ProgressStyleModel",
            "_view_count": null,
            "_view_module": "@jupyter-widgets/base",
            "_view_module_version": "1.2.0",
            "_view_name": "StyleView",
            "bar_color": null,
            "description_width": ""
          }
        },
        "35215e7027b64a4d9da15be1962de559": {
          "model_module": "@jupyter-widgets/base",
          "model_name": "LayoutModel",
          "model_module_version": "1.2.0",
          "state": {
            "_model_module": "@jupyter-widgets/base",
            "_model_module_version": "1.2.0",
            "_model_name": "LayoutModel",
            "_view_count": null,
            "_view_module": "@jupyter-widgets/base",
            "_view_module_version": "1.2.0",
            "_view_name": "LayoutView",
            "align_content": null,
            "align_items": null,
            "align_self": null,
            "border": null,
            "bottom": null,
            "display": null,
            "flex": null,
            "flex_flow": null,
            "grid_area": null,
            "grid_auto_columns": null,
            "grid_auto_flow": null,
            "grid_auto_rows": null,
            "grid_column": null,
            "grid_gap": null,
            "grid_row": null,
            "grid_template_areas": null,
            "grid_template_columns": null,
            "grid_template_rows": null,
            "height": null,
            "justify_content": null,
            "justify_items": null,
            "left": null,
            "margin": null,
            "max_height": null,
            "max_width": null,
            "min_height": null,
            "min_width": null,
            "object_fit": null,
            "object_position": null,
            "order": null,
            "overflow": null,
            "overflow_x": null,
            "overflow_y": null,
            "padding": null,
            "right": null,
            "top": null,
            "visibility": null,
            "width": null
          }
        },
        "430405f68e8944b59ae5794f32e2cc30": {
          "model_module": "@jupyter-widgets/controls",
          "model_name": "DescriptionStyleModel",
          "model_module_version": "1.5.0",
          "state": {
            "_model_module": "@jupyter-widgets/controls",
            "_model_module_version": "1.5.0",
            "_model_name": "DescriptionStyleModel",
            "_view_count": null,
            "_view_module": "@jupyter-widgets/base",
            "_view_module_version": "1.2.0",
            "_view_name": "StyleView",
            "description_width": ""
          }
        }
      }
    },
    "accelerator": "GPU"
  },
  "nbformat": 4,
  "nbformat_minor": 0
}