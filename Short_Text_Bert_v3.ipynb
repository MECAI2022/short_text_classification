{
  "cells": [
    {
      "cell_type": "markdown",
      "metadata": {
        "id": "view-in-github",
        "colab_type": "text"
      },
      "source": [
        "<a href=\"https://colab.research.google.com/github/MECAI2022/short_text_classification/blob/main/Short_Text_Bert_v3.ipynb\" target=\"_parent\"><img src=\"https://colab.research.google.com/assets/colab-badge.svg\" alt=\"Open In Colab\"/></a>"
      ]
    },
    {
      "cell_type": "markdown",
      "metadata": {
        "id": "J5-xoiDDXS0R"
      },
      "source": [
        "### Sort Text com BERT"
      ]
    },
    {
      "cell_type": "code",
      "execution_count": 1,
      "metadata": {
        "colab": {
          "base_uri": "https://localhost:8080/"
        },
        "id": "zax-hsAmXVMD",
        "outputId": "5c255a1d-d9e7-4045-ae40-3b7dd60c901a"
      },
      "outputs": [
        {
          "output_type": "stream",
          "name": "stdout",
          "text": [
            "Sun Nov  6 22:09:32 2022       \n",
            "+-----------------------------------------------------------------------------+\n",
            "| NVIDIA-SMI 460.32.03    Driver Version: 460.32.03    CUDA Version: 11.2     |\n",
            "|-------------------------------+----------------------+----------------------+\n",
            "| GPU  Name        Persistence-M| Bus-Id        Disp.A | Volatile Uncorr. ECC |\n",
            "| Fan  Temp  Perf  Pwr:Usage/Cap|         Memory-Usage | GPU-Util  Compute M. |\n",
            "|                               |                      |               MIG M. |\n",
            "|===============================+======================+======================|\n",
            "|   0  Tesla T4            Off  | 00000000:00:04.0 Off |                    0 |\n",
            "| N/A   66C    P8    11W /  70W |      0MiB / 15109MiB |      0%      Default |\n",
            "|                               |                      |                  N/A |\n",
            "+-------------------------------+----------------------+----------------------+\n",
            "                                                                               \n",
            "+-----------------------------------------------------------------------------+\n",
            "| Processes:                                                                  |\n",
            "|  GPU   GI   CI        PID   Type   Process name                  GPU Memory |\n",
            "|        ID   ID                                                   Usage      |\n",
            "|=============================================================================|\n",
            "|  No running processes found                                                 |\n",
            "+-----------------------------------------------------------------------------+\n"
          ]
        }
      ],
      "source": [
        "!nvidia-smi"
      ]
    },
    {
      "cell_type": "markdown",
      "metadata": {
        "id": "gfO7m-O68wiD"
      },
      "source": [
        "## O Que é BERT?\n",
        "\n",
        "BERT (introduzido [neste artigo](https://arxiv.org/abs/1810.04805)) significa  Bidirectional Encoder Representations from Transformers:\n",
        "\n",
        "- Bidirecional - Para entender o texto que você está analisando, você terá que olhar para trás (nas palavras anteriores) e para frente (nas próximas palavras)\n",
        "- Transformers - O artigo [Attention Is All You Need](https://arxiv.org/abs/1706.03762) apresentou o modelo Transformer. O Transformer lê sequências inteiras de tokens de uma só vez. Em certo sentido, o modelo é não direcional, enquanto os LSTMs lêem sequencialmente (da esquerda para a direita ou da direita para a esquerda). O mecanismo de atenção permite aprender relações contextuais entre palavras.\n",
        "- Embeddings de palavras contextualizadas (pré-treinadas) - [The ELMO paper](https://arxiv.org/abs/1802.05365v2) introduziu uma maneira de codificar palavras com base em seu significado/contexto.\n",
        "\n",
        "O BERT foi treinado mascarando 15% dos tokens com o objetivo de adivinhá-los. Um objetivo adicional era prever a próxima frase. Vejamos exemplos dessas tarefas:\n",
        "\n",
        "### Modelagem de linguagem mascarada (LM mascarado)\n",
        "\n",
        "O objetivo desta tarefa é adivinhar os tokens mascarados. Vamos dar uma olhada em um exemplo, e tentar não torná-lo mais difícil do que tem que ser:\n",
        "\n",
        "Isso é `[máscara]` ela `[máscara]` -> Isso é o que ela disse\n",
        "\n",
        "### Previsão da próxima frase (NSP)\n",
        "\n",
        "Dado um par de duas sentenças, a tarefa é dizer se a segunda segue ou não a primeira (classificação binária). Vamos continuar com o exemplo:\n",
        "\n",
        "*Input* = `[CLS]` Isso é `[mask]` ela `[mask]`. [SEP] Hahaha, legal! [SEP]\n",
        "\n",
        "*Rótulo* = *ÉPróximo*\n",
        "\n",
        "*Input* = `[CLS]` Isso é `[mask]` ela `[mask]`. [SEP] Dwight, seu ignorante `[máscara]`! [SEP]\n",
        "\n",
        "*Rótulo* = *NãoPróximo*\n",
        "\n",
        "O corpus de treinamento foi composto por duas entradas: [Toronto Book Corpus](https://arxiv.org/abs/1506.06724) (800 milhões de palavras) e Wikipedia em inglês (2.500 milhões de palavras). Enquanto o Transformer original possui um codificador (para leitura da entrada) e um decodificador (que faz a previsão), o BERT utiliza apenas o decodificador.\n",
        "\n",
        "BERT é simplesmente vários  pré-treinada de codificadores de transformadores. Quantos codificadores? Temos duas versões - com 12 (BERT base) e 24 (BERT Large).\n",
        "\n",
        "### Isso é útil na prática?\n",
        "\n",
        "O artigo BERT foi lançado junto com [o código-fonte](https://github.com/google-research/bert) e modelos pré-treinados.\n",
        "\n",
        "A melhor parte é que você pode fazer o Transfer Learning (graças às ideias do OpenAI Transformer) com BERT para muitas tarefas de NLP - Classificação, Resposta a Perguntas, Reconhecimento de Entidades, etc. Você pode treinar com pequenas quantidades de dados e obter um ótimo desempenho!"
      ]
    },
    {
      "cell_type": "markdown",
      "metadata": {
        "id": "6YNYgk8EC9f_"
      },
      "source": [
        "#### Setup & Config\n",
        "\n",
        "Vamos precisar da [biblioteca Transformers](https://huggingface.co/transformers/) do Hugging Face:"
      ]
    },
    {
      "cell_type": "code",
      "source": [
        "!git clone https://github.com/MECAI2022/short_text_classification.git\n",
        "import sys\n",
        "sys.path.append('/content/short_text_classification')\n",
        "from pre_treatment_product import pre_process_text"
      ],
      "metadata": {
        "colab": {
          "base_uri": "https://localhost:8080/"
        },
        "id": "FYCVbis7pPch",
        "outputId": "f5bab520-7465-4d18-db4b-333afe476c96"
      },
      "execution_count": 2,
      "outputs": [
        {
          "output_type": "stream",
          "name": "stdout",
          "text": [
            "Cloning into 'short_text_classification'...\n",
            "remote: Enumerating objects: 97, done.\u001b[K\n",
            "remote: Counting objects: 100% (97/97), done.\u001b[K\n",
            "remote: Compressing objects: 100% (94/94), done.\u001b[K\n",
            "remote: Total 97 (delta 50), reused 0 (delta 0), pack-reused 0\u001b[K\n",
            "Unpacking objects: 100% (97/97), done.\n"
          ]
        },
        {
          "output_type": "stream",
          "name": "stderr",
          "text": [
            "[nltk_data] Downloading package stopwords to /root/nltk_data...\n",
            "[nltk_data]   Unzipping corpora/stopwords.zip.\n",
            "[nltk_data] Downloading package wordnet to /root/nltk_data...\n"
          ]
        }
      ]
    },
    {
      "cell_type": "code",
      "source": [
        "!pip install transformers\n",
        "!pip install nlpaug"
      ],
      "metadata": {
        "colab": {
          "base_uri": "https://localhost:8080/"
        },
        "id": "TQgDAtQ6rTzQ",
        "outputId": "f155af12-287a-4179-d00f-5cf004ba6c72"
      },
      "execution_count": 3,
      "outputs": [
        {
          "output_type": "stream",
          "name": "stdout",
          "text": [
            "Looking in indexes: https://pypi.org/simple, https://us-python.pkg.dev/colab-wheels/public/simple/\n",
            "Collecting transformers\n",
            "  Downloading transformers-4.24.0-py3-none-any.whl (5.5 MB)\n",
            "\u001b[K     |████████████████████████████████| 5.5 MB 6.8 MB/s \n",
            "\u001b[?25hRequirement already satisfied: tqdm>=4.27 in /usr/local/lib/python3.7/dist-packages (from transformers) (4.64.1)\n",
            "Requirement already satisfied: numpy>=1.17 in /usr/local/lib/python3.7/dist-packages (from transformers) (1.21.6)\n",
            "Requirement already satisfied: requests in /usr/local/lib/python3.7/dist-packages (from transformers) (2.23.0)\n",
            "Requirement already satisfied: packaging>=20.0 in /usr/local/lib/python3.7/dist-packages (from transformers) (21.3)\n",
            "Collecting tokenizers!=0.11.3,<0.14,>=0.11.1\n",
            "  Downloading tokenizers-0.13.1-cp37-cp37m-manylinux_2_17_x86_64.manylinux2014_x86_64.whl (7.6 MB)\n",
            "\u001b[K     |████████████████████████████████| 7.6 MB 51.8 MB/s \n",
            "\u001b[?25hRequirement already satisfied: pyyaml>=5.1 in /usr/local/lib/python3.7/dist-packages (from transformers) (6.0)\n",
            "Requirement already satisfied: filelock in /usr/local/lib/python3.7/dist-packages (from transformers) (3.8.0)\n",
            "Requirement already satisfied: importlib-metadata in /usr/local/lib/python3.7/dist-packages (from transformers) (4.13.0)\n",
            "Collecting huggingface-hub<1.0,>=0.10.0\n",
            "  Downloading huggingface_hub-0.10.1-py3-none-any.whl (163 kB)\n",
            "\u001b[K     |████████████████████████████████| 163 kB 49.2 MB/s \n",
            "\u001b[?25hRequirement already satisfied: regex!=2019.12.17 in /usr/local/lib/python3.7/dist-packages (from transformers) (2022.6.2)\n",
            "Requirement already satisfied: typing-extensions>=3.7.4.3 in /usr/local/lib/python3.7/dist-packages (from huggingface-hub<1.0,>=0.10.0->transformers) (4.1.1)\n",
            "Requirement already satisfied: pyparsing!=3.0.5,>=2.0.2 in /usr/local/lib/python3.7/dist-packages (from packaging>=20.0->transformers) (3.0.9)\n",
            "Requirement already satisfied: zipp>=0.5 in /usr/local/lib/python3.7/dist-packages (from importlib-metadata->transformers) (3.10.0)\n",
            "Requirement already satisfied: certifi>=2017.4.17 in /usr/local/lib/python3.7/dist-packages (from requests->transformers) (2022.9.24)\n",
            "Requirement already satisfied: urllib3!=1.25.0,!=1.25.1,<1.26,>=1.21.1 in /usr/local/lib/python3.7/dist-packages (from requests->transformers) (1.24.3)\n",
            "Requirement already satisfied: chardet<4,>=3.0.2 in /usr/local/lib/python3.7/dist-packages (from requests->transformers) (3.0.4)\n",
            "Requirement already satisfied: idna<3,>=2.5 in /usr/local/lib/python3.7/dist-packages (from requests->transformers) (2.10)\n",
            "Installing collected packages: tokenizers, huggingface-hub, transformers\n",
            "Successfully installed huggingface-hub-0.10.1 tokenizers-0.13.1 transformers-4.24.0\n",
            "Looking in indexes: https://pypi.org/simple, https://us-python.pkg.dev/colab-wheels/public/simple/\n",
            "Collecting nlpaug\n",
            "  Downloading nlpaug-1.1.11-py3-none-any.whl (410 kB)\n",
            "\u001b[K     |████████████████████████████████| 410 kB 7.5 MB/s \n",
            "\u001b[?25hRequirement already satisfied: pandas>=1.2.0 in /usr/local/lib/python3.7/dist-packages (from nlpaug) (1.3.5)\n",
            "Requirement already satisfied: numpy>=1.16.2 in /usr/local/lib/python3.7/dist-packages (from nlpaug) (1.21.6)\n",
            "Requirement already satisfied: requests>=2.22.0 in /usr/local/lib/python3.7/dist-packages (from nlpaug) (2.23.0)\n",
            "Requirement already satisfied: gdown>=4.0.0 in /usr/local/lib/python3.7/dist-packages (from nlpaug) (4.4.0)\n",
            "Requirement already satisfied: tqdm in /usr/local/lib/python3.7/dist-packages (from gdown>=4.0.0->nlpaug) (4.64.1)\n",
            "Requirement already satisfied: six in /usr/local/lib/python3.7/dist-packages (from gdown>=4.0.0->nlpaug) (1.15.0)\n",
            "Requirement already satisfied: filelock in /usr/local/lib/python3.7/dist-packages (from gdown>=4.0.0->nlpaug) (3.8.0)\n",
            "Requirement already satisfied: beautifulsoup4 in /usr/local/lib/python3.7/dist-packages (from gdown>=4.0.0->nlpaug) (4.6.3)\n",
            "Requirement already satisfied: python-dateutil>=2.7.3 in /usr/local/lib/python3.7/dist-packages (from pandas>=1.2.0->nlpaug) (2.8.2)\n",
            "Requirement already satisfied: pytz>=2017.3 in /usr/local/lib/python3.7/dist-packages (from pandas>=1.2.0->nlpaug) (2022.5)\n",
            "Requirement already satisfied: idna<3,>=2.5 in /usr/local/lib/python3.7/dist-packages (from requests>=2.22.0->nlpaug) (2.10)\n",
            "Requirement already satisfied: certifi>=2017.4.17 in /usr/local/lib/python3.7/dist-packages (from requests>=2.22.0->nlpaug) (2022.9.24)\n",
            "Requirement already satisfied: urllib3!=1.25.0,!=1.25.1,<1.26,>=1.21.1 in /usr/local/lib/python3.7/dist-packages (from requests>=2.22.0->nlpaug) (1.24.3)\n",
            "Requirement already satisfied: chardet<4,>=3.0.2 in /usr/local/lib/python3.7/dist-packages (from requests>=2.22.0->nlpaug) (3.0.4)\n",
            "Requirement already satisfied: PySocks!=1.5.7,>=1.5.6 in /usr/local/lib/python3.7/dist-packages (from requests>=2.22.0->nlpaug) (1.7.1)\n",
            "Installing collected packages: nlpaug\n",
            "Successfully installed nlpaug-1.1.11\n"
          ]
        }
      ]
    },
    {
      "cell_type": "code",
      "execution_count": 12,
      "metadata": {
        "id": "wVtdTVF4DazQ",
        "colab": {
          "base_uri": "https://localhost:8080/"
        },
        "outputId": "ea712d20-f36e-4be4-a644-d078a078c4d1"
      },
      "outputs": [
        {
          "output_type": "stream",
          "name": "stdout",
          "text": [
            "cuda:0\n"
          ]
        }
      ],
      "source": [
        "import transformers\n",
        "from transformers import BertModel, BertTokenizer, AdamW, get_linear_schedule_with_warmup,get_cosine_with_hard_restarts_schedule_with_warmup\n",
        "import torch\n",
        "\n",
        "import os\n",
        "import numpy as np\n",
        "import pandas as pd\n",
        "import seaborn as sns\n",
        "from pylab import rcParams\n",
        "import matplotlib.pyplot as plt\n",
        "from matplotlib import rc\n",
        "from sklearn.model_selection import train_test_split\n",
        "from sklearn.metrics import confusion_matrix, classification_report, f1_score,roc_auc_score\n",
        "from collections import defaultdict\n",
        "from textwrap import wrap\n",
        "from sklearn import preprocessing\n",
        "import itertools\n",
        "\n",
        "from torch import nn, optim\n",
        "from torch.utils.data import Dataset, DataLoader\n",
        "import torch.nn.functional as F\n",
        "from tqdm import tqdm\n",
        "import nlpaug.augmenter.word as naw\n",
        "\n",
        "\n",
        "%matplotlib inline\n",
        "%config InlineBackend.figure_format='retina'\n",
        "\n",
        "sns.set(style='whitegrid', palette='muted', font_scale=1.2)\n",
        "\n",
        "HAPPY_COLORS_PALETTE = [\"#01BEFE\", \"#FFDD00\", \"#FF7D00\", \"#FF006D\", \"#ADFF02\", \"#8F00FF\"]\n",
        "\n",
        "sns.set_palette(sns.color_palette(HAPPY_COLORS_PALETTE))\n",
        "\n",
        "rcParams['figure.figsize'] = 12, 8\n",
        "\n",
        "RANDOM_SEED = 42\n",
        "np.random.seed(RANDOM_SEED)\n",
        "torch.manual_seed(RANDOM_SEED)\n",
        "import warnings\n",
        "warnings.filterwarnings('ignore')\n",
        "\n",
        "device = torch.device(\"cuda:0\" if torch.cuda.is_available() else \"cpu\")\n",
        "print(device)"
      ]
    },
    {
      "cell_type": "code",
      "source": [
        "from google.colab import drive\n",
        "drive.mount('/content/drive')"
      ],
      "metadata": {
        "colab": {
          "base_uri": "https://localhost:8080/"
        },
        "id": "zdWGzzF5tort",
        "outputId": "ba4a228d-46f5-430f-81a0-3ea7147563dc"
      },
      "execution_count": 11,
      "outputs": [
        {
          "output_type": "stream",
          "name": "stdout",
          "text": [
            "Mounted at /content/drive\n"
          ]
        }
      ]
    },
    {
      "cell_type": "markdown",
      "metadata": {
        "id": "kQzbE6IKD1N8"
      },
      "source": [
        "## EDA"
      ]
    },
    {
      "cell_type": "code",
      "execution_count": 13,
      "metadata": {
        "id": "_PhgD2fiWmTo"
      },
      "outputs": [],
      "source": [
        "filepath = \"/content/drive/MyDrive/glove_files/dataset_produtos_V02.xlsx\"\n",
        "filesave = '/content/drive/MyDrive/BERT'\n",
        "\n",
        "df = pd.read_excel(filepath)\n",
        "df.head()\n",
        "\n",
        "pre_treatment = pre_process_text(stopwords_language = 'portuguese',flg_stemm = True , flg_lemm = False)"
      ]
    },
    {
      "cell_type": "markdown",
      "metadata": {
        "id": "WXZDP5WwEKO8"
      },
      "source": [
        "*   Retirar nome de produtos inválidos\n",
        "*   Retirar produtos com pouca frequência (<=10)\n",
        "*   Pré-processar o texto\n",
        "\n",
        "\n",
        "\n",
        "\n",
        "\n"
      ]
    },
    {
      "cell_type": "code",
      "source": [
        "pre_treatment = pre_process_text(stopwords_language = 'portuguese',flg_stemm = True , flg_lemm = False)\n",
        "\n",
        "df = df[df['nm_item'].notnull()]\n",
        "df = df[df['nm_item'].str.lower()!='nao cadastrado'].reset_index(drop=True)\n",
        "\n",
        "df['nm_item'] = df['nm_item'].apply(lambda x : pre_treatment.transform(x))\n",
        "\n",
        "df = df.drop_duplicates('nm_item').reset_index(drop=True)"
      ],
      "metadata": {
        "id": "5OSKsGJonxqP"
      },
      "execution_count": 14,
      "outputs": []
    },
    {
      "cell_type": "code",
      "source": [
        "import re\n",
        "from unicodedata import normalize\n",
        "\n",
        "def treat_class(word):\n",
        "\n",
        "        word = word.upper()\n",
        "          \n",
        "        #Remove special char\n",
        "\n",
        "        word = normalize('NFKD', word).encode('ASCII', 'ignore').decode('ASCII')\n",
        "        \n",
        "        #Remove numbers \n",
        "\n",
        "        word = re.sub(r'\\b\\d+\\b', '',word)\n",
        "        #Remove punctuation\n",
        "\n",
        "        word = re.sub(r'[^\\w\\s]', '',word)\n",
        "        #Remove multiple Spaces\n",
        "\n",
        "        word = re.sub(r'\\s+', ' ',word)\n",
        "\n",
        "        return word"
      ],
      "metadata": {
        "id": "PrhrVZaq0Ww7"
      },
      "execution_count": 15,
      "outputs": []
    },
    {
      "cell_type": "code",
      "source": [
        "for x in ['segmento','categoria','subcategoria','nm_product']:\n",
        "\n",
        "  df[x] = df[x].apply(lambda x : treat_class(x))\n",
        "\n",
        "  count_class = df[x].value_counts()\n",
        "\n",
        "  print(count_class[count_class<=10].index)\n",
        "\n",
        "  count_class = count_class[count_class>10].index\n",
        "\n",
        "  df = df[df[x].isin(count_class)].reset_index(drop=True)"
      ],
      "metadata": {
        "colab": {
          "base_uri": "https://localhost:8080/"
        },
        "id": "3Qws7uuS4sBk",
        "outputId": "eba2428a-a848-43b2-b54f-e9c32610764e"
      },
      "execution_count": 16,
      "outputs": [
        {
          "output_type": "stream",
          "name": "stdout",
          "text": [
            "Index([], dtype='object')\n",
            "Index(['SAUDE ANIMAL', 'SUPLEMENTOS', 'HOSPITALARES E CLINICOS'], dtype='object')\n",
            "Index(['DUTOS E FIACAO'], dtype='object')\n",
            "Index(['ESPIGA DE MILHO', 'AMORA', 'PRODUTO SAZONAL', 'GOIABA', 'CACHECOL',\n",
            "       'GLITER', 'LEITE ESPECIAL', 'RATICIDA', 'ERVILHA SECA', 'ALMEIRAO',\n",
            "       'COCO SECO', 'MIX DE FOLHAS', 'MIX DE FRIOS', 'NECTARINA',\n",
            "       'CARNE OVINA', 'RABANETE', 'PINHAO', 'MARACUJA', 'MEXERICA', 'CHICORIA',\n",
            "       'GERIATRICO', 'PINCA', 'SALSAO', 'OUTRO ACESSORIO PARA CABELOS',\n",
            "       'MARIA MOLE', 'APONTADOR', 'OUTRO GRAO', 'GENGIBRE',\n",
            "       'CORANTE ALIMENTAR', 'GUARDACHUVA', 'ESPETINHO CONGELADO', 'REGUA',\n",
            "       'TINTA ESCOLAR', 'EQUIPAMENTO DE LIMPEZA PISCINA', 'ALHO PORO',\n",
            "       'MAXIXE', 'FORRAGEM PET', 'BORRACHA', 'ESTOJO', 'OUTRO FERMENTADO',\n",
            "       'TINTA', 'AIPO', 'SOBREMESA PRONTA RESFRIADA', 'LAPISEIRA',\n",
            "       'PREPARO PARA SORVETE', 'DOCE DE NATAL', 'CARNE SUINA SAZONAL', 'PASTA',\n",
            "       'ROMA', 'ALCACHOFRA', 'OUTRO HIGIENE E LIMPEZA', 'COALHADA',\n",
            "       'QUEIJO FATIADO', 'PREPARO PARA SAGU', 'OUTRO ARTIGO DE FESTA'],\n",
            "      dtype='object')\n"
          ]
        }
      ]
    },
    {
      "cell_type": "markdown",
      "source": [
        "Puxar máximo número de palavras em uma sentença"
      ],
      "metadata": {
        "id": "RK62GJLT83zz"
      }
    },
    {
      "cell_type": "code",
      "source": [
        "max_lenght = df[\"nm_item\"].apply(lambda x: len(str(x).split(\" \"))).max()"
      ],
      "metadata": {
        "id": "eNBMHNQ_8w5X"
      },
      "execution_count": 17,
      "outputs": []
    },
    {
      "cell_type": "markdown",
      "source": [
        "Transformar classes com label encoder"
      ],
      "metadata": {
        "id": "xNrUnVr5B_pN"
      }
    },
    {
      "cell_type": "code",
      "source": [
        "for x in ['segmento','categoria','subcategoria','nm_product']:\n",
        "\n",
        "  le = preprocessing.LabelEncoder()\n",
        "\n",
        "  df[x+'_enc'] = le.fit_transform(df[x])\n",
        "\n",
        "  print('categ '+ x + ' ' + str(df[x+'_enc'].max()))\n"
      ],
      "metadata": {
        "id": "ToSQspf2B_A1",
        "colab": {
          "base_uri": "https://localhost:8080/"
        },
        "outputId": "e0960c83-8e76-4948-b524-e6a8e5e8aa60"
      },
      "execution_count": 18,
      "outputs": [
        {
          "output_type": "stream",
          "name": "stdout",
          "text": [
            "categ segmento 5\n",
            "categ categoria 63\n",
            "categ subcategoria 144\n",
            "categ nm_product 653\n"
          ]
        }
      ]
    },
    {
      "cell_type": "markdown",
      "metadata": {
        "id": "2RIoVgVwFGxN"
      },
      "source": [
        "## Pré-processamento de dados\n"
      ]
    },
    {
      "cell_type": "markdown",
      "metadata": {
        "id": "PQee_h7MktIP"
      },
      "source": [
        "Você já deve saber que os modelos de Machine Learning não funcionam com texto bruto. Você precisa converter texto em números (de algum tipo). O BERT requer ainda mais atenção. Aqui estão os requisitos:\n",
        "\n",
        "- Adicione tokens especiais para separar frases e fazer classificação\n",
        "- Passe sequências de comprimento constante (introduza o padding)\n",
        "- Crie um array de 0s (pad token) e 1s (real token) chamado *atention mask*\n",
        "\n",
        "A biblioteca Transformers fornece uma ampla variedade de modelos de Transformers (incluindo BERT). Funciona com TensorFlow e PyTorch! Ele também inclui tokenizers pré-construídos que fazem o trabalho pesado para nós!"
      ]
    },
    {
      "cell_type": "code",
      "execution_count": 6,
      "metadata": {
        "id": "sVZo_lRVFDQh",
        "colab": {
          "base_uri": "https://localhost:8080/",
          "height": 177,
          "referenced_widgets": [
            "d7a6b9a2fa0c4b33979fc7bb74b0103e",
            "06d315eb3c294d6da7863d687c0a3425",
            "ddbc8bba69e044cabc3bdf92e12284e6",
            "f1ce0527b778445bb2ede9afae50dba2",
            "ab25a54229c7412ebfe0e567bd0b13d3",
            "ea11d666c8ed411d9424a3e0d3b09e40",
            "5f2a5a4777454f3f86a7aed7e62f94be",
            "3f62f8a235f04b6093ac4e9c664e512f",
            "e557a87e45774e24bb33f859ebcaccd7",
            "90003f9d72fb4225880858471c90d3ac",
            "daaf78a7e9ba47bfaa3979f028928606",
            "53570ecb3a9a4f889894fe695c636400",
            "5a8f585f39224e7fa74957f6f0876e17",
            "a493f48fa5e340669de0b5c0cf5cff6e",
            "a490c9b462d94773b07a4c732744b9a2",
            "5a3ec622cb854d96a968340944ac25a0",
            "9520852450084c04b493468e44d910c4",
            "eae4bff98da2486e8e31ff497926d9c4",
            "130f9450ec2b484087cfc9f525c91e15",
            "6149180e1a9f4b929d4a588cb8acf4fb",
            "38c933634ecd4c88b1d4c96dece0f9c6",
            "84e0b8622d114885bbe51d89899e7fae",
            "3c28dc91af1141328bc326e1b7b4bff3",
            "9387ee74cab84a939e73a157fc8261f8",
            "04b7075cdba74fc8a2cb373a19df8db4",
            "3bd34199bbe64f2b8aa9069d4dcdd186",
            "a7279164cd5a4b958a9598d4c0324774",
            "6c1876b285af480695a7cef9e94d2343",
            "07759642cacb4ef6a9dc2a03f509863d",
            "dd542ecb31fc44f89a904e5adc645045",
            "e7a2c4b6bcbd452cab618aed958ac273",
            "5051df0f33e044b69815024662c52e83",
            "3353cd2a4c38448490a49c5d59f5a9d9",
            "ad86652b44824072befb0a3813c357b5",
            "f0a5c2bf706749b1a3f44e54fd6204c8",
            "6002dbe5b4e94a1eabd150926ca94d01",
            "b5bde0bd56dc4634905cdfbec98ced0d",
            "0371989d8fc94730be8e2eb71432b3f9",
            "a01f8f60877b4075a2b1040729ca981f",
            "67a11fc2ac774d9ea6c3c38e1c55b631",
            "153cc919e54147c297c65dfb0f6a0980",
            "037aeb786c0347789f130658b7292578",
            "80163f6fdf19482f81d477223b5eaae7",
            "612b5c0bff1046fd8a3c65a4e1d9b8e8",
            "17c13774ed7745dba6c9794dc3798173",
            "3910fd20792a4509a42538864d1d21ef",
            "2ca1054f6ee6475e9c34df09ad1b4e22",
            "3e80d4e392bc4eff82ed8611bfd6b1e8",
            "030e4e57322a4530b0f0fc8b51a9e932",
            "fa7a8281d5ad4f06a8c3dcb0d621d918",
            "67a183a5c5ed4be49021db9dba862a4a",
            "45153afde2334ed8bd18d47c4438407d",
            "224396d375c5403c85e084921fc595ec",
            "1f80ef755e4c48d29e7f8a330ed4c596",
            "d53b55805f5b475c84fb890a3d883bde"
          ]
        },
        "outputId": "3571ec42-c034-469b-badc-aee779f760d8"
      },
      "outputs": [
        {
          "output_type": "display_data",
          "data": {
            "text/plain": [
              "Downloading:   0%|          | 0.00/210k [00:00<?, ?B/s]"
            ],
            "application/vnd.jupyter.widget-view+json": {
              "version_major": 2,
              "version_minor": 0,
              "model_id": "d7a6b9a2fa0c4b33979fc7bb74b0103e"
            }
          },
          "metadata": {}
        },
        {
          "output_type": "display_data",
          "data": {
            "text/plain": [
              "Downloading:   0%|          | 0.00/2.00 [00:00<?, ?B/s]"
            ],
            "application/vnd.jupyter.widget-view+json": {
              "version_major": 2,
              "version_minor": 0,
              "model_id": "53570ecb3a9a4f889894fe695c636400"
            }
          },
          "metadata": {}
        },
        {
          "output_type": "display_data",
          "data": {
            "text/plain": [
              "Downloading:   0%|          | 0.00/112 [00:00<?, ?B/s]"
            ],
            "application/vnd.jupyter.widget-view+json": {
              "version_major": 2,
              "version_minor": 0,
              "model_id": "3c28dc91af1141328bc326e1b7b4bff3"
            }
          },
          "metadata": {}
        },
        {
          "output_type": "display_data",
          "data": {
            "text/plain": [
              "Downloading:   0%|          | 0.00/155 [00:00<?, ?B/s]"
            ],
            "application/vnd.jupyter.widget-view+json": {
              "version_major": 2,
              "version_minor": 0,
              "model_id": "ad86652b44824072befb0a3813c357b5"
            }
          },
          "metadata": {}
        },
        {
          "output_type": "display_data",
          "data": {
            "text/plain": [
              "Downloading:   0%|          | 0.00/648 [00:00<?, ?B/s]"
            ],
            "application/vnd.jupyter.widget-view+json": {
              "version_major": 2,
              "version_minor": 0,
              "model_id": "17c13774ed7745dba6c9794dc3798173"
            }
          },
          "metadata": {}
        }
      ],
      "source": [
        "# Pré Treino Bert feito em Português\n",
        "PRE_TRAINED_MODEL_NAME = 'neuralmind/bert-large-portuguese-cased'\n",
        "\n",
        "tokenizer = BertTokenizer.from_pretrained(PRE_TRAINED_MODEL_NAME)"
      ]
    },
    {
      "cell_type": "markdown",
      "metadata": {
        "id": "7Qp57OGfHy4M"
      },
      "source": [
        "https://huggingface.co/neuralmind/bert-base-portuguese-cased\n",
        "\n",
        "https://github.com/neuralmind-ai/portuguese-bert"
      ]
    },
    {
      "cell_type": "markdown",
      "metadata": {
        "id": "V-oaIAX6GQd-"
      },
      "source": [
        "Vamos carregar um pré-treinado [BertTokenizer](https://huggingface.co/transformers/model_doc/bert.html#berttokenizer):"
      ]
    },
    {
      "cell_type": "markdown",
      "metadata": {
        "id": "-w0xt3vKKwMq"
      },
      "source": [
        "### Escolhendo o comprimento da sequência\n",
        "\n",
        "O BERT trabalha com sequências de comprimento fixo. Usaremos uma estratégia simples para escolher o comprimento máximo. Vamos armazenar o tamanho do token de cada avaliação:"
      ]
    },
    {
      "cell_type": "code",
      "execution_count": 19,
      "metadata": {
        "id": "UQalJqpBLrLB"
      },
      "outputs": [],
      "source": [
        "MAX_LEN = max_lenght"
      ]
    },
    {
      "cell_type": "markdown",
      "metadata": {
        "id": "dKDyNuXWL5KX"
      },
      "source": [
        "Temos todos os blocos de construção necessários para criar um conjunto de dados PyTorch. Vamos fazer isso:"
      ]
    },
    {
      "cell_type": "code",
      "execution_count": 20,
      "metadata": {
        "id": "DxQSt1sZL5kp"
      },
      "outputs": [],
      "source": [
        "class ProdutosVarejoDataset(Dataset):\n",
        "\n",
        "  def __init__(self, nm_item, targets, tokenizer, max_len):\n",
        "    self.nm_item = nm_item\n",
        "    self.targets = targets\n",
        "    self.tokenizer = tokenizer\n",
        "    self.max_len = max_len\n",
        "  \n",
        "  def __len__(self):\n",
        "    return len(self.nm_item)\n",
        "  \n",
        "  def __getitem__(self, item):\n",
        "    nm_item = str(self.nm_item[item])\n",
        "    target = self.targets[item]\n",
        "\n",
        "    encoding = self.tokenizer.encode_plus(\n",
        "      nm_item,\n",
        "      add_special_tokens=True,\n",
        "      max_length=self.max_len,\n",
        "      return_token_type_ids=False,\n",
        "      padding='max_length',\n",
        "      truncation=True,\n",
        "      return_attention_mask=True,\n",
        "      return_tensors='pt',\n",
        "    )\n",
        "\n",
        "    return {\n",
        "      'nm_item_text': nm_item,\n",
        "      'input_ids': encoding['input_ids'].flatten(),\n",
        "      'attention_mask': encoding['attention_mask'].flatten(),\n",
        "      'targets': torch.tensor(target, dtype=torch.long)\n",
        "    }"
      ]
    },
    {
      "cell_type": "markdown",
      "metadata": {
        "id": "2_w5mFC9L-i6"
      },
      "source": [
        "O tokenizer está fazendo a maior parte do trabalho pesado. Também devolvemos os textos de segmentação, para que seja mais fácil avaliar as previsões do nosso modelo. Vamos dividir os dados:"
      ]
    },
    {
      "cell_type": "code",
      "execution_count": 21,
      "metadata": {
        "id": "aLqEExhdL-_p"
      },
      "outputs": [],
      "source": [
        "df_train, df_test = train_test_split(df, test_size=0.25, random_state=RANDOM_SEED,stratify = df['nm_product_enc'])\n",
        "df_val, df_test = train_test_split(df_test, test_size=0.5, random_state=RANDOM_SEED,stratify = df_test['nm_product_enc'])"
      ]
    },
    {
      "cell_type": "code",
      "source": [
        "sns.histplot(df['nm_product'].value_counts())"
      ],
      "metadata": {
        "colab": {
          "base_uri": "https://localhost:8080/",
          "height": 524
        },
        "id": "vVJxvXPClApG",
        "outputId": "874b1e43-6b0e-43bd-dc64-0185f2c69265"
      },
      "execution_count": 88,
      "outputs": [
        {
          "output_type": "execute_result",
          "data": {
            "text/plain": [
              "<matplotlib.axes._subplots.AxesSubplot at 0x7fcecba04c50>"
            ]
          },
          "metadata": {},
          "execution_count": 88
        },
        {
          "output_type": "display_data",
          "data": {
            "text/plain": [
              "<Figure size 864x576 with 1 Axes>"
            ],
            "image/png": "[encoded data removed]"
          },
          "metadata": {
            "image/png": {
              "width": 736,
              "height": 490
            }
          }
        }
      ]
    },
    {
      "cell_type": "code",
      "source": [
        "df['nm_product'].value_counts().describe()"
      ],
      "metadata": {
        "colab": {
          "base_uri": "https://localhost:8080/"
        },
        "id": "37qfSgiSvSpn",
        "outputId": "17675238-46a8-4a7a-b3d7-c52501f88442"
      },
      "execution_count": 89,
      "outputs": [
        {
          "output_type": "execute_result",
          "data": {
            "text/plain": [
              "count     659.000000\n",
              "mean      278.666161\n",
              "std       590.268195\n",
              "min        10.000000\n",
              "25%        76.000000\n",
              "50%       120.000000\n",
              "75%       255.500000\n",
              "max      8444.000000\n",
              "Name: nm_product, dtype: float64"
            ]
          },
          "metadata": {},
          "execution_count": 89
        }
      ]
    },
    {
      "cell_type": "code",
      "source": [
        "df_train.shape, df_val.shape, df_test.shape"
      ],
      "metadata": {
        "colab": {
          "base_uri": "https://localhost:8080/"
        },
        "id": "3bsuSN1yvlv6",
        "outputId": "27666b0d-2347-4192-bb62-ef14e1f1d436"
      },
      "execution_count": 22,
      "outputs": [
        {
          "output_type": "execute_result",
          "data": {
            "text/plain": [
              "((137693, 9), (22949, 9), (22949, 9))"
            ]
          },
          "metadata": {},
          "execution_count": 22
        }
      ]
    },
    {
      "cell_type": "code",
      "source": [
        "import nltk\n",
        "nltk.download('stopwords')\n",
        "\n",
        "def augment_text(df,class_threshold=50):\n",
        "\n",
        "    new_text=[]\n",
        "\n",
        "    class_counts = df['nm_product'].value_counts()\n",
        "\n",
        "    count_class = class_counts[class_counts <= class_threshold].index\n",
        "\n",
        "    lst_stopwords = nltk.corpus.stopwords.words('portuguese') \n",
        "    aug = naw.SynonymAug(aug_min=1, aug_max=5, lang='por', stopwords=lst_stopwords)\n",
        "\n",
        "    df_m = df[df[x].isin(count_class)].reset_index(drop=True)\n",
        "    \n",
        "    ## data augmentation loop\n",
        "\n",
        "    final = pd.DataFrame()\n",
        "    for i in range(0,len(df_m)):\n",
        "            z=0\n",
        "            text = df_m.iloc[i]['nm_item']\n",
        "            augmented_text = aug.augment(text,n = class_threshold - (class_counts[df_m.iloc[i]['nm_product']]) )\n",
        "            \n",
        "            augmented_text = list(set(augmented_text))\n",
        "\n",
        "            base = pd.DataFrame(data = augmented_text,columns = ['nm_item'] )\n",
        "\n",
        "            base[['segmento','categoria','subcategoria','nm_product',\n",
        "                  'segmento_enc','categoria_enc','subcategoria_enc','nm_product_enc']] = df_m.iloc[i][['segmento','categoria','subcategoria','nm_product',\n",
        "                                                                                                       'segmento_enc','categoria_enc','subcategoria_enc','nm_product_enc']]\n",
        "\n",
        "            df = pd.concat([df,base],ignore_index=True)\n",
        "\n",
        "    ## dataframe\n",
        "\n",
        "    df = df.sample(frac = 1).reset_index(drop=True)\n",
        "\n",
        "    return df"
      ],
      "metadata": {
        "colab": {
          "base_uri": "https://localhost:8080/"
        },
        "id": "GUvbNPOakTdW",
        "outputId": "ce79980d-4887-443d-e9fd-e846708b1670"
      },
      "execution_count": 23,
      "outputs": [
        {
          "output_type": "stream",
          "name": "stderr",
          "text": [
            "[nltk_data] Downloading package stopwords to /root/nltk_data...\n",
            "[nltk_data]   Package stopwords is already up-to-date!\n"
          ]
        }
      ]
    },
    {
      "cell_type": "code",
      "execution_count": 24,
      "metadata": {
        "colab": {
          "base_uri": "https://localhost:8080/"
        },
        "id": "tGSB9J8tMBIC",
        "outputId": "55e023ef-f756-4096-d15e-332859a52690"
      },
      "outputs": [
        {
          "output_type": "stream",
          "name": "stderr",
          "text": [
            "[nltk_data] Downloading package wordnet to /root/nltk_data...\n",
            "[nltk_data]   Package wordnet is already up-to-date!\n",
            "[nltk_data] Downloading package omw-1.4 to /root/nltk_data...\n",
            "[nltk_data] Downloading package averaged_perceptron_tagger to\n",
            "[nltk_data]     /root/nltk_data...\n",
            "[nltk_data]   Unzipping taggers/averaged_perceptron_tagger.zip.\n"
          ]
        }
      ],
      "source": [
        "df_train = augment_text(df_train)"
      ]
    },
    {
      "cell_type": "code",
      "source": [
        "df_train.shape, df_val.shape, df_test.shape"
      ],
      "metadata": {
        "colab": {
          "base_uri": "https://localhost:8080/"
        },
        "id": "lYa8DgLnwHny",
        "outputId": "f2007e2c-14ee-4546-bbad-af013f55f35d"
      },
      "execution_count": 25,
      "outputs": [
        {
          "output_type": "execute_result",
          "data": {
            "text/plain": [
              "((152414, 9), (22949, 9), (22949, 9))"
            ]
          },
          "metadata": {},
          "execution_count": 25
        }
      ]
    },
    {
      "cell_type": "code",
      "source": [
        "df_train.isnull().sum()"
      ],
      "metadata": {
        "colab": {
          "base_uri": "https://localhost:8080/"
        },
        "id": "-sFbjmfd5RsZ",
        "outputId": "d2dd42ea-b1db-4b21-fa47-13a655f657bf"
      },
      "execution_count": 26,
      "outputs": [
        {
          "output_type": "execute_result",
          "data": {
            "text/plain": [
              "nm_item             0\n",
              "segmento            0\n",
              "categoria           0\n",
              "subcategoria        0\n",
              "nm_product          0\n",
              "segmento_enc        0\n",
              "categoria_enc       0\n",
              "subcategoria_enc    0\n",
              "nm_product_enc      0\n",
              "dtype: int64"
            ]
          },
          "metadata": {},
          "execution_count": 26
        }
      ]
    },
    {
      "cell_type": "markdown",
      "metadata": {
        "id": "Tid8js2AMEzJ"
      },
      "source": [
        "Também precisamos criar alguns load dos dados. Aqui está uma função auxiliar para fazer isso:"
      ]
    },
    {
      "cell_type": "code",
      "execution_count": 27,
      "metadata": {
        "id": "ys08dkFnMFOx"
      },
      "outputs": [],
      "source": [
        "def create_data_loader(X,y, tokenizer, max_len, batch_size):\n",
        "  ds = ProdutosVarejoDataset(\n",
        "    nm_item = X.to_numpy(),\n",
        "    targets = y.to_numpy(),\n",
        "    tokenizer=tokenizer,\n",
        "    max_len=max_len\n",
        "  )\n",
        "\n",
        "  return DataLoader(\n",
        "    ds,\n",
        "    batch_size=batch_size,\n",
        "    num_workers=4\n",
        "  )"
      ]
    },
    {
      "cell_type": "markdown",
      "metadata": {
        "id": "4OhEv9k9Mca6"
      },
      "source": [
        "## Classificação de Produtos com  BERT"
      ]
    },
    {
      "cell_type": "code",
      "execution_count": 28,
      "metadata": {
        "id": "lM-0eiqhNUbN"
      },
      "outputs": [],
      "source": [
        "class ProductClassifier(nn.Module):\n",
        "\n",
        "  def __init__(self, number_classes,list_drop_out):\n",
        "\n",
        "    super(ProductClassifier, self).__init__()\n",
        "    self.bert = BertModel.from_pretrained(PRE_TRAINED_MODEL_NAME, return_dict=False)\n",
        "\n",
        "    self.drop = nn.Dropout(p= list_drop_out)\n",
        "\n",
        "    # O last_hidden_state é uma sequência de estados ocultos da última camada do modelo\n",
        "    self.out1 = nn.Linear(self.bert.config.hidden_size, number_classes[0])\n",
        "    self.out2 = nn.Linear(self.bert.config.hidden_size, number_classes[1])\n",
        "    self.out3 = nn.Linear(self.bert.config.hidden_size, number_classes[2])\n",
        "    self.out4 = nn.Linear(self.bert.config.hidden_size, number_classes[3])\n",
        "  \n",
        "  def forward(self, input_ids, attention_mask):\n",
        "\n",
        "    _, pooled_output = self.bert(\n",
        "      input_ids=input_ids,\n",
        "      attention_mask=attention_mask\n",
        "    )\n",
        "    output = self.drop(pooled_output)\n",
        "\n",
        "    return [self.out1(output),self.out2(output),self.out3(output),self.out4(output)]"
      ]
    },
    {
      "cell_type": "markdown",
      "metadata": {
        "id": "7Q8gFB-7dsYU"
      },
      "source": [
        "### Training\n",
        "\n",
        "To reproduce the training procedure from the BERT paper, we'll use the [AdamW](https://huggingface.co/transformers/main_classes/optimizer_schedules.html#adamw) optimizer provided by Hugging Face. It corrects weight decay, so it's similar to the original paper. We'll also use a linear scheduler with no warmup steps:"
      ]
    },
    {
      "cell_type": "markdown",
      "metadata": {
        "id": "GJu9X-TEd2-t"
      },
      "source": [
        "How do we come up with all hyperparameters? The BERT authors have some recommendations for fine-tuning:\n",
        "\n",
        "- Batch size: 16, 32\n",
        "- Learning rate (Adam): 5e-5, 3e-5, 2e-5\n",
        "- Number of epochs: 2, 3, 4\n",
        "\n",
        "We're going to ignore the number of epochs recommendation but stick with the rest. Note that increasing the batch size reduces the training time significantly, but gives you lower accuracy.\n",
        "\n",
        "Let's continue with writing a helper function for training our model for one epoch:"
      ]
    },
    {
      "cell_type": "code",
      "source": [
        "class FocalLoss(nn.Module):\n",
        "    \"Focal loss implemented using F.cross_entropy\"\n",
        "    def __init__(self, gamma: float = 2.0, weight=None, reduction: str = 'sum') -> None:\n",
        "        super().__init__()\n",
        "        self.gamma = gamma\n",
        "        self.weight = weight\n",
        "        self.reduction = reduction\n",
        "\n",
        "\n",
        "    def forward(self, inp: torch.Tensor, targ: torch.Tensor):\n",
        "        ce_loss = F.cross_entropy(inp, targ, weight=self.weight, reduction=\"none\")\n",
        "        p_t = torch.exp(-ce_loss)\n",
        "        loss = (1 - p_t)**self.gamma * ce_loss\n",
        "        if self.reduction == \"mean\":\n",
        "            loss = loss.mean()\n",
        "        elif self.reduction == \"sum\":\n",
        "            loss = loss.sum()\n",
        "        return loss\n"
      ],
      "metadata": {
        "id": "z5HRXDRhNpBP"
      },
      "execution_count": 29,
      "outputs": []
    },
    {
      "cell_type": "code",
      "execution_count": 30,
      "metadata": {
        "id": "tvGtIud7d1O0"
      },
      "outputs": [],
      "source": [
        "def train_epoch(\n",
        "                model, \n",
        "                data_loader, \n",
        "                loss_fn, \n",
        "                optimizer, \n",
        "                device, \n",
        "                scheduler, \n",
        "                epoch\n",
        "              ):\n",
        "\n",
        "  model = model.train()\n",
        "\n",
        "  losses = []\n",
        "  correct_predictions = 0\n",
        "\n",
        "#   final_preds1 = []\n",
        "#   final_preds2 = []\n",
        "#   final_preds3 = []\n",
        "#   final_preds4 = []\n",
        "\n",
        "#   final_preds = [[],[],[],[]]\n",
        "\n",
        "\n",
        "  targets_total = []\n",
        "\n",
        "  with tqdm(data_loader, unit=\"batch\") as tepoch:\n",
        "\n",
        "    for i,d in enumerate(tepoch):\n",
        "      \n",
        "      tepoch.set_description(f\"Epoch {epoch}\")\n",
        "\n",
        "      input_ids_ = d[\"input_ids\"].to(device)\n",
        "      attention_mask_ = d[\"attention_mask\"].to(device)\n",
        "      targets = d[\"targets\"].to(device)\n",
        "\n",
        "      optimizer.zero_grad()\n",
        "\n",
        "      outputs = model(\n",
        "        input_ids=input_ids_,\n",
        "        attention_mask=attention_mask_\n",
        "      )\n",
        "\n",
        "      loss1 = loss_fn[0](outputs[0], targets[:,0])\n",
        "      loss2 = loss_fn[1](outputs[1], targets[:,1])\n",
        "      loss3 = loss_fn[2](outputs[2], targets[:,2])\n",
        "      loss4 = loss_fn[3](outputs[3], targets[:,3])\n",
        "\n",
        "      loss = loss1 + loss2 + loss3 + loss4\n",
        "\n",
        "      losses.append(loss.item())\n",
        "\n",
        "      loss.backward()\n",
        "      nn.utils.clip_grad_norm_(model.parameters(), max_norm=1.0)\n",
        "      optimizer.step()\n",
        "      scheduler.step()\n",
        "\n",
        "    #   probs = list(map(lambda x : F.softmax(x, dim=1),outputs))\n",
        "      \n",
        "    #   final_preds = list(map(lambda x,y: x.extend(y),final_preds,probs))\n",
        "\n",
        "    #   final_preds1.extend(probs[0])\n",
        "    #   final_preds2.extend(probs[1])\n",
        "    #   final_preds3.extend(probs[2])\n",
        "    #   final_preds4.extend(probs[3])\n",
        "    #   targets_total.extend(targets)\n",
        "\n",
        "      tepoch.set_postfix(loss=loss.item(),                     \n",
        "                         )\n",
        "  return  np.mean(losses)"
      ]
    },
    {
      "cell_type": "code",
      "execution_count": 31,
      "metadata": {
        "id": "Xkg8XyzZd5to"
      },
      "outputs": [],
      "source": [
        "def eval_model(model, data_loader, loss_fn, device):\n",
        "\n",
        "  model = model.eval()\n",
        "\n",
        "  losses = []\n",
        "\n",
        "  final_preds1 = []\n",
        "  final_preds2 = []\n",
        "  final_preds3 = []\n",
        "  final_preds4 = []\n",
        "\n",
        "  targets_total = []\n",
        "\n",
        "\n",
        "#   final_preds = [[],[],[],[]]\n",
        "\n",
        "  i = 0 \n",
        "  with torch.no_grad():\n",
        "\n",
        "    for d in data_loader:\n",
        "\n",
        "      input_ids_ = d[\"input_ids\"].to(device)\n",
        "      attention_mask_ = d[\"attention_mask\"].to(device)\n",
        "      targets = d[\"targets\"].to(device)\n",
        "\n",
        "      optimizer.zero_grad()\n",
        "\n",
        "      outputs = model(\n",
        "        input_ids=input_ids_,\n",
        "        attention_mask=attention_mask_\n",
        "      )\n",
        "\n",
        "      loss1 = loss_fn[0](outputs[0], targets[:,0])\n",
        "      loss2 = loss_fn[1](outputs[1], targets[:,1])\n",
        "      loss3 = loss_fn[2](outputs[2], targets[:,2])\n",
        "      loss4 = loss_fn[3](outputs[3], targets[:,3])\n",
        "\n",
        "      loss = loss1 + loss2 + loss3 + loss4\n",
        "\n",
        "      losses.append(loss.item())\n",
        "\n",
        "      probs = list(map(lambda x : F.softmax(x, dim=1),outputs))\n",
        "      \n",
        "    #   final_preds = list(map(lambda x,y: x.extend(y),final_preds,probs))\n",
        "\n",
        "      final_preds1.extend(probs[0])\n",
        "      final_preds2.extend(probs[1])\n",
        "      final_preds3.extend(probs[2])\n",
        "      final_preds4.extend(probs[3])\n",
        "      targets_total.extend(targets)\n",
        "\n",
        "\n",
        "  final_preds1 = torch.stack(final_preds1).cpu()\n",
        "  final_preds2 = torch.stack(final_preds2).cpu()\n",
        "  final_preds3 = torch.stack(final_preds3).cpu()\n",
        "  final_preds4 = torch.stack(final_preds4).cpu()\n",
        "\n",
        "#   final_preds = list(map(lambda x: torch.stack(x).cpu(),final_preds))\n",
        "\n",
        "  final_preds = [final_preds1,final_preds2,final_preds3,final_preds4]\n",
        "\n",
        "  targets_total = torch.stack(targets_total).cpu()\n",
        "\n",
        "  metrics = {}\n",
        "\n",
        "  for i in range(4):\n",
        "\n",
        "      # metrics.update({'AUC_'+str(i):roc_auc_score(targets_total[:,i].flatten(),final_preds[i].detach(),average='macro',multi_class='ovo')})\n",
        "\n",
        "      _, best_values =  torch.max(final_preds[i],dim=1)\n",
        "\n",
        "      metrics.update({'F1_SCORE_'+str(i):f1_score(targets_total[:,i].flatten(), best_values.detach(), average='macro')})\n",
        "\n",
        "  return metrics"
      ]
    },
    {
      "cell_type": "code",
      "execution_count": null,
      "metadata": {
        "id": "FD7hwSShd-HU"
      },
      "outputs": [],
      "source": [
        "%%time\n",
        "\n",
        "model_dict={\n",
        "            'paralelo':{\"batch_size\":[32],\n",
        "                           \"lr_rate\":[5e-5],\n",
        "                           \"drop_out\":[0.2,0.3,0.5],\n",
        "                           \"gamma1\":[2],\n",
        "                            \"gamma2\":[2],\n",
        "                            \"gamma3\":[2],\n",
        "                            \"gamma4\":[2]\n",
        "                           \n",
        "                           },\n",
        "                            }\n",
        "\n",
        "EPOCHS = 20\n",
        "EARLY_STOP = 3\n",
        "device = torch.device(\"cuda:0\" if torch.cuda.is_available() else \"cpu\")\n",
        "\n",
        "\n",
        "final_results = pd.read_csv(os.path.join(filesave,\"BERT_PARAMETERS_v4.csv\"),sep=';',decimal=',',encoding='utf-8')\n",
        "\n",
        "# final_results = pd.DataFrame()\n",
        "\n",
        "for modelo in model_dict.keys():\n",
        "    \n",
        "    for p in itertools.product(*model_dict[modelo].values()):\n",
        "        z=0\n",
        "        parameters=dict(zip(model_dict[modelo].keys(),p))\n",
        "\n",
        "        if final_results.empty == False:\n",
        "\n",
        "            check_results = final_results[final_results['Model']==modelo].reset_index(drop=True)\n",
        "\n",
        "            if check_results.empty == False:   \n",
        "\n",
        "                if str(parameters) in check_results['parameters'].to_list() :\n",
        "                    \n",
        "                    print('rodou')\n",
        "                    continue\n",
        "\n",
        "        history = defaultdict(list)\n",
        "        best_accuracy = {'AUC':0.0,\n",
        "                         'F1_SCORE':0.0}\n",
        "\n",
        "        best_accuracy_val = 0 \n",
        "\n",
        "        count = 0\n",
        "        class_size = [df['segmento_enc'].nunique(),df['categoria_enc'].nunique(),df['subcategoria_enc'].nunique(),df['nm_product_enc'].nunique()]\n",
        "\n",
        "        BATCH_SIZE = parameters['batch_size']\n",
        "\n",
        "        train_data_loader = create_data_loader(df_train['nm_item'],df_train[['segmento_enc','categoria_enc','subcategoria_enc','nm_product_enc']], tokenizer, MAX_LEN, BATCH_SIZE)\n",
        "        val_data_loader = create_data_loader(df_val['nm_item'],df_val[['segmento_enc','categoria_enc','subcategoria_enc','nm_product_enc']], tokenizer, MAX_LEN, BATCH_SIZE)\n",
        "        test_data_loader = create_data_loader(df_test['nm_item'],df_test[['segmento_enc','categoria_enc','subcategoria_enc','nm_product_enc']], tokenizer, MAX_LEN, BATCH_SIZE)\n",
        "        \n",
        "\n",
        "        model = ProductClassifier(class_size,parameters['drop_out']).to(device)\n",
        "\n",
        "        optimizer = AdamW(model.parameters(), lr= parameters['lr_rate'], correct_bias=False)\n",
        "        total_steps = len(train_data_loader) * EPOCHS\n",
        "\n",
        "        scheduler = get_cosine_with_hard_restarts_schedule_with_warmup(\n",
        "        optimizer,\n",
        "        num_warmup_steps= int(total_steps*0.05),\n",
        "        num_training_steps=total_steps,\n",
        "        num_cycles = int((total_steps/EPOCHS)/2)\n",
        "\n",
        "        )\n",
        "\n",
        "        loss_fn = [FocalLoss(gamma = parameters['gamma1']).to(device),FocalLoss(gamma = parameters['gamma2']).to(device),FocalLoss(gamma = parameters['gamma3']).to(device),FocalLoss(gamma = parameters['gamma4']).to(device)]\n",
        "\n",
        "        model = model.to(device)\n",
        "\n",
        "        for epoch in range(EPOCHS):\n",
        "\n",
        "            print(f'Epoch {epoch + 1}/{EPOCHS}')\n",
        "            print('-' * 10)\n",
        "\n",
        "            train_loss = train_epoch(\n",
        "                model,\n",
        "                train_data_loader, \n",
        "                loss_fn,\n",
        "                optimizer, \n",
        "                device,\n",
        "                scheduler,\n",
        "                epoch = epoch\n",
        "            )\n",
        "\n",
        "            print(f'Train loss {train_loss}')\n",
        "\n",
        "            metrics_val = eval_model(\n",
        "                model,\n",
        "                val_data_loader,\n",
        "                loss_fn, \n",
        "                device,\n",
        "            )\n",
        "\n",
        "        \n",
        "            F1_mean = (metrics_val['F1_SCORE_0']+metrics_val['F1_SCORE_1']+metrics_val['F1_SCORE_2']+metrics_val['F1_SCORE_3'])/4\n",
        "\n",
        "            print('f1-score {f1_score}'.format(f1_score =F1_mean))\n",
        "\n",
        "            if round(F1_mean,5) > round(best_accuracy_val,5):\n",
        "\n",
        "                torch.save(model.state_dict(), 'best_model_state.bin')\n",
        "                best_accuracy_val = F1_mean\n",
        "                best_accuracy = metrics_val\n",
        "\n",
        "                count = 0\n",
        "\n",
        "            else:\n",
        "\n",
        "                count += 1\n",
        "\n",
        "                if count >= EARLY_STOP:\n",
        "\n",
        "                    break\n",
        "\n",
        "        metrics  =  eval_model(\n",
        "                              model,\n",
        "                              test_data_loader,\n",
        "                              loss_fn, \n",
        "                              device,\n",
        "                                    )\n",
        "\n",
        "        results=pd.DataFrame([{'Model':modelo,\n",
        "                    'parameters':parameters,\n",
        "\n",
        "                    # 'AUC_VAL_SEGMENTO':best_accuracy['AUC_0'],\n",
        "                    # 'AUC_VAL_CATEGORIA':best_accuracy['AUC_1'],\n",
        "                    # 'AUC_VAL_SUBCATEGORIA':best_accuracy['AUC_2'],\n",
        "                    # 'AUC_VAL_PRODUTO':best_accuracy['AUC_3'],\n",
        "\n",
        "                    'F1_SCORE_VAL_SEGMENTO':best_accuracy['F1_SCORE_0'],\n",
        "                    'F1_SCORE_VAL_CATEGORIA':best_accuracy['F1_SCORE_1'],\n",
        "                    'F1_SCORE_VAL_SUBCATEGORIA':best_accuracy['F1_SCORE_2'],\n",
        "                    'F1_SCORE_VAL_PRODUTO':best_accuracy['F1_SCORE_3'],\n",
        "\n",
        "                    # 'AUC_TEST_SEGMENTO':metrics['AUC_0'],\n",
        "                    # 'AUC_TEST_CATEGORIA':metrics['AUC_1'],\n",
        "                    # 'AUC_TEST_SUBCATEGORIA':metrics['AUC_2'],\n",
        "                    # 'AUC_TEST_PRODUTO':metrics['AUC_3'],\n",
        "\n",
        "                    'F1_SCORE_TEST_SEGMENTO':metrics['F1_SCORE_0'],\n",
        "                    'F1_SCORE_TEST_CATEGORIA':metrics['F1_SCORE_1'],\n",
        "                    'F1_SCORE_TEST_SUBCATEGORIA':metrics['F1_SCORE_2'],\n",
        "                    'F1_SCORE_TEST_PRODUTO':metrics['F1_SCORE_3'],\n",
        "\n",
        "                    }])\n",
        "\n",
        "        final_results=final_results.append(results,ignore_index=True)\n",
        "\n",
        "        final_results.to_csv(os.path.join(filesave,\"BERT_PARAMETERS_v4.csv\"),sep=';',decimal=',',encoding='utf-8',\n",
        "                    index=False)"
      ]
    },
    {
      "cell_type": "markdown",
      "metadata": {
        "id": "Ie-jdgYtTVMl"
      },
      "source": [
        "### Evaluation\n",
        "\n",
        "Então, quão bom é o nosso modelo na previsão de Segmento? Vamos começar calculando a precisão nos dados de teste:"
      ]
    },
    {
      "cell_type": "code",
      "execution_count": null,
      "metadata": {
        "id": "VZko6upATa7I",
        "outputId": "2de64259-d53d-4d0b-9458-937dd6aafb68"
      },
      "outputs": [
        {
          "ename": "NameError",
          "evalue": "name 'test_data_loader' is not defined",
          "output_type": "error",
          "traceback": [
            "\u001b[1;31m---------------------------------------------------------------------------\u001b[0m",
            "\u001b[1;31mNameError\u001b[0m                                 Traceback (most recent call last)",
            "\u001b[1;32mc:\\Users\\Wesley\\Code\\shortText\\Short_Text_Bert.ipynb Célula: 62\u001b[0m in \u001b[0;36m<cell line: 1>\u001b[1;34m()\u001b[0m\n\u001b[0;32m      <a href='vscode-notebook-cell:/c%3A/Users/Wesley/Code/shortText/Short_Text_Bert.ipynb#Y115sZmlsZQ%3D%3D?line=0'>1</a>\u001b[0m test_acc, _ \u001b[39m=\u001b[39m eval_model(\n\u001b[0;32m      <a href='vscode-notebook-cell:/c%3A/Users/Wesley/Code/shortText/Short_Text_Bert.ipynb#Y115sZmlsZQ%3D%3D?line=1'>2</a>\u001b[0m   model,\n\u001b[1;32m----> <a href='vscode-notebook-cell:/c%3A/Users/Wesley/Code/shortText/Short_Text_Bert.ipynb#Y115sZmlsZQ%3D%3D?line=2'>3</a>\u001b[0m   test_data_loader,\n\u001b[0;32m      <a href='vscode-notebook-cell:/c%3A/Users/Wesley/Code/shortText/Short_Text_Bert.ipynb#Y115sZmlsZQ%3D%3D?line=3'>4</a>\u001b[0m   loss_fn,\n\u001b[0;32m      <a href='vscode-notebook-cell:/c%3A/Users/Wesley/Code/shortText/Short_Text_Bert.ipynb#Y115sZmlsZQ%3D%3D?line=4'>5</a>\u001b[0m   device,\n\u001b[0;32m      <a href='vscode-notebook-cell:/c%3A/Users/Wesley/Code/shortText/Short_Text_Bert.ipynb#Y115sZmlsZQ%3D%3D?line=5'>6</a>\u001b[0m   \u001b[39mlen\u001b[39m(df_test)\n\u001b[0;32m      <a href='vscode-notebook-cell:/c%3A/Users/Wesley/Code/shortText/Short_Text_Bert.ipynb#Y115sZmlsZQ%3D%3D?line=6'>7</a>\u001b[0m )\n\u001b[0;32m      <a href='vscode-notebook-cell:/c%3A/Users/Wesley/Code/shortText/Short_Text_Bert.ipynb#Y115sZmlsZQ%3D%3D?line=8'>9</a>\u001b[0m test_acc\u001b[39m.\u001b[39mitem()\n",
            "\u001b[1;31mNameError\u001b[0m: name 'test_data_loader' is not defined"
          ]
        }
      ],
      "source": [
        "test_acc, _ = eval_model(\n",
        "  model,\n",
        "  test_data_loader,\n",
        "  loss_fn,\n",
        "  device,\n",
        "  len(df_test)\n",
        ")\n",
        "\n",
        "test_acc.item()"
      ]
    },
    {
      "cell_type": "markdown",
      "metadata": {
        "id": "viRJUSeOTneC"
      },
      "source": [
        "Vamos definir uma função auxiliar para obter as previsões do nosso modelo:"
      ]
    },
    {
      "cell_type": "code",
      "execution_count": null,
      "metadata": {
        "id": "eWVt9c9yTbY2"
      },
      "outputs": [],
      "source": [
        "def get_predictions(model, data_loader):\n",
        "  model = model.eval()\n",
        "  \n",
        "  review_texts = []\n",
        "  predictions = []\n",
        "  prediction_probs = []\n",
        "  real_values = []\n",
        "\n",
        "  with torch.no_grad():\n",
        "    for d in data_loader:\n",
        "\n",
        "      texts = d[\"review_text\"]\n",
        "      input_ids = d[\"input_ids\"].to(device)\n",
        "      attention_mask = d[\"attention_mask\"].to(device)\n",
        "      targets = d[\"targets\"].to(device)\n",
        "\n",
        "      outputs = model(\n",
        "        input_ids=input_ids,\n",
        "        attention_mask=attention_mask\n",
        "      )\n",
        "      _, preds = torch.max(outputs, dim=1)\n",
        "\n",
        "      probs = F.softmax(outputs, dim=1)\n",
        "\n",
        "      review_texts.extend(texts)\n",
        "      predictions.extend(preds)\n",
        "      prediction_probs.extend(probs)\n",
        "      real_values.extend(targets)\n",
        "\n",
        "  predictions = torch.stack(predictions).cpu()\n",
        "  prediction_probs = torch.stack(prediction_probs).cpu()\n",
        "  real_values = torch.stack(real_values).cpu()\n",
        "\n",
        "  \n",
        "  return review_texts, predictions, prediction_probs, real_values"
      ]
    },
    {
      "cell_type": "code",
      "execution_count": null,
      "metadata": {
        "id": "wqDtEAAET2qD"
      },
      "outputs": [],
      "source": [
        "y_review_texts, y_pred, y_pred_probs, y_test = get_predictions(\n",
        "  model,\n",
        "  test_data_loader\n",
        ")"
      ]
    },
    {
      "cell_type": "markdown",
      "metadata": {
        "id": "D3fNSJqdT8oT"
      },
      "source": [
        "Vamos dar uma olhada no relatório de classificação\n",
        "\n"
      ]
    },
    {
      "cell_type": "code",
      "execution_count": null,
      "metadata": {
        "colab": {
          "base_uri": "https://localhost:8080/"
        },
        "id": "4nx51SfMT69t",
        "outputId": "ac92cb29-adbc-4323-d6a0-4227a46e6194"
      },
      "outputs": [
        {
          "name": "stdout",
          "output_type": "stream",
          "text": [
            "                       precision    recall  f1-score   support\n",
            "\n",
            "    1-BENS DE CONSUMO       1.00      1.00      1.00      7639\n",
            "         5-HEALTHCARE       0.97      0.88      0.92        72\n",
            "  2-CASA E CONSTRUCAO       0.91      0.93      0.92       102\n",
            "4-FASHION E ESPORTIVO       0.92      0.95      0.93        59\n",
            "       3-ELETROMOVEIS       0.95      0.91      0.93        23\n",
            "       6-PETROQUIMICA       0.80      0.73      0.76        11\n",
            "\n",
            "             accuracy                           0.99      7906\n",
            "            macro avg       0.93      0.90      0.91      7906\n",
            "         weighted avg       0.99      0.99      0.99      7906\n",
            "\n"
          ]
        }
      ],
      "source": [
        "print(classification_report(y_test, y_pred, target_names=classes))"
      ]
    },
    {
      "cell_type": "markdown",
      "metadata": {
        "id": "6XLuZqHsUAyN"
      },
      "source": [
        "\n",
        "Temos muitos poucos exmplos de Petroquimica o leva o modelo a errar bastante nesse segmento"
      ]
    },
    {
      "cell_type": "code",
      "execution_count": null,
      "metadata": {
        "colab": {
          "base_uri": "https://localhost:8080/",
          "height": 586
        },
        "id": "LISbHZAIT-it",
        "outputId": "c8fb3709-6c56-4b60-97fc-f9fb0797a876"
      },
      "outputs": [
        {
          "data": {
            "image/png": "[encoded data removed]",
            "text/plain": [
              "<Figure size 864x576 with 2 Axes>"
            ]
          },
          "metadata": {
            "image/png": {
              "height": 569,
              "width": 837
            }
          },
          "output_type": "display_data"
        }
      ],
      "source": [
        "def show_confusion_matrix(confusion_matrix):\n",
        "  hmap = sns.heatmap(confusion_matrix, annot=True, fmt=\"d\", cmap=\"Blues\")\n",
        "  hmap.yaxis.set_ticklabels(hmap.yaxis.get_ticklabels(), rotation=0, ha='right')\n",
        "  hmap.xaxis.set_ticklabels(hmap.xaxis.get_ticklabels(), rotation=30, ha='right')\n",
        "  plt.ylabel('True Segmento')\n",
        "  plt.xlabel('Predicted Segmento');\n",
        "\n",
        "cm = confusion_matrix(y_test, y_pred)\n",
        "df_cm = pd.DataFrame(cm, index=classes, columns=classes)\n",
        "show_confusion_matrix(df_cm)"
      ]
    },
    {
      "cell_type": "markdown",
      "metadata": {
        "id": "SGrauBCKUNs4"
      },
      "source": [
        "Isso confirma que nosso modelo está tendo dificuldade em classificar segmento de Petroquimica."
      ]
    },
    {
      "cell_type": "markdown",
      "metadata": {
        "id": "VKKFcZWGUtPT"
      },
      "source": [
        "## Utilizando o Modelo\n",
        "\n",
        "Vamos usar nosso modelo para prever o segmento de algum texto novo:"
      ]
    },
    {
      "cell_type": "code",
      "execution_count": null,
      "metadata": {
        "id": "Wp4rNF4zktIW"
      },
      "outputs": [],
      "source": [
        "import json\n",
        "\n",
        "# ler o json\n",
        "with open('product.json', 'r') as myfile:\n",
        "    data=myfile.read()\n",
        "produtos = json.loads(data)\n",
        "\n",
        "label_segmento = np.array(produtos['segmento'])\n",
        "label_categoria = np.array(produtos['categoria'])\n",
        "label_subcategoria = np.array(produtos['subcategoria'])\n",
        "label_produto = np.array(produtos['produto'])"
      ]
    },
    {
      "cell_type": "code",
      "execution_count": null,
      "metadata": {
        "id": "P38NVtVyktIX"
      },
      "outputs": [],
      "source": [
        "class ProductClassifier(nn.Module):\n",
        "\n",
        "  def __init__(self, n_classes):\n",
        "    super(ProductClassifier, self).__init__()\n",
        "    self.bert = BertModel.from_pretrained(PRE_TRAINED_MODEL_NAME, return_dict=False)\n",
        "    self.drop = nn.Dropout(p=0.3)\n",
        "    self.out = nn.Linear(self.bert.config.hidden_size, n_classes)\n",
        "  \n",
        "  def forward(self, input_ids, attention_mask):\n",
        "    _, pooled_output = self.bert(\n",
        "      input_ids=input_ids,\n",
        "      attention_mask=attention_mask\n",
        "    )\n",
        "    output = self.drop(pooled_output)\n",
        "    return self.out(output)\n",
        "\n",
        "# Pré Treino Bert feito em Português\n",
        "PRE_TRAINED_MODEL_NAME = 'neuralmind/bert-base-portuguese-cased'\n",
        "tokenizer = BertTokenizer.from_pretrained(PRE_TRAINED_MODEL_NAME)\n",
        "MAX_LEN = 15"
      ]
    },
    {
      "cell_type": "code",
      "execution_count": null,
      "metadata": {
        "id": "dfOGmiB0ktIX",
        "outputId": "f14ec2fa-6993-4bcb-af00-1d852e8c3bfb"
      },
      "outputs": [
        {
          "name": "stderr",
          "output_type": "stream",
          "text": [
            "Some weights of the model checkpoint at neuralmind/bert-base-portuguese-cased were not used when initializing BertModel: ['cls.predictions.transform.LayerNorm.weight', 'cls.predictions.transform.dense.weight', 'cls.seq_relationship.bias', 'cls.predictions.transform.dense.bias', 'cls.predictions.transform.LayerNorm.bias', 'cls.predictions.bias', 'cls.predictions.decoder.weight', 'cls.seq_relationship.weight']\n",
            "- This IS expected if you are initializing BertModel from the checkpoint of a model trained on another task or with another architecture (e.g. initializing a BertForSequenceClassification model from a BertForPreTraining model).\n",
            "- This IS NOT expected if you are initializing BertModel from the checkpoint of a model that you expect to be exactly identical (initializing a BertForSequenceClassification model from a BertForSequenceClassification model).\n",
            "Some weights of the model checkpoint at neuralmind/bert-base-portuguese-cased were not used when initializing BertModel: ['cls.predictions.transform.LayerNorm.weight', 'cls.predictions.transform.dense.weight', 'cls.seq_relationship.bias', 'cls.predictions.transform.dense.bias', 'cls.predictions.transform.LayerNorm.bias', 'cls.predictions.bias', 'cls.predictions.decoder.weight', 'cls.seq_relationship.weight']\n",
            "- This IS expected if you are initializing BertModel from the checkpoint of a model trained on another task or with another architecture (e.g. initializing a BertForSequenceClassification model from a BertForPreTraining model).\n",
            "- This IS NOT expected if you are initializing BertModel from the checkpoint of a model that you expect to be exactly identical (initializing a BertForSequenceClassification model from a BertForSequenceClassification model).\n",
            "Some weights of the model checkpoint at neuralmind/bert-base-portuguese-cased were not used when initializing BertModel: ['cls.predictions.transform.LayerNorm.weight', 'cls.predictions.transform.dense.weight', 'cls.seq_relationship.bias', 'cls.predictions.transform.dense.bias', 'cls.predictions.transform.LayerNorm.bias', 'cls.predictions.bias', 'cls.predictions.decoder.weight', 'cls.seq_relationship.weight']\n",
            "- This IS expected if you are initializing BertModel from the checkpoint of a model trained on another task or with another architecture (e.g. initializing a BertForSequenceClassification model from a BertForPreTraining model).\n",
            "- This IS NOT expected if you are initializing BertModel from the checkpoint of a model that you expect to be exactly identical (initializing a BertForSequenceClassification model from a BertForSequenceClassification model).\n",
            "Some weights of the model checkpoint at neuralmind/bert-base-portuguese-cased were not used when initializing BertModel: ['cls.predictions.transform.LayerNorm.weight', 'cls.predictions.transform.dense.weight', 'cls.seq_relationship.bias', 'cls.predictions.transform.dense.bias', 'cls.predictions.transform.LayerNorm.bias', 'cls.predictions.bias', 'cls.predictions.decoder.weight', 'cls.seq_relationship.weight']\n",
            "- This IS expected if you are initializing BertModel from the checkpoint of a model trained on another task or with another architecture (e.g. initializing a BertForSequenceClassification model from a BertForPreTraining model).\n",
            "- This IS NOT expected if you are initializing BertModel from the checkpoint of a model that you expect to be exactly identical (initializing a BertForSequenceClassification model from a BertForSequenceClassification model).\n"
          ]
        }
      ],
      "source": [
        "# Carregando os Modelos\n",
        "segmento_model = ProductClassifier(len(label_segmento))\n",
        "segmento_model.load_state_dict(torch.load('pesos/bert_segmento.bin'))\n",
        "segmento_model = segmento_model.to(device)\n",
        "categoria_model = ProductClassifier(len(label_categoria))\n",
        "categoria_model.load_state_dict(torch.load('pesos/bert_categoria.bin'))\n",
        "categoria_model = categoria_model.to(device)\n",
        "subcategoria_model = ProductClassifier(len(label_subcategoria))\n",
        "subcategoria_model.load_state_dict(torch.load('pesos/bert_subcategoria.bin'))\n",
        "subcategoria_model = subcategoria_model.to(device)\n",
        "produto_model = ProductClassifier(len(label_produto))\n",
        "produto_model.load_state_dict(torch.load('pesos/bert_produto.bin'))\n",
        "produto_model = produto_model.to(device)"
      ]
    },
    {
      "cell_type": "code",
      "execution_count": null,
      "metadata": {
        "id": "iXKKEXC2ktIX"
      },
      "outputs": [],
      "source": [
        "def prediction(text, model, topk):\n",
        "    text = text.upper()\n",
        "    encoded_review = tokenizer.encode_plus(\n",
        "    text,\n",
        "    max_length=MAX_LEN,\n",
        "    add_special_tokens=True,\n",
        "    return_token_type_ids=False,\n",
        "    padding='max_length',\n",
        "    truncation=True,\n",
        "    return_attention_mask=True,\n",
        "    return_tensors='pt',\n",
        "    )\n",
        "\n",
        "    input_ids = encoded_review['input_ids'].to(device)\n",
        "    attention_mask = encoded_review['attention_mask'].to(device)\n",
        "\n",
        "    output = model(input_ids, attention_mask)\n",
        "    _, prediction = torch.topk(output, topk)\n",
        "    index = prediction.cpu().data.numpy().flatten()\n",
        "\n",
        "    return index"
      ]
    },
    {
      "cell_type": "markdown",
      "metadata": {
        "id": "Y_uMQh4iU7oz"
      },
      "source": [
        "Temos que usar o tokenizer para codificar o texto:\n",
        "\n"
      ]
    },
    {
      "cell_type": "code",
      "execution_count": null,
      "metadata": {
        "colab": {
          "base_uri": "https://localhost:8080/"
        },
        "id": "qBhmfageU0KH",
        "outputId": "b1d2b53e-4c6d-4147-c22c-0b543cd99734"
      },
      "outputs": [
        {
          "name": "stdout",
          "output_type": "stream",
          "text": [
            "Segmento: ['1-BENS DE CONSUMO']\n",
            "Categoria: ['6-MERCEARIA' '5-HORTIFRUTI (FLV)' '13-DIVERSOS BAZAR E DEPARTAMENTOS']\n",
            "Subcategoria: ['15-CONDIMENTOS' '11-LEGUMES' '44-DIVERSOS BAZAR E DEPARTAMENTOS'\n",
            " '66-VEGETAL HIGIENIZADO E PROCESSADO' '166-MODA INVERNO']\n",
            "Produto: ['TEMPERO PRONTO' 'CALDO INDUSTRIALIZADO' 'BALA' 'AMENDOIM'\n",
            " 'VEGETAL HIGIENIZADO E PROCESSADO']\n"
          ]
        }
      ],
      "source": [
        "# Fazendo previsões com o modelo\n",
        "text = \"tempero\"\n",
        "segmento_pred = prediction(text, segmento_model, 1)\n",
        "print(f'Segmento: {label_segmento[segmento_pred]}')\n",
        "categoria_pred = prediction(text, categoria_model, 3)\n",
        "print(f'Categoria: {label_categoria[categoria_pred]}')\n",
        "subcategoria_pred = prediction(text, subcategoria_model, 5)\n",
        "print(f'Subcategoria: {label_subcategoria[subcategoria_pred]}')\n",
        "produto_pred = prediction(text, produto_model, 5)\n",
        "print(f'Produto: {label_produto[produto_pred]}')"
      ]
    }
  ],
  "metadata": {
    "accelerator": "GPU",
    "colab": {
      "collapsed_sections": [],
      "provenance": [],
      "include_colab_link": true
    },
    "kernelspec": {
      "display_name": "Python 3.9.12 ('base')",
      "language": "python",
      "name": "python3"
    },
    "language_info": {
      "codemirror_mode": {
        "name": "ipython",
        "version": 3
      },
      "file_extension": ".py",
      "mimetype": "text/x-python",
      "name": "python",
      "nbconvert_exporter": "python",
      "pygments_lexer": "ipython3",
      "version": "3.9.12"
    },
    "vscode": {
      "interpreter": {
        "hash": "5e8c03361d51ea297a904a747262448c3ce723e881811895dfdbcc412e3247a1"
      }
    },
    "gpuClass": "standard",
    "widgets": {
      "application/vnd.jupyter.widget-state+json": {
        "d7a6b9a2fa0c4b33979fc7bb74b0103e": {
          "model_module": "@jupyter-widgets/controls",
          "model_name": "HBoxModel",
          "model_module_version": "1.5.0",
          "state": {
            "_dom_classes": [],
            "_model_module": "@jupyter-widgets/controls",
            "_model_module_version": "1.5.0",
            "_model_name": "HBoxModel",
            "_view_count": null,
            "_view_module": "@jupyter-widgets/controls",
            "_view_module_version": "1.5.0",
            "_view_name": "HBoxView",
            "box_style": "",
            "children": [
              "IPY_MODEL_06d315eb3c294d6da7863d687c0a3425",
              "IPY_MODEL_ddbc8bba69e044cabc3bdf92e12284e6",
              "IPY_MODEL_f1ce0527b778445bb2ede9afae50dba2"
            ],
            "layout": "IPY_MODEL_ab25a54229c7412ebfe0e567bd0b13d3"
          }
        },
        "06d315eb3c294d6da7863d687c0a3425": {
          "model_module": "@jupyter-widgets/controls",
          "model_name": "HTMLModel",
          "model_module_version": "1.5.0",
          "state": {
            "_dom_classes": [],
            "_model_module": "@jupyter-widgets/controls",
            "_model_module_version": "1.5.0",
            "_model_name": "HTMLModel",
            "_view_count": null,
            "_view_module": "@jupyter-widgets/controls",
            "_view_module_version": "1.5.0",
            "_view_name": "HTMLView",
            "description": "",
            "description_tooltip": null,
            "layout": "IPY_MODEL_ea11d666c8ed411d9424a3e0d3b09e40",
            "placeholder": "​",
            "style": "IPY_MODEL_5f2a5a4777454f3f86a7aed7e62f94be",
            "value": "Downloading: 100%"
          }
        },
        "ddbc8bba69e044cabc3bdf92e12284e6": {
          "model_module": "@jupyter-widgets/controls",
          "model_name": "FloatProgressModel",
          "model_module_version": "1.5.0",
          "state": {
            "_dom_classes": [],
            "_model_module": "@jupyter-widgets/controls",
            "_model_module_version": "1.5.0",
            "_model_name": "FloatProgressModel",
            "_view_count": null,
            "_view_module": "@jupyter-widgets/controls",
            "_view_module_version": "1.5.0",
            "_view_name": "ProgressView",
            "bar_style": "success",
            "description": "",
            "description_tooltip": null,
            "layout": "IPY_MODEL_3f62f8a235f04b6093ac4e9c664e512f",
            "max": 209528,
            "min": 0,
            "orientation": "horizontal",
            "style": "IPY_MODEL_e557a87e45774e24bb33f859ebcaccd7",
            "value": 209528
          }
        },
        "f1ce0527b778445bb2ede9afae50dba2": {
          "model_module": "@jupyter-widgets/controls",
          "model_name": "HTMLModel",
          "model_module_version": "1.5.0",
          "state": {
            "_dom_classes": [],
            "_model_module": "@jupyter-widgets/controls",
            "_model_module_version": "1.5.0",
            "_model_name": "HTMLModel",
            "_view_count": null,
            "_view_module": "@jupyter-widgets/controls",
            "_view_module_version": "1.5.0",
            "_view_name": "HTMLView",
            "description": "",
            "description_tooltip": null,
            "layout": "IPY_MODEL_90003f9d72fb4225880858471c90d3ac",
            "placeholder": "​",
            "style": "IPY_MODEL_daaf78a7e9ba47bfaa3979f028928606",
            "value": " 210k/210k [00:00&lt;00:00, 888kB/s]"
          }
        },
        "ab25a54229c7412ebfe0e567bd0b13d3": {
          "model_module": "@jupyter-widgets/base",
          "model_name": "LayoutModel",
          "model_module_version": "1.2.0",
          "state": {
            "_model_module": "@jupyter-widgets/base",
            "_model_module_version": "1.2.0",
            "_model_name": "LayoutModel",
            "_view_count": null,
            "_view_module": "@jupyter-widgets/base",
            "_view_module_version": "1.2.0",
            "_view_name": "LayoutView",
            "align_content": null,
            "align_items": null,
            "align_self": null,
            "border": null,
            "bottom": null,
            "display": null,
            "flex": null,
            "flex_flow": null,
            "grid_area": null,
            "grid_auto_columns": null,
            "grid_auto_flow": null,
            "grid_auto_rows": null,
            "grid_column": null,
            "grid_gap": null,
            "grid_row": null,
            "grid_template_areas": null,
            "grid_template_columns": null,
            "grid_template_rows": null,
            "height": null,
            "justify_content": null,
            "justify_items": null,
            "left": null,
            "margin": null,
            "max_height": null,
            "max_width": null,
            "min_height": null,
            "min_width": null,
            "object_fit": null,
            "object_position": null,
            "order": null,
            "overflow": null,
            "overflow_x": null,
            "overflow_y": null,
            "padding": null,
            "right": null,
            "top": null,
            "visibility": null,
            "width": null
          }
        },
        "ea11d666c8ed411d9424a3e0d3b09e40": {
          "model_module": "@jupyter-widgets/base",
          "model_name": "LayoutModel",
          "model_module_version": "1.2.0",
          "state": {
            "_model_module": "@jupyter-widgets/base",
            "_model_module_version": "1.2.0",
            "_model_name": "LayoutModel",
            "_view_count": null,
            "_view_module": "@jupyter-widgets/base",
            "_view_module_version": "1.2.0",
            "_view_name": "LayoutView",
            "align_content": null,
            "align_items": null,
            "align_self": null,
            "border": null,
            "bottom": null,
            "display": null,
            "flex": null,
            "flex_flow": null,
            "grid_area": null,
            "grid_auto_columns": null,
            "grid_auto_flow": null,
            "grid_auto_rows": null,
            "grid_column": null,
            "grid_gap": null,
            "grid_row": null,
            "grid_template_areas": null,
            "grid_template_columns": null,
            "grid_template_rows": null,
            "height": null,
            "justify_content": null,
            "justify_items": null,
            "left": null,
            "margin": null,
            "max_height": null,
            "max_width": null,
            "min_height": null,
            "min_width": null,
            "object_fit": null,
            "object_position": null,
            "order": null,
            "overflow": null,
            "overflow_x": null,
            "overflow_y": null,
            "padding": null,
            "right": null,
            "top": null,
            "visibility": null,
            "width": null
          }
        },
        "5f2a5a4777454f3f86a7aed7e62f94be": {
          "model_module": "@jupyter-widgets/controls",
          "model_name": "DescriptionStyleModel",
          "model_module_version": "1.5.0",
          "state": {
            "_model_module": "@jupyter-widgets/controls",
            "_model_module_version": "1.5.0",
            "_model_name": "DescriptionStyleModel",
            "_view_count": null,
            "_view_module": "@jupyter-widgets/base",
            "_view_module_version": "1.2.0",
            "_view_name": "StyleView",
            "description_width": ""
          }
        },
        "3f62f8a235f04b6093ac4e9c664e512f": {
          "model_module": "@jupyter-widgets/base",
          "model_name": "LayoutModel",
          "model_module_version": "1.2.0",
          "state": {
            "_model_module": "@jupyter-widgets/base",
            "_model_module_version": "1.2.0",
            "_model_name": "LayoutModel",
            "_view_count": null,
            "_view_module": "@jupyter-widgets/base",
            "_view_module_version": "1.2.0",
            "_view_name": "LayoutView",
            "align_content": null,
            "align_items": null,
            "align_self": null,
            "border": null,
            "bottom": null,
            "display": null,
            "flex": null,
            "flex_flow": null,
            "grid_area": null,
            "grid_auto_columns": null,
            "grid_auto_flow": null,
            "grid_auto_rows": null,
            "grid_column": null,
            "grid_gap": null,
            "grid_row": null,
            "grid_template_areas": null,
            "grid_template_columns": null,
            "grid_template_rows": null,
            "height": null,
            "justify_content": null,
            "justify_items": null,
            "left": null,
            "margin": null,
            "max_height": null,
            "max_width": null,
            "min_height": null,
            "min_width": null,
            "object_fit": null,
            "object_position": null,
            "order": null,
            "overflow": null,
            "overflow_x": null,
            "overflow_y": null,
            "padding": null,
            "right": null,
            "top": null,
            "visibility": null,
            "width": null
          }
        },
        "e557a87e45774e24bb33f859ebcaccd7": {
          "model_module": "@jupyter-widgets/controls",
          "model_name": "ProgressStyleModel",
          "model_module_version": "1.5.0",
          "state": {
            "_model_module": "@jupyter-widgets/controls",
            "_model_module_version": "1.5.0",
            "_model_name": "ProgressStyleModel",
            "_view_count": null,
            "_view_module": "@jupyter-widgets/base",
            "_view_module_version": "1.2.0",
            "_view_name": "StyleView",
            "bar_color": null,
            "description_width": ""
          }
        },
        "90003f9d72fb4225880858471c90d3ac": {
          "model_module": "@jupyter-widgets/base",
          "model_name": "LayoutModel",
          "model_module_version": "1.2.0",
          "state": {
            "_model_module": "@jupyter-widgets/base",
            "_model_module_version": "1.2.0",
            "_model_name": "LayoutModel",
            "_view_count": null,
            "_view_module": "@jupyter-widgets/base",
            "_view_module_version": "1.2.0",
            "_view_name": "LayoutView",
            "align_content": null,
            "align_items": null,
            "align_self": null,
            "border": null,
            "bottom": null,
            "display": null,
            "flex": null,
            "flex_flow": null,
            "grid_area": null,
            "grid_auto_columns": null,
            "grid_auto_flow": null,
            "grid_auto_rows": null,
            "grid_column": null,
            "grid_gap": null,
            "grid_row": null,
            "grid_template_areas": null,
            "grid_template_columns": null,
            "grid_template_rows": null,
            "height": null,
            "justify_content": null,
            "justify_items": null,
            "left": null,
            "margin": null,
            "max_height": null,
            "max_width": null,
            "min_height": null,
            "min_width": null,
            "object_fit": null,
            "object_position": null,
            "order": null,
            "overflow": null,
            "overflow_x": null,
            "overflow_y": null,
            "padding": null,
            "right": null,
            "top": null,
            "visibility": null,
            "width": null
          }
        },
        "daaf78a7e9ba47bfaa3979f028928606": {
          "model_module": "@jupyter-widgets/controls",
          "model_name": "DescriptionStyleModel",
          "model_module_version": "1.5.0",
          "state": {
            "_model_module": "@jupyter-widgets/controls",
            "_model_module_version": "1.5.0",
            "_model_name": "DescriptionStyleModel",
            "_view_count": null,
            "_view_module": "@jupyter-widgets/base",
            "_view_module_version": "1.2.0",
            "_view_name": "StyleView",
            "description_width": ""
          }
        },
        "53570ecb3a9a4f889894fe695c636400": {
          "model_module": "@jupyter-widgets/controls",
          "model_name": "HBoxModel",
          "model_module_version": "1.5.0",
          "state": {
            "_dom_classes": [],
            "_model_module": "@jupyter-widgets/controls",
            "_model_module_version": "1.5.0",
            "_model_name": "HBoxModel",
            "_view_count": null,
            "_view_module": "@jupyter-widgets/controls",
            "_view_module_version": "1.5.0",
            "_view_name": "HBoxView",
            "box_style": "",
            "children": [
              "IPY_MODEL_5a8f585f39224e7fa74957f6f0876e17",
              "IPY_MODEL_a493f48fa5e340669de0b5c0cf5cff6e",
              "IPY_MODEL_a490c9b462d94773b07a4c732744b9a2"
            ],
            "layout": "IPY_MODEL_5a3ec622cb854d96a968340944ac25a0"
          }
        },
        "5a8f585f39224e7fa74957f6f0876e17": {
          "model_module": "@jupyter-widgets/controls",
          "model_name": "HTMLModel",
          "model_module_version": "1.5.0",
          "state": {
            "_dom_classes": [],
            "_model_module": "@jupyter-widgets/controls",
            "_model_module_version": "1.5.0",
            "_model_name": "HTMLModel",
            "_view_count": null,
            "_view_module": "@jupyter-widgets/controls",
            "_view_module_version": "1.5.0",
            "_view_name": "HTMLView",
            "description": "",
            "description_tooltip": null,
            "layout": "IPY_MODEL_9520852450084c04b493468e44d910c4",
            "placeholder": "​",
            "style": "IPY_MODEL_eae4bff98da2486e8e31ff497926d9c4",
            "value": "Downloading: 100%"
          }
        },
        "a493f48fa5e340669de0b5c0cf5cff6e": {
          "model_module": "@jupyter-widgets/controls",
          "model_name": "FloatProgressModel",
          "model_module_version": "1.5.0",
          "state": {
            "_dom_classes": [],
            "_model_module": "@jupyter-widgets/controls",
            "_model_module_version": "1.5.0",
            "_model_name": "FloatProgressModel",
            "_view_count": null,
            "_view_module": "@jupyter-widgets/controls",
            "_view_module_version": "1.5.0",
            "_view_name": "ProgressView",
            "bar_style": "success",
            "description": "",
            "description_tooltip": null,
            "layout": "IPY_MODEL_130f9450ec2b484087cfc9f525c91e15",
            "max": 2,
            "min": 0,
            "orientation": "horizontal",
            "style": "IPY_MODEL_6149180e1a9f4b929d4a588cb8acf4fb",
            "value": 2
          }
        },
        "a490c9b462d94773b07a4c732744b9a2": {
          "model_module": "@jupyter-widgets/controls",
          "model_name": "HTMLModel",
          "model_module_version": "1.5.0",
          "state": {
            "_dom_classes": [],
            "_model_module": "@jupyter-widgets/controls",
            "_model_module_version": "1.5.0",
            "_model_name": "HTMLModel",
            "_view_count": null,
            "_view_module": "@jupyter-widgets/controls",
            "_view_module_version": "1.5.0",
            "_view_name": "HTMLView",
            "description": "",
            "description_tooltip": null,
            "layout": "IPY_MODEL_38c933634ecd4c88b1d4c96dece0f9c6",
            "placeholder": "​",
            "style": "IPY_MODEL_84e0b8622d114885bbe51d89899e7fae",
            "value": " 2.00/2.00 [00:00&lt;00:00, 46.9B/s]"
          }
        },
        "5a3ec622cb854d96a968340944ac25a0": {
          "model_module": "@jupyter-widgets/base",
          "model_name": "LayoutModel",
          "model_module_version": "1.2.0",
          "state": {
            "_model_module": "@jupyter-widgets/base",
            "_model_module_version": "1.2.0",
            "_model_name": "LayoutModel",
            "_view_count": null,
            "_view_module": "@jupyter-widgets/base",
            "_view_module_version": "1.2.0",
            "_view_name": "LayoutView",
            "align_content": null,
            "align_items": null,
            "align_self": null,
            "border": null,
            "bottom": null,
            "display": null,
            "flex": null,
            "flex_flow": null,
            "grid_area": null,
            "grid_auto_columns": null,
            "grid_auto_flow": null,
            "grid_auto_rows": null,
            "grid_column": null,
            "grid_gap": null,
            "grid_row": null,
            "grid_template_areas": null,
            "grid_template_columns": null,
            "grid_template_rows": null,
            "height": null,
            "justify_content": null,
            "justify_items": null,
            "left": null,
            "margin": null,
            "max_height": null,
            "max_width": null,
            "min_height": null,
            "min_width": null,
            "object_fit": null,
            "object_position": null,
            "order": null,
            "overflow": null,
            "overflow_x": null,
            "overflow_y": null,
            "padding": null,
            "right": null,
            "top": null,
            "visibility": null,
            "width": null
          }
        },
        "9520852450084c04b493468e44d910c4": {
          "model_module": "@jupyter-widgets/base",
          "model_name": "LayoutModel",
          "model_module_version": "1.2.0",
          "state": {
            "_model_module": "@jupyter-widgets/base",
            "_model_module_version": "1.2.0",
            "_model_name": "LayoutModel",
            "_view_count": null,
            "_view_module": "@jupyter-widgets/base",
            "_view_module_version": "1.2.0",
            "_view_name": "LayoutView",
            "align_content": null,
            "align_items": null,
            "align_self": null,
            "border": null,
            "bottom": null,
            "display": null,
            "flex": null,
            "flex_flow": null,
            "grid_area": null,
            "grid_auto_columns": null,
            "grid_auto_flow": null,
            "grid_auto_rows": null,
            "grid_column": null,
            "grid_gap": null,
            "grid_row": null,
            "grid_template_areas": null,
            "grid_template_columns": null,
            "grid_template_rows": null,
            "height": null,
            "justify_content": null,
            "justify_items": null,
            "left": null,
            "margin": null,
            "max_height": null,
            "max_width": null,
            "min_height": null,
            "min_width": null,
            "object_fit": null,
            "object_position": null,
            "order": null,
            "overflow": null,
            "overflow_x": null,
            "overflow_y": null,
            "padding": null,
            "right": null,
            "top": null,
            "visibility": null,
            "width": null
          }
        },
        "eae4bff98da2486e8e31ff497926d9c4": {
          "model_module": "@jupyter-widgets/controls",
          "model_name": "DescriptionStyleModel",
          "model_module_version": "1.5.0",
          "state": {
            "_model_module": "@jupyter-widgets/controls",
            "_model_module_version": "1.5.0",
            "_model_name": "DescriptionStyleModel",
            "_view_count": null,
            "_view_module": "@jupyter-widgets/base",
            "_view_module_version": "1.2.0",
            "_view_name": "StyleView",
            "description_width": ""
          }
        },
        "130f9450ec2b484087cfc9f525c91e15": {
          "model_module": "@jupyter-widgets/base",
          "model_name": "LayoutModel",
          "model_module_version": "1.2.0",
          "state": {
            "_model_module": "@jupyter-widgets/base",
            "_model_module_version": "1.2.0",
            "_model_name": "LayoutModel",
            "_view_count": null,
            "_view_module": "@jupyter-widgets/base",
            "_view_module_version": "1.2.0",
            "_view_name": "LayoutView",
            "align_content": null,
            "align_items": null,
            "align_self": null,
            "border": null,
            "bottom": null,
            "display": null,
            "flex": null,
            "flex_flow": null,
            "grid_area": null,
            "grid_auto_columns": null,
            "grid_auto_flow": null,
            "grid_auto_rows": null,
            "grid_column": null,
            "grid_gap": null,
            "grid_row": null,
            "grid_template_areas": null,
            "grid_template_columns": null,
            "grid_template_rows": null,
            "height": null,
            "justify_content": null,
            "justify_items": null,
            "left": null,
            "margin": null,
            "max_height": null,
            "max_width": null,
            "min_height": null,
            "min_width": null,
            "object_fit": null,
            "object_position": null,
            "order": null,
            "overflow": null,
            "overflow_x": null,
            "overflow_y": null,
            "padding": null,
            "right": null,
            "top": null,
            "visibility": null,
            "width": null
          }
        },
        "6149180e1a9f4b929d4a588cb8acf4fb": {
          "model_module": "@jupyter-widgets/controls",
          "model_name": "ProgressStyleModel",
          "model_module_version": "1.5.0",
          "state": {
            "_model_module": "@jupyter-widgets/controls",
            "_model_module_version": "1.5.0",
            "_model_name": "ProgressStyleModel",
            "_view_count": null,
            "_view_module": "@jupyter-widgets/base",
            "_view_module_version": "1.2.0",
            "_view_name": "StyleView",
            "bar_color": null,
            "description_width": ""
          }
        },
        "38c933634ecd4c88b1d4c96dece0f9c6": {
          "model_module": "@jupyter-widgets/base",
          "model_name": "LayoutModel",
          "model_module_version": "1.2.0",
          "state": {
            "_model_module": "@jupyter-widgets/base",
            "_model_module_version": "1.2.0",
            "_model_name": "LayoutModel",
            "_view_count": null,
            "_view_module": "@jupyter-widgets/base",
            "_view_module_version": "1.2.0",
            "_view_name": "LayoutView",
            "align_content": null,
            "align_items": null,
            "align_self": null,
            "border": null,
            "bottom": null,
            "display": null,
            "flex": null,
            "flex_flow": null,
            "grid_area": null,
            "grid_auto_columns": null,
            "grid_auto_flow": null,
            "grid_auto_rows": null,
            "grid_column": null,
            "grid_gap": null,
            "grid_row": null,
            "grid_template_areas": null,
            "grid_template_columns": null,
            "grid_template_rows": null,
            "height": null,
            "justify_content": null,
            "justify_items": null,
            "left": null,
            "margin": null,
            "max_height": null,
            "max_width": null,
            "min_height": null,
            "min_width": null,
            "object_fit": null,
            "object_position": null,
            "order": null,
            "overflow": null,
            "overflow_x": null,
            "overflow_y": null,
            "padding": null,
            "right": null,
            "top": null,
            "visibility": null,
            "width": null
          }
        },
        "84e0b8622d114885bbe51d89899e7fae": {
          "model_module": "@jupyter-widgets/controls",
          "model_name": "DescriptionStyleModel",
          "model_module_version": "1.5.0",
          "state": {
            "_model_module": "@jupyter-widgets/controls",
            "_model_module_version": "1.5.0",
            "_model_name": "DescriptionStyleModel",
            "_view_count": null,
            "_view_module": "@jupyter-widgets/base",
            "_view_module_version": "1.2.0",
            "_view_name": "StyleView",
            "description_width": ""
          }
        },
        "3c28dc91af1141328bc326e1b7b4bff3": {
          "model_module": "@jupyter-widgets/controls",
          "model_name": "HBoxModel",
          "model_module_version": "1.5.0",
          "state": {
            "_dom_classes": [],
            "_model_module": "@jupyter-widgets/controls",
            "_model_module_version": "1.5.0",
            "_model_name": "HBoxModel",
            "_view_count": null,
            "_view_module": "@jupyter-widgets/controls",
            "_view_module_version": "1.5.0",
            "_view_name": "HBoxView",
            "box_style": "",
            "children": [
              "IPY_MODEL_9387ee74cab84a939e73a157fc8261f8",
              "IPY_MODEL_04b7075cdba74fc8a2cb373a19df8db4",
              "IPY_MODEL_3bd34199bbe64f2b8aa9069d4dcdd186"
            ],
            "layout": "IPY_MODEL_a7279164cd5a4b958a9598d4c0324774"
          }
        },
        "9387ee74cab84a939e73a157fc8261f8": {
          "model_module": "@jupyter-widgets/controls",
          "model_name": "HTMLModel",
          "model_module_version": "1.5.0",
          "state": {
            "_dom_classes": [],
            "_model_module": "@jupyter-widgets/controls",
            "_model_module_version": "1.5.0",
            "_model_name": "HTMLModel",
            "_view_count": null,
            "_view_module": "@jupyter-widgets/controls",
            "_view_module_version": "1.5.0",
            "_view_name": "HTMLView",
            "description": "",
            "description_tooltip": null,
            "layout": "IPY_MODEL_6c1876b285af480695a7cef9e94d2343",
            "placeholder": "​",
            "style": "IPY_MODEL_07759642cacb4ef6a9dc2a03f509863d",
            "value": "Downloading: 100%"
          }
        },
        "04b7075cdba74fc8a2cb373a19df8db4": {
          "model_module": "@jupyter-widgets/controls",
          "model_name": "FloatProgressModel",
          "model_module_version": "1.5.0",
          "state": {
            "_dom_classes": [],
            "_model_module": "@jupyter-widgets/controls",
            "_model_module_version": "1.5.0",
            "_model_name": "FloatProgressModel",
            "_view_count": null,
            "_view_module": "@jupyter-widgets/controls",
            "_view_module_version": "1.5.0",
            "_view_name": "ProgressView",
            "bar_style": "success",
            "description": "",
            "description_tooltip": null,
            "layout": "IPY_MODEL_dd542ecb31fc44f89a904e5adc645045",
            "max": 112,
            "min": 0,
            "orientation": "horizontal",
            "style": "IPY_MODEL_e7a2c4b6bcbd452cab618aed958ac273",
            "value": 112
          }
        },
        "3bd34199bbe64f2b8aa9069d4dcdd186": {
          "model_module": "@jupyter-widgets/controls",
          "model_name": "HTMLModel",
          "model_module_version": "1.5.0",
          "state": {
            "_dom_classes": [],
            "_model_module": "@jupyter-widgets/controls",
            "_model_module_version": "1.5.0",
            "_model_name": "HTMLModel",
            "_view_count": null,
            "_view_module": "@jupyter-widgets/controls",
            "_view_module_version": "1.5.0",
            "_view_name": "HTMLView",
            "description": "",
            "description_tooltip": null,
            "layout": "IPY_MODEL_5051df0f33e044b69815024662c52e83",
            "placeholder": "​",
            "style": "IPY_MODEL_3353cd2a4c38448490a49c5d59f5a9d9",
            "value": " 112/112 [00:00&lt;00:00, 1.33kB/s]"
          }
        },
        "a7279164cd5a4b958a9598d4c0324774": {
          "model_module": "@jupyter-widgets/base",
          "model_name": "LayoutModel",
          "model_module_version": "1.2.0",
          "state": {
            "_model_module": "@jupyter-widgets/base",
            "_model_module_version": "1.2.0",
            "_model_name": "LayoutModel",
            "_view_count": null,
            "_view_module": "@jupyter-widgets/base",
            "_view_module_version": "1.2.0",
            "_view_name": "LayoutView",
            "align_content": null,
            "align_items": null,
            "align_self": null,
            "border": null,
            "bottom": null,
            "display": null,
            "flex": null,
            "flex_flow": null,
            "grid_area": null,
            "grid_auto_columns": null,
            "grid_auto_flow": null,
            "grid_auto_rows": null,
            "grid_column": null,
            "grid_gap": null,
            "grid_row": null,
            "grid_template_areas": null,
            "grid_template_columns": null,
            "grid_template_rows": null,
            "height": null,
            "justify_content": null,
            "justify_items": null,
            "left": null,
            "margin": null,
            "max_height": null,
            "max_width": null,
            "min_height": null,
            "min_width": null,
            "object_fit": null,
            "object_position": null,
            "order": null,
            "overflow": null,
            "overflow_x": null,
            "overflow_y": null,
            "padding": null,
            "right": null,
            "top": null,
            "visibility": null,
            "width": null
          }
        },
        "6c1876b285af480695a7cef9e94d2343": {
          "model_module": "@jupyter-widgets/base",
          "model_name": "LayoutModel",
          "model_module_version": "1.2.0",
          "state": {
            "_model_module": "@jupyter-widgets/base",
            "_model_module_version": "1.2.0",
            "_model_name": "LayoutModel",
            "_view_count": null,
            "_view_module": "@jupyter-widgets/base",
            "_view_module_version": "1.2.0",
            "_view_name": "LayoutView",
            "align_content": null,
            "align_items": null,
            "align_self": null,
            "border": null,
            "bottom": null,
            "display": null,
            "flex": null,
            "flex_flow": null,
            "grid_area": null,
            "grid_auto_columns": null,
            "grid_auto_flow": null,
            "grid_auto_rows": null,
            "grid_column": null,
            "grid_gap": null,
            "grid_row": null,
            "grid_template_areas": null,
            "grid_template_columns": null,
            "grid_template_rows": null,
            "height": null,
            "justify_content": null,
            "justify_items": null,
            "left": null,
            "margin": null,
            "max_height": null,
            "max_width": null,
            "min_height": null,
            "min_width": null,
            "object_fit": null,
            "object_position": null,
            "order": null,
            "overflow": null,
            "overflow_x": null,
            "overflow_y": null,
            "padding": null,
            "right": null,
            "top": null,
            "visibility": null,
            "width": null
          }
        },
        "07759642cacb4ef6a9dc2a03f509863d": {
          "model_module": "@jupyter-widgets/controls",
          "model_name": "DescriptionStyleModel",
          "model_module_version": "1.5.0",
          "state": {
            "_model_module": "@jupyter-widgets/controls",
            "_model_module_version": "1.5.0",
            "_model_name": "DescriptionStyleModel",
            "_view_count": null,
            "_view_module": "@jupyter-widgets/base",
            "_view_module_version": "1.2.0",
            "_view_name": "StyleView",
            "description_width": ""
          }
        },
        "dd542ecb31fc44f89a904e5adc645045": {
          "model_module": "@jupyter-widgets/base",
          "model_name": "LayoutModel",
          "model_module_version": "1.2.0",
          "state": {
            "_model_module": "@jupyter-widgets/base",
            "_model_module_version": "1.2.0",
            "_model_name": "LayoutModel",
            "_view_count": null,
            "_view_module": "@jupyter-widgets/base",
            "_view_module_version": "1.2.0",
            "_view_name": "LayoutView",
            "align_content": null,
            "align_items": null,
            "align_self": null,
            "border": null,
            "bottom": null,
            "display": null,
            "flex": null,
            "flex_flow": null,
            "grid_area": null,
            "grid_auto_columns": null,
            "grid_auto_flow": null,
            "grid_auto_rows": null,
            "grid_column": null,
            "grid_gap": null,
            "grid_row": null,
            "grid_template_areas": null,
            "grid_template_columns": null,
            "grid_template_rows": null,
            "height": null,
            "justify_content": null,
            "justify_items": null,
            "left": null,
            "margin": null,
            "max_height": null,
            "max_width": null,
            "min_height": null,
            "min_width": null,
            "object_fit": null,
            "object_position": null,
            "order": null,
            "overflow": null,
            "overflow_x": null,
            "overflow_y": null,
            "padding": null,
            "right": null,
            "top": null,
            "visibility": null,
            "width": null
          }
        },
        "e7a2c4b6bcbd452cab618aed958ac273": {
          "model_module": "@jupyter-widgets/controls",
          "model_name": "ProgressStyleModel",
          "model_module_version": "1.5.0",
          "state": {
            "_model_module": "@jupyter-widgets/controls",
            "_model_module_version": "1.5.0",
            "_model_name": "ProgressStyleModel",
            "_view_count": null,
            "_view_module": "@jupyter-widgets/base",
            "_view_module_version": "1.2.0",
            "_view_name": "StyleView",
            "bar_color": null,
            "description_width": ""
          }
        },
        "5051df0f33e044b69815024662c52e83": {
          "model_module": "@jupyter-widgets/base",
          "model_name": "LayoutModel",
          "model_module_version": "1.2.0",
          "state": {
            "_model_module": "@jupyter-widgets/base",
            "_model_module_version": "1.2.0",
            "_model_name": "LayoutModel",
            "_view_count": null,
            "_view_module": "@jupyter-widgets/base",
            "_view_module_version": "1.2.0",
            "_view_name": "LayoutView",
            "align_content": null,
            "align_items": null,
            "align_self": null,
            "border": null,
            "bottom": null,
            "display": null,
            "flex": null,
            "flex_flow": null,
            "grid_area": null,
            "grid_auto_columns": null,
            "grid_auto_flow": null,
            "grid_auto_rows": null,
            "grid_column": null,
            "grid_gap": null,
            "grid_row": null,
            "grid_template_areas": null,
            "grid_template_columns": null,
            "grid_template_rows": null,
            "height": null,
            "justify_content": null,
            "justify_items": null,
            "left": null,
            "margin": null,
            "max_height": null,
            "max_width": null,
            "min_height": null,
            "min_width": null,
            "object_fit": null,
            "object_position": null,
            "order": null,
            "overflow": null,
            "overflow_x": null,
            "overflow_y": null,
            "padding": null,
            "right": null,
            "top": null,
            "visibility": null,
            "width": null
          }
        },
        "3353cd2a4c38448490a49c5d59f5a9d9": {
          "model_module": "@jupyter-widgets/controls",
          "model_name": "DescriptionStyleModel",
          "model_module_version": "1.5.0",
          "state": {
            "_model_module": "@jupyter-widgets/controls",
            "_model_module_version": "1.5.0",
            "_model_name": "DescriptionStyleModel",
            "_view_count": null,
            "_view_module": "@jupyter-widgets/base",
            "_view_module_version": "1.2.0",
            "_view_name": "StyleView",
            "description_width": ""
          }
        },
        "ad86652b44824072befb0a3813c357b5": {
          "model_module": "@jupyter-widgets/controls",
          "model_name": "HBoxModel",
          "model_module_version": "1.5.0",
          "state": {
            "_dom_classes": [],
            "_model_module": "@jupyter-widgets/controls",
            "_model_module_version": "1.5.0",
            "_model_name": "HBoxModel",
            "_view_count": null,
            "_view_module": "@jupyter-widgets/controls",
            "_view_module_version": "1.5.0",
            "_view_name": "HBoxView",
            "box_style": "",
            "children": [
              "IPY_MODEL_f0a5c2bf706749b1a3f44e54fd6204c8",
              "IPY_MODEL_6002dbe5b4e94a1eabd150926ca94d01",
              "IPY_MODEL_b5bde0bd56dc4634905cdfbec98ced0d"
            ],
            "layout": "IPY_MODEL_0371989d8fc94730be8e2eb71432b3f9"
          }
        },
        "f0a5c2bf706749b1a3f44e54fd6204c8": {
          "model_module": "@jupyter-widgets/controls",
          "model_name": "HTMLModel",
          "model_module_version": "1.5.0",
          "state": {
            "_dom_classes": [],
            "_model_module": "@jupyter-widgets/controls",
            "_model_module_version": "1.5.0",
            "_model_name": "HTMLModel",
            "_view_count": null,
            "_view_module": "@jupyter-widgets/controls",
            "_view_module_version": "1.5.0",
            "_view_name": "HTMLView",
            "description": "",
            "description_tooltip": null,
            "layout": "IPY_MODEL_a01f8f60877b4075a2b1040729ca981f",
            "placeholder": "​",
            "style": "IPY_MODEL_67a11fc2ac774d9ea6c3c38e1c55b631",
            "value": "Downloading: 100%"
          }
        },
        "6002dbe5b4e94a1eabd150926ca94d01": {
          "model_module": "@jupyter-widgets/controls",
          "model_name": "FloatProgressModel",
          "model_module_version": "1.5.0",
          "state": {
            "_dom_classes": [],
            "_model_module": "@jupyter-widgets/controls",
            "_model_module_version": "1.5.0",
            "_model_name": "FloatProgressModel",
            "_view_count": null,
            "_view_module": "@jupyter-widgets/controls",
            "_view_module_version": "1.5.0",
            "_view_name": "ProgressView",
            "bar_style": "success",
            "description": "",
            "description_tooltip": null,
            "layout": "IPY_MODEL_153cc919e54147c297c65dfb0f6a0980",
            "max": 155,
            "min": 0,
            "orientation": "horizontal",
            "style": "IPY_MODEL_037aeb786c0347789f130658b7292578",
            "value": 155
          }
        },
        "b5bde0bd56dc4634905cdfbec98ced0d": {
          "model_module": "@jupyter-widgets/controls",
          "model_name": "HTMLModel",
          "model_module_version": "1.5.0",
          "state": {
            "_dom_classes": [],
            "_model_module": "@jupyter-widgets/controls",
            "_model_module_version": "1.5.0",
            "_model_name": "HTMLModel",
            "_view_count": null,
            "_view_module": "@jupyter-widgets/controls",
            "_view_module_version": "1.5.0",
            "_view_name": "HTMLView",
            "description": "",
            "description_tooltip": null,
            "layout": "IPY_MODEL_80163f6fdf19482f81d477223b5eaae7",
            "placeholder": "​",
            "style": "IPY_MODEL_612b5c0bff1046fd8a3c65a4e1d9b8e8",
            "value": " 155/155 [00:00&lt;00:00, 1.51kB/s]"
          }
        },
        "0371989d8fc94730be8e2eb71432b3f9": {
          "model_module": "@jupyter-widgets/base",
          "model_name": "LayoutModel",
          "model_module_version": "1.2.0",
          "state": {
            "_model_module": "@jupyter-widgets/base",
            "_model_module_version": "1.2.0",
            "_model_name": "LayoutModel",
            "_view_count": null,
            "_view_module": "@jupyter-widgets/base",
            "_view_module_version": "1.2.0",
            "_view_name": "LayoutView",
            "align_content": null,
            "align_items": null,
            "align_self": null,
            "border": null,
            "bottom": null,
            "display": null,
            "flex": null,
            "flex_flow": null,
            "grid_area": null,
            "grid_auto_columns": null,
            "grid_auto_flow": null,
            "grid_auto_rows": null,
            "grid_column": null,
            "grid_gap": null,
            "grid_row": null,
            "grid_template_areas": null,
            "grid_template_columns": null,
            "grid_template_rows": null,
            "height": null,
            "justify_content": null,
            "justify_items": null,
            "left": null,
            "margin": null,
            "max_height": null,
            "max_width": null,
            "min_height": null,
            "min_width": null,
            "object_fit": null,
            "object_position": null,
            "order": null,
            "overflow": null,
            "overflow_x": null,
            "overflow_y": null,
            "padding": null,
            "right": null,
            "top": null,
            "visibility": null,
            "width": null
          }
        },
        "a01f8f60877b4075a2b1040729ca981f": {
          "model_module": "@jupyter-widgets/base",
          "model_name": "LayoutModel",
          "model_module_version": "1.2.0",
          "state": {
            "_model_module": "@jupyter-widgets/base",
            "_model_module_version": "1.2.0",
            "_model_name": "LayoutModel",
            "_view_count": null,
            "_view_module": "@jupyter-widgets/base",
            "_view_module_version": "1.2.0",
            "_view_name": "LayoutView",
            "align_content": null,
            "align_items": null,
            "align_self": null,
            "border": null,
            "bottom": null,
            "display": null,
            "flex": null,
            "flex_flow": null,
            "grid_area": null,
            "grid_auto_columns": null,
            "grid_auto_flow": null,
            "grid_auto_rows": null,
            "grid_column": null,
            "grid_gap": null,
            "grid_row": null,
            "grid_template_areas": null,
            "grid_template_columns": null,
            "grid_template_rows": null,
            "height": null,
            "justify_content": null,
            "justify_items": null,
            "left": null,
            "margin": null,
            "max_height": null,
            "max_width": null,
            "min_height": null,
            "min_width": null,
            "object_fit": null,
            "object_position": null,
            "order": null,
            "overflow": null,
            "overflow_x": null,
            "overflow_y": null,
            "padding": null,
            "right": null,
            "top": null,
            "visibility": null,
            "width": null
          }
        },
        "67a11fc2ac774d9ea6c3c38e1c55b631": {
          "model_module": "@jupyter-widgets/controls",
          "model_name": "DescriptionStyleModel",
          "model_module_version": "1.5.0",
          "state": {
            "_model_module": "@jupyter-widgets/controls",
            "_model_module_version": "1.5.0",
            "_model_name": "DescriptionStyleModel",
            "_view_count": null,
            "_view_module": "@jupyter-widgets/base",
            "_view_module_version": "1.2.0",
            "_view_name": "StyleView",
            "description_width": ""
          }
        },
        "153cc919e54147c297c65dfb0f6a0980": {
          "model_module": "@jupyter-widgets/base",
          "model_name": "LayoutModel",
          "model_module_version": "1.2.0",
          "state": {
            "_model_module": "@jupyter-widgets/base",
            "_model_module_version": "1.2.0",
            "_model_name": "LayoutModel",
            "_view_count": null,
            "_view_module": "@jupyter-widgets/base",
            "_view_module_version": "1.2.0",
            "_view_name": "LayoutView",
            "align_content": null,
            "align_items": null,
            "align_self": null,
            "border": null,
            "bottom": null,
            "display": null,
            "flex": null,
            "flex_flow": null,
            "grid_area": null,
            "grid_auto_columns": null,
            "grid_auto_flow": null,
            "grid_auto_rows": null,
            "grid_column": null,
            "grid_gap": null,
            "grid_row": null,
            "grid_template_areas": null,
            "grid_template_columns": null,
            "grid_template_rows": null,
            "height": null,
            "justify_content": null,
            "justify_items": null,
            "left": null,
            "margin": null,
            "max_height": null,
            "max_width": null,
            "min_height": null,
            "min_width": null,
            "object_fit": null,
            "object_position": null,
            "order": null,
            "overflow": null,
            "overflow_x": null,
            "overflow_y": null,
            "padding": null,
            "right": null,
            "top": null,
            "visibility": null,
            "width": null
          }
        },
        "037aeb786c0347789f130658b7292578": {
          "model_module": "@jupyter-widgets/controls",
          "model_name": "ProgressStyleModel",
          "model_module_version": "1.5.0",
          "state": {
            "_model_module": "@jupyter-widgets/controls",
            "_model_module_version": "1.5.0",
            "_model_name": "ProgressStyleModel",
            "_view_count": null,
            "_view_module": "@jupyter-widgets/base",
            "_view_module_version": "1.2.0",
            "_view_name": "StyleView",
            "bar_color": null,
            "description_width": ""
          }
        },
        "80163f6fdf19482f81d477223b5eaae7": {
          "model_module": "@jupyter-widgets/base",
          "model_name": "LayoutModel",
          "model_module_version": "1.2.0",
          "state": {
            "_model_module": "@jupyter-widgets/base",
            "_model_module_version": "1.2.0",
            "_model_name": "LayoutModel",
            "_view_count": null,
            "_view_module": "@jupyter-widgets/base",
            "_view_module_version": "1.2.0",
            "_view_name": "LayoutView",
            "align_content": null,
            "align_items": null,
            "align_self": null,
            "border": null,
            "bottom": null,
            "display": null,
            "flex": null,
            "flex_flow": null,
            "grid_area": null,
            "grid_auto_columns": null,
            "grid_auto_flow": null,
            "grid_auto_rows": null,
            "grid_column": null,
            "grid_gap": null,
            "grid_row": null,
            "grid_template_areas": null,
            "grid_template_columns": null,
            "grid_template_rows": null,
            "height": null,
            "justify_content": null,
            "justify_items": null,
            "left": null,
            "margin": null,
            "max_height": null,
            "max_width": null,
            "min_height": null,
            "min_width": null,
            "object_fit": null,
            "object_position": null,
            "order": null,
            "overflow": null,
            "overflow_x": null,
            "overflow_y": null,
            "padding": null,
            "right": null,
            "top": null,
            "visibility": null,
            "width": null
          }
        },
        "612b5c0bff1046fd8a3c65a4e1d9b8e8": {
          "model_module": "@jupyter-widgets/controls",
          "model_name": "DescriptionStyleModel",
          "model_module_version": "1.5.0",
          "state": {
            "_model_module": "@jupyter-widgets/controls",
            "_model_module_version": "1.5.0",
            "_model_name": "DescriptionStyleModel",
            "_view_count": null,
            "_view_module": "@jupyter-widgets/base",
            "_view_module_version": "1.2.0",
            "_view_name": "StyleView",
            "description_width": ""
          }
        },
        "17c13774ed7745dba6c9794dc3798173": {
          "model_module": "@jupyter-widgets/controls",
          "model_name": "HBoxModel",
          "model_module_version": "1.5.0",
          "state": {
            "_dom_classes": [],
            "_model_module": "@jupyter-widgets/controls",
            "_model_module_version": "1.5.0",
            "_model_name": "HBoxModel",
            "_view_count": null,
            "_view_module": "@jupyter-widgets/controls",
            "_view_module_version": "1.5.0",
            "_view_name": "HBoxView",
            "box_style": "",
            "children": [
              "IPY_MODEL_3910fd20792a4509a42538864d1d21ef",
              "IPY_MODEL_2ca1054f6ee6475e9c34df09ad1b4e22",
              "IPY_MODEL_3e80d4e392bc4eff82ed8611bfd6b1e8"
            ],
            "layout": "IPY_MODEL_030e4e57322a4530b0f0fc8b51a9e932"
          }
        },
        "3910fd20792a4509a42538864d1d21ef": {
          "model_module": "@jupyter-widgets/controls",
          "model_name": "HTMLModel",
          "model_module_version": "1.5.0",
          "state": {
            "_dom_classes": [],
            "_model_module": "@jupyter-widgets/controls",
            "_model_module_version": "1.5.0",
            "_model_name": "HTMLModel",
            "_view_count": null,
            "_view_module": "@jupyter-widgets/controls",
            "_view_module_version": "1.5.0",
            "_view_name": "HTMLView",
            "description": "",
            "description_tooltip": null,
            "layout": "IPY_MODEL_fa7a8281d5ad4f06a8c3dcb0d621d918",
            "placeholder": "​",
            "style": "IPY_MODEL_67a183a5c5ed4be49021db9dba862a4a",
            "value": "Downloading: 100%"
          }
        },
        "2ca1054f6ee6475e9c34df09ad1b4e22": {
          "model_module": "@jupyter-widgets/controls",
          "model_name": "FloatProgressModel",
          "model_module_version": "1.5.0",
          "state": {
            "_dom_classes": [],
            "_model_module": "@jupyter-widgets/controls",
            "_model_module_version": "1.5.0",
            "_model_name": "FloatProgressModel",
            "_view_count": null,
            "_view_module": "@jupyter-widgets/controls",
            "_view_module_version": "1.5.0",
            "_view_name": "ProgressView",
            "bar_style": "success",
            "description": "",
            "description_tooltip": null,
            "layout": "IPY_MODEL_45153afde2334ed8bd18d47c4438407d",
            "max": 648,
            "min": 0,
            "orientation": "horizontal",
            "style": "IPY_MODEL_224396d375c5403c85e084921fc595ec",
            "value": 648
          }
        },
        "3e80d4e392bc4eff82ed8611bfd6b1e8": {
          "model_module": "@jupyter-widgets/controls",
          "model_name": "HTMLModel",
          "model_module_version": "1.5.0",
          "state": {
            "_dom_classes": [],
            "_model_module": "@jupyter-widgets/controls",
            "_model_module_version": "1.5.0",
            "_model_name": "HTMLModel",
            "_view_count": null,
            "_view_module": "@jupyter-widgets/controls",
            "_view_module_version": "1.5.0",
            "_view_name": "HTMLView",
            "description": "",
            "description_tooltip": null,
            "layout": "IPY_MODEL_1f80ef755e4c48d29e7f8a330ed4c596",
            "placeholder": "​",
            "style": "IPY_MODEL_d53b55805f5b475c84fb890a3d883bde",
            "value": " 648/648 [00:00&lt;00:00, 9.03kB/s]"
          }
        },
        "030e4e57322a4530b0f0fc8b51a9e932": {
          "model_module": "@jupyter-widgets/base",
          "model_name": "LayoutModel",
          "model_module_version": "1.2.0",
          "state": {
            "_model_module": "@jupyter-widgets/base",
            "_model_module_version": "1.2.0",
            "_model_name": "LayoutModel",
            "_view_count": null,
            "_view_module": "@jupyter-widgets/base",
            "_view_module_version": "1.2.0",
            "_view_name": "LayoutView",
            "align_content": null,
            "align_items": null,
            "align_self": null,
            "border": null,
            "bottom": null,
            "display": null,
            "flex": null,
            "flex_flow": null,
            "grid_area": null,
            "grid_auto_columns": null,
            "grid_auto_flow": null,
            "grid_auto_rows": null,
            "grid_column": null,
            "grid_gap": null,
            "grid_row": null,
            "grid_template_areas": null,
            "grid_template_columns": null,
            "grid_template_rows": null,
            "height": null,
            "justify_content": null,
            "justify_items": null,
            "left": null,
            "margin": null,
            "max_height": null,
            "max_width": null,
            "min_height": null,
            "min_width": null,
            "object_fit": null,
            "object_position": null,
            "order": null,
            "overflow": null,
            "overflow_x": null,
            "overflow_y": null,
            "padding": null,
            "right": null,
            "top": null,
            "visibility": null,
            "width": null
          }
        },
        "fa7a8281d5ad4f06a8c3dcb0d621d918": {
          "model_module": "@jupyter-widgets/base",
          "model_name": "LayoutModel",
          "model_module_version": "1.2.0",
          "state": {
            "_model_module": "@jupyter-widgets/base",
            "_model_module_version": "1.2.0",
            "_model_name": "LayoutModel",
            "_view_count": null,
            "_view_module": "@jupyter-widgets/base",
            "_view_module_version": "1.2.0",
            "_view_name": "LayoutView",
            "align_content": null,
            "align_items": null,
            "align_self": null,
            "border": null,
            "bottom": null,
            "display": null,
            "flex": null,
            "flex_flow": null,
            "grid_area": null,
            "grid_auto_columns": null,
            "grid_auto_flow": null,
            "grid_auto_rows": null,
            "grid_column": null,
            "grid_gap": null,
            "grid_row": null,
            "grid_template_areas": null,
            "grid_template_columns": null,
            "grid_template_rows": null,
            "height": null,
            "justify_content": null,
            "justify_items": null,
            "left": null,
            "margin": null,
            "max_height": null,
            "max_width": null,
            "min_height": null,
            "min_width": null,
            "object_fit": null,
            "object_position": null,
            "order": null,
            "overflow": null,
            "overflow_x": null,
            "overflow_y": null,
            "padding": null,
            "right": null,
            "top": null,
            "visibility": null,
            "width": null
          }
        },
        "67a183a5c5ed4be49021db9dba862a4a": {
          "model_module": "@jupyter-widgets/controls",
          "model_name": "DescriptionStyleModel",
          "model_module_version": "1.5.0",
          "state": {
            "_model_module": "@jupyter-widgets/controls",
            "_model_module_version": "1.5.0",
            "_model_name": "DescriptionStyleModel",
            "_view_count": null,
            "_view_module": "@jupyter-widgets/base",
            "_view_module_version": "1.2.0",
            "_view_name": "StyleView",
            "description_width": ""
          }
        },
        "45153afde2334ed8bd18d47c4438407d": {
          "model_module": "@jupyter-widgets/base",
          "model_name": "LayoutModel",
          "model_module_version": "1.2.0",
          "state": {
            "_model_module": "@jupyter-widgets/base",
            "_model_module_version": "1.2.0",
            "_model_name": "LayoutModel",
            "_view_count": null,
            "_view_module": "@jupyter-widgets/base",
            "_view_module_version": "1.2.0",
            "_view_name": "LayoutView",
            "align_content": null,
            "align_items": null,
            "align_self": null,
            "border": null,
            "bottom": null,
            "display": null,
            "flex": null,
            "flex_flow": null,
            "grid_area": null,
            "grid_auto_columns": null,
            "grid_auto_flow": null,
            "grid_auto_rows": null,
            "grid_column": null,
            "grid_gap": null,
            "grid_row": null,
            "grid_template_areas": null,
            "grid_template_columns": null,
            "grid_template_rows": null,
            "height": null,
            "justify_content": null,
            "justify_items": null,
            "left": null,
            "margin": null,
            "max_height": null,
            "max_width": null,
            "min_height": null,
            "min_width": null,
            "object_fit": null,
            "object_position": null,
            "order": null,
            "overflow": null,
            "overflow_x": null,
            "overflow_y": null,
            "padding": null,
            "right": null,
            "top": null,
            "visibility": null,
            "width": null
          }
        },
        "224396d375c5403c85e084921fc595ec": {
          "model_module": "@jupyter-widgets/controls",
          "model_name": "ProgressStyleModel",
          "model_module_version": "1.5.0",
          "state": {
            "_model_module": "@jupyter-widgets/controls",
            "_model_module_version": "1.5.0",
            "_model_name": "ProgressStyleModel",
            "_view_count": null,
            "_view_module": "@jupyter-widgets/base",
            "_view_module_version": "1.2.0",
            "_view_name": "StyleView",
            "bar_color": null,
            "description_width": ""
          }
        },
        "1f80ef755e4c48d29e7f8a330ed4c596": {
          "model_module": "@jupyter-widgets/base",
          "model_name": "LayoutModel",
          "model_module_version": "1.2.0",
          "state": {
            "_model_module": "@jupyter-widgets/base",
            "_model_module_version": "1.2.0",
            "_model_name": "LayoutModel",
            "_view_count": null,
            "_view_module": "@jupyter-widgets/base",
            "_view_module_version": "1.2.0",
            "_view_name": "LayoutView",
            "align_content": null,
            "align_items": null,
            "align_self": null,
            "border": null,
            "bottom": null,
            "display": null,
            "flex": null,
            "flex_flow": null,
            "grid_area": null,
            "grid_auto_columns": null,
            "grid_auto_flow": null,
            "grid_auto_rows": null,
            "grid_column": null,
            "grid_gap": null,
            "grid_row": null,
            "grid_template_areas": null,
            "grid_template_columns": null,
            "grid_template_rows": null,
            "height": null,
            "justify_content": null,
            "justify_items": null,
            "left": null,
            "margin": null,
            "max_height": null,
            "max_width": null,
            "min_height": null,
            "min_width": null,
            "object_fit": null,
            "object_position": null,
            "order": null,
            "overflow": null,
            "overflow_x": null,
            "overflow_y": null,
            "padding": null,
            "right": null,
            "top": null,
            "visibility": null,
            "width": null
          }
        },
        "d53b55805f5b475c84fb890a3d883bde": {
          "model_module": "@jupyter-widgets/controls",
          "model_name": "DescriptionStyleModel",
          "model_module_version": "1.5.0",
          "state": {
            "_model_module": "@jupyter-widgets/controls",
            "_model_module_version": "1.5.0",
            "_model_name": "DescriptionStyleModel",
            "_view_count": null,
            "_view_module": "@jupyter-widgets/base",
            "_view_module_version": "1.2.0",
            "_view_name": "StyleView",
            "description_width": ""
          }
        }
      }
    }
  },
  "nbformat": 4,
  "nbformat_minor": 0
}