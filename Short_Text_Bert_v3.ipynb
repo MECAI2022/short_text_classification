{
  "cells": [
    {
      "cell_type": "markdown",
      "metadata": {
        "id": "view-in-github",
        "colab_type": "text"
      },
      "source": [
        "<a href=\"https://colab.research.google.com/github/MECAI2022/short_text_classification/blob/main/Short_Text_Bert_v3.ipynb\" target=\"_parent\"><img src=\"https://colab.research.google.com/assets/colab-badge.svg\" alt=\"Open In Colab\"/></a>"
      ]
    },
    {
      "cell_type": "markdown",
      "metadata": {
        "id": "J5-xoiDDXS0R"
      },
      "source": [
        "### Sort Text com BERT"
      ]
    },
    {
      "cell_type": "code",
      "execution_count": null,
      "metadata": {
        "colab": {
          "base_uri": "https://localhost:8080/"
        },
        "id": "zax-hsAmXVMD",
        "outputId": "c9638a23-9a32-498f-a587-dd83618bcadf"
      },
      "outputs": [
        {
          "output_type": "stream",
          "name": "stdout",
          "text": [
            "Fri Dec  9 02:06:56 2022       \n",
            "+-----------------------------------------------------------------------------+\n",
            "| NVIDIA-SMI 460.32.03    Driver Version: 460.32.03    CUDA Version: 11.2     |\n",
            "|-------------------------------+----------------------+----------------------+\n",
            "| GPU  Name        Persistence-M| Bus-Id        Disp.A | Volatile Uncorr. ECC |\n",
            "| Fan  Temp  Perf  Pwr:Usage/Cap|         Memory-Usage | GPU-Util  Compute M. |\n",
            "|                               |                      |               MIG M. |\n",
            "|===============================+======================+======================|\n",
            "|   0  Tesla T4            Off  | 00000000:00:04.0 Off |                    0 |\n",
            "| N/A   65C    P0    30W /  70W |      0MiB / 15109MiB |      0%      Default |\n",
            "|                               |                      |                  N/A |\n",
            "+-------------------------------+----------------------+----------------------+\n",
            "                                                                               \n",
            "+-----------------------------------------------------------------------------+\n",
            "| Processes:                                                                  |\n",
            "|  GPU   GI   CI        PID   Type   Process name                  GPU Memory |\n",
            "|        ID   ID                                                   Usage      |\n",
            "|=============================================================================|\n",
            "|  No running processes found                                                 |\n",
            "+-----------------------------------------------------------------------------+\n"
          ]
        }
      ],
      "source": [
        "!nvidia-smi"
      ]
    },
    {
      "cell_type": "markdown",
      "metadata": {
        "id": "gfO7m-O68wiD"
      },
      "source": [
        "## O Que é BERT?\n",
        "\n",
        "BERT (introduzido [neste artigo](https://arxiv.org/abs/1810.04805)) significa  Bidirectional Encoder Representations from Transformers:\n",
        "\n",
        "- Bidirecional - Para entender o texto que você está analisando, você terá que olhar para trás (nas palavras anteriores) e para frente (nas próximas palavras)\n",
        "- Transformers - O artigo [Attention Is All You Need](https://arxiv.org/abs/1706.03762) apresentou o modelo Transformer. O Transformer lê sequências inteiras de tokens de uma só vez. Em certo sentido, o modelo é não direcional, enquanto os LSTMs lêem sequencialmente (da esquerda para a direita ou da direita para a esquerda). O mecanismo de atenção permite aprender relações contextuais entre palavras.\n",
        "- Embeddings de palavras contextualizadas (pré-treinadas) - [The ELMO paper](https://arxiv.org/abs/1802.05365v2) introduziu uma maneira de codificar palavras com base em seu significado/contexto.\n",
        "\n",
        "O BERT foi treinado mascarando 15% dos tokens com o objetivo de adivinhá-los. Um objetivo adicional era prever a próxima frase. Vejamos exemplos dessas tarefas:\n",
        "\n",
        "### Modelagem de linguagem mascarada (LM mascarado)\n",
        "\n",
        "O objetivo desta tarefa é adivinhar os tokens mascarados. Vamos dar uma olhada em um exemplo, e tentar não torná-lo mais difícil do que tem que ser:\n",
        "\n",
        "Isso é `[máscara]` ela `[máscara]` -> Isso é o que ela disse\n",
        "\n",
        "### Previsão da próxima frase (NSP)\n",
        "\n",
        "Dado um par de duas sentenças, a tarefa é dizer se a segunda segue ou não a primeira (classificação binária). Vamos continuar com o exemplo:\n",
        "\n",
        "*Input* = `[CLS]` Isso é `[mask]` ela `[mask]`. [SEP] Hahaha, legal! [SEP]\n",
        "\n",
        "*Rótulo* = *ÉPróximo*\n",
        "\n",
        "*Input* = `[CLS]` Isso é `[mask]` ela `[mask]`. [SEP] Dwight, seu ignorante `[máscara]`! [SEP]\n",
        "\n",
        "*Rótulo* = *NãoPróximo*\n",
        "\n",
        "O corpus de treinamento foi composto por duas entradas: [Toronto Book Corpus](https://arxiv.org/abs/1506.06724) (800 milhões de palavras) e Wikipedia em inglês (2.500 milhões de palavras). Enquanto o Transformer original possui um codificador (para leitura da entrada) e um decodificador (que faz a previsão), o BERT utiliza apenas o decodificador.\n",
        "\n",
        "BERT é simplesmente vários  pré-treinada de codificadores de transformadores. Quantos codificadores? Temos duas versões - com 12 (BERT base) e 24 (BERT Large).\n",
        "\n",
        "### Isso é útil na prática?\n",
        "\n",
        "O artigo BERT foi lançado junto com [o código-fonte](https://github.com/google-research/bert) e modelos pré-treinados.\n",
        "\n",
        "A melhor parte é que você pode fazer o Transfer Learning (graças às ideias do OpenAI Transformer) com BERT para muitas tarefas de NLP - Classificação, Resposta a Perguntas, Reconhecimento de Entidades, etc. Você pode treinar com pequenas quantidades de dados e obter um ótimo desempenho!"
      ]
    },
    {
      "cell_type": "markdown",
      "metadata": {
        "id": "6YNYgk8EC9f_"
      },
      "source": [
        "#### Setup & Config\n",
        "\n",
        "Vamos precisar da [biblioteca Transformers](https://huggingface.co/transformers/) do Hugging Face:"
      ]
    },
    {
      "cell_type": "code",
      "source": [
        "!git clone https://github.com/MECAI2022/short_text_classification.git\n",
        "import sys\n",
        "sys.path.append('/content/short_text_classification')\n",
        "from pre_treatment_product import pre_process_text"
      ],
      "metadata": {
        "colab": {
          "base_uri": "https://localhost:8080/"
        },
        "id": "FYCVbis7pPch",
        "outputId": "4da4a507-81cb-421a-d1e9-a4198fcb77d3"
      },
      "execution_count": null,
      "outputs": [
        {
          "output_type": "stream",
          "name": "stdout",
          "text": [
            "Cloning into 'short_text_classification'...\n",
            "remote: Enumerating objects: 116, done.\u001b[K\n",
            "remote: Counting objects: 100% (4/4), done.\u001b[K\n",
            "remote: Compressing objects: 100% (4/4), done.\u001b[K\n",
            "remote: Total 116 (delta 0), reused 0 (delta 0), pack-reused 112\u001b[K\n",
            "Receiving objects: 100% (116/116), 3.30 MiB | 29.38 MiB/s, done.\n",
            "Resolving deltas: 100% (62/62), done.\n"
          ]
        },
        {
          "output_type": "stream",
          "name": "stderr",
          "text": [
            "[nltk_data] Downloading package stopwords to /root/nltk_data...\n",
            "[nltk_data]   Unzipping corpora/stopwords.zip.\n",
            "[nltk_data] Downloading package wordnet to /root/nltk_data...\n"
          ]
        }
      ]
    },
    {
      "cell_type": "code",
      "source": [
        "!pip install transformers\n",
        "!pip install nlpaug"
      ],
      "metadata": {
        "colab": {
          "base_uri": "https://localhost:8080/"
        },
        "id": "TQgDAtQ6rTzQ",
        "outputId": "430eed4b-74e3-4ea3-d3b3-557c3b333718"
      },
      "execution_count": null,
      "outputs": [
        {
          "output_type": "stream",
          "name": "stdout",
          "text": [
            "Looking in indexes: https://pypi.org/simple, https://us-python.pkg.dev/colab-wheels/public/simple/\n",
            "Collecting transformers\n",
            "  Downloading transformers-4.25.1-py3-none-any.whl (5.8 MB)\n",
            "\u001b[K     |████████████████████████████████| 5.8 MB 27.8 MB/s \n",
            "\u001b[?25hRequirement already satisfied: pyyaml>=5.1 in /usr/local/lib/python3.8/dist-packages (from transformers) (6.0)\n",
            "Collecting huggingface-hub<1.0,>=0.10.0\n",
            "  Downloading huggingface_hub-0.11.1-py3-none-any.whl (182 kB)\n",
            "\u001b[K     |████████████████████████████████| 182 kB 75.5 MB/s \n",
            "\u001b[?25hCollecting tokenizers!=0.11.3,<0.14,>=0.11.1\n",
            "  Downloading tokenizers-0.13.2-cp38-cp38-manylinux_2_17_x86_64.manylinux2014_x86_64.whl (7.6 MB)\n",
            "\u001b[K     |████████████████████████████████| 7.6 MB 67.8 MB/s \n",
            "\u001b[?25hRequirement already satisfied: filelock in /usr/local/lib/python3.8/dist-packages (from transformers) (3.8.0)\n",
            "Requirement already satisfied: numpy>=1.17 in /usr/local/lib/python3.8/dist-packages (from transformers) (1.21.6)\n",
            "Requirement already satisfied: tqdm>=4.27 in /usr/local/lib/python3.8/dist-packages (from transformers) (4.64.1)\n",
            "Requirement already satisfied: packaging>=20.0 in /usr/local/lib/python3.8/dist-packages (from transformers) (21.3)\n",
            "Requirement already satisfied: requests in /usr/local/lib/python3.8/dist-packages (from transformers) (2.23.0)\n",
            "Requirement already satisfied: regex!=2019.12.17 in /usr/local/lib/python3.8/dist-packages (from transformers) (2022.6.2)\n",
            "Requirement already satisfied: typing-extensions>=3.7.4.3 in /usr/local/lib/python3.8/dist-packages (from huggingface-hub<1.0,>=0.10.0->transformers) (4.4.0)\n",
            "Requirement already satisfied: pyparsing!=3.0.5,>=2.0.2 in /usr/local/lib/python3.8/dist-packages (from packaging>=20.0->transformers) (3.0.9)\n",
            "Requirement already satisfied: idna<3,>=2.5 in /usr/local/lib/python3.8/dist-packages (from requests->transformers) (2.10)\n",
            "Requirement already satisfied: urllib3!=1.25.0,!=1.25.1,<1.26,>=1.21.1 in /usr/local/lib/python3.8/dist-packages (from requests->transformers) (1.24.3)\n",
            "Requirement already satisfied: chardet<4,>=3.0.2 in /usr/local/lib/python3.8/dist-packages (from requests->transformers) (3.0.4)\n",
            "Requirement already satisfied: certifi>=2017.4.17 in /usr/local/lib/python3.8/dist-packages (from requests->transformers) (2022.9.24)\n",
            "Installing collected packages: tokenizers, huggingface-hub, transformers\n",
            "Successfully installed huggingface-hub-0.11.1 tokenizers-0.13.2 transformers-4.25.1\n",
            "Looking in indexes: https://pypi.org/simple, https://us-python.pkg.dev/colab-wheels/public/simple/\n",
            "Collecting nlpaug\n",
            "  Downloading nlpaug-1.1.11-py3-none-any.whl (410 kB)\n",
            "\u001b[K     |████████████████████████████████| 410 kB 30.5 MB/s \n",
            "\u001b[?25hRequirement already satisfied: gdown>=4.0.0 in /usr/local/lib/python3.8/dist-packages (from nlpaug) (4.4.0)\n",
            "Requirement already satisfied: pandas>=1.2.0 in /usr/local/lib/python3.8/dist-packages (from nlpaug) (1.3.5)\n",
            "Requirement already satisfied: numpy>=1.16.2 in /usr/local/lib/python3.8/dist-packages (from nlpaug) (1.21.6)\n",
            "Requirement already satisfied: requests>=2.22.0 in /usr/local/lib/python3.8/dist-packages (from nlpaug) (2.23.0)\n",
            "Requirement already satisfied: filelock in /usr/local/lib/python3.8/dist-packages (from gdown>=4.0.0->nlpaug) (3.8.0)\n",
            "Requirement already satisfied: beautifulsoup4 in /usr/local/lib/python3.8/dist-packages (from gdown>=4.0.0->nlpaug) (4.6.3)\n",
            "Requirement already satisfied: six in /usr/local/lib/python3.8/dist-packages (from gdown>=4.0.0->nlpaug) (1.15.0)\n",
            "Requirement already satisfied: tqdm in /usr/local/lib/python3.8/dist-packages (from gdown>=4.0.0->nlpaug) (4.64.1)\n",
            "Requirement already satisfied: pytz>=2017.3 in /usr/local/lib/python3.8/dist-packages (from pandas>=1.2.0->nlpaug) (2022.6)\n",
            "Requirement already satisfied: python-dateutil>=2.7.3 in /usr/local/lib/python3.8/dist-packages (from pandas>=1.2.0->nlpaug) (2.8.2)\n",
            "Requirement already satisfied: urllib3!=1.25.0,!=1.25.1,<1.26,>=1.21.1 in /usr/local/lib/python3.8/dist-packages (from requests>=2.22.0->nlpaug) (1.24.3)\n",
            "Requirement already satisfied: chardet<4,>=3.0.2 in /usr/local/lib/python3.8/dist-packages (from requests>=2.22.0->nlpaug) (3.0.4)\n",
            "Requirement already satisfied: certifi>=2017.4.17 in /usr/local/lib/python3.8/dist-packages (from requests>=2.22.0->nlpaug) (2022.9.24)\n",
            "Requirement already satisfied: idna<3,>=2.5 in /usr/local/lib/python3.8/dist-packages (from requests>=2.22.0->nlpaug) (2.10)\n",
            "Requirement already satisfied: PySocks!=1.5.7,>=1.5.6 in /usr/local/lib/python3.8/dist-packages (from requests>=2.22.0->nlpaug) (1.7.1)\n",
            "Installing collected packages: nlpaug\n",
            "Successfully installed nlpaug-1.1.11\n"
          ]
        }
      ]
    },
    {
      "cell_type": "code",
      "execution_count": null,
      "metadata": {
        "id": "wVtdTVF4DazQ",
        "colab": {
          "base_uri": "https://localhost:8080/"
        },
        "outputId": "b0f9502c-a165-4fbd-9494-d37112a781fe"
      },
      "outputs": [
        {
          "output_type": "stream",
          "name": "stdout",
          "text": [
            "cuda:0\n"
          ]
        }
      ],
      "source": [
        "import transformers\n",
        "from transformers import BertModel, BertTokenizer, AdamW, get_linear_schedule_with_warmup,get_cosine_with_hard_restarts_schedule_with_warmup\n",
        "import torch\n",
        "\n",
        "import os\n",
        "import numpy as np\n",
        "import pandas as pd\n",
        "import seaborn as sns\n",
        "from pylab import rcParams\n",
        "import matplotlib.pyplot as plt\n",
        "from matplotlib import rc\n",
        "from sklearn.model_selection import train_test_split\n",
        "from sklearn.metrics import confusion_matrix, classification_report, f1_score,roc_auc_score\n",
        "from collections import defaultdict\n",
        "from textwrap import wrap\n",
        "from sklearn import preprocessing\n",
        "import itertools\n",
        "\n",
        "from torch import nn, optim\n",
        "from torch.utils.data import Dataset, DataLoader\n",
        "import torch.nn.functional as F\n",
        "from tqdm import tqdm\n",
        "import nlpaug.augmenter.word as naw\n",
        "import nlpaug.augmenter.char as nac\n",
        "import pickle\n",
        "\n",
        "%matplotlib inline\n",
        "%config InlineBackend.figure_format='retina'\n",
        "\n",
        "sns.set(style='whitegrid', palette='muted', font_scale=1.2)\n",
        "\n",
        "HAPPY_COLORS_PALETTE = [\"#01BEFE\", \"#FFDD00\", \"#FF7D00\", \"#FF006D\", \"#ADFF02\", \"#8F00FF\"]\n",
        "\n",
        "sns.set_palette(sns.color_palette(HAPPY_COLORS_PALETTE))\n",
        "\n",
        "rcParams['figure.figsize'] = 12, 8\n",
        "\n",
        "RANDOM_SEED = 42\n",
        "np.random.seed(RANDOM_SEED)\n",
        "torch.manual_seed(RANDOM_SEED)\n",
        "import warnings\n",
        "warnings.filterwarnings('ignore')\n",
        "\n",
        "device = torch.device(\"cuda:0\" if torch.cuda.is_available() else \"cpu\")\n",
        "print(device)"
      ]
    },
    {
      "cell_type": "code",
      "source": [
        "from google.colab import drive\n",
        "drive.mount('/content/drive')"
      ],
      "metadata": {
        "colab": {
          "base_uri": "https://localhost:8080/"
        },
        "id": "zdWGzzF5tort",
        "outputId": "c66da997-ec36-437a-a331-dfe74ca14c61"
      },
      "execution_count": null,
      "outputs": [
        {
          "output_type": "stream",
          "name": "stdout",
          "text": [
            "Mounted at /content/drive\n"
          ]
        }
      ]
    },
    {
      "cell_type": "markdown",
      "metadata": {
        "id": "kQzbE6IKD1N8"
      },
      "source": [
        "## EDA"
      ]
    },
    {
      "cell_type": "code",
      "execution_count": null,
      "metadata": {
        "id": "_PhgD2fiWmTo"
      },
      "outputs": [],
      "source": [
        "filepath = \"/content/drive/MyDrive/glove_files/dataset_produtos_V02.xlsx\"\n",
        "filesave = '/content/drive/MyDrive/BERT'\n",
        "\n",
        "df = pd.read_excel(filepath)\n",
        "df.head()\n",
        "\n",
        "pre_treatment = pre_process_text(stopwords_language = 'portuguese',flg_stemm = True , flg_lemm = False)"
      ]
    },
    {
      "cell_type": "markdown",
      "metadata": {
        "id": "WXZDP5WwEKO8"
      },
      "source": [
        "*   Retirar nome de produtos inválidos\n",
        "*   Retirar produtos com pouca frequência (<=10)\n",
        "*   Pré-processar o texto\n",
        "\n",
        "\n",
        "\n",
        "\n",
        "\n"
      ]
    },
    {
      "cell_type": "code",
      "source": [
        "len(df)"
      ],
      "metadata": {
        "colab": {
          "base_uri": "https://localhost:8080/"
        },
        "id": "vvAqX-qvIQ4b",
        "outputId": "08b58e0d-b586-463c-c86c-2cbc38ffeb1b"
      },
      "execution_count": null,
      "outputs": [
        {
          "output_type": "execute_result",
          "data": {
            "text/plain": [
              "192421"
            ]
          },
          "metadata": {},
          "execution_count": 12
        }
      ]
    },
    {
      "cell_type": "code",
      "source": [
        "df = df[df['nm_item'].notnull()]\n",
        "df = df[df['nm_item'].str.lower()!='nao cadastrado'].reset_index(drop=True)\n",
        "\n",
        "df = df[df['nm_product'].isin(['ITENS COM PROBLEMA','DESCONHECIDO'])==False].reset_index(drop=True)\n",
        "\n",
        "#df['nm_item'] = df['nm_item'].apply(lambda x : pre_treatment.transform(x))\n",
        "\n",
        "#df = df.drop_duplicates('nm_item').reset_index(drop=True)"
      ],
      "metadata": {
        "id": "5OSKsGJonxqP"
      },
      "execution_count": null,
      "outputs": []
    },
    {
      "cell_type": "code",
      "source": [
        "import re\n",
        "from unicodedata import normalize\n",
        "\n",
        "def treat_class(word):\n",
        "\n",
        "        word = word.upper()\n",
        "          \n",
        "        #Remove special char\n",
        "\n",
        "        word = normalize('NFKD', word).encode('ASCII', 'ignore').decode('ASCII')\n",
        "        \n",
        "        #Remove numbers \n",
        "\n",
        "        word = re.sub(r'\\b\\d+\\b', '',word)\n",
        "        #Remove punctuation\n",
        "\n",
        "        word = re.sub(r'[^\\w\\s]', '',word)\n",
        "        #Remove multiple Spaces\n",
        "\n",
        "        word = re.sub(r'\\s+', ' ',word)\n",
        "\n",
        "        return word"
      ],
      "metadata": {
        "id": "PrhrVZaq0Ww7"
      },
      "execution_count": null,
      "outputs": []
    },
    {
      "cell_type": "code",
      "source": [
        "for x in ['segmento','categoria','subcategoria','nm_product']:\n",
        "\n",
        "  df[x] = df[x].apply(lambda x : treat_class(x))\n",
        "\n",
        "  count_class = df[x].value_counts()\n",
        "\n",
        "  print(count_class[count_class<=10].index)\n",
        "\n",
        "  count_class = count_class[count_class>10].index\n",
        "\n",
        "  df = df[df[x].isin(count_class)].reset_index(drop=True)"
      ],
      "metadata": {
        "colab": {
          "base_uri": "https://localhost:8080/"
        },
        "id": "3Qws7uuS4sBk",
        "outputId": "99b447ca-15f7-4038-dc35-7ab838f879ba"
      },
      "execution_count": null,
      "outputs": [
        {
          "output_type": "stream",
          "name": "stdout",
          "text": [
            "Index([], dtype='object')\n",
            "Index(['SAUDE ANIMAL', 'SUPLEMENTOS', 'HOSPITALARES E CLINICOS'], dtype='object')\n",
            "Index(['DUTOS E FIACAO'], dtype='object')\n",
            "Index(['ERVILHA SECA', 'CACHECOL', 'AMORA', 'PRODUTO SAZONAL', 'ALMEIRAO',\n",
            "       'PINHAO', 'MIX DE FRIOS', 'MEXERICA', 'RATICIDA', 'LEITE ESPECIAL',\n",
            "       'GLITER', 'MIX DE FOLHAS', 'NECTARINA', 'CHICORIA', 'RABANETE',\n",
            "       'CARNE OVINA', 'MARIA MOLE', 'GERIATRICO', 'SALSAO', 'OUTRO GRAO',\n",
            "       'ALHO PORO', 'OUTRO ACESSORIO PARA CABELOS', 'APONTADOR', 'PINCA',\n",
            "       'TINTA ESCOLAR', 'ESPETINHO CONGELADO', 'GUARDACHUVA', 'REGUA',\n",
            "       'CORANTE ALIMENTAR', 'MAXIXE', 'EQUIPAMENTO DE LIMPEZA PISCINA',\n",
            "       'FORRAGEM PET', 'BORRACHA', 'OUTRO FERMENTADO', 'TINTA', 'ESTOJO',\n",
            "       'SOBREMESA PRONTA RESFRIADA', 'AIPO', 'PASTA', 'CARNE SUINA SAZONAL',\n",
            "       'DOCE DE NATAL', 'ALCACHOFRA', 'LAPISEIRA', 'PREPARO PARA SORVETE',\n",
            "       'OUTRO ARTIGO DE FESTA', 'ROMA', 'COALHADA', 'PREPARO PARA SAGU',\n",
            "       'QUEIJO FATIADO', 'OUTRO HIGIENE E LIMPEZA'],\n",
            "      dtype='object')\n"
          ]
        }
      ]
    },
    {
      "cell_type": "markdown",
      "source": [
        "Puxar máximo número de palavras em uma sentença"
      ],
      "metadata": {
        "id": "RK62GJLT83zz"
      }
    },
    {
      "cell_type": "code",
      "source": [
        "max_lenght = df[\"nm_item\"].apply(lambda x: len(str(x).split(\" \"))).max()"
      ],
      "metadata": {
        "id": "eNBMHNQ_8w5X"
      },
      "execution_count": null,
      "outputs": []
    },
    {
      "cell_type": "code",
      "source": [
        "print(max_lenght)"
      ],
      "metadata": {
        "colab": {
          "base_uri": "https://localhost:8080/"
        },
        "id": "LdNjkFTfb10G",
        "outputId": "8aad8fc1-f782-4b8d-8d6b-cb9be4543443"
      },
      "execution_count": null,
      "outputs": [
        {
          "output_type": "stream",
          "name": "stdout",
          "text": [
            "38\n"
          ]
        }
      ]
    },
    {
      "cell_type": "markdown",
      "source": [
        "Transformar classes com label encoder"
      ],
      "metadata": {
        "id": "xNrUnVr5B_pN"
      }
    },
    {
      "cell_type": "code",
      "source": [
        "for x in ['segmento','categoria','subcategoria','nm_product']:\n",
        "\n",
        "    le = preprocessing.LabelEncoder()\n",
        "\n",
        "    df[x+'_enc'] = le.fit_transform(df[x])\n",
        "\n",
        "    pickle.dump(le,open(os.path.join(filesave,x+'_label_enc.dat'),'wb'))\n",
        "    print('categ '+ x + ' ' + str(df[x+'_enc'].max()))\n"
      ],
      "metadata": {
        "id": "ToSQspf2B_A1",
        "colab": {
          "base_uri": "https://localhost:8080/"
        },
        "outputId": "dd9d3428-91c3-43d4-8bb9-0279368caaf5"
      },
      "execution_count": null,
      "outputs": [
        {
          "output_type": "stream",
          "name": "stdout",
          "text": [
            "categ segmento 5\n",
            "categ categoria 63\n",
            "categ subcategoria 144\n",
            "categ nm_product 656\n"
          ]
        }
      ]
    },
    {
      "cell_type": "markdown",
      "metadata": {
        "id": "2RIoVgVwFGxN"
      },
      "source": [
        "## Pré-processamento de dados\n"
      ]
    },
    {
      "cell_type": "markdown",
      "metadata": {
        "id": "PQee_h7MktIP"
      },
      "source": [
        "Você já deve saber que os modelos de Machine Learning não funcionam com texto bruto. Você precisa converter texto em números (de algum tipo). O BERT requer ainda mais atenção. Aqui estão os requisitos:\n",
        "\n",
        "- Adicione tokens especiais para separar frases e fazer classificação\n",
        "- Passe sequências de comprimento constante (introduza o padding)\n",
        "- Crie um array de 0s (pad token) e 1s (real token) chamado *atention mask*\n",
        "\n",
        "A biblioteca Transformers fornece uma ampla variedade de modelos de Transformers (incluindo BERT). Funciona com TensorFlow e PyTorch! Ele também inclui tokenizers pré-construídos que fazem o trabalho pesado para nós!"
      ]
    },
    {
      "cell_type": "code",
      "execution_count": null,
      "metadata": {
        "id": "sVZo_lRVFDQh",
        "colab": {
          "base_uri": "https://localhost:8080/",
          "height": 177,
          "referenced_widgets": [
            "6dfcf35f6425495e9ea86fe5d8c631ff",
            "6cbc4a7578ca482cb4fdcb05b8f19891",
            "d81bd3dd61bb4044805413cb17b6b8cf",
            "2e65e853b20348edb3094937b471367a",
            "781426dd96e941baa6212babe1f79202",
            "2bbb1dc400be4bbcb0be3c4d94dc67d8",
            "022e67371f6e45acb51d51b854c6c990",
            "856907f4b4494366bdc07f78196d64c9",
            "a7745ab1d7af4d8cbd4888047bb79711",
            "d790b2091e3f46b1b50b46ce81af76e9",
            "3249173b18d44c0ab5c9aa369d8a820c",
            "b8f7390d01d74a498dafd9118704c770",
            "d952b8380563451daedccb13222cf8b8",
            "07988644720649edb4c9ca9dc4f3b3eb",
            "eafd36a27c3b4e6489a0edb7809639c6",
            "310f12395c3d4a3bbea43e901c1d2472",
            "92aacceebf7340fd90352fee10caa6e2",
            "df9a082b16b740d5b11ab132c853aec4",
            "527c4b743170414986505da762515136",
            "9692d74581614a91aff49cc9d3771c06",
            "d1be944ae9dd42859884224f657b217b",
            "a791a888bff94737a8d6ac357fcb2ed4",
            "d455e0c3add542cebb7ea528c32300bc",
            "8f7bd55c60734779bd5dc7bd3d580d2d",
            "9d925cdfb1c742b1b2851935cbfbad36",
            "5331338556d94ab4a73d8a597750f0f0",
            "3acc1a5f00424ab3ac077d2b2e511aa4",
            "1e8176dda64443bfb68849e8347ef1ba",
            "15f5836f044a4f99838477ef1db4adf0",
            "3c636b5780684679a3581b74612f4b61",
            "f05dbd2a559b41d38a8137f45995e982",
            "9db696161cad4ce9b4595bcb0ea9e8c7",
            "5f41bb889ac94f4789966cf63d11a4dc",
            "9ffff3d31465491191a2f1699e5e090c",
            "8aba5de24f804a42b650c2b11889cc07",
            "b47a07d25a934058ac1a8b0c63d14e2b",
            "543686db16214557bebcab4fc67b3148",
            "0c5e1f9a19d74b06a252a8bcdfb4fd12",
            "992c2f04e2764523a952cfc875ddb910",
            "98a8f43982ff43969af3a7175a1846bb",
            "8515e23b34a3415aa25bdddecb44f782",
            "8fc9a4bbd26540b990da608f08be9e2c",
            "5efd4424cf504a53a15de844f8dbd218",
            "e7c305b2f0474f46a5da36e2ff4194b9",
            "e96cf19ff78a4ff594d0b8f1de9ca616",
            "d22460aa6ecc421987c41d609411c199",
            "e9c406feccc84ac99bb51a1cc0816016",
            "7ef9bf2a615f4507bd5b660cb3edb479",
            "67a3d8e2a51f457d89078d23a564b4ed",
            "008ea7a16bec43138cfcb6795af01cbe",
            "8d2c70eb08a84139a811c7b3a494789e",
            "5701cea9c1db449782d9dfa097b71a18",
            "71c9bdc2b90b43fa93cdf3012fe4473a",
            "9ebc028c1b2d4395be296d5b3b66380b",
            "16f9a2c1606e405e8b97cedb231b01fd"
          ]
        },
        "outputId": "08d89cf6-4e8c-47a9-b9a4-715ee80442a2"
      },
      "outputs": [
        {
          "output_type": "display_data",
          "data": {
            "text/plain": [
              "Downloading:   0%|          | 0.00/210k [00:00<?, ?B/s]"
            ],
            "application/vnd.jupyter.widget-view+json": {
              "version_major": 2,
              "version_minor": 0,
              "model_id": "6dfcf35f6425495e9ea86fe5d8c631ff"
            }
          },
          "metadata": {}
        },
        {
          "output_type": "display_data",
          "data": {
            "text/plain": [
              "Downloading:   0%|          | 0.00/2.00 [00:00<?, ?B/s]"
            ],
            "application/vnd.jupyter.widget-view+json": {
              "version_major": 2,
              "version_minor": 0,
              "model_id": "b8f7390d01d74a498dafd9118704c770"
            }
          },
          "metadata": {}
        },
        {
          "output_type": "display_data",
          "data": {
            "text/plain": [
              "Downloading:   0%|          | 0.00/112 [00:00<?, ?B/s]"
            ],
            "application/vnd.jupyter.widget-view+json": {
              "version_major": 2,
              "version_minor": 0,
              "model_id": "d455e0c3add542cebb7ea528c32300bc"
            }
          },
          "metadata": {}
        },
        {
          "output_type": "display_data",
          "data": {
            "text/plain": [
              "Downloading:   0%|          | 0.00/43.0 [00:00<?, ?B/s]"
            ],
            "application/vnd.jupyter.widget-view+json": {
              "version_major": 2,
              "version_minor": 0,
              "model_id": "9ffff3d31465491191a2f1699e5e090c"
            }
          },
          "metadata": {}
        },
        {
          "output_type": "display_data",
          "data": {
            "text/plain": [
              "Downloading:   0%|          | 0.00/647 [00:00<?, ?B/s]"
            ],
            "application/vnd.jupyter.widget-view+json": {
              "version_major": 2,
              "version_minor": 0,
              "model_id": "e96cf19ff78a4ff594d0b8f1de9ca616"
            }
          },
          "metadata": {}
        }
      ],
      "source": [
        "# Pré Treino Bert feito em Português\n",
        "PRE_TRAINED_MODEL_NAME = 'neuralmind/bert-base-portuguese-cased'\n",
        "\n",
        "tokenizer = BertTokenizer.from_pretrained(PRE_TRAINED_MODEL_NAME)"
      ]
    },
    {
      "cell_type": "markdown",
      "metadata": {
        "id": "7Qp57OGfHy4M"
      },
      "source": [
        "https://huggingface.co/neuralmind/bert-base-portuguese-cased\n",
        "\n",
        "https://github.com/neuralmind-ai/portuguese-bert"
      ]
    },
    {
      "cell_type": "markdown",
      "metadata": {
        "id": "V-oaIAX6GQd-"
      },
      "source": [
        "Vamos carregar um pré-treinado [BertTokenizer](https://huggingface.co/transformers/model_doc/bert.html#berttokenizer):"
      ]
    },
    {
      "cell_type": "markdown",
      "metadata": {
        "id": "-w0xt3vKKwMq"
      },
      "source": [
        "### Escolhendo o comprimento da sequência\n",
        "\n",
        "O BERT trabalha com sequências de comprimento fixo. Usaremos uma estratégia simples para escolher o comprimento máximo. Vamos armazenar o tamanho do token de cada avaliação:"
      ]
    },
    {
      "cell_type": "code",
      "execution_count": null,
      "metadata": {
        "id": "UQalJqpBLrLB",
        "colab": {
          "base_uri": "https://localhost:8080/"
        },
        "outputId": "679c6294-e6b4-4819-d266-3d7d4c726895"
      },
      "outputs": [
        {
          "output_type": "stream",
          "name": "stdout",
          "text": [
            "38\n"
          ]
        }
      ],
      "source": [
        "MAX_LEN = max_lenght\n",
        "print(MAX_LEN)"
      ]
    },
    {
      "cell_type": "markdown",
      "metadata": {
        "id": "dKDyNuXWL5KX"
      },
      "source": [
        "Temos todos os blocos de construção necessários para criar um conjunto de dados PyTorch. Vamos fazer isso:"
      ]
    },
    {
      "cell_type": "code",
      "execution_count": null,
      "metadata": {
        "id": "DxQSt1sZL5kp"
      },
      "outputs": [],
      "source": [
        "class ProdutosVarejoDataset(Dataset):\n",
        "\n",
        "  def __init__(self, nm_item, targets, tokenizer, max_len):\n",
        "    self.nm_item = nm_item\n",
        "    self.targets = targets\n",
        "    self.tokenizer = tokenizer\n",
        "    self.max_len = max_len\n",
        "  \n",
        "  def __len__(self):\n",
        "    return len(self.nm_item)\n",
        "  \n",
        "  def __getitem__(self, item):\n",
        "\n",
        "    nm_item = self.nm_item.iloc[item,0]\n",
        "    nm_item2 = pre_treatment.transform(nm_item)\n",
        "\n",
        "    target = self.targets[item]\n",
        "\n",
        "    encoding = self.tokenizer.encode_plus(\n",
        "      nm_item2,\n",
        "      add_special_tokens=True,\n",
        "      max_length=self.max_len,\n",
        "      return_token_type_ids=False,\n",
        "      padding='max_length',\n",
        "      truncation=True,\n",
        "      return_attention_mask=True,\n",
        "      return_tensors='pt',\n",
        "    )\n",
        "\n",
        "    return {\n",
        "      'nm_item_text': nm_item,\n",
        "      'input_ids': encoding['input_ids'].flatten(),\n",
        "      'attention_mask': encoding['attention_mask'].flatten(),\n",
        "      'targets': torch.tensor(target, dtype=torch.long)\n",
        "    }"
      ]
    },
    {
      "cell_type": "markdown",
      "metadata": {
        "id": "2_w5mFC9L-i6"
      },
      "source": [
        "O tokenizer está fazendo a maior parte do trabalho pesado. Também devolvemos os textos de segmentação, para que seja mais fácil avaliar as previsões do nosso modelo. Vamos dividir os dados:"
      ]
    },
    {
      "cell_type": "code",
      "execution_count": null,
      "metadata": {
        "id": "aLqEExhdL-_p"
      },
      "outputs": [],
      "source": [
        "df_train, df_test = train_test_split(df, test_size=0.25, random_state=RANDOM_SEED,stratify = df['nm_product_enc'])\n",
        "df_val, df_test = train_test_split(df_test, test_size=0.5, random_state=RANDOM_SEED,stratify = df_test['nm_product_enc'])"
      ]
    },
    {
      "cell_type": "code",
      "source": [
        "sns.histplot(df['nm_product'].value_counts())"
      ],
      "metadata": {
        "colab": {
          "base_uri": "https://localhost:8080/",
          "height": 524
        },
        "id": "vVJxvXPClApG",
        "outputId": "6d3d7658-e650-4cc1-ba3c-2d86851638d7"
      },
      "execution_count": null,
      "outputs": [
        {
          "output_type": "execute_result",
          "data": {
            "text/plain": [
              "<matplotlib.axes._subplots.AxesSubplot at 0x7f2661b24110>"
            ]
          },
          "metadata": {},
          "execution_count": 16
        },
        {
          "output_type": "display_data",
          "data": {
            "text/plain": [
              "<Figure size 864x576 with 1 Axes>"
            ],
            "image/png": "[encoded data removed]"
          },
          "metadata": {
            "image/png": {
              "width": 736,
              "height": 490
            }
          }
        }
      ]
    },
    {
      "cell_type": "code",
      "source": [
        "df['nm_product'].value_counts().describe()"
      ],
      "metadata": {
        "colab": {
          "base_uri": "https://localhost:8080/"
        },
        "id": "37qfSgiSvSpn",
        "outputId": "094af17c-3ad3-46aa-f66b-c8d161579b68"
      },
      "execution_count": null,
      "outputs": [
        {
          "output_type": "execute_result",
          "data": {
            "text/plain": [
              "count     654.000000\n",
              "mean      280.720183\n",
              "std       592.053578\n",
              "min        11.000000\n",
              "25%        78.000000\n",
              "50%       120.000000\n",
              "75%       257.750000\n",
              "max      8444.000000\n",
              "Name: nm_product, dtype: float64"
            ]
          },
          "metadata": {},
          "execution_count": 17
        }
      ]
    },
    {
      "cell_type": "code",
      "source": [
        "df_train.shape, df_val.shape, df_test.shape"
      ],
      "metadata": {
        "colab": {
          "base_uri": "https://localhost:8080/"
        },
        "id": "3bsuSN1yvlv6",
        "outputId": "e22fb047-4985-4e97-f577-99369d6418df"
      },
      "execution_count": null,
      "outputs": [
        {
          "output_type": "execute_result",
          "data": {
            "text/plain": [
              "((144078, 9), (24013, 9), (24013, 9))"
            ]
          },
          "metadata": {},
          "execution_count": 22
        }
      ]
    },
    {
      "cell_type": "code",
      "source": [
        "import nltk\n",
        "nltk.download('stopwords')\n",
        "\n",
        "def augment_text(df,class_threshold = 20):\n",
        "\n",
        "    new_text=[]\n",
        "\n",
        "    class_counts = df['nm_product'].value_counts()\n",
        "\n",
        "    count_class = class_counts[class_counts <= class_threshold].index\n",
        "\n",
        "    lst_stopwords = nltk.corpus.stopwords.words('portuguese') \n",
        "    aug = naw.SynonymAug(aug_min=1, aug_max=5, lang='por', stopwords=lst_stopwords)\n",
        "\n",
        "    aug_key = nac.KeyboardAug(aug_char_min = 1 , aug_char_max = 3, stopwords = lst_stopwords )\n",
        "\n",
        "    df_m = df[df['nm_product'].isin(count_class)].reset_index(drop=True)\n",
        "    \n",
        "    ## data augmentation loop\n",
        "\n",
        "    final = pd.DataFrame()\n",
        "    for i in range(0,len(df_m)):\n",
        "            z=0\n",
        "            text = df_m.iloc[i]['nm_item']\n",
        "            augmented_text = aug.augment(text,n = 10)\n",
        "            \n",
        "            augmented_text = list(set(augmented_text))\n",
        "\n",
        "            for text2 in augmented_text:\n",
        "\n",
        "                augmented_text2 = aug_key.augment(text2,n = 5)\n",
        "\n",
        "                augmented_text2 = list(set(augmented_text2))\n",
        "\n",
        "                if i%100 == 0:\n",
        "\n",
        "                    print(len(augmented_text))\n",
        "                    print(len(augmented_text2))\n",
        "                    print(i)\n",
        "\n",
        "                base = pd.DataFrame(data = augmented_text2,columns = ['nm_item'] )\n",
        "\n",
        "                base[['segmento','categoria','subcategoria','nm_product',\n",
        "                    'segmento_enc','categoria_enc','subcategoria_enc','nm_product_enc']] = df_m.iloc[i][['segmento','categoria','subcategoria','nm_product',\n",
        "                                                                                                        'segmento_enc','categoria_enc','subcategoria_enc','nm_product_enc']]\n",
        "\n",
        "                df = pd.concat([df,base],ignore_index=True)\n",
        "\n",
        "    ## dataframe\n",
        "\n",
        "    df = df.drop_duplicates('nm_item').reset_index(drop=True)\n",
        "\n",
        "    df = df.sample(frac = 1).reset_index(drop=True)\n",
        "\n",
        "    return df"
      ],
      "metadata": {
        "colab": {
          "base_uri": "https://localhost:8080/"
        },
        "id": "GUvbNPOakTdW",
        "outputId": "91a47067-f70c-493d-a27d-16cd11ae9496"
      },
      "execution_count": null,
      "outputs": [
        {
          "output_type": "stream",
          "name": "stderr",
          "text": [
            "[nltk_data] Downloading package stopwords to /root/nltk_data...\n",
            "[nltk_data]   Package stopwords is already up-to-date!\n"
          ]
        }
      ]
    },
    {
      "cell_type": "code",
      "execution_count": null,
      "metadata": {
        "id": "tGSB9J8tMBIC"
      },
      "outputs": [],
      "source": [
        "df_train2 = augment_text(df_train)\n",
        "\n",
        "print(df_train.duplicated('nm_item').sum())"
      ]
    },
    {
      "cell_type": "code",
      "source": [
        "df_train2.to_csv(os.path.join(filesave,\"train_dataset2.csv\"),sep=';',decimal=',',encoding='utf-8',\n",
        "                    index=False)"
      ],
      "metadata": {
        "id": "nY9Elp6iFI8z"
      },
      "execution_count": null,
      "outputs": []
    },
    {
      "cell_type": "code",
      "source": [
        "sns.kdeplot(df_train['nm_product'].value_counts(),color = 'red',fill=True)\n",
        "sns.kdeplot(df_train2['nm_product'].value_counts(),fill=True)\n",
        "plt.xlim(0,2000)\n",
        "plt.legend(['Before Augmentation','After Augmentation'])\n"
      ],
      "metadata": {
        "colab": {
          "base_uri": "https://localhost:8080/",
          "height": 524
        },
        "id": "nNb4bwq58mwn",
        "outputId": "4b0f66f5-899d-430c-cd8d-dec7e423f7a6"
      },
      "execution_count": null,
      "outputs": [
        {
          "output_type": "execute_result",
          "data": {
            "text/plain": [
              "<matplotlib.legend.Legend at 0x7f49b4e3c610>"
            ]
          },
          "metadata": {},
          "execution_count": 25
        },
        {
          "output_type": "display_data",
          "data": {
            "text/plain": [
              "<Figure size 864x576 with 1 Axes>"
            ],
            "image/png": "[encoded data removed]"
          },
          "metadata": {
            "image/png": {
              "width": 774,
              "height": 490
            }
          }
        }
      ]
    },
    {
      "cell_type": "code",
      "source": [
        "df_train2.shape, df_val.shape, df_test.shape"
      ],
      "metadata": {
        "colab": {
          "base_uri": "https://localhost:8080/"
        },
        "id": "lYa8DgLnwHny",
        "outputId": "f570a094-7572-4f12-d565-42cae6e6303f"
      },
      "execution_count": null,
      "outputs": [
        {
          "output_type": "execute_result",
          "data": {
            "text/plain": [
              "((158417, 9), (24013, 9), (24013, 9))"
            ]
          },
          "metadata": {},
          "execution_count": 26
        }
      ]
    },
    {
      "cell_type": "code",
      "source": [
        "df_train2.isnull().sum()"
      ],
      "metadata": {
        "colab": {
          "base_uri": "https://localhost:8080/"
        },
        "id": "-sFbjmfd5RsZ",
        "outputId": "fa0891e0-5d7d-4bd3-bbb8-340c4be23885"
      },
      "execution_count": null,
      "outputs": [
        {
          "output_type": "execute_result",
          "data": {
            "text/plain": [
              "nm_item             0\n",
              "segmento            0\n",
              "categoria           0\n",
              "subcategoria        0\n",
              "nm_product          0\n",
              "segmento_enc        0\n",
              "categoria_enc       0\n",
              "subcategoria_enc    0\n",
              "nm_product_enc      0\n",
              "dtype: int64"
            ]
          },
          "metadata": {},
          "execution_count": 27
        }
      ]
    },
    {
      "cell_type": "markdown",
      "metadata": {
        "id": "Tid8js2AMEzJ"
      },
      "source": [
        "Também precisamos criar alguns load dos dados. Aqui está uma função auxiliar para fazer isso:"
      ]
    },
    {
      "cell_type": "code",
      "execution_count": null,
      "metadata": {
        "id": "ys08dkFnMFOx"
      },
      "outputs": [],
      "source": [
        "def create_data_loader(X,y, tokenizer, max_len, batch_size):\n",
        "  ds = ProdutosVarejoDataset(\n",
        "    nm_item = X,\n",
        "    targets = y.to_numpy(),\n",
        "    tokenizer=tokenizer,\n",
        "    max_len=max_len\n",
        "  )\n",
        "\n",
        "  return DataLoader(\n",
        "    ds,\n",
        "    batch_size=batch_size,\n",
        "    num_workers=4\n",
        "  )"
      ]
    },
    {
      "cell_type": "markdown",
      "metadata": {
        "id": "4OhEv9k9Mca6"
      },
      "source": [
        "## Classificação de Produtos com  BERT"
      ]
    },
    {
      "cell_type": "code",
      "execution_count": null,
      "metadata": {
        "id": "lM-0eiqhNUbN"
      },
      "outputs": [],
      "source": [
        "class ProductClassifier(nn.Module):\n",
        "\n",
        "  def __init__(self, number_classes,list_drop_out):\n",
        "\n",
        "    super(ProductClassifier, self).__init__()\n",
        "    self.bert = BertModel.from_pretrained(PRE_TRAINED_MODEL_NAME, return_dict=False)\n",
        "\n",
        "    self.drop = nn.Dropout(p= list_drop_out)\n",
        "\n",
        "    # O last_hidden_state é uma sequência de estados ocultos da última camada do modelo\n",
        "    self.out1 = nn.Linear(self.bert.config.hidden_size, number_classes[0])\n",
        "    self.out2 = nn.Linear(self.bert.config.hidden_size, number_classes[1])\n",
        "    self.out3 = nn.Linear(self.bert.config.hidden_size, number_classes[2])\n",
        "    self.out4 = nn.Linear(self.bert.config.hidden_size, number_classes[3])\n",
        "  \n",
        "  def forward(self, input_ids, attention_mask):\n",
        "\n",
        "    _, pooled_output = self.bert(\n",
        "      input_ids=input_ids,\n",
        "      attention_mask=attention_mask\n",
        "    )\n",
        "    output = self.drop(pooled_output)\n",
        "\n",
        "    return [self.out1(output),self.out2(output),self.out3(output),self.out4(output)]"
      ]
    },
    {
      "cell_type": "markdown",
      "metadata": {
        "id": "7Q8gFB-7dsYU"
      },
      "source": [
        "### Training\n",
        "\n",
        "To reproduce the training procedure from the BERT paper, we'll use the [AdamW](https://huggingface.co/transformers/main_classes/optimizer_schedules.html#adamw) optimizer provided by Hugging Face. It corrects weight decay, so it's similar to the original paper. We'll also use a linear scheduler with no warmup steps:"
      ]
    },
    {
      "cell_type": "markdown",
      "metadata": {
        "id": "GJu9X-TEd2-t"
      },
      "source": [
        "How do we come up with all hyperparameters? The BERT authors have some recommendations for fine-tuning:\n",
        "\n",
        "- Batch size: 16, 32\n",
        "- Learning rate (Adam): 5e-5, 3e-5, 2e-5\n",
        "- Number of epochs: 2, 3, 4\n",
        "\n",
        "We're going to ignore the number of epochs recommendation but stick with the rest. Note that increasing the batch size reduces the training time significantly, but gives you lower accuracy.\n",
        "\n",
        "Let's continue with writing a helper function for training our model for one epoch:"
      ]
    },
    {
      "cell_type": "code",
      "source": [
        "class FocalLoss(nn.Module):\n",
        "    \"Focal loss implemented using F.cross_entropy\"\n",
        "    def __init__(self, gamma: float = 2.0, weight=None, reduction: str = 'sum') -> None:\n",
        "        super().__init__()\n",
        "        self.gamma = gamma\n",
        "        self.weight = weight\n",
        "        self.reduction = reduction\n",
        "\n",
        "\n",
        "    def forward(self, inp: torch.Tensor, targ: torch.Tensor):\n",
        "        ce_loss = F.cross_entropy(inp, targ, weight=self.weight, reduction=\"none\")\n",
        "        p_t = torch.exp(-ce_loss)\n",
        "        loss = (1 - p_t)**self.gamma * ce_loss\n",
        "        if self.reduction == \"mean\":\n",
        "            loss = loss.mean()\n",
        "        elif self.reduction == \"sum\":\n",
        "            loss = loss.sum()\n",
        "        return loss\n"
      ],
      "metadata": {
        "id": "z5HRXDRhNpBP"
      },
      "execution_count": null,
      "outputs": []
    },
    {
      "cell_type": "code",
      "execution_count": null,
      "metadata": {
        "id": "tvGtIud7d1O0"
      },
      "outputs": [],
      "source": [
        "def train_epoch(\n",
        "                model, \n",
        "                data_loader, \n",
        "                loss_fn, \n",
        "                optimizer, \n",
        "                device, \n",
        "                scheduler, \n",
        "                epoch\n",
        "              ):\n",
        "\n",
        "  model = model.train()\n",
        "\n",
        "  losses = []\n",
        "  correct_predictions = 0\n",
        "\n",
        "\n",
        "  targets_total = []\n",
        "\n",
        "  with tqdm(data_loader, unit=\"batch\") as tepoch:\n",
        "\n",
        "    for i,d in enumerate(tepoch):\n",
        "      \n",
        "      tepoch.set_description(f\"Epoch {epoch}\")\n",
        "\n",
        "      input_ids_ = d[\"input_ids\"].to(device)\n",
        "      attention_mask_ = d[\"attention_mask\"].to(device)\n",
        "      targets = d[\"targets\"].to(device)\n",
        "\n",
        "      optimizer.zero_grad()\n",
        "\n",
        "      outputs = model(\n",
        "        input_ids=input_ids_,\n",
        "        attention_mask=attention_mask_\n",
        "      )\n",
        "\n",
        "      loss1 = loss_fn[0](outputs[0], targets[:,0])\n",
        "      loss2 = loss_fn[1](outputs[1], targets[:,1])\n",
        "      loss3 = loss_fn[2](outputs[2], targets[:,2])\n",
        "      loss4 = loss_fn[3](outputs[3], targets[:,3])\n",
        "\n",
        "      loss = loss1 + loss2 + loss3 + loss4\n",
        "\n",
        "      losses.append(loss.item())\n",
        "\n",
        "      loss.backward()\n",
        "      nn.utils.clip_grad_norm_(model.parameters(), max_norm=1.0)\n",
        "      optimizer.step()\n",
        "      scheduler.step()\n",
        "\n",
        "\n",
        "      tepoch.set_postfix(loss=loss.item(),                     \n",
        "                         )\n",
        "  return  np.mean(losses)"
      ]
    },
    {
      "cell_type": "code",
      "execution_count": null,
      "metadata": {
        "id": "Xkg8XyzZd5to"
      },
      "outputs": [],
      "source": [
        "def eval_model(model, data_loader, loss_fn, device):\n",
        "\n",
        "  model = model.eval()\n",
        "\n",
        "  losses = []\n",
        "\n",
        "  final_preds1 = []\n",
        "  final_preds2 = []\n",
        "  final_preds3 = []\n",
        "  final_preds4 = []\n",
        "\n",
        "  targets_total = []\n",
        "\n",
        "\n",
        "#   final_preds = [[],[],[],[]]\n",
        "\n",
        "  i = 0 \n",
        "  with torch.no_grad():\n",
        "\n",
        "    for d in data_loader:\n",
        "\n",
        "      input_ids_ = d[\"input_ids\"].to(device)\n",
        "      attention_mask_ = d[\"attention_mask\"].to(device)\n",
        "      targets = d[\"targets\"].to(device)\n",
        "\n",
        "      optimizer.zero_grad()\n",
        "\n",
        "      outputs = model(\n",
        "        input_ids=input_ids_,\n",
        "        attention_mask=attention_mask_\n",
        "      )\n",
        "\n",
        "      loss1 = loss_fn[0](outputs[0], targets[:,0])\n",
        "      loss2 = loss_fn[1](outputs[1], targets[:,1])\n",
        "      loss3 = loss_fn[2](outputs[2], targets[:,2])\n",
        "      loss4 = loss_fn[3](outputs[3], targets[:,3])\n",
        "\n",
        "      loss = loss1 + loss2 + loss3 + loss4\n",
        "\n",
        "      losses.append(loss.item())\n",
        "\n",
        "      probs = list(map(lambda x : F.softmax(x, dim=1),outputs))\n",
        "\n",
        "      final_preds1.extend(probs[0])\n",
        "      final_preds2.extend(probs[1])\n",
        "      final_preds3.extend(probs[2])\n",
        "      final_preds4.extend(probs[3])\n",
        "      targets_total.extend(targets)\n",
        "\n",
        "\n",
        "  final_preds1 = torch.stack(final_preds1).cpu()\n",
        "  final_preds2 = torch.stack(final_preds2).cpu()\n",
        "  final_preds3 = torch.stack(final_preds3).cpu()\n",
        "  final_preds4 = torch.stack(final_preds4).cpu()\n",
        "\n",
        "  final_preds = [final_preds1,final_preds2,final_preds3,final_preds4]\n",
        "\n",
        "  targets_total = torch.stack(targets_total).cpu()\n",
        "\n",
        "  metrics = {}\n",
        "\n",
        "  for i in range(4):\n",
        "\n",
        "      _, best_values =  torch.max(final_preds[i],dim=1)\n",
        "\n",
        "      metrics.update({'F1_SCORE_'+str(i):f1_score(targets_total[:,i].flatten(), best_values.detach(), average='macro')})\n",
        "\n",
        "  return metrics"
      ]
    },
    {
      "cell_type": "code",
      "execution_count": null,
      "metadata": {
        "id": "FD7hwSShd-HU"
      },
      "outputs": [],
      "source": [
        "%%time\n",
        "\n",
        "model_dict={\n",
        "            'base':{\"batch_size\":[32],\n",
        "                           \"lr_rate\":[5e-5],\n",
        "                           \"gamma1\":[0,0.5,1],\n",
        "                            \"gamma2\":[1,0.5],\n",
        "                            \"gamma3\":[1],\n",
        "                            \"gamma4\":[2],\n",
        "                            \"drop_out\":[0.5],\n",
        "                           \n",
        "                           },\n",
        "                            }\n",
        "\n",
        "EPOCHS = 30\n",
        "EARLY_STOP = 5\n",
        "device = torch.device(\"cuda:0\" if torch.cuda.is_available() else \"cpu\")\n",
        "\n",
        "\n",
        "final_results = pd.read_csv(os.path.join(filesave,\"BERT_PARAMETERS_v4.csv\"),sep=';',decimal=',',encoding='utf-8')\n",
        "\n",
        "# final_results = pd.DataFrame()\n",
        "\n",
        "for modelo in model_dict.keys():\n",
        "    \n",
        "    for p in itertools.product(*model_dict[modelo].values()):\n",
        "        z=0\n",
        "        parameters=dict(zip(model_dict[modelo].keys(),p))\n",
        "\n",
        "        if final_results.empty == False:\n",
        "\n",
        "            check_results = final_results[final_results['Model']==modelo].reset_index(drop=True)\n",
        "\n",
        "            if check_results.empty == False:   \n",
        "\n",
        "                if str(parameters) in check_results['parameters'].to_list() :\n",
        "                    \n",
        "                    print('rodou')\n",
        "                    continue\n",
        "\n",
        "        history = defaultdict(list)\n",
        "        best_accuracy = {'AUC':0.0,\n",
        "                         'F1_SCORE':0.0}\n",
        "\n",
        "        best_accuracy_val = 0 \n",
        "\n",
        "        count = 0\n",
        "        class_size = [df['segmento_enc'].nunique(),df['categoria_enc'].nunique(),df['subcategoria_enc'].nunique(),df['nm_product_enc'].nunique()]\n",
        "\n",
        "        BATCH_SIZE = parameters['batch_size']\n",
        "\n",
        "        train_data_loader = create_data_loader(df_train2['nm_item'],df_train2[['segmento_enc','categoria_enc','subcategoria_enc','nm_product_enc']], tokenizer, MAX_LEN, BATCH_SIZE)\n",
        "        val_data_loader = create_data_loader(df_val['nm_item'],df_val[['segmento_enc','categoria_enc','subcategoria_enc','nm_product_enc']], tokenizer, MAX_LEN, BATCH_SIZE)\n",
        "        test_data_loader = create_data_loader(df_test['nm_item'],df_test[['segmento_enc','categoria_enc','subcategoria_enc','nm_product_enc']], tokenizer, MAX_LEN, BATCH_SIZE)\n",
        "        \n",
        "\n",
        "        model = ProductClassifier(class_size,parameters['drop_out']).to(device)\n",
        "\n",
        "        optimizer = AdamW(model.parameters(), lr= parameters['lr_rate'], correct_bias=False)\n",
        "        total_steps = len(train_data_loader) * EPOCHS\n",
        "\n",
        "        scheduler = get_cosine_with_hard_restarts_schedule_with_warmup(\n",
        "        optimizer,\n",
        "        num_warmup_steps= int(total_steps*0.05),\n",
        "        num_training_steps=total_steps,\n",
        "        num_cycles = 2\n",
        "\n",
        "        )\n",
        "\n",
        "        loss_fn = [FocalLoss(gamma = parameters['gamma1']).to(device),FocalLoss(gamma = parameters['gamma2']).to(device),FocalLoss(gamma = parameters['gamma3']).to(device),FocalLoss(gamma = parameters['gamma4']).to(device)]\n",
        "\n",
        "        model = model.to(device)\n",
        "\n",
        "        for epoch in range(EPOCHS):\n",
        "\n",
        "            print(f'Epoch {epoch + 1}/{EPOCHS}')\n",
        "            print('-' * 10)\n",
        "\n",
        "            train_loss = train_epoch(\n",
        "                model,\n",
        "                train_data_loader, \n",
        "                loss_fn,\n",
        "                optimizer, \n",
        "                device,\n",
        "                scheduler,\n",
        "                epoch = epoch\n",
        "            )\n",
        "\n",
        "            print(f'Train loss {train_loss}')\n",
        "\n",
        "            metrics_val = eval_model(\n",
        "                model,\n",
        "                val_data_loader,\n",
        "                loss_fn, \n",
        "                device,\n",
        "            )\n",
        "\n",
        "        \n",
        "            F1_mean = (metrics_val['F1_SCORE_0']+metrics_val['F1_SCORE_1']+metrics_val['F1_SCORE_2']+metrics_val['F1_SCORE_3'])/4\n",
        "\n",
        "            print('f1-score {f1_score}'.format(f1_score =F1_mean))\n",
        "\n",
        "            if round(F1_mean,5) > round(best_accuracy_val,5):\n",
        "\n",
        "                torch.save(model.state_dict(), 'best_model_state.bin')\n",
        "                best_accuracy_val = F1_mean\n",
        "                best_accuracy = metrics_val\n",
        "\n",
        "                count = 0\n",
        "\n",
        "            else:\n",
        "\n",
        "                count += 1\n",
        "\n",
        "                if count >= EARLY_STOP:\n",
        "\n",
        "                    break\n",
        "\n",
        "        metrics  =  eval_model(\n",
        "                              model,\n",
        "                              test_data_loader,\n",
        "                              loss_fn, \n",
        "                              device,\n",
        "                                    )\n",
        "\n",
        "        results=pd.DataFrame([{'Model':modelo,\n",
        "                    'parameters':parameters,\n",
        "\n",
        "                    # 'AUC_VAL_SEGMENTO':best_accuracy['AUC_0'],\n",
        "                    # 'AUC_VAL_CATEGORIA':best_accuracy['AUC_1'],\n",
        "                    # 'AUC_VAL_SUBCATEGORIA':best_accuracy['AUC_2'],\n",
        "                    # 'AUC_VAL_PRODUTO':best_accuracy['AUC_3'],\n",
        "\n",
        "                    'F1_SCORE_VAL_SEGMENTO':best_accuracy['F1_SCORE_0'],\n",
        "                    'F1_SCORE_VAL_CATEGORIA':best_accuracy['F1_SCORE_1'],\n",
        "                    'F1_SCORE_VAL_SUBCATEGORIA':best_accuracy['F1_SCORE_2'],\n",
        "                    'F1_SCORE_VAL_PRODUTO':best_accuracy['F1_SCORE_3'],\n",
        "\n",
        "                    # 'AUC_TEST_SEGMENTO':metrics['AUC_0'],\n",
        "                    # 'AUC_TEST_CATEGORIA':metrics['AUC_1'],\n",
        "                    # 'AUC_TEST_SUBCATEGORIA':metrics['AUC_2'],\n",
        "                    # 'AUC_TEST_PRODUTO':metrics['AUC_3'],\n",
        "\n",
        "                    'F1_SCORE_TEST_SEGMENTO':metrics['F1_SCORE_0'],\n",
        "                    'F1_SCORE_TEST_CATEGORIA':metrics['F1_SCORE_1'],\n",
        "                    'F1_SCORE_TEST_SUBCATEGORIA':metrics['F1_SCORE_2'],\n",
        "                    'F1_SCORE_TEST_PRODUTO':metrics['F1_SCORE_3'],\n",
        "\n",
        "                    }])\n",
        "\n",
        "        final_results=final_results.append(results,ignore_index=True)\n",
        "\n",
        "        final_results.to_csv(os.path.join(filesave,\"BERT_PARAMETERS_v4.csv\"),sep=';',decimal=',',encoding='utf-8',\n",
        "                    index=False)"
      ]
    },
    {
      "cell_type": "code",
      "source": [
        "df_train_final = pd.concat([df_train2,df_val],ignore_index=True)"
      ],
      "metadata": {
        "id": "sBOMq-6HSAzx"
      },
      "execution_count": null,
      "outputs": []
    },
    {
      "cell_type": "code",
      "source": [
        "%%time\n",
        "\n",
        "model_dict={\n",
        "            'base':{\"batch_size\":[32],\n",
        "                           \"lr_rate\":[5e-5],\n",
        "                           \"gamma1\":[2],\n",
        "                            \"gamma2\":[1],\n",
        "                            \"gamma3\":[1],\n",
        "                            \"gamma4\":[2],\n",
        "                            \"drop_out\":[0.5],\n",
        "                           \n",
        "                           },\n",
        "                            }\n",
        "\n",
        "EPOCHS = 40\n",
        "EARLY_STOP = 10\n",
        "device = torch.device(\"cuda:0\" if torch.cuda.is_available() else \"cpu\")\n",
        "\n",
        "\n",
        "# final_results = pd.read_csv(os.path.join(filesave,\"BERT_PARAMETERS_v4.csv\"),sep=';',decimal=',',encoding='utf-8')\n",
        "\n",
        "final_results = pd.DataFrame()\n",
        "\n",
        "for modelo in model_dict.keys():\n",
        "    \n",
        "    for p in itertools.product(*model_dict[modelo].values()):\n",
        "        z=0\n",
        "        parameters=dict(zip(model_dict[modelo].keys(),p))\n",
        "\n",
        "        if final_results.empty == False:\n",
        "\n",
        "            check_results = final_results[final_results['Model']==modelo].reset_index(drop=True)\n",
        "\n",
        "            if check_results.empty == False:   \n",
        "\n",
        "                if str(parameters) in check_results['parameters'].to_list() :\n",
        "                    \n",
        "                    print('rodou')\n",
        "                    continue\n",
        "\n",
        "        history = defaultdict(list)\n",
        "        best_accuracy = {'AUC':0.0,\n",
        "                         'F1_SCORE':0.0}\n",
        "\n",
        "        best_accuracy_val = 0 \n",
        "\n",
        "        count = 0\n",
        "        class_size = [df['segmento_enc'].nunique(),df['categoria_enc'].nunique(),df['subcategoria_enc'].nunique(),df['nm_product_enc'].nunique()]\n",
        "\n",
        "        BATCH_SIZE = parameters['batch_size']\n",
        "\n",
        "        train_data_loader = create_data_loader(df_train_final[['nm_item']],df_train_final[['segmento_enc','categoria_enc','subcategoria_enc','nm_product_enc']], tokenizer, MAX_LEN, BATCH_SIZE)\n",
        "        # val_data_loader = create_data_loader(df_val['nm_item'],df_val[['segmento_enc','categoria_enc','subcategoria_enc','nm_product_enc']], tokenizer, MAX_LEN, BATCH_SIZE)\n",
        "        test_data_loader = create_data_loader(df_test[['nm_item']],df_test[['segmento_enc','categoria_enc','subcategoria_enc','nm_product_enc']], tokenizer, MAX_LEN, BATCH_SIZE)\n",
        "        \n",
        "        model = ProductClassifier(class_size,parameters['drop_out']).to(device)\n",
        "\n",
        "        optimizer = AdamW(model.parameters(), lr= parameters['lr_rate'], correct_bias=False)\n",
        "        total_steps = len(train_data_loader) * EPOCHS\n",
        "\n",
        "        scheduler = get_cosine_with_hard_restarts_schedule_with_warmup(\n",
        "        optimizer,\n",
        "        num_warmup_steps= int(total_steps*0.05),\n",
        "        num_training_steps=total_steps,\n",
        "        num_cycles = 2\n",
        "\n",
        "        )\n",
        "\n",
        "        loss_fn = [FocalLoss(gamma = parameters['gamma1']).to(device),FocalLoss(gamma = parameters['gamma2']).to(device),FocalLoss(gamma = parameters['gamma3']).to(device),FocalLoss(gamma = parameters['gamma4']).to(device)]\n",
        "\n",
        "        model = model.to(device)\n",
        "\n",
        "        for epoch in range(EPOCHS):\n",
        "\n",
        "            print(f'Epoch {epoch + 1}/{EPOCHS}')\n",
        "            print('-' * 10)\n",
        "\n",
        "            train_loss = train_epoch(\n",
        "                model,\n",
        "                train_data_loader, \n",
        "                loss_fn,\n",
        "                optimizer, \n",
        "                device,\n",
        "                scheduler,\n",
        "                epoch = epoch\n",
        "            )\n",
        "\n",
        "            print(f'Train loss {train_loss}')\n",
        "\n",
        "            metrics_val = eval_model(\n",
        "                model,\n",
        "                test_data_loader,\n",
        "                loss_fn, \n",
        "                device,\n",
        "            )\n",
        "\n",
        "        \n",
        "            F1_mean = (metrics_val['F1_SCORE_0']+metrics_val['F1_SCORE_1']+metrics_val['F1_SCORE_2']+metrics_val['F1_SCORE_3'])/4\n",
        "\n",
        "            print('f1-score {f1_score}'.format(f1_score = F1_mean))\n",
        "\n",
        "            if round(F1_mean,5) > round(best_accuracy_val,5):\n",
        "\n",
        "                torch.save(model, os.path.join(filesave,'BERT_FINAL_MODELO.pth'))\n",
        "                best_accuracy_val = F1_mean\n",
        "                best_accuracy = metrics_val\n",
        "\n",
        "                metrics  =  eval_model(\n",
        "                              model,\n",
        "                              test_data_loader,\n",
        "                              loss_fn, \n",
        "                              device,\n",
        "                                    )\n",
        "\n",
        "                count = 0\n",
        "\n",
        "            else:\n",
        "\n",
        "                count += 1\n",
        "\n",
        "                if count >= EARLY_STOP:\n",
        "\n",
        "                    break\n",
        "\n",
        "        results=pd.DataFrame([{'Model':modelo,\n",
        "                    'parameters':parameters,\n",
        "\n",
        "                    # 'AUC_VAL_SEGMENTO':best_accuracy['AUC_0'],\n",
        "                    # 'AUC_VAL_CATEGORIA':best_accuracy['AUC_1'],\n",
        "                    # 'AUC_VAL_SUBCATEGORIA':best_accuracy['AUC_2'],\n",
        "                    # 'AUC_VAL_PRODUTO':best_accuracy['AUC_3'],\n",
        "\n",
        "                    'F1_SCORE_VAL_SEGMENTO':best_accuracy['F1_SCORE_0'],\n",
        "                    'F1_SCORE_VAL_CATEGORIA':best_accuracy['F1_SCORE_1'],\n",
        "                    'F1_SCORE_VAL_SUBCATEGORIA':best_accuracy['F1_SCORE_2'],\n",
        "                    'F1_SCORE_VAL_PRODUTO':best_accuracy['F1_SCORE_3'],\n",
        "\n",
        "                    # 'AUC_TEST_SEGMENTO':metrics['AUC_0'],\n",
        "                    # 'AUC_TEST_CATEGORIA':metrics['AUC_1'],\n",
        "                    # 'AUC_TEST_SUBCATEGORIA':metrics['AUC_2'],\n",
        "                    # 'AUC_TEST_PRODUTO':metrics['AUC_3'],\n",
        "\n",
        "                    'F1_SCORE_TEST_SEGMENTO':metrics['F1_SCORE_0'],\n",
        "                    'F1_SCORE_TEST_CATEGORIA':metrics['F1_SCORE_1'],\n",
        "                    'F1_SCORE_TEST_SUBCATEGORIA':metrics['F1_SCORE_2'],\n",
        "                    'F1_SCORE_TEST_PRODUTO':metrics['F1_SCORE_3'],\n",
        "\n",
        "                    }])\n",
        "\n",
        "        final_results=final_results.append(results,ignore_index=True)\n",
        "\n",
        "        final_results.to_csv(os.path.join(filesave,\"BERT_PARAMETERS_v5.csv\"),sep=';',decimal=',',encoding='utf-8',\n",
        "                    index=False)"
      ],
      "metadata": {
        "id": "iu5iFG_HQ3Rh"
      },
      "execution_count": null,
      "outputs": []
    },
    {
      "cell_type": "markdown",
      "metadata": {
        "id": "Ie-jdgYtTVMl"
      },
      "source": [
        "### FUNCAO PARA ESCORGEM\n",
        "\n",
        "Função para utilização do modelo"
      ]
    },
    {
      "cell_type": "markdown",
      "metadata": {
        "id": "viRJUSeOTneC"
      },
      "source": [
        "Vamos definir uma função auxiliar para obter as previsões do nosso modelo:"
      ]
    },
    {
      "cell_type": "code",
      "source": [
        "### Instalar pacotes ###\n",
        "!git clone https://github.com/MECAI2022/short_text_classification.git\n",
        "!pip install transformers\n",
        "#######"
      ],
      "metadata": {
        "colab": {
          "base_uri": "https://localhost:8080/"
        },
        "id": "G0K7Tg43OMCp",
        "outputId": "a83192ba-2ba0-4b08-c85c-19d73e326ca7"
      },
      "execution_count": null,
      "outputs": [
        {
          "output_type": "stream",
          "name": "stdout",
          "text": [
            "Cloning into 'short_text_classification'...\n",
            "remote: Enumerating objects: 116, done.\u001b[K\n",
            "remote: Counting objects: 100% (4/4), done.\u001b[K\n",
            "remote: Compressing objects: 100% (4/4), done.\u001b[K\n",
            "remote: Total 116 (delta 0), reused 0 (delta 0), pack-reused 112\u001b[K\n",
            "Receiving objects: 100% (116/116), 3.30 MiB | 4.58 MiB/s, done.\n",
            "Resolving deltas: 100% (62/62), done.\n",
            "Looking in indexes: https://pypi.org/simple, https://us-python.pkg.dev/colab-wheels/public/simple/\n",
            "Collecting transformers\n",
            "  Downloading transformers-4.25.1-py3-none-any.whl (5.8 MB)\n",
            "\u001b[K     |████████████████████████████████| 5.8 MB 20.9 MB/s \n",
            "\u001b[?25hRequirement already satisfied: tqdm>=4.27 in /usr/local/lib/python3.8/dist-packages (from transformers) (4.64.1)\n",
            "Collecting huggingface-hub<1.0,>=0.10.0\n",
            "  Downloading huggingface_hub-0.11.1-py3-none-any.whl (182 kB)\n",
            "\u001b[K     |████████████████████████████████| 182 kB 77.9 MB/s \n",
            "\u001b[?25hRequirement already satisfied: pyyaml>=5.1 in /usr/local/lib/python3.8/dist-packages (from transformers) (6.0)\n",
            "Collecting tokenizers!=0.11.3,<0.14,>=0.11.1\n",
            "  Downloading tokenizers-0.13.2-cp38-cp38-manylinux_2_17_x86_64.manylinux2014_x86_64.whl (7.6 MB)\n",
            "\u001b[K     |████████████████████████████████| 7.6 MB 45.4 MB/s \n",
            "\u001b[?25hRequirement already satisfied: filelock in /usr/local/lib/python3.8/dist-packages (from transformers) (3.8.0)\n",
            "Requirement already satisfied: packaging>=20.0 in /usr/local/lib/python3.8/dist-packages (from transformers) (21.3)\n",
            "Requirement already satisfied: regex!=2019.12.17 in /usr/local/lib/python3.8/dist-packages (from transformers) (2022.6.2)\n",
            "Requirement already satisfied: requests in /usr/local/lib/python3.8/dist-packages (from transformers) (2.23.0)\n",
            "Requirement already satisfied: numpy>=1.17 in /usr/local/lib/python3.8/dist-packages (from transformers) (1.21.6)\n",
            "Requirement already satisfied: typing-extensions>=3.7.4.3 in /usr/local/lib/python3.8/dist-packages (from huggingface-hub<1.0,>=0.10.0->transformers) (4.4.0)\n",
            "Requirement already satisfied: pyparsing!=3.0.5,>=2.0.2 in /usr/local/lib/python3.8/dist-packages (from packaging>=20.0->transformers) (3.0.9)\n",
            "Requirement already satisfied: certifi>=2017.4.17 in /usr/local/lib/python3.8/dist-packages (from requests->transformers) (2022.9.24)\n",
            "Requirement already satisfied: chardet<4,>=3.0.2 in /usr/local/lib/python3.8/dist-packages (from requests->transformers) (3.0.4)\n",
            "Requirement already satisfied: idna<3,>=2.5 in /usr/local/lib/python3.8/dist-packages (from requests->transformers) (2.10)\n",
            "Requirement already satisfied: urllib3!=1.25.0,!=1.25.1,<1.26,>=1.21.1 in /usr/local/lib/python3.8/dist-packages (from requests->transformers) (1.24.3)\n",
            "Installing collected packages: tokenizers, huggingface-hub, transformers\n",
            "Successfully installed huggingface-hub-0.11.1 tokenizers-0.13.2 transformers-4.25.1\n"
          ]
        }
      ]
    },
    {
      "cell_type": "code",
      "source": [
        "# Importar pacotes\n",
        "\n",
        "import sys\n",
        "sys.path.append('/content/short_text_classification')\n",
        "from pre_treatment_product import pre_process_text\n",
        "import os\n",
        "import numpy as np\n",
        "import pandas as pd\n",
        "from sklearn import preprocessing\n",
        "from torch import nn\n",
        "from torch.utils.data import Dataset, DataLoader\n",
        "import torch.nn.functional as F\n",
        "from transformers import  BertTokenizer\n",
        "import pickle\n",
        "import torch\n",
        "\n",
        "\n",
        "#Varivaveis globais\n",
        "filesave = '/content/drive/MyDrive/BERT'\n",
        "\n",
        "pre_treatment = pre_process_text(stopwords_language = 'portuguese',flg_stemm = True , flg_lemm = False)\n",
        "\n",
        "PRE_TRAINED_MODEL_NAME = 'neuralmind/bert-base-portuguese-cased'\n",
        "\n",
        "tokenizer = BertTokenizer.from_pretrained(PRE_TRAINED_MODEL_NAME)\n",
        "\n",
        "device = torch.device(\"cuda:0\" if torch.cuda.is_available() else \"cpu\")\n",
        "\n",
        "\n",
        "max_lenght = 38\n",
        "\n",
        "encoders = {'segmento':pickle.load(open(os.path.join(filesave,'segmento_label_enc.dat'),'rb')),\n",
        "            'categoria':pickle.load(open(os.path.join(filesave,'categoria_label_enc.dat'),'rb')),\n",
        "            'subcategoria':pickle.load(open(os.path.join(filesave,'subcategoria_label_enc.dat'),'rb')),\n",
        "            'nm_product':pickle.load(open(os.path.join(filesave,'nm_product_label_enc.dat'),'rb'))}\n",
        "\n",
        "\n",
        "### Funcoes auxiliares ####\n",
        "class ProdutosVarejoDataset(Dataset):\n",
        "\n",
        "  def __init__(self, nm_item, tokenizer, max_len):\n",
        "    self.nm_item = nm_item\n",
        "    self.tokenizer = tokenizer\n",
        "    self.max_len = max_len\n",
        "  \n",
        "  def __len__(self):\n",
        "    return len(self.nm_item)\n",
        "  \n",
        "  def __getitem__(self, item):\n",
        "    \n",
        "    nm_item = self.nm_item.iloc[item,0]\n",
        "\n",
        "    nm_item2 = pre_treatment.transform(nm_item)\n",
        "\n",
        "    encoding = self.tokenizer.encode_plus(\n",
        "      nm_item2,\n",
        "      add_special_tokens=True,\n",
        "      max_length=self.max_len,\n",
        "      return_token_type_ids=False,\n",
        "      padding='max_length',\n",
        "      truncation=True,\n",
        "      return_attention_mask=True,\n",
        "      return_tensors='pt',\n",
        "    )\n",
        "\n",
        "    return {\n",
        "      'nm_item_text': nm_item,\n",
        "      'input_ids': encoding['input_ids'].flatten(),\n",
        "      'attention_mask': encoding['attention_mask'].flatten(),\n",
        "    }\n",
        "\n",
        "def create_data_loader(X,tokenizer, max_len, batch_size=64):\n",
        "  ds = ProdutosVarejoDataset(\n",
        "    nm_item = X,\n",
        "    tokenizer=tokenizer,\n",
        "    max_len=max_len\n",
        "  )\n",
        "\n",
        "  return DataLoader(\n",
        "    ds,\n",
        "    batch_size=batch_size,\n",
        "    num_workers=4\n",
        "  )\n",
        "\n",
        "class ProductClassifier(nn.Module):\n",
        "\n",
        "  def __init__(self, number_classes,list_drop_out):\n",
        "\n",
        "    super(ProductClassifier, self).__init__()\n",
        "    self.bert = BertModel.from_pretrained(PRE_TRAINED_MODEL_NAME, return_dict=False)\n",
        "\n",
        "    self.drop = nn.Dropout(p= list_drop_out)\n",
        "\n",
        "    # O last_hidden_state é uma sequência de estados ocultos da última camada do modelo\n",
        "    self.out1 = nn.Linear(self.bert.config.hidden_size, number_classes[0])\n",
        "    self.out2 = nn.Linear(self.bert.config.hidden_size, number_classes[1])\n",
        "    self.out3 = nn.Linear(self.bert.config.hidden_size, number_classes[2])\n",
        "    self.out4 = nn.Linear(self.bert.config.hidden_size, number_classes[3])\n",
        "  \n",
        "  def forward(self, input_ids, attention_mask):\n",
        "\n",
        "    _, pooled_output = self.bert(\n",
        "      input_ids=input_ids,\n",
        "      attention_mask=attention_mask\n",
        "    )\n",
        "    output = self.drop(pooled_output)\n",
        "\n",
        "    return [self.out1(output),self.out2(output),self.out3(output),self.out4(output)]\n",
        "######\n",
        "\n",
        "\n",
        "\n",
        "\n",
        "## Pipeline escoragem modelo \n",
        "def pipeline (text,topk = None):\n",
        "\n",
        "    if isinstance(text, str):\n",
        "\n",
        "        text2 =  pre_treatment.transform(text)\n",
        "\n",
        "    else:\n",
        "\n",
        "        test_data_loader = create_data_loader(text, tokenizer, max_lenght)\n",
        "\n",
        "    model = torch.load(os.path.join(filesave,'BERT_FINAL_MODELO.pth'))\n",
        "    model = model.to(device).eval() \n",
        "\n",
        "    table_final = pd.DataFrame()\n",
        "    with torch.no_grad():\n",
        "\n",
        "        if isinstance(text, str):\n",
        "\n",
        "            encoded_review = tokenizer.encode_plus(\n",
        "                        text2,\n",
        "                        max_length=max_lenght,\n",
        "                        add_special_tokens=True,\n",
        "                        return_token_type_ids=False,\n",
        "                        padding='max_length',\n",
        "                        truncation=True,\n",
        "                        return_attention_mask=True,\n",
        "                        return_tensors='pt',\n",
        "                        )\n",
        "\n",
        "            input_ids = encoded_review['input_ids'].to(device)\n",
        "            attention_mask = encoded_review['attention_mask'].to(device)\n",
        "\n",
        "            output = model(input_ids, attention_mask)\n",
        "\n",
        "            probs = list(map(lambda x : F.softmax(x, dim=1),output))\n",
        "\n",
        "            table_final = pd.DataFrame()\n",
        "\n",
        "            if not topk:\n",
        "\n",
        "                topk = 5\n",
        "\n",
        "            topk_cols = ['Top '+str(x) for x in range(1,topk+1)]\n",
        "\n",
        "            for i,name in enumerate(['segmento','categoria','subcategoria','nm_product']):\n",
        "\n",
        "                _, prediction = torch.topk(probs[i], topk)\n",
        "                index = prediction.cpu().data.numpy().flatten()\n",
        "\n",
        "                top_group = encoders[name].inverse_transform(index)\n",
        "\n",
        "                apoio = pd.DataFrame(index=topk_cols,columns = [name],\n",
        "                                    data = top_group)\n",
        "                \n",
        "                table_final = pd.concat([table_final,apoio],axis=1)\n",
        "\n",
        "            \n",
        "        else:\n",
        "            \n",
        "            final_preds1 = []\n",
        "            final_preds2 = []\n",
        "            final_preds3 = []\n",
        "            final_preds4 = []\n",
        "            nm_item_text_final = []\n",
        "\n",
        "\n",
        "            for d in test_data_loader:\n",
        "                \n",
        "                print(len(d))\n",
        "                nm_item_text = d['nm_item_text']\n",
        "                input_ids_ = d[\"input_ids\"].to(device)\n",
        "                attention_mask_ = d[\"attention_mask\"].to(device)\n",
        "\n",
        "                output = model(input_ids_, attention_mask_)\n",
        "\n",
        "                probs = list(map(lambda x : F.softmax(x, dim=1),output))\n",
        "\n",
        "                nm_item_text_final.extend(nm_item_text)\n",
        "                final_preds1.extend(probs[0])\n",
        "                final_preds2.extend(probs[1])\n",
        "                final_preds3.extend(probs[2])\n",
        "                final_preds4.extend(probs[3])\n",
        "\n",
        "            final_preds1 = torch.stack(final_preds1).cpu()\n",
        "            final_preds2 = torch.stack(final_preds2).cpu()\n",
        "            final_preds3 = torch.stack(final_preds3).cpu()\n",
        "            final_preds4 = torch.stack(final_preds4).cpu()\n",
        "\n",
        "            final_preds = [final_preds1,final_preds2,final_preds3,final_preds4]\n",
        "\n",
        "            for i,name in enumerate(['segmento','categoria','subcategoria','nm_product']):\n",
        "\n",
        "                best_values =  torch.max(final_preds[i],dim=1)[1].cpu()\n",
        "\n",
        "                best_group = encoders[name].inverse_transform(best_values)\n",
        "\n",
        "                apoio = pd.DataFrame(index=nm_item_text_final,columns = [name],\n",
        "                                    data = best_group)\n",
        "                \n",
        "                table_final = pd.concat([table_final,apoio],axis=1)\n",
        "\n",
        "\n",
        "        return table_final\n",
        "\n"
      ],
      "metadata": {
        "id": "S57yuif1Tjt6"
      },
      "execution_count": null,
      "outputs": []
    },
    {
      "cell_type": "code",
      "source": [
        "### Teste apenas ###\n",
        "from google.colab import drive\n",
        "drive.mount('/content/drive')\n",
        "\n",
        "filepath = \"/content/drive/MyDrive/glove_files/dataset_produtos_V02.xlsx\"\n",
        "filesave = '/content/drive/MyDrive/BERT'\n",
        "\n",
        "df = pd.read_excel(filepath)\n",
        "df.head()"
      ],
      "metadata": {
        "colab": {
          "base_uri": "https://localhost:8080/",
          "height": 258
        },
        "id": "QFhtYILfPkb_",
        "outputId": "54053e7a-ce7d-4063-e3c6-0609331d43f0"
      },
      "execution_count": null,
      "outputs": [
        {
          "output_type": "stream",
          "name": "stdout",
          "text": [
            "Mounted at /content/drive\n"
          ]
        },
        {
          "output_type": "stream",
          "name": "stderr",
          "text": [
            "/usr/local/lib/python3.8/dist-packages/openpyxl/worksheet/_reader.py:312: UserWarning: Unknown extension is not supported and will be removed\n",
            "  warn(msg)\n"
          ]
        },
        {
          "output_type": "execute_result",
          "data": {
            "text/plain": [
              "                                nm_item               segmento  \\\n",
              "0                 CUECA SUNGA LUPO G817  4-FASHION E ESPORTIVO   \n",
              "1   TOUCA DE NATACAO GLIDE BESTWAY26006  4-FASHION E ESPORTIVO   \n",
              "2                OCULOS NAT INFANT  UND  4-FASHION E ESPORTIVO   \n",
              "3                ES SUNGA LISA MASC V22  4-FASHION E ESPORTIVO   \n",
              "4  SUNGA FOLHAGEM TEX AZL 200121 MPPV21  4-FASHION E ESPORTIVO   \n",
              "\n",
              "                categoria             subcategoria         nm_product  \n",
              "0            66-VESTUARIO          165-MODA INTIMA              CUECA  \n",
              "1  63-VESTUARIO ESPORTIVO     156-ROUPAS AQUATICAS   TOUCA DE NATACAO  \n",
              "2   61-ARTIGOS ESPORTIVOS  147-ARTIGOS DE PROTECAO  OCULOS DE NATACAO  \n",
              "3            66-VESTUARIO          167-MODA PRAIA               SUNGA  \n",
              "4            66-VESTUARIO          167-MODA PRAIA               SUNGA  "
            ],
            "text/html": [
              "\n",
              "  <div id=\"df-9cb19b49-ce6c-425a-a0b8-88aca49bce01\">\n",
              "    <div class=\"colab-df-container\">\n",
              "      <div>\n",
              "<style scoped>\n",
              "    .dataframe tbody tr th:only-of-type {\n",
              "        vertical-align: middle;\n",
              "    }\n",
              "\n",
              "    .dataframe tbody tr th {\n",
              "        vertical-align: top;\n",
              "    }\n",
              "\n",
              "    .dataframe thead th {\n",
              "        text-align: right;\n",
              "    }\n",
              "</style>\n",
              "<table border=\"1\" class=\"dataframe\">\n",
              "  <thead>\n",
              "    <tr style=\"text-align: right;\">\n",
              "      <th></th>\n",
              "      <th>nm_item</th>\n",
              "      <th>segmento</th>\n",
              "      <th>categoria</th>\n",
              "      <th>subcategoria</th>\n",
              "      <th>nm_product</th>\n",
              "    </tr>\n",
              "  </thead>\n",
              "  <tbody>\n",
              "    <tr>\n",
              "      <th>0</th>\n",
              "      <td>CUECA SUNGA LUPO G817</td>\n",
              "      <td>4-FASHION E ESPORTIVO</td>\n",
              "      <td>66-VESTUARIO</td>\n",
              "      <td>165-MODA INTIMA</td>\n",
              "      <td>CUECA</td>\n",
              "    </tr>\n",
              "    <tr>\n",
              "      <th>1</th>\n",
              "      <td>TOUCA DE NATACAO GLIDE BESTWAY26006</td>\n",
              "      <td>4-FASHION E ESPORTIVO</td>\n",
              "      <td>63-VESTUARIO ESPORTIVO</td>\n",
              "      <td>156-ROUPAS AQUATICAS</td>\n",
              "      <td>TOUCA DE NATACAO</td>\n",
              "    </tr>\n",
              "    <tr>\n",
              "      <th>2</th>\n",
              "      <td>OCULOS NAT INFANT  UND</td>\n",
              "      <td>4-FASHION E ESPORTIVO</td>\n",
              "      <td>61-ARTIGOS ESPORTIVOS</td>\n",
              "      <td>147-ARTIGOS DE PROTECAO</td>\n",
              "      <td>OCULOS DE NATACAO</td>\n",
              "    </tr>\n",
              "    <tr>\n",
              "      <th>3</th>\n",
              "      <td>ES SUNGA LISA MASC V22</td>\n",
              "      <td>4-FASHION E ESPORTIVO</td>\n",
              "      <td>66-VESTUARIO</td>\n",
              "      <td>167-MODA PRAIA</td>\n",
              "      <td>SUNGA</td>\n",
              "    </tr>\n",
              "    <tr>\n",
              "      <th>4</th>\n",
              "      <td>SUNGA FOLHAGEM TEX AZL 200121 MPPV21</td>\n",
              "      <td>4-FASHION E ESPORTIVO</td>\n",
              "      <td>66-VESTUARIO</td>\n",
              "      <td>167-MODA PRAIA</td>\n",
              "      <td>SUNGA</td>\n",
              "    </tr>\n",
              "  </tbody>\n",
              "</table>\n",
              "</div>\n",
              "      <button class=\"colab-df-convert\" onclick=\"convertToInteractive('df-9cb19b49-ce6c-425a-a0b8-88aca49bce01')\"\n",
              "              title=\"Convert this dataframe to an interactive table.\"\n",
              "              style=\"display:none;\">\n",
              "        \n",
              "  <svg xmlns=\"http://www.w3.org/2000/svg\" height=\"24px\"viewBox=\"0 0 24 24\"\n",
              "       width=\"24px\">\n",
              "    <path d=\"M0 0h24v24H0V0z\" fill=\"none\"/>\n",
              "    <path d=\"M18.56 5.44l.94 2.06.94-2.06 2.06-.94-2.06-.94-.94-2.06-.94 2.06-2.06.94zm-11 1L8.5 8.5l.94-2.06 2.06-.94-2.06-.94L8.5 2.5l-.94 2.06-2.06.94zm10 10l.94 2.06.94-2.06 2.06-.94-2.06-.94-.94-2.06-.94 2.06-2.06.94z\"/><path d=\"M17.41 7.96l-1.37-1.37c-.4-.4-.92-.59-1.43-.59-.52 0-1.04.2-1.43.59L10.3 9.45l-7.72 7.72c-.78.78-.78 2.05 0 2.83L4 21.41c.39.39.9.59 1.41.59.51 0 1.02-.2 1.41-.59l7.78-7.78 2.81-2.81c.8-.78.8-2.07 0-2.86zM5.41 20L4 18.59l7.72-7.72 1.47 1.35L5.41 20z\"/>\n",
              "  </svg>\n",
              "      </button>\n",
              "      \n",
              "  <style>\n",
              "    .colab-df-container {\n",
              "      display:flex;\n",
              "      flex-wrap:wrap;\n",
              "      gap: 12px;\n",
              "    }\n",
              "\n",
              "    .colab-df-convert {\n",
              "      background-color: #E8F0FE;\n",
              "      border: none;\n",
              "      border-radius: 50%;\n",
              "      cursor: pointer;\n",
              "      display: none;\n",
              "      fill: #1967D2;\n",
              "      height: 32px;\n",
              "      padding: 0 0 0 0;\n",
              "      width: 32px;\n",
              "    }\n",
              "\n",
              "    .colab-df-convert:hover {\n",
              "      background-color: #E2EBFA;\n",
              "      box-shadow: 0px 1px 2px rgba(60, 64, 67, 0.3), 0px 1px 3px 1px rgba(60, 64, 67, 0.15);\n",
              "      fill: #174EA6;\n",
              "    }\n",
              "\n",
              "    [theme=dark] .colab-df-convert {\n",
              "      background-color: #3B4455;\n",
              "      fill: #D2E3FC;\n",
              "    }\n",
              "\n",
              "    [theme=dark] .colab-df-convert:hover {\n",
              "      background-color: #434B5C;\n",
              "      box-shadow: 0px 1px 3px 1px rgba(0, 0, 0, 0.15);\n",
              "      filter: drop-shadow(0px 1px 2px rgba(0, 0, 0, 0.3));\n",
              "      fill: #FFFFFF;\n",
              "    }\n",
              "  </style>\n",
              "\n",
              "      <script>\n",
              "        const buttonEl =\n",
              "          document.querySelector('#df-9cb19b49-ce6c-425a-a0b8-88aca49bce01 button.colab-df-convert');\n",
              "        buttonEl.style.display =\n",
              "          google.colab.kernel.accessAllowed ? 'block' : 'none';\n",
              "\n",
              "        async function convertToInteractive(key) {\n",
              "          const element = document.querySelector('#df-9cb19b49-ce6c-425a-a0b8-88aca49bce01');\n",
              "          const dataTable =\n",
              "            await google.colab.kernel.invokeFunction('convertToInteractive',\n",
              "                                                     [key], {});\n",
              "          if (!dataTable) return;\n",
              "\n",
              "          const docLinkHtml = 'Like what you see? Visit the ' +\n",
              "            '<a target=\"_blank\" href=https://colab.research.google.com/notebooks/data_table.ipynb>data table notebook</a>'\n",
              "            + ' to learn more about interactive tables.';\n",
              "          element.innerHTML = '';\n",
              "          dataTable['output_type'] = 'display_data';\n",
              "          await google.colab.output.renderOutput(dataTable, element);\n",
              "          const docLink = document.createElement('div');\n",
              "          docLink.innerHTML = docLinkHtml;\n",
              "          element.appendChild(docLink);\n",
              "        }\n",
              "      </script>\n",
              "    </div>\n",
              "  </div>\n",
              "  "
            ]
          },
          "metadata": {},
          "execution_count": 6
        }
      ]
    },
    {
      "cell_type": "code",
      "source": [
        "text = 'Fermento'\n",
        "topk = 1\n",
        "\n",
        "#test = df[['nm_item']].iloc[:20]\n",
        "test = 'PRESUNTO'\n",
        "\n",
        "pipeline (test)"
      ],
      "metadata": {
        "colab": {
          "base_uri": "https://localhost:8080/",
          "height": 206
        },
        "id": "6bhktO1ThMFf",
        "outputId": "e14a26a5-a75f-4215-f82e-a8c2bd9ebb36"
      },
      "execution_count": null,
      "outputs": [
        {
          "output_type": "execute_result",
          "data": {
            "text/plain": [
              "                  segmento                categoria              subcategoria  \\\n",
              "Top 1      BENS DE CONSUMO       FRIOS E LATICINIOS                 EMBUTIDOS   \n",
              "Top 2         PETROQUIMICA  PREPARADOS E CONGELADOS  FIAMBRERIA E SALSICHARIA   \n",
              "Top 3    CASA E CONSTRUCAO           HORTIFRUTI FLV   LATICINIOS REFRIGERADOS   \n",
              "Top 4           HEALTHCARE       ACOUGUE E PEIXARIA                  VERDURAS   \n",
              "Top 5  FASHION E ESPORTIVO                  LACTEOS                    FRUTAS   \n",
              "\n",
              "           nm_product  \n",
              "Top 1        PRESUNTO  \n",
              "Top 2  OUTRO EMBUTIDO  \n",
              "Top 3       MORTADELA  \n",
              "Top 4        SALSICHA  \n",
              "Top 5     APRESUNTADO  "
            ],
            "text/html": [
              "\n",
              "  <div id=\"df-328ea01f-83ec-4b1a-bdc4-0abf00d12bbc\">\n",
              "    <div class=\"colab-df-container\">\n",
              "      <div>\n",
              "<style scoped>\n",
              "    .dataframe tbody tr th:only-of-type {\n",
              "        vertical-align: middle;\n",
              "    }\n",
              "\n",
              "    .dataframe tbody tr th {\n",
              "        vertical-align: top;\n",
              "    }\n",
              "\n",
              "    .dataframe thead th {\n",
              "        text-align: right;\n",
              "    }\n",
              "</style>\n",
              "<table border=\"1\" class=\"dataframe\">\n",
              "  <thead>\n",
              "    <tr style=\"text-align: right;\">\n",
              "      <th></th>\n",
              "      <th>segmento</th>\n",
              "      <th>categoria</th>\n",
              "      <th>subcategoria</th>\n",
              "      <th>nm_product</th>\n",
              "    </tr>\n",
              "  </thead>\n",
              "  <tbody>\n",
              "    <tr>\n",
              "      <th>Top 1</th>\n",
              "      <td>BENS DE CONSUMO</td>\n",
              "      <td>FRIOS E LATICINIOS</td>\n",
              "      <td>EMBUTIDOS</td>\n",
              "      <td>PRESUNTO</td>\n",
              "    </tr>\n",
              "    <tr>\n",
              "      <th>Top 2</th>\n",
              "      <td>PETROQUIMICA</td>\n",
              "      <td>PREPARADOS E CONGELADOS</td>\n",
              "      <td>FIAMBRERIA E SALSICHARIA</td>\n",
              "      <td>OUTRO EMBUTIDO</td>\n",
              "    </tr>\n",
              "    <tr>\n",
              "      <th>Top 3</th>\n",
              "      <td>CASA E CONSTRUCAO</td>\n",
              "      <td>HORTIFRUTI FLV</td>\n",
              "      <td>LATICINIOS REFRIGERADOS</td>\n",
              "      <td>MORTADELA</td>\n",
              "    </tr>\n",
              "    <tr>\n",
              "      <th>Top 4</th>\n",
              "      <td>HEALTHCARE</td>\n",
              "      <td>ACOUGUE E PEIXARIA</td>\n",
              "      <td>VERDURAS</td>\n",
              "      <td>SALSICHA</td>\n",
              "    </tr>\n",
              "    <tr>\n",
              "      <th>Top 5</th>\n",
              "      <td>FASHION E ESPORTIVO</td>\n",
              "      <td>LACTEOS</td>\n",
              "      <td>FRUTAS</td>\n",
              "      <td>APRESUNTADO</td>\n",
              "    </tr>\n",
              "  </tbody>\n",
              "</table>\n",
              "</div>\n",
              "      <button class=\"colab-df-convert\" onclick=\"convertToInteractive('df-328ea01f-83ec-4b1a-bdc4-0abf00d12bbc')\"\n",
              "              title=\"Convert this dataframe to an interactive table.\"\n",
              "              style=\"display:none;\">\n",
              "        \n",
              "  <svg xmlns=\"http://www.w3.org/2000/svg\" height=\"24px\"viewBox=\"0 0 24 24\"\n",
              "       width=\"24px\">\n",
              "    <path d=\"M0 0h24v24H0V0z\" fill=\"none\"/>\n",
              "    <path d=\"M18.56 5.44l.94 2.06.94-2.06 2.06-.94-2.06-.94-.94-2.06-.94 2.06-2.06.94zm-11 1L8.5 8.5l.94-2.06 2.06-.94-2.06-.94L8.5 2.5l-.94 2.06-2.06.94zm10 10l.94 2.06.94-2.06 2.06-.94-2.06-.94-.94-2.06-.94 2.06-2.06.94z\"/><path d=\"M17.41 7.96l-1.37-1.37c-.4-.4-.92-.59-1.43-.59-.52 0-1.04.2-1.43.59L10.3 9.45l-7.72 7.72c-.78.78-.78 2.05 0 2.83L4 21.41c.39.39.9.59 1.41.59.51 0 1.02-.2 1.41-.59l7.78-7.78 2.81-2.81c.8-.78.8-2.07 0-2.86zM5.41 20L4 18.59l7.72-7.72 1.47 1.35L5.41 20z\"/>\n",
              "  </svg>\n",
              "      </button>\n",
              "      \n",
              "  <style>\n",
              "    .colab-df-container {\n",
              "      display:flex;\n",
              "      flex-wrap:wrap;\n",
              "      gap: 12px;\n",
              "    }\n",
              "\n",
              "    .colab-df-convert {\n",
              "      background-color: #E8F0FE;\n",
              "      border: none;\n",
              "      border-radius: 50%;\n",
              "      cursor: pointer;\n",
              "      display: none;\n",
              "      fill: #1967D2;\n",
              "      height: 32px;\n",
              "      padding: 0 0 0 0;\n",
              "      width: 32px;\n",
              "    }\n",
              "\n",
              "    .colab-df-convert:hover {\n",
              "      background-color: #E2EBFA;\n",
              "      box-shadow: 0px 1px 2px rgba(60, 64, 67, 0.3), 0px 1px 3px 1px rgba(60, 64, 67, 0.15);\n",
              "      fill: #174EA6;\n",
              "    }\n",
              "\n",
              "    [theme=dark] .colab-df-convert {\n",
              "      background-color: #3B4455;\n",
              "      fill: #D2E3FC;\n",
              "    }\n",
              "\n",
              "    [theme=dark] .colab-df-convert:hover {\n",
              "      background-color: #434B5C;\n",
              "      box-shadow: 0px 1px 3px 1px rgba(0, 0, 0, 0.15);\n",
              "      filter: drop-shadow(0px 1px 2px rgba(0, 0, 0, 0.3));\n",
              "      fill: #FFFFFF;\n",
              "    }\n",
              "  </style>\n",
              "\n",
              "      <script>\n",
              "        const buttonEl =\n",
              "          document.querySelector('#df-328ea01f-83ec-4b1a-bdc4-0abf00d12bbc button.colab-df-convert');\n",
              "        buttonEl.style.display =\n",
              "          google.colab.kernel.accessAllowed ? 'block' : 'none';\n",
              "\n",
              "        async function convertToInteractive(key) {\n",
              "          const element = document.querySelector('#df-328ea01f-83ec-4b1a-bdc4-0abf00d12bbc');\n",
              "          const dataTable =\n",
              "            await google.colab.kernel.invokeFunction('convertToInteractive',\n",
              "                                                     [key], {});\n",
              "          if (!dataTable) return;\n",
              "\n",
              "          const docLinkHtml = 'Like what you see? Visit the ' +\n",
              "            '<a target=\"_blank\" href=https://colab.research.google.com/notebooks/data_table.ipynb>data table notebook</a>'\n",
              "            + ' to learn more about interactive tables.';\n",
              "          element.innerHTML = '';\n",
              "          dataTable['output_type'] = 'display_data';\n",
              "          await google.colab.output.renderOutput(dataTable, element);\n",
              "          const docLink = document.createElement('div');\n",
              "          docLink.innerHTML = docLinkHtml;\n",
              "          element.appendChild(docLink);\n",
              "        }\n",
              "      </script>\n",
              "    </div>\n",
              "  </div>\n",
              "  "
            ]
          },
          "metadata": {},
          "execution_count": 20
        }
      ]
    }
  ],
  "metadata": {
    "colab": {
      "provenance": [],
      "include_colab_link": true
    },
    "kernelspec": {
      "display_name": "Python 3.9.12 ('base')",
      "language": "python",
      "name": "python3"
    },
    "language_info": {
      "codemirror_mode": {
        "name": "ipython",
        "version": 3
      },
      "file_extension": ".py",
      "mimetype": "text/x-python",
      "name": "python",
      "nbconvert_exporter": "python",
      "pygments_lexer": "ipython3",
      "version": "3.9.12"
    },
    "vscode": {
      "interpreter": {
        "hash": "5e8c03361d51ea297a904a747262448c3ce723e881811895dfdbcc412e3247a1"
      }
    },
    "gpuClass": "standard",
    "widgets": {
      "application/vnd.jupyter.widget-state+json": {
        "6dfcf35f6425495e9ea86fe5d8c631ff": {
          "model_module": "@jupyter-widgets/controls",
          "model_name": "HBoxModel",
          "model_module_version": "1.5.0",
          "state": {
            "_dom_classes": [],
            "_model_module": "@jupyter-widgets/controls",
            "_model_module_version": "1.5.0",
            "_model_name": "HBoxModel",
            "_view_count": null,
            "_view_module": "@jupyter-widgets/controls",
            "_view_module_version": "1.5.0",
            "_view_name": "HBoxView",
            "box_style": "",
            "children": [
              "IPY_MODEL_6cbc4a7578ca482cb4fdcb05b8f19891",
              "IPY_MODEL_d81bd3dd61bb4044805413cb17b6b8cf",
              "IPY_MODEL_2e65e853b20348edb3094937b471367a"
            ],
            "layout": "IPY_MODEL_781426dd96e941baa6212babe1f79202"
          }
        },
        "6cbc4a7578ca482cb4fdcb05b8f19891": {
          "model_module": "@jupyter-widgets/controls",
          "model_name": "HTMLModel",
          "model_module_version": "1.5.0",
          "state": {
            "_dom_classes": [],
            "_model_module": "@jupyter-widgets/controls",
            "_model_module_version": "1.5.0",
            "_model_name": "HTMLModel",
            "_view_count": null,
            "_view_module": "@jupyter-widgets/controls",
            "_view_module_version": "1.5.0",
            "_view_name": "HTMLView",
            "description": "",
            "description_tooltip": null,
            "layout": "IPY_MODEL_2bbb1dc400be4bbcb0be3c4d94dc67d8",
            "placeholder": "​",
            "style": "IPY_MODEL_022e67371f6e45acb51d51b854c6c990",
            "value": "Downloading: 100%"
          }
        },
        "d81bd3dd61bb4044805413cb17b6b8cf": {
          "model_module": "@jupyter-widgets/controls",
          "model_name": "FloatProgressModel",
          "model_module_version": "1.5.0",
          "state": {
            "_dom_classes": [],
            "_model_module": "@jupyter-widgets/controls",
            "_model_module_version": "1.5.0",
            "_model_name": "FloatProgressModel",
            "_view_count": null,
            "_view_module": "@jupyter-widgets/controls",
            "_view_module_version": "1.5.0",
            "_view_name": "ProgressView",
            "bar_style": "success",
            "description": "",
            "description_tooltip": null,
            "layout": "IPY_MODEL_856907f4b4494366bdc07f78196d64c9",
            "max": 209528,
            "min": 0,
            "orientation": "horizontal",
            "style": "IPY_MODEL_a7745ab1d7af4d8cbd4888047bb79711",
            "value": 209528
          }
        },
        "2e65e853b20348edb3094937b471367a": {
          "model_module": "@jupyter-widgets/controls",
          "model_name": "HTMLModel",
          "model_module_version": "1.5.0",
          "state": {
            "_dom_classes": [],
            "_model_module": "@jupyter-widgets/controls",
            "_model_module_version": "1.5.0",
            "_model_name": "HTMLModel",
            "_view_count": null,
            "_view_module": "@jupyter-widgets/controls",
            "_view_module_version": "1.5.0",
            "_view_name": "HTMLView",
            "description": "",
            "description_tooltip": null,
            "layout": "IPY_MODEL_d790b2091e3f46b1b50b46ce81af76e9",
            "placeholder": "​",
            "style": "IPY_MODEL_3249173b18d44c0ab5c9aa369d8a820c",
            "value": " 210k/210k [00:00&lt;00:00, 282kB/s]"
          }
        },
        "781426dd96e941baa6212babe1f79202": {
          "model_module": "@jupyter-widgets/base",
          "model_name": "LayoutModel",
          "model_module_version": "1.2.0",
          "state": {
            "_model_module": "@jupyter-widgets/base",
            "_model_module_version": "1.2.0",
            "_model_name": "LayoutModel",
            "_view_count": null,
            "_view_module": "@jupyter-widgets/base",
            "_view_module_version": "1.2.0",
            "_view_name": "LayoutView",
            "align_content": null,
            "align_items": null,
            "align_self": null,
            "border": null,
            "bottom": null,
            "display": null,
            "flex": null,
            "flex_flow": null,
            "grid_area": null,
            "grid_auto_columns": null,
            "grid_auto_flow": null,
            "grid_auto_rows": null,
            "grid_column": null,
            "grid_gap": null,
            "grid_row": null,
            "grid_template_areas": null,
            "grid_template_columns": null,
            "grid_template_rows": null,
            "height": null,
            "justify_content": null,
            "justify_items": null,
            "left": null,
            "margin": null,
            "max_height": null,
            "max_width": null,
            "min_height": null,
            "min_width": null,
            "object_fit": null,
            "object_position": null,
            "order": null,
            "overflow": null,
            "overflow_x": null,
            "overflow_y": null,
            "padding": null,
            "right": null,
            "top": null,
            "visibility": null,
            "width": null
          }
        },
        "2bbb1dc400be4bbcb0be3c4d94dc67d8": {
          "model_module": "@jupyter-widgets/base",
          "model_name": "LayoutModel",
          "model_module_version": "1.2.0",
          "state": {
            "_model_module": "@jupyter-widgets/base",
            "_model_module_version": "1.2.0",
            "_model_name": "LayoutModel",
            "_view_count": null,
            "_view_module": "@jupyter-widgets/base",
            "_view_module_version": "1.2.0",
            "_view_name": "LayoutView",
            "align_content": null,
            "align_items": null,
            "align_self": null,
            "border": null,
            "bottom": null,
            "display": null,
            "flex": null,
            "flex_flow": null,
            "grid_area": null,
            "grid_auto_columns": null,
            "grid_auto_flow": null,
            "grid_auto_rows": null,
            "grid_column": null,
            "grid_gap": null,
            "grid_row": null,
            "grid_template_areas": null,
            "grid_template_columns": null,
            "grid_template_rows": null,
            "height": null,
            "justify_content": null,
            "justify_items": null,
            "left": null,
            "margin": null,
            "max_height": null,
            "max_width": null,
            "min_height": null,
            "min_width": null,
            "object_fit": null,
            "object_position": null,
            "order": null,
            "overflow": null,
            "overflow_x": null,
            "overflow_y": null,
            "padding": null,
            "right": null,
            "top": null,
            "visibility": null,
            "width": null
          }
        },
        "022e67371f6e45acb51d51b854c6c990": {
          "model_module": "@jupyter-widgets/controls",
          "model_name": "DescriptionStyleModel",
          "model_module_version": "1.5.0",
          "state": {
            "_model_module": "@jupyter-widgets/controls",
            "_model_module_version": "1.5.0",
            "_model_name": "DescriptionStyleModel",
            "_view_count": null,
            "_view_module": "@jupyter-widgets/base",
            "_view_module_version": "1.2.0",
            "_view_name": "StyleView",
            "description_width": ""
          }
        },
        "856907f4b4494366bdc07f78196d64c9": {
          "model_module": "@jupyter-widgets/base",
          "model_name": "LayoutModel",
          "model_module_version": "1.2.0",
          "state": {
            "_model_module": "@jupyter-widgets/base",
            "_model_module_version": "1.2.0",
            "_model_name": "LayoutModel",
            "_view_count": null,
            "_view_module": "@jupyter-widgets/base",
            "_view_module_version": "1.2.0",
            "_view_name": "LayoutView",
            "align_content": null,
            "align_items": null,
            "align_self": null,
            "border": null,
            "bottom": null,
            "display": null,
            "flex": null,
            "flex_flow": null,
            "grid_area": null,
            "grid_auto_columns": null,
            "grid_auto_flow": null,
            "grid_auto_rows": null,
            "grid_column": null,
            "grid_gap": null,
            "grid_row": null,
            "grid_template_areas": null,
            "grid_template_columns": null,
            "grid_template_rows": null,
            "height": null,
            "justify_content": null,
            "justify_items": null,
            "left": null,
            "margin": null,
            "max_height": null,
            "max_width": null,
            "min_height": null,
            "min_width": null,
            "object_fit": null,
            "object_position": null,
            "order": null,
            "overflow": null,
            "overflow_x": null,
            "overflow_y": null,
            "padding": null,
            "right": null,
            "top": null,
            "visibility": null,
            "width": null
          }
        },
        "a7745ab1d7af4d8cbd4888047bb79711": {
          "model_module": "@jupyter-widgets/controls",
          "model_name": "ProgressStyleModel",
          "model_module_version": "1.5.0",
          "state": {
            "_model_module": "@jupyter-widgets/controls",
            "_model_module_version": "1.5.0",
            "_model_name": "ProgressStyleModel",
            "_view_count": null,
            "_view_module": "@jupyter-widgets/base",
            "_view_module_version": "1.2.0",
            "_view_name": "StyleView",
            "bar_color": null,
            "description_width": ""
          }
        },
        "d790b2091e3f46b1b50b46ce81af76e9": {
          "model_module": "@jupyter-widgets/base",
          "model_name": "LayoutModel",
          "model_module_version": "1.2.0",
          "state": {
            "_model_module": "@jupyter-widgets/base",
            "_model_module_version": "1.2.0",
            "_model_name": "LayoutModel",
            "_view_count": null,
            "_view_module": "@jupyter-widgets/base",
            "_view_module_version": "1.2.0",
            "_view_name": "LayoutView",
            "align_content": null,
            "align_items": null,
            "align_self": null,
            "border": null,
            "bottom": null,
            "display": null,
            "flex": null,
            "flex_flow": null,
            "grid_area": null,
            "grid_auto_columns": null,
            "grid_auto_flow": null,
            "grid_auto_rows": null,
            "grid_column": null,
            "grid_gap": null,
            "grid_row": null,
            "grid_template_areas": null,
            "grid_template_columns": null,
            "grid_template_rows": null,
            "height": null,
            "justify_content": null,
            "justify_items": null,
            "left": null,
            "margin": null,
            "max_height": null,
            "max_width": null,
            "min_height": null,
            "min_width": null,
            "object_fit": null,
            "object_position": null,
            "order": null,
            "overflow": null,
            "overflow_x": null,
            "overflow_y": null,
            "padding": null,
            "right": null,
            "top": null,
            "visibility": null,
            "width": null
          }
        },
        "3249173b18d44c0ab5c9aa369d8a820c": {
          "model_module": "@jupyter-widgets/controls",
          "model_name": "DescriptionStyleModel",
          "model_module_version": "1.5.0",
          "state": {
            "_model_module": "@jupyter-widgets/controls",
            "_model_module_version": "1.5.0",
            "_model_name": "DescriptionStyleModel",
            "_view_count": null,
            "_view_module": "@jupyter-widgets/base",
            "_view_module_version": "1.2.0",
            "_view_name": "StyleView",
            "description_width": ""
          }
        },
        "b8f7390d01d74a498dafd9118704c770": {
          "model_module": "@jupyter-widgets/controls",
          "model_name": "HBoxModel",
          "model_module_version": "1.5.0",
          "state": {
            "_dom_classes": [],
            "_model_module": "@jupyter-widgets/controls",
            "_model_module_version": "1.5.0",
            "_model_name": "HBoxModel",
            "_view_count": null,
            "_view_module": "@jupyter-widgets/controls",
            "_view_module_version": "1.5.0",
            "_view_name": "HBoxView",
            "box_style": "",
            "children": [
              "IPY_MODEL_d952b8380563451daedccb13222cf8b8",
              "IPY_MODEL_07988644720649edb4c9ca9dc4f3b3eb",
              "IPY_MODEL_eafd36a27c3b4e6489a0edb7809639c6"
            ],
            "layout": "IPY_MODEL_310f12395c3d4a3bbea43e901c1d2472"
          }
        },
        "d952b8380563451daedccb13222cf8b8": {
          "model_module": "@jupyter-widgets/controls",
          "model_name": "HTMLModel",
          "model_module_version": "1.5.0",
          "state": {
            "_dom_classes": [],
            "_model_module": "@jupyter-widgets/controls",
            "_model_module_version": "1.5.0",
            "_model_name": "HTMLModel",
            "_view_count": null,
            "_view_module": "@jupyter-widgets/controls",
            "_view_module_version": "1.5.0",
            "_view_name": "HTMLView",
            "description": "",
            "description_tooltip": null,
            "layout": "IPY_MODEL_92aacceebf7340fd90352fee10caa6e2",
            "placeholder": "​",
            "style": "IPY_MODEL_df9a082b16b740d5b11ab132c853aec4",
            "value": "Downloading: 100%"
          }
        },
        "07988644720649edb4c9ca9dc4f3b3eb": {
          "model_module": "@jupyter-widgets/controls",
          "model_name": "FloatProgressModel",
          "model_module_version": "1.5.0",
          "state": {
            "_dom_classes": [],
            "_model_module": "@jupyter-widgets/controls",
            "_model_module_version": "1.5.0",
            "_model_name": "FloatProgressModel",
            "_view_count": null,
            "_view_module": "@jupyter-widgets/controls",
            "_view_module_version": "1.5.0",
            "_view_name": "ProgressView",
            "bar_style": "success",
            "description": "",
            "description_tooltip": null,
            "layout": "IPY_MODEL_527c4b743170414986505da762515136",
            "max": 2,
            "min": 0,
            "orientation": "horizontal",
            "style": "IPY_MODEL_9692d74581614a91aff49cc9d3771c06",
            "value": 2
          }
        },
        "eafd36a27c3b4e6489a0edb7809639c6": {
          "model_module": "@jupyter-widgets/controls",
          "model_name": "HTMLModel",
          "model_module_version": "1.5.0",
          "state": {
            "_dom_classes": [],
            "_model_module": "@jupyter-widgets/controls",
            "_model_module_version": "1.5.0",
            "_model_name": "HTMLModel",
            "_view_count": null,
            "_view_module": "@jupyter-widgets/controls",
            "_view_module_version": "1.5.0",
            "_view_name": "HTMLView",
            "description": "",
            "description_tooltip": null,
            "layout": "IPY_MODEL_d1be944ae9dd42859884224f657b217b",
            "placeholder": "​",
            "style": "IPY_MODEL_a791a888bff94737a8d6ac357fcb2ed4",
            "value": " 2.00/2.00 [00:00&lt;00:00, 78.5B/s]"
          }
        },
        "310f12395c3d4a3bbea43e901c1d2472": {
          "model_module": "@jupyter-widgets/base",
          "model_name": "LayoutModel",
          "model_module_version": "1.2.0",
          "state": {
            "_model_module": "@jupyter-widgets/base",
            "_model_module_version": "1.2.0",
            "_model_name": "LayoutModel",
            "_view_count": null,
            "_view_module": "@jupyter-widgets/base",
            "_view_module_version": "1.2.0",
            "_view_name": "LayoutView",
            "align_content": null,
            "align_items": null,
            "align_self": null,
            "border": null,
            "bottom": null,
            "display": null,
            "flex": null,
            "flex_flow": null,
            "grid_area": null,
            "grid_auto_columns": null,
            "grid_auto_flow": null,
            "grid_auto_rows": null,
            "grid_column": null,
            "grid_gap": null,
            "grid_row": null,
            "grid_template_areas": null,
            "grid_template_columns": null,
            "grid_template_rows": null,
            "height": null,
            "justify_content": null,
            "justify_items": null,
            "left": null,
            "margin": null,
            "max_height": null,
            "max_width": null,
            "min_height": null,
            "min_width": null,
            "object_fit": null,
            "object_position": null,
            "order": null,
            "overflow": null,
            "overflow_x": null,
            "overflow_y": null,
            "padding": null,
            "right": null,
            "top": null,
            "visibility": null,
            "width": null
          }
        },
        "92aacceebf7340fd90352fee10caa6e2": {
          "model_module": "@jupyter-widgets/base",
          "model_name": "LayoutModel",
          "model_module_version": "1.2.0",
          "state": {
            "_model_module": "@jupyter-widgets/base",
            "_model_module_version": "1.2.0",
            "_model_name": "LayoutModel",
            "_view_count": null,
            "_view_module": "@jupyter-widgets/base",
            "_view_module_version": "1.2.0",
            "_view_name": "LayoutView",
            "align_content": null,
            "align_items": null,
            "align_self": null,
            "border": null,
            "bottom": null,
            "display": null,
            "flex": null,
            "flex_flow": null,
            "grid_area": null,
            "grid_auto_columns": null,
            "grid_auto_flow": null,
            "grid_auto_rows": null,
            "grid_column": null,
            "grid_gap": null,
            "grid_row": null,
            "grid_template_areas": null,
            "grid_template_columns": null,
            "grid_template_rows": null,
            "height": null,
            "justify_content": null,
            "justify_items": null,
            "left": null,
            "margin": null,
            "max_height": null,
            "max_width": null,
            "min_height": null,
            "min_width": null,
            "object_fit": null,
            "object_position": null,
            "order": null,
            "overflow": null,
            "overflow_x": null,
            "overflow_y": null,
            "padding": null,
            "right": null,
            "top": null,
            "visibility": null,
            "width": null
          }
        },
        "df9a082b16b740d5b11ab132c853aec4": {
          "model_module": "@jupyter-widgets/controls",
          "model_name": "DescriptionStyleModel",
          "model_module_version": "1.5.0",
          "state": {
            "_model_module": "@jupyter-widgets/controls",
            "_model_module_version": "1.5.0",
            "_model_name": "DescriptionStyleModel",
            "_view_count": null,
            "_view_module": "@jupyter-widgets/base",
            "_view_module_version": "1.2.0",
            "_view_name": "StyleView",
            "description_width": ""
          }
        },
        "527c4b743170414986505da762515136": {
          "model_module": "@jupyter-widgets/base",
          "model_name": "LayoutModel",
          "model_module_version": "1.2.0",
          "state": {
            "_model_module": "@jupyter-widgets/base",
            "_model_module_version": "1.2.0",
            "_model_name": "LayoutModel",
            "_view_count": null,
            "_view_module": "@jupyter-widgets/base",
            "_view_module_version": "1.2.0",
            "_view_name": "LayoutView",
            "align_content": null,
            "align_items": null,
            "align_self": null,
            "border": null,
            "bottom": null,
            "display": null,
            "flex": null,
            "flex_flow": null,
            "grid_area": null,
            "grid_auto_columns": null,
            "grid_auto_flow": null,
            "grid_auto_rows": null,
            "grid_column": null,
            "grid_gap": null,
            "grid_row": null,
            "grid_template_areas": null,
            "grid_template_columns": null,
            "grid_template_rows": null,
            "height": null,
            "justify_content": null,
            "justify_items": null,
            "left": null,
            "margin": null,
            "max_height": null,
            "max_width": null,
            "min_height": null,
            "min_width": null,
            "object_fit": null,
            "object_position": null,
            "order": null,
            "overflow": null,
            "overflow_x": null,
            "overflow_y": null,
            "padding": null,
            "right": null,
            "top": null,
            "visibility": null,
            "width": null
          }
        },
        "9692d74581614a91aff49cc9d3771c06": {
          "model_module": "@jupyter-widgets/controls",
          "model_name": "ProgressStyleModel",
          "model_module_version": "1.5.0",
          "state": {
            "_model_module": "@jupyter-widgets/controls",
            "_model_module_version": "1.5.0",
            "_model_name": "ProgressStyleModel",
            "_view_count": null,
            "_view_module": "@jupyter-widgets/base",
            "_view_module_version": "1.2.0",
            "_view_name": "StyleView",
            "bar_color": null,
            "description_width": ""
          }
        },
        "d1be944ae9dd42859884224f657b217b": {
          "model_module": "@jupyter-widgets/base",
          "model_name": "LayoutModel",
          "model_module_version": "1.2.0",
          "state": {
            "_model_module": "@jupyter-widgets/base",
            "_model_module_version": "1.2.0",
            "_model_name": "LayoutModel",
            "_view_count": null,
            "_view_module": "@jupyter-widgets/base",
            "_view_module_version": "1.2.0",
            "_view_name": "LayoutView",
            "align_content": null,
            "align_items": null,
            "align_self": null,
            "border": null,
            "bottom": null,
            "display": null,
            "flex": null,
            "flex_flow": null,
            "grid_area": null,
            "grid_auto_columns": null,
            "grid_auto_flow": null,
            "grid_auto_rows": null,
            "grid_column": null,
            "grid_gap": null,
            "grid_row": null,
            "grid_template_areas": null,
            "grid_template_columns": null,
            "grid_template_rows": null,
            "height": null,
            "justify_content": null,
            "justify_items": null,
            "left": null,
            "margin": null,
            "max_height": null,
            "max_width": null,
            "min_height": null,
            "min_width": null,
            "object_fit": null,
            "object_position": null,
            "order": null,
            "overflow": null,
            "overflow_x": null,
            "overflow_y": null,
            "padding": null,
            "right": null,
            "top": null,
            "visibility": null,
            "width": null
          }
        },
        "a791a888bff94737a8d6ac357fcb2ed4": {
          "model_module": "@jupyter-widgets/controls",
          "model_name": "DescriptionStyleModel",
          "model_module_version": "1.5.0",
          "state": {
            "_model_module": "@jupyter-widgets/controls",
            "_model_module_version": "1.5.0",
            "_model_name": "DescriptionStyleModel",
            "_view_count": null,
            "_view_module": "@jupyter-widgets/base",
            "_view_module_version": "1.2.0",
            "_view_name": "StyleView",
            "description_width": ""
          }
        },
        "d455e0c3add542cebb7ea528c32300bc": {
          "model_module": "@jupyter-widgets/controls",
          "model_name": "HBoxModel",
          "model_module_version": "1.5.0",
          "state": {
            "_dom_classes": [],
            "_model_module": "@jupyter-widgets/controls",
            "_model_module_version": "1.5.0",
            "_model_name": "HBoxModel",
            "_view_count": null,
            "_view_module": "@jupyter-widgets/controls",
            "_view_module_version": "1.5.0",
            "_view_name": "HBoxView",
            "box_style": "",
            "children": [
              "IPY_MODEL_8f7bd55c60734779bd5dc7bd3d580d2d",
              "IPY_MODEL_9d925cdfb1c742b1b2851935cbfbad36",
              "IPY_MODEL_5331338556d94ab4a73d8a597750f0f0"
            ],
            "layout": "IPY_MODEL_3acc1a5f00424ab3ac077d2b2e511aa4"
          }
        },
        "8f7bd55c60734779bd5dc7bd3d580d2d": {
          "model_module": "@jupyter-widgets/controls",
          "model_name": "HTMLModel",
          "model_module_version": "1.5.0",
          "state": {
            "_dom_classes": [],
            "_model_module": "@jupyter-widgets/controls",
            "_model_module_version": "1.5.0",
            "_model_name": "HTMLModel",
            "_view_count": null,
            "_view_module": "@jupyter-widgets/controls",
            "_view_module_version": "1.5.0",
            "_view_name": "HTMLView",
            "description": "",
            "description_tooltip": null,
            "layout": "IPY_MODEL_1e8176dda64443bfb68849e8347ef1ba",
            "placeholder": "​",
            "style": "IPY_MODEL_15f5836f044a4f99838477ef1db4adf0",
            "value": "Downloading: 100%"
          }
        },
        "9d925cdfb1c742b1b2851935cbfbad36": {
          "model_module": "@jupyter-widgets/controls",
          "model_name": "FloatProgressModel",
          "model_module_version": "1.5.0",
          "state": {
            "_dom_classes": [],
            "_model_module": "@jupyter-widgets/controls",
            "_model_module_version": "1.5.0",
            "_model_name": "FloatProgressModel",
            "_view_count": null,
            "_view_module": "@jupyter-widgets/controls",
            "_view_module_version": "1.5.0",
            "_view_name": "ProgressView",
            "bar_style": "success",
            "description": "",
            "description_tooltip": null,
            "layout": "IPY_MODEL_3c636b5780684679a3581b74612f4b61",
            "max": 112,
            "min": 0,
            "orientation": "horizontal",
            "style": "IPY_MODEL_f05dbd2a559b41d38a8137f45995e982",
            "value": 112
          }
        },
        "5331338556d94ab4a73d8a597750f0f0": {
          "model_module": "@jupyter-widgets/controls",
          "model_name": "HTMLModel",
          "model_module_version": "1.5.0",
          "state": {
            "_dom_classes": [],
            "_model_module": "@jupyter-widgets/controls",
            "_model_module_version": "1.5.0",
            "_model_name": "HTMLModel",
            "_view_count": null,
            "_view_module": "@jupyter-widgets/controls",
            "_view_module_version": "1.5.0",
            "_view_name": "HTMLView",
            "description": "",
            "description_tooltip": null,
            "layout": "IPY_MODEL_9db696161cad4ce9b4595bcb0ea9e8c7",
            "placeholder": "​",
            "style": "IPY_MODEL_5f41bb889ac94f4789966cf63d11a4dc",
            "value": " 112/112 [00:00&lt;00:00, 4.22kB/s]"
          }
        },
        "3acc1a5f00424ab3ac077d2b2e511aa4": {
          "model_module": "@jupyter-widgets/base",
          "model_name": "LayoutModel",
          "model_module_version": "1.2.0",
          "state": {
            "_model_module": "@jupyter-widgets/base",
            "_model_module_version": "1.2.0",
            "_model_name": "LayoutModel",
            "_view_count": null,
            "_view_module": "@jupyter-widgets/base",
            "_view_module_version": "1.2.0",
            "_view_name": "LayoutView",
            "align_content": null,
            "align_items": null,
            "align_self": null,
            "border": null,
            "bottom": null,
            "display": null,
            "flex": null,
            "flex_flow": null,
            "grid_area": null,
            "grid_auto_columns": null,
            "grid_auto_flow": null,
            "grid_auto_rows": null,
            "grid_column": null,
            "grid_gap": null,
            "grid_row": null,
            "grid_template_areas": null,
            "grid_template_columns": null,
            "grid_template_rows": null,
            "height": null,
            "justify_content": null,
            "justify_items": null,
            "left": null,
            "margin": null,
            "max_height": null,
            "max_width": null,
            "min_height": null,
            "min_width": null,
            "object_fit": null,
            "object_position": null,
            "order": null,
            "overflow": null,
            "overflow_x": null,
            "overflow_y": null,
            "padding": null,
            "right": null,
            "top": null,
            "visibility": null,
            "width": null
          }
        },
        "1e8176dda64443bfb68849e8347ef1ba": {
          "model_module": "@jupyter-widgets/base",
          "model_name": "LayoutModel",
          "model_module_version": "1.2.0",
          "state": {
            "_model_module": "@jupyter-widgets/base",
            "_model_module_version": "1.2.0",
            "_model_name": "LayoutModel",
            "_view_count": null,
            "_view_module": "@jupyter-widgets/base",
            "_view_module_version": "1.2.0",
            "_view_name": "LayoutView",
            "align_content": null,
            "align_items": null,
            "align_self": null,
            "border": null,
            "bottom": null,
            "display": null,
            "flex": null,
            "flex_flow": null,
            "grid_area": null,
            "grid_auto_columns": null,
            "grid_auto_flow": null,
            "grid_auto_rows": null,
            "grid_column": null,
            "grid_gap": null,
            "grid_row": null,
            "grid_template_areas": null,
            "grid_template_columns": null,
            "grid_template_rows": null,
            "height": null,
            "justify_content": null,
            "justify_items": null,
            "left": null,
            "margin": null,
            "max_height": null,
            "max_width": null,
            "min_height": null,
            "min_width": null,
            "object_fit": null,
            "object_position": null,
            "order": null,
            "overflow": null,
            "overflow_x": null,
            "overflow_y": null,
            "padding": null,
            "right": null,
            "top": null,
            "visibility": null,
            "width": null
          }
        },
        "15f5836f044a4f99838477ef1db4adf0": {
          "model_module": "@jupyter-widgets/controls",
          "model_name": "DescriptionStyleModel",
          "model_module_version": "1.5.0",
          "state": {
            "_model_module": "@jupyter-widgets/controls",
            "_model_module_version": "1.5.0",
            "_model_name": "DescriptionStyleModel",
            "_view_count": null,
            "_view_module": "@jupyter-widgets/base",
            "_view_module_version": "1.2.0",
            "_view_name": "StyleView",
            "description_width": ""
          }
        },
        "3c636b5780684679a3581b74612f4b61": {
          "model_module": "@jupyter-widgets/base",
          "model_name": "LayoutModel",
          "model_module_version": "1.2.0",
          "state": {
            "_model_module": "@jupyter-widgets/base",
            "_model_module_version": "1.2.0",
            "_model_name": "LayoutModel",
            "_view_count": null,
            "_view_module": "@jupyter-widgets/base",
            "_view_module_version": "1.2.0",
            "_view_name": "LayoutView",
            "align_content": null,
            "align_items": null,
            "align_self": null,
            "border": null,
            "bottom": null,
            "display": null,
            "flex": null,
            "flex_flow": null,
            "grid_area": null,
            "grid_auto_columns": null,
            "grid_auto_flow": null,
            "grid_auto_rows": null,
            "grid_column": null,
            "grid_gap": null,
            "grid_row": null,
            "grid_template_areas": null,
            "grid_template_columns": null,
            "grid_template_rows": null,
            "height": null,
            "justify_content": null,
            "justify_items": null,
            "left": null,
            "margin": null,
            "max_height": null,
            "max_width": null,
            "min_height": null,
            "min_width": null,
            "object_fit": null,
            "object_position": null,
            "order": null,
            "overflow": null,
            "overflow_x": null,
            "overflow_y": null,
            "padding": null,
            "right": null,
            "top": null,
            "visibility": null,
            "width": null
          }
        },
        "f05dbd2a559b41d38a8137f45995e982": {
          "model_module": "@jupyter-widgets/controls",
          "model_name": "ProgressStyleModel",
          "model_module_version": "1.5.0",
          "state": {
            "_model_module": "@jupyter-widgets/controls",
            "_model_module_version": "1.5.0",
            "_model_name": "ProgressStyleModel",
            "_view_count": null,
            "_view_module": "@jupyter-widgets/base",
            "_view_module_version": "1.2.0",
            "_view_name": "StyleView",
            "bar_color": null,
            "description_width": ""
          }
        },
        "9db696161cad4ce9b4595bcb0ea9e8c7": {
          "model_module": "@jupyter-widgets/base",
          "model_name": "LayoutModel",
          "model_module_version": "1.2.0",
          "state": {
            "_model_module": "@jupyter-widgets/base",
            "_model_module_version": "1.2.0",
            "_model_name": "LayoutModel",
            "_view_count": null,
            "_view_module": "@jupyter-widgets/base",
            "_view_module_version": "1.2.0",
            "_view_name": "LayoutView",
            "align_content": null,
            "align_items": null,
            "align_self": null,
            "border": null,
            "bottom": null,
            "display": null,
            "flex": null,
            "flex_flow": null,
            "grid_area": null,
            "grid_auto_columns": null,
            "grid_auto_flow": null,
            "grid_auto_rows": null,
            "grid_column": null,
            "grid_gap": null,
            "grid_row": null,
            "grid_template_areas": null,
            "grid_template_columns": null,
            "grid_template_rows": null,
            "height": null,
            "justify_content": null,
            "justify_items": null,
            "left": null,
            "margin": null,
            "max_height": null,
            "max_width": null,
            "min_height": null,
            "min_width": null,
            "object_fit": null,
            "object_position": null,
            "order": null,
            "overflow": null,
            "overflow_x": null,
            "overflow_y": null,
            "padding": null,
            "right": null,
            "top": null,
            "visibility": null,
            "width": null
          }
        },
        "5f41bb889ac94f4789966cf63d11a4dc": {
          "model_module": "@jupyter-widgets/controls",
          "model_name": "DescriptionStyleModel",
          "model_module_version": "1.5.0",
          "state": {
            "_model_module": "@jupyter-widgets/controls",
            "_model_module_version": "1.5.0",
            "_model_name": "DescriptionStyleModel",
            "_view_count": null,
            "_view_module": "@jupyter-widgets/base",
            "_view_module_version": "1.2.0",
            "_view_name": "StyleView",
            "description_width": ""
          }
        },
        "9ffff3d31465491191a2f1699e5e090c": {
          "model_module": "@jupyter-widgets/controls",
          "model_name": "HBoxModel",
          "model_module_version": "1.5.0",
          "state": {
            "_dom_classes": [],
            "_model_module": "@jupyter-widgets/controls",
            "_model_module_version": "1.5.0",
            "_model_name": "HBoxModel",
            "_view_count": null,
            "_view_module": "@jupyter-widgets/controls",
            "_view_module_version": "1.5.0",
            "_view_name": "HBoxView",
            "box_style": "",
            "children": [
              "IPY_MODEL_8aba5de24f804a42b650c2b11889cc07",
              "IPY_MODEL_b47a07d25a934058ac1a8b0c63d14e2b",
              "IPY_MODEL_543686db16214557bebcab4fc67b3148"
            ],
            "layout": "IPY_MODEL_0c5e1f9a19d74b06a252a8bcdfb4fd12"
          }
        },
        "8aba5de24f804a42b650c2b11889cc07": {
          "model_module": "@jupyter-widgets/controls",
          "model_name": "HTMLModel",
          "model_module_version": "1.5.0",
          "state": {
            "_dom_classes": [],
            "_model_module": "@jupyter-widgets/controls",
            "_model_module_version": "1.5.0",
            "_model_name": "HTMLModel",
            "_view_count": null,
            "_view_module": "@jupyter-widgets/controls",
            "_view_module_version": "1.5.0",
            "_view_name": "HTMLView",
            "description": "",
            "description_tooltip": null,
            "layout": "IPY_MODEL_992c2f04e2764523a952cfc875ddb910",
            "placeholder": "​",
            "style": "IPY_MODEL_98a8f43982ff43969af3a7175a1846bb",
            "value": "Downloading: 100%"
          }
        },
        "b47a07d25a934058ac1a8b0c63d14e2b": {
          "model_module": "@jupyter-widgets/controls",
          "model_name": "FloatProgressModel",
          "model_module_version": "1.5.0",
          "state": {
            "_dom_classes": [],
            "_model_module": "@jupyter-widgets/controls",
            "_model_module_version": "1.5.0",
            "_model_name": "FloatProgressModel",
            "_view_count": null,
            "_view_module": "@jupyter-widgets/controls",
            "_view_module_version": "1.5.0",
            "_view_name": "ProgressView",
            "bar_style": "success",
            "description": "",
            "description_tooltip": null,
            "layout": "IPY_MODEL_8515e23b34a3415aa25bdddecb44f782",
            "max": 43,
            "min": 0,
            "orientation": "horizontal",
            "style": "IPY_MODEL_8fc9a4bbd26540b990da608f08be9e2c",
            "value": 43
          }
        },
        "543686db16214557bebcab4fc67b3148": {
          "model_module": "@jupyter-widgets/controls",
          "model_name": "HTMLModel",
          "model_module_version": "1.5.0",
          "state": {
            "_dom_classes": [],
            "_model_module": "@jupyter-widgets/controls",
            "_model_module_version": "1.5.0",
            "_model_name": "HTMLModel",
            "_view_count": null,
            "_view_module": "@jupyter-widgets/controls",
            "_view_module_version": "1.5.0",
            "_view_name": "HTMLView",
            "description": "",
            "description_tooltip": null,
            "layout": "IPY_MODEL_5efd4424cf504a53a15de844f8dbd218",
            "placeholder": "​",
            "style": "IPY_MODEL_e7c305b2f0474f46a5da36e2ff4194b9",
            "value": " 43.0/43.0 [00:00&lt;00:00, 541B/s]"
          }
        },
        "0c5e1f9a19d74b06a252a8bcdfb4fd12": {
          "model_module": "@jupyter-widgets/base",
          "model_name": "LayoutModel",
          "model_module_version": "1.2.0",
          "state": {
            "_model_module": "@jupyter-widgets/base",
            "_model_module_version": "1.2.0",
            "_model_name": "LayoutModel",
            "_view_count": null,
            "_view_module": "@jupyter-widgets/base",
            "_view_module_version": "1.2.0",
            "_view_name": "LayoutView",
            "align_content": null,
            "align_items": null,
            "align_self": null,
            "border": null,
            "bottom": null,
            "display": null,
            "flex": null,
            "flex_flow": null,
            "grid_area": null,
            "grid_auto_columns": null,
            "grid_auto_flow": null,
            "grid_auto_rows": null,
            "grid_column": null,
            "grid_gap": null,
            "grid_row": null,
            "grid_template_areas": null,
            "grid_template_columns": null,
            "grid_template_rows": null,
            "height": null,
            "justify_content": null,
            "justify_items": null,
            "left": null,
            "margin": null,
            "max_height": null,
            "max_width": null,
            "min_height": null,
            "min_width": null,
            "object_fit": null,
            "object_position": null,
            "order": null,
            "overflow": null,
            "overflow_x": null,
            "overflow_y": null,
            "padding": null,
            "right": null,
            "top": null,
            "visibility": null,
            "width": null
          }
        },
        "992c2f04e2764523a952cfc875ddb910": {
          "model_module": "@jupyter-widgets/base",
          "model_name": "LayoutModel",
          "model_module_version": "1.2.0",
          "state": {
            "_model_module": "@jupyter-widgets/base",
            "_model_module_version": "1.2.0",
            "_model_name": "LayoutModel",
            "_view_count": null,
            "_view_module": "@jupyter-widgets/base",
            "_view_module_version": "1.2.0",
            "_view_name": "LayoutView",
            "align_content": null,
            "align_items": null,
            "align_self": null,
            "border": null,
            "bottom": null,
            "display": null,
            "flex": null,
            "flex_flow": null,
            "grid_area": null,
            "grid_auto_columns": null,
            "grid_auto_flow": null,
            "grid_auto_rows": null,
            "grid_column": null,
            "grid_gap": null,
            "grid_row": null,
            "grid_template_areas": null,
            "grid_template_columns": null,
            "grid_template_rows": null,
            "height": null,
            "justify_content": null,
            "justify_items": null,
            "left": null,
            "margin": null,
            "max_height": null,
            "max_width": null,
            "min_height": null,
            "min_width": null,
            "object_fit": null,
            "object_position": null,
            "order": null,
            "overflow": null,
            "overflow_x": null,
            "overflow_y": null,
            "padding": null,
            "right": null,
            "top": null,
            "visibility": null,
            "width": null
          }
        },
        "98a8f43982ff43969af3a7175a1846bb": {
          "model_module": "@jupyter-widgets/controls",
          "model_name": "DescriptionStyleModel",
          "model_module_version": "1.5.0",
          "state": {
            "_model_module": "@jupyter-widgets/controls",
            "_model_module_version": "1.5.0",
            "_model_name": "DescriptionStyleModel",
            "_view_count": null,
            "_view_module": "@jupyter-widgets/base",
            "_view_module_version": "1.2.0",
            "_view_name": "StyleView",
            "description_width": ""
          }
        },
        "8515e23b34a3415aa25bdddecb44f782": {
          "model_module": "@jupyter-widgets/base",
          "model_name": "LayoutModel",
          "model_module_version": "1.2.0",
          "state": {
            "_model_module": "@jupyter-widgets/base",
            "_model_module_version": "1.2.0",
            "_model_name": "LayoutModel",
            "_view_count": null,
            "_view_module": "@jupyter-widgets/base",
            "_view_module_version": "1.2.0",
            "_view_name": "LayoutView",
            "align_content": null,
            "align_items": null,
            "align_self": null,
            "border": null,
            "bottom": null,
            "display": null,
            "flex": null,
            "flex_flow": null,
            "grid_area": null,
            "grid_auto_columns": null,
            "grid_auto_flow": null,
            "grid_auto_rows": null,
            "grid_column": null,
            "grid_gap": null,
            "grid_row": null,
            "grid_template_areas": null,
            "grid_template_columns": null,
            "grid_template_rows": null,
            "height": null,
            "justify_content": null,
            "justify_items": null,
            "left": null,
            "margin": null,
            "max_height": null,
            "max_width": null,
            "min_height": null,
            "min_width": null,
            "object_fit": null,
            "object_position": null,
            "order": null,
            "overflow": null,
            "overflow_x": null,
            "overflow_y": null,
            "padding": null,
            "right": null,
            "top": null,
            "visibility": null,
            "width": null
          }
        },
        "8fc9a4bbd26540b990da608f08be9e2c": {
          "model_module": "@jupyter-widgets/controls",
          "model_name": "ProgressStyleModel",
          "model_module_version": "1.5.0",
          "state": {
            "_model_module": "@jupyter-widgets/controls",
            "_model_module_version": "1.5.0",
            "_model_name": "ProgressStyleModel",
            "_view_count": null,
            "_view_module": "@jupyter-widgets/base",
            "_view_module_version": "1.2.0",
            "_view_name": "StyleView",
            "bar_color": null,
            "description_width": ""
          }
        },
        "5efd4424cf504a53a15de844f8dbd218": {
          "model_module": "@jupyter-widgets/base",
          "model_name": "LayoutModel",
          "model_module_version": "1.2.0",
          "state": {
            "_model_module": "@jupyter-widgets/base",
            "_model_module_version": "1.2.0",
            "_model_name": "LayoutModel",
            "_view_count": null,
            "_view_module": "@jupyter-widgets/base",
            "_view_module_version": "1.2.0",
            "_view_name": "LayoutView",
            "align_content": null,
            "align_items": null,
            "align_self": null,
            "border": null,
            "bottom": null,
            "display": null,
            "flex": null,
            "flex_flow": null,
            "grid_area": null,
            "grid_auto_columns": null,
            "grid_auto_flow": null,
            "grid_auto_rows": null,
            "grid_column": null,
            "grid_gap": null,
            "grid_row": null,
            "grid_template_areas": null,
            "grid_template_columns": null,
            "grid_template_rows": null,
            "height": null,
            "justify_content": null,
            "justify_items": null,
            "left": null,
            "margin": null,
            "max_height": null,
            "max_width": null,
            "min_height": null,
            "min_width": null,
            "object_fit": null,
            "object_position": null,
            "order": null,
            "overflow": null,
            "overflow_x": null,
            "overflow_y": null,
            "padding": null,
            "right": null,
            "top": null,
            "visibility": null,
            "width": null
          }
        },
        "e7c305b2f0474f46a5da36e2ff4194b9": {
          "model_module": "@jupyter-widgets/controls",
          "model_name": "DescriptionStyleModel",
          "model_module_version": "1.5.0",
          "state": {
            "_model_module": "@jupyter-widgets/controls",
            "_model_module_version": "1.5.0",
            "_model_name": "DescriptionStyleModel",
            "_view_count": null,
            "_view_module": "@jupyter-widgets/base",
            "_view_module_version": "1.2.0",
            "_view_name": "StyleView",
            "description_width": ""
          }
        },
        "e96cf19ff78a4ff594d0b8f1de9ca616": {
          "model_module": "@jupyter-widgets/controls",
          "model_name": "HBoxModel",
          "model_module_version": "1.5.0",
          "state": {
            "_dom_classes": [],
            "_model_module": "@jupyter-widgets/controls",
            "_model_module_version": "1.5.0",
            "_model_name": "HBoxModel",
            "_view_count": null,
            "_view_module": "@jupyter-widgets/controls",
            "_view_module_version": "1.5.0",
            "_view_name": "HBoxView",
            "box_style": "",
            "children": [
              "IPY_MODEL_d22460aa6ecc421987c41d609411c199",
              "IPY_MODEL_e9c406feccc84ac99bb51a1cc0816016",
              "IPY_MODEL_7ef9bf2a615f4507bd5b660cb3edb479"
            ],
            "layout": "IPY_MODEL_67a3d8e2a51f457d89078d23a564b4ed"
          }
        },
        "d22460aa6ecc421987c41d609411c199": {
          "model_module": "@jupyter-widgets/controls",
          "model_name": "HTMLModel",
          "model_module_version": "1.5.0",
          "state": {
            "_dom_classes": [],
            "_model_module": "@jupyter-widgets/controls",
            "_model_module_version": "1.5.0",
            "_model_name": "HTMLModel",
            "_view_count": null,
            "_view_module": "@jupyter-widgets/controls",
            "_view_module_version": "1.5.0",
            "_view_name": "HTMLView",
            "description": "",
            "description_tooltip": null,
            "layout": "IPY_MODEL_008ea7a16bec43138cfcb6795af01cbe",
            "placeholder": "​",
            "style": "IPY_MODEL_8d2c70eb08a84139a811c7b3a494789e",
            "value": "Downloading: 100%"
          }
        },
        "e9c406feccc84ac99bb51a1cc0816016": {
          "model_module": "@jupyter-widgets/controls",
          "model_name": "FloatProgressModel",
          "model_module_version": "1.5.0",
          "state": {
            "_dom_classes": [],
            "_model_module": "@jupyter-widgets/controls",
            "_model_module_version": "1.5.0",
            "_model_name": "FloatProgressModel",
            "_view_count": null,
            "_view_module": "@jupyter-widgets/controls",
            "_view_module_version": "1.5.0",
            "_view_name": "ProgressView",
            "bar_style": "success",
            "description": "",
            "description_tooltip": null,
            "layout": "IPY_MODEL_5701cea9c1db449782d9dfa097b71a18",
            "max": 647,
            "min": 0,
            "orientation": "horizontal",
            "style": "IPY_MODEL_71c9bdc2b90b43fa93cdf3012fe4473a",
            "value": 647
          }
        },
        "7ef9bf2a615f4507bd5b660cb3edb479": {
          "model_module": "@jupyter-widgets/controls",
          "model_name": "HTMLModel",
          "model_module_version": "1.5.0",
          "state": {
            "_dom_classes": [],
            "_model_module": "@jupyter-widgets/controls",
            "_model_module_version": "1.5.0",
            "_model_name": "HTMLModel",
            "_view_count": null,
            "_view_module": "@jupyter-widgets/controls",
            "_view_module_version": "1.5.0",
            "_view_name": "HTMLView",
            "description": "",
            "description_tooltip": null,
            "layout": "IPY_MODEL_9ebc028c1b2d4395be296d5b3b66380b",
            "placeholder": "​",
            "style": "IPY_MODEL_16f9a2c1606e405e8b97cedb231b01fd",
            "value": " 647/647 [00:00&lt;00:00, 7.52kB/s]"
          }
        },
        "67a3d8e2a51f457d89078d23a564b4ed": {
          "model_module": "@jupyter-widgets/base",
          "model_name": "LayoutModel",
          "model_module_version": "1.2.0",
          "state": {
            "_model_module": "@jupyter-widgets/base",
            "_model_module_version": "1.2.0",
            "_model_name": "LayoutModel",
            "_view_count": null,
            "_view_module": "@jupyter-widgets/base",
            "_view_module_version": "1.2.0",
            "_view_name": "LayoutView",
            "align_content": null,
            "align_items": null,
            "align_self": null,
            "border": null,
            "bottom": null,
            "display": null,
            "flex": null,
            "flex_flow": null,
            "grid_area": null,
            "grid_auto_columns": null,
            "grid_auto_flow": null,
            "grid_auto_rows": null,
            "grid_column": null,
            "grid_gap": null,
            "grid_row": null,
            "grid_template_areas": null,
            "grid_template_columns": null,
            "grid_template_rows": null,
            "height": null,
            "justify_content": null,
            "justify_items": null,
            "left": null,
            "margin": null,
            "max_height": null,
            "max_width": null,
            "min_height": null,
            "min_width": null,
            "object_fit": null,
            "object_position": null,
            "order": null,
            "overflow": null,
            "overflow_x": null,
            "overflow_y": null,
            "padding": null,
            "right": null,
            "top": null,
            "visibility": null,
            "width": null
          }
        },
        "008ea7a16bec43138cfcb6795af01cbe": {
          "model_module": "@jupyter-widgets/base",
          "model_name": "LayoutModel",
          "model_module_version": "1.2.0",
          "state": {
            "_model_module": "@jupyter-widgets/base",
            "_model_module_version": "1.2.0",
            "_model_name": "LayoutModel",
            "_view_count": null,
            "_view_module": "@jupyter-widgets/base",
            "_view_module_version": "1.2.0",
            "_view_name": "LayoutView",
            "align_content": null,
            "align_items": null,
            "align_self": null,
            "border": null,
            "bottom": null,
            "display": null,
            "flex": null,
            "flex_flow": null,
            "grid_area": null,
            "grid_auto_columns": null,
            "grid_auto_flow": null,
            "grid_auto_rows": null,
            "grid_column": null,
            "grid_gap": null,
            "grid_row": null,
            "grid_template_areas": null,
            "grid_template_columns": null,
            "grid_template_rows": null,
            "height": null,
            "justify_content": null,
            "justify_items": null,
            "left": null,
            "margin": null,
            "max_height": null,
            "max_width": null,
            "min_height": null,
            "min_width": null,
            "object_fit": null,
            "object_position": null,
            "order": null,
            "overflow": null,
            "overflow_x": null,
            "overflow_y": null,
            "padding": null,
            "right": null,
            "top": null,
            "visibility": null,
            "width": null
          }
        },
        "8d2c70eb08a84139a811c7b3a494789e": {
          "model_module": "@jupyter-widgets/controls",
          "model_name": "DescriptionStyleModel",
          "model_module_version": "1.5.0",
          "state": {
            "_model_module": "@jupyter-widgets/controls",
            "_model_module_version": "1.5.0",
            "_model_name": "DescriptionStyleModel",
            "_view_count": null,
            "_view_module": "@jupyter-widgets/base",
            "_view_module_version": "1.2.0",
            "_view_name": "StyleView",
            "description_width": ""
          }
        },
        "5701cea9c1db449782d9dfa097b71a18": {
          "model_module": "@jupyter-widgets/base",
          "model_name": "LayoutModel",
          "model_module_version": "1.2.0",
          "state": {
            "_model_module": "@jupyter-widgets/base",
            "_model_module_version": "1.2.0",
            "_model_name": "LayoutModel",
            "_view_count": null,
            "_view_module": "@jupyter-widgets/base",
            "_view_module_version": "1.2.0",
            "_view_name": "LayoutView",
            "align_content": null,
            "align_items": null,
            "align_self": null,
            "border": null,
            "bottom": null,
            "display": null,
            "flex": null,
            "flex_flow": null,
            "grid_area": null,
            "grid_auto_columns": null,
            "grid_auto_flow": null,
            "grid_auto_rows": null,
            "grid_column": null,
            "grid_gap": null,
            "grid_row": null,
            "grid_template_areas": null,
            "grid_template_columns": null,
            "grid_template_rows": null,
            "height": null,
            "justify_content": null,
            "justify_items": null,
            "left": null,
            "margin": null,
            "max_height": null,
            "max_width": null,
            "min_height": null,
            "min_width": null,
            "object_fit": null,
            "object_position": null,
            "order": null,
            "overflow": null,
            "overflow_x": null,
            "overflow_y": null,
            "padding": null,
            "right": null,
            "top": null,
            "visibility": null,
            "width": null
          }
        },
        "71c9bdc2b90b43fa93cdf3012fe4473a": {
          "model_module": "@jupyter-widgets/controls",
          "model_name": "ProgressStyleModel",
          "model_module_version": "1.5.0",
          "state": {
            "_model_module": "@jupyter-widgets/controls",
            "_model_module_version": "1.5.0",
            "_model_name": "ProgressStyleModel",
            "_view_count": null,
            "_view_module": "@jupyter-widgets/base",
            "_view_module_version": "1.2.0",
            "_view_name": "StyleView",
            "bar_color": null,
            "description_width": ""
          }
        },
        "9ebc028c1b2d4395be296d5b3b66380b": {
          "model_module": "@jupyter-widgets/base",
          "model_name": "LayoutModel",
          "model_module_version": "1.2.0",
          "state": {
            "_model_module": "@jupyter-widgets/base",
            "_model_module_version": "1.2.0",
            "_model_name": "LayoutModel",
            "_view_count": null,
            "_view_module": "@jupyter-widgets/base",
            "_view_module_version": "1.2.0",
            "_view_name": "LayoutView",
            "align_content": null,
            "align_items": null,
            "align_self": null,
            "border": null,
            "bottom": null,
            "display": null,
            "flex": null,
            "flex_flow": null,
            "grid_area": null,
            "grid_auto_columns": null,
            "grid_auto_flow": null,
            "grid_auto_rows": null,
            "grid_column": null,
            "grid_gap": null,
            "grid_row": null,
            "grid_template_areas": null,
            "grid_template_columns": null,
            "grid_template_rows": null,
            "height": null,
            "justify_content": null,
            "justify_items": null,
            "left": null,
            "margin": null,
            "max_height": null,
            "max_width": null,
            "min_height": null,
            "min_width": null,
            "object_fit": null,
            "object_position": null,
            "order": null,
            "overflow": null,
            "overflow_x": null,
            "overflow_y": null,
            "padding": null,
            "right": null,
            "top": null,
            "visibility": null,
            "width": null
          }
        },
        "16f9a2c1606e405e8b97cedb231b01fd": {
          "model_module": "@jupyter-widgets/controls",
          "model_name": "DescriptionStyleModel",
          "model_module_version": "1.5.0",
          "state": {
            "_model_module": "@jupyter-widgets/controls",
            "_model_module_version": "1.5.0",
            "_model_name": "DescriptionStyleModel",
            "_view_count": null,
            "_view_module": "@jupyter-widgets/base",
            "_view_module_version": "1.2.0",
            "_view_name": "StyleView",
            "description_width": ""
          }
        }
      }
    },
    "accelerator": "GPU"
  },
  "nbformat": 4,
  "nbformat_minor": 0
}