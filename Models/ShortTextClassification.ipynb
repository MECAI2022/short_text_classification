{
  "cells": [
    {
      "cell_type": "markdown",
      "metadata": {
        "id": "view-in-github",
        "colab_type": "text"
      },
      "source": [
        "<a href=\"https://colab.research.google.com/github/MECAI2022/short_text_classification/blob/main/ShortTextClassification.ipynb\" target=\"_parent\"><img src=\"https://colab.research.google.com/assets/colab-badge.svg\" alt=\"Open In Colab\"/></a>"
      ]
    },
    {
      "cell_type": "markdown",
      "metadata": {
        "id": "eIbkIfPKN7CG"
      },
      "source": [
        "# Loads iniciais"
      ]
    },
    {
      "cell_type": "code",
      "execution_count": null,
      "metadata": {
        "id": "zburO8zPSqoy"
      },
      "outputs": [],
      "source": [
        "#Data manipulation\n",
        "import pandas as pd\n",
        "import numpy as np\n",
        "\n",
        "#Data viz\n",
        "from matplotlib import pyplot as plt\n",
        "plt.style.use('ggplot')\n",
        "%matplotlib inline\n",
        "plt.rcParams.update({\n",
        "    'figure.figsize': (16,8)})\n",
        "import seaborn as sns\n",
        "\n",
        "#Manipulação de textos\n",
        "import re\n",
        "import nltk\n",
        "from nltk.corpus import stopwords\n",
        "from sklearn.feature_extraction.text import TfidfTransformer\n",
        "from sklearn.feature_extraction.text import CountVectorizer\n",
        "\n",
        "# Machine learning e metricas\n",
        "from sklearn.metrics import confusion_matrix\n",
        "from sklearn.model_selection import train_test_split\n",
        "from sklearn.svm import SVC\n",
        "from sklearn.multioutput import MultiOutputClassifier\n",
        "from sklearn.multiclass import OneVsRestClassifier\n",
        "\n",
        "from sklearn.model_selection import RandomizedSearchCV, GridSearchCV\n",
        "\n",
        "from sklearn.metrics import classification_report, confusion_matrix, balanced_accuracy_score, roc_auc_score, f1_score, precision_score, recall_score\n",
        "from sklearn.model_selection import train_test_split\n",
        "from sklearn.model_selection import validation_curve\n",
        "from sklearn.multioutput import MultiOutputClassifier\n",
        "from sklearn.metrics import accuracy_score"
      ]
    },
    {
      "cell_type": "code",
      "execution_count": null,
      "metadata": {
        "colab": {
          "base_uri": "https://localhost:8080/"
        },
        "id": "DJ3ce-ClEA5S",
        "outputId": "e8358ce8-55d2-4526-a6e5-0d5b8c5bce14"
      },
      "outputs": [
        {
          "name": "stderr",
          "output_type": "stream",
          "text": [
            "[nltk_data] Downloading package stopwords to /root/nltk_data...\n",
            "[nltk_data]   Package stopwords is already up-to-date!\n"
          ]
        },
        {
          "data": {
            "text/plain": [
              "True"
            ]
          },
          "execution_count": 2,
          "metadata": {},
          "output_type": "execute_result"
        }
      ],
      "source": [
        "nltk.download('stopwords')"
      ]
    },
    {
      "cell_type": "code",
      "execution_count": null,
      "metadata": {
        "colab": {
          "base_uri": "https://localhost:8080/"
        },
        "id": "frENGJkbS8lK",
        "outputId": "4429160b-5d3d-426d-cd72-32561c5665a7"
      },
      "outputs": [
        {
          "name": "stdout",
          "output_type": "stream",
          "text": [
            "Drive already mounted at /content/drive; to attempt to forcibly remount, call drive.mount(\"/content/drive\", force_remount=True).\n"
          ]
        }
      ],
      "source": [
        "from google.colab import drive\n",
        "drive.mount('/content/drive')"
      ]
    },
    {
      "cell_type": "markdown",
      "metadata": {
        "id": "yQnm0Vh5hEsY"
      },
      "source": [
        "# Funções auxiliares"
      ]
    },
    {
      "cell_type": "markdown",
      "metadata": {
        "id": "l6OTmIbUhNUP"
      },
      "source": [
        "## Matriz de confusão multi-label"
      ]
    },
    {
      "cell_type": "code",
      "execution_count": null,
      "metadata": {
        "id": "l4-tuUorhD1g"
      },
      "outputs": [],
      "source": [
        "from sklearn.metrics import multilabel_confusion_matrix\n",
        "def plot_confusion_matrix(y_true, y_pred, labels=None, show=False):\n",
        "    columns = 3\n",
        "    rows = 3\n",
        "    fig = plt.figure(figsize=(16, 12))\n",
        "    fig.suptitle('Matriz de confusão', fontsize=20)\n",
        "    confusion_array = multilabel_confusion_matrix(y_true, y_pred)\n",
        "    for idx,conf in enumerate(confusion_array):\n",
        "        ax = fig.add_subplot(rows, columns, idx+1)\n",
        "        ax.title.set_text(labels[idx])\n",
        "        probs = conf / conf.sum(axis=1, keepdims=True)\n",
        "        sns.heatmap(probs,\n",
        "                    cmap=\"YlGnBu\", linewidths=.5, annot=True, fmt=\".1%\",\n",
        "                    xticklabels=['Sim', 'Não'],\n",
        "                    yticklabels=['Sim', 'Não'],\n",
        "                    cbar=False).figure.show()\n",
        "#    plt.savefig(f'{args.confusion_matrix_chart_file}')\n",
        "    if show:\n",
        "        plt.show()"
      ]
    },
    {
      "cell_type": "markdown",
      "metadata": {
        "id": "zTy-dQBpN_Xs"
      },
      "source": [
        "# Carregamento e pre-processamento dos dados"
      ]
    },
    {
      "cell_type": "code",
      "execution_count": null,
      "metadata": {
        "colab": {
          "base_uri": "https://localhost:8080/"
        },
        "id": "9yJqWGm3S9MO",
        "outputId": "d11becc7-d2fa-430f-b8e9-82b7b5c58e9e"
      },
      "outputs": [
        {
          "name": "stderr",
          "output_type": "stream",
          "text": [
            "/usr/local/lib/python3.7/dist-packages/openpyxl/worksheet/_reader.py:312: UserWarning: Unknown extension is not supported and will be removed\n",
            "  warn(msg)\n"
          ]
        }
      ],
      "source": [
        "# Para essa célula funcionar crie um atalho da pasta \"MAI5003 - Short text classification (Classificação de Produtos)\" para seu Drive local.\n",
        "\n",
        "filepath = \"/content/drive/MyDrive/MAI5003 - Short text classification (Classificação de Produtos)/dataset_produtos.xlsx\"\n",
        "\n",
        "df = pd.read_excel(filepath)"
      ]
    },
    {
      "cell_type": "code",
      "execution_count": null,
      "metadata": {
        "colab": {
          "base_uri": "https://localhost:8080/",
          "height": 250
        },
        "id": "4-f4PGcBTWtC",
        "outputId": "59e9ac7a-7a87-473c-85f8-a988e7c246fc"
      },
      "outputs": [
        {
          "data": {
            "text/html": [
              "\n",
              "  <div id=\"df-ddc0f462-7239-4d6e-951b-ad8a0d045d6e\">\n",
              "    <div class=\"colab-df-container\">\n",
              "      <div>\n",
              "<style scoped>\n",
              "    .dataframe tbody tr th:only-of-type {\n",
              "        vertical-align: middle;\n",
              "    }\n",
              "\n",
              "    .dataframe tbody tr th {\n",
              "        vertical-align: top;\n",
              "    }\n",
              "\n",
              "    .dataframe thead th {\n",
              "        text-align: right;\n",
              "    }\n",
              "</style>\n",
              "<table border=\"1\" class=\"dataframe\">\n",
              "  <thead>\n",
              "    <tr style=\"text-align: right;\">\n",
              "      <th></th>\n",
              "      <th>nm_item</th>\n",
              "      <th>segmento</th>\n",
              "      <th>categoria</th>\n",
              "      <th>subcategoria</th>\n",
              "      <th>nm_product</th>\n",
              "    </tr>\n",
              "  </thead>\n",
              "  <tbody>\n",
              "    <tr>\n",
              "      <th>0</th>\n",
              "      <td>APRESUNTADO REZENDE PEC KG</td>\n",
              "      <td>1-BENS DE CONSUMO</td>\n",
              "      <td>3-FRIOS E LATICINIOS</td>\n",
              "      <td>6-EMBUTIDOS</td>\n",
              "      <td>APRESUNTADO</td>\n",
              "    </tr>\n",
              "    <tr>\n",
              "      <th>1</th>\n",
              "      <td>CARNE SUIN ESPINHACO KG</td>\n",
              "      <td>1-BENS DE CONSUMO</td>\n",
              "      <td>1-ACOUGUE E PEIXARIA</td>\n",
              "      <td>1-ACOUGUE</td>\n",
              "      <td>CARNE SUINA</td>\n",
              "    </tr>\n",
              "    <tr>\n",
              "      <th>2</th>\n",
              "      <td>WHISKY WHITE 1LHORSE TRAD.</td>\n",
              "      <td>1-BENS DE CONSUMO</td>\n",
              "      <td>18-BEBIDAS ALCOOLICAS</td>\n",
              "      <td>56-DESTILADOS</td>\n",
              "      <td>WHISKY</td>\n",
              "    </tr>\n",
              "    <tr>\n",
              "      <th>3</th>\n",
              "      <td>WHISKY JOHNN WALKER 1L UNRED LABEL.</td>\n",
              "      <td>1-BENS DE CONSUMO</td>\n",
              "      <td>18-BEBIDAS ALCOOLICAS</td>\n",
              "      <td>56-DESTILADOS</td>\n",
              "      <td>WHISKY</td>\n",
              "    </tr>\n",
              "    <tr>\n",
              "      <th>4</th>\n",
              "      <td>LTE COND MOCASEMI DESN TP 395G.</td>\n",
              "      <td>1-BENS DE CONSUMO</td>\n",
              "      <td>6-MERCEARIA</td>\n",
              "      <td>22-MERCEARIA LACTEA</td>\n",
              "      <td>LEITE CONDENSADO</td>\n",
              "    </tr>\n",
              "  </tbody>\n",
              "</table>\n",
              "</div>\n",
              "      <button class=\"colab-df-convert\" onclick=\"convertToInteractive('df-ddc0f462-7239-4d6e-951b-ad8a0d045d6e')\"\n",
              "              title=\"Convert this dataframe to an interactive table.\"\n",
              "              style=\"display:none;\">\n",
              "        \n",
              "  <svg xmlns=\"http://www.w3.org/2000/svg\" height=\"24px\"viewBox=\"0 0 24 24\"\n",
              "       width=\"24px\">\n",
              "    <path d=\"M0 0h24v24H0V0z\" fill=\"none\"/>\n",
              "    <path d=\"M18.56 5.44l.94 2.06.94-2.06 2.06-.94-2.06-.94-.94-2.06-.94 2.06-2.06.94zm-11 1L8.5 8.5l.94-2.06 2.06-.94-2.06-.94L8.5 2.5l-.94 2.06-2.06.94zm10 10l.94 2.06.94-2.06 2.06-.94-2.06-.94-.94-2.06-.94 2.06-2.06.94z\"/><path d=\"M17.41 7.96l-1.37-1.37c-.4-.4-.92-.59-1.43-.59-.52 0-1.04.2-1.43.59L10.3 9.45l-7.72 7.72c-.78.78-.78 2.05 0 2.83L4 21.41c.39.39.9.59 1.41.59.51 0 1.02-.2 1.41-.59l7.78-7.78 2.81-2.81c.8-.78.8-2.07 0-2.86zM5.41 20L4 18.59l7.72-7.72 1.47 1.35L5.41 20z\"/>\n",
              "  </svg>\n",
              "      </button>\n",
              "      \n",
              "  <style>\n",
              "    .colab-df-container {\n",
              "      display:flex;\n",
              "      flex-wrap:wrap;\n",
              "      gap: 12px;\n",
              "    }\n",
              "\n",
              "    .colab-df-convert {\n",
              "      background-color: #E8F0FE;\n",
              "      border: none;\n",
              "      border-radius: 50%;\n",
              "      cursor: pointer;\n",
              "      display: none;\n",
              "      fill: #1967D2;\n",
              "      height: 32px;\n",
              "      padding: 0 0 0 0;\n",
              "      width: 32px;\n",
              "    }\n",
              "\n",
              "    .colab-df-convert:hover {\n",
              "      background-color: #E2EBFA;\n",
              "      box-shadow: 0px 1px 2px rgba(60, 64, 67, 0.3), 0px 1px 3px 1px rgba(60, 64, 67, 0.15);\n",
              "      fill: #174EA6;\n",
              "    }\n",
              "\n",
              "    [theme=dark] .colab-df-convert {\n",
              "      background-color: #3B4455;\n",
              "      fill: #D2E3FC;\n",
              "    }\n",
              "\n",
              "    [theme=dark] .colab-df-convert:hover {\n",
              "      background-color: #434B5C;\n",
              "      box-shadow: 0px 1px 3px 1px rgba(0, 0, 0, 0.15);\n",
              "      filter: drop-shadow(0px 1px 2px rgba(0, 0, 0, 0.3));\n",
              "      fill: #FFFFFF;\n",
              "    }\n",
              "  </style>\n",
              "\n",
              "      <script>\n",
              "        const buttonEl =\n",
              "          document.querySelector('#df-ddc0f462-7239-4d6e-951b-ad8a0d045d6e button.colab-df-convert');\n",
              "        buttonEl.style.display =\n",
              "          google.colab.kernel.accessAllowed ? 'block' : 'none';\n",
              "\n",
              "        async function convertToInteractive(key) {\n",
              "          const element = document.querySelector('#df-ddc0f462-7239-4d6e-951b-ad8a0d045d6e');\n",
              "          const dataTable =\n",
              "            await google.colab.kernel.invokeFunction('convertToInteractive',\n",
              "                                                     [key], {});\n",
              "          if (!dataTable) return;\n",
              "\n",
              "          const docLinkHtml = 'Like what you see? Visit the ' +\n",
              "            '<a target=\"_blank\" href=https://colab.research.google.com/notebooks/data_table.ipynb>data table notebook</a>'\n",
              "            + ' to learn more about interactive tables.';\n",
              "          element.innerHTML = '';\n",
              "          dataTable['output_type'] = 'display_data';\n",
              "          await google.colab.output.renderOutput(dataTable, element);\n",
              "          const docLink = document.createElement('div');\n",
              "          docLink.innerHTML = docLinkHtml;\n",
              "          element.appendChild(docLink);\n",
              "        }\n",
              "      </script>\n",
              "    </div>\n",
              "  </div>\n",
              "  "
            ],
            "text/plain": [
              "                               nm_item           segmento  \\\n",
              "0           APRESUNTADO REZENDE PEC KG  1-BENS DE CONSUMO   \n",
              "1              CARNE SUIN ESPINHACO KG  1-BENS DE CONSUMO   \n",
              "2           WHISKY WHITE 1LHORSE TRAD.  1-BENS DE CONSUMO   \n",
              "3  WHISKY JOHNN WALKER 1L UNRED LABEL.  1-BENS DE CONSUMO   \n",
              "4      LTE COND MOCASEMI DESN TP 395G.  1-BENS DE CONSUMO   \n",
              "\n",
              "                categoria         subcategoria        nm_product  \n",
              "0    3-FRIOS E LATICINIOS          6-EMBUTIDOS       APRESUNTADO  \n",
              "1    1-ACOUGUE E PEIXARIA            1-ACOUGUE       CARNE SUINA  \n",
              "2  18-BEBIDAS ALCOOLICAS         56-DESTILADOS            WHISKY  \n",
              "3  18-BEBIDAS ALCOOLICAS         56-DESTILADOS            WHISKY  \n",
              "4             6-MERCEARIA  22-MERCEARIA LACTEA  LEITE CONDENSADO  "
            ]
          },
          "execution_count": 5,
          "metadata": {},
          "output_type": "execute_result"
        }
      ],
      "source": [
        "df.head()"
      ]
    },
    {
      "cell_type": "code",
      "execution_count": null,
      "metadata": {
        "colab": {
          "base_uri": "https://localhost:8080/"
        },
        "id": "SEaC4ETeaWPO",
        "outputId": "583940d0-d547-4a56-d7a0-ad7b78cba130"
      },
      "outputs": [
        {
          "data": {
            "text/plain": [
              "nm_item         0.0\n",
              "segmento        0.0\n",
              "categoria       0.0\n",
              "subcategoria    0.0\n",
              "nm_product      0.0\n",
              "dtype: float64"
            ]
          },
          "execution_count": 5,
          "metadata": {},
          "output_type": "execute_result"
        }
      ],
      "source": [
        "df = df.dropna()\n",
        "df.isna().mean()"
      ]
    },
    {
      "cell_type": "code",
      "execution_count": null,
      "metadata": {
        "colab": {
          "base_uri": "https://localhost:8080/"
        },
        "id": "lrtfkoVlaa13",
        "outputId": "fa211dde-8b56-4578-9f6e-f05708f5c43e"
      },
      "outputs": [
        {
          "name": "stdout",
          "output_type": "stream",
          "text": [
            "<class 'pandas.core.frame.DataFrame'>\n",
            "Int64Index: 158113 entries, 0 to 158112\n",
            "Data columns (total 5 columns):\n",
            " #   Column        Non-Null Count   Dtype \n",
            "---  ------        --------------   ----- \n",
            " 0   nm_item       158113 non-null  object\n",
            " 1   segmento      158113 non-null  object\n",
            " 2   categoria     158113 non-null  object\n",
            " 3   subcategoria  158113 non-null  object\n",
            " 4   nm_product    158113 non-null  object\n",
            "dtypes: object(5)\n",
            "memory usage: 7.2+ MB\n"
          ]
        }
      ],
      "source": [
        "df.info()"
      ]
    },
    {
      "cell_type": "code",
      "execution_count": null,
      "metadata": {
        "colab": {
          "base_uri": "https://localhost:8080/"
        },
        "id": "sKqzXzUnag-z",
        "outputId": "2c50fa12-6619-425a-d233-bae15df2e2d8"
      },
      "outputs": [
        {
          "data": {
            "text/plain": [
              "segmento             6\n",
              "categoria           70\n",
              "subcategoria       153\n",
              "nm_product         715\n",
              "nm_item         153445\n",
              "dtype: int64"
            ]
          },
          "execution_count": 8,
          "metadata": {},
          "output_type": "execute_result"
        }
      ],
      "source": [
        "df.nunique().sort_values(ascending = True)"
      ]
    },
    {
      "cell_type": "markdown",
      "metadata": {
        "id": "cDMrnnKSas80"
      },
      "source": [
        "## EDA - Olhando as diferentes classes de estratificação"
      ]
    },
    {
      "cell_type": "markdown",
      "metadata": {
        "id": "vVnPQvn3avWv"
      },
      "source": [
        "## 1 - Segmento"
      ]
    },
    {
      "cell_type": "code",
      "execution_count": null,
      "metadata": {
        "colab": {
          "base_uri": "https://localhost:8080/"
        },
        "id": "wZApwosfauCQ",
        "outputId": "2eb626e5-aaeb-4f74-ed0e-fa7aaf532a58"
      },
      "outputs": [
        {
          "data": {
            "text/plain": [
              "array(['1-BENS DE CONSUMO', '5-HEALTHCARE', '2-CASA E CONSTRUCAO',\n",
              "       '4-FASHION E ESPORTIVO', '3-ELETROMOVEIS', '6-PETROQUIMICA'],\n",
              "      dtype=object)"
            ]
          },
          "execution_count": 32,
          "metadata": {},
          "output_type": "execute_result"
        }
      ],
      "source": [
        "df.segmento.unique()"
      ]
    },
    {
      "cell_type": "code",
      "execution_count": null,
      "metadata": {
        "colab": {
          "base_uri": "https://localhost:8080/"
        },
        "id": "gCHGZBg3azl1",
        "outputId": "accac6c3-439e-49fa-c3e8-3b8f0c45b6d5"
      },
      "outputs": [
        {
          "name": "stdout",
          "output_type": "stream",
          "text": [
            "Existem 6 classes diferentes de segmento\n"
          ]
        }
      ],
      "source": [
        "print(f\"Existem {len(df.segmento.unique())} classes diferentes de segmento\")"
      ]
    },
    {
      "cell_type": "code",
      "execution_count": null,
      "metadata": {
        "colab": {
          "base_uri": "https://localhost:8080/",
          "height": 238
        },
        "id": "izetBvtra1eF",
        "outputId": "b66416fc-6b08-425c-d956-0043828984ec"
      },
      "outputs": [
        {
          "data": {
            "text/html": [
              "\n",
              "  <div id=\"df-e77a9a64-733d-43c0-a3d0-f0be59762806\">\n",
              "    <div class=\"colab-df-container\">\n",
              "      <div>\n",
              "<style scoped>\n",
              "    .dataframe tbody tr th:only-of-type {\n",
              "        vertical-align: middle;\n",
              "    }\n",
              "\n",
              "    .dataframe tbody tr th {\n",
              "        vertical-align: top;\n",
              "    }\n",
              "\n",
              "    .dataframe thead th {\n",
              "        text-align: right;\n",
              "    }\n",
              "</style>\n",
              "<table border=\"1\" class=\"dataframe\">\n",
              "  <thead>\n",
              "    <tr style=\"text-align: right;\">\n",
              "      <th></th>\n",
              "      <th>segmento</th>\n",
              "      <th>count</th>\n",
              "      <th>%</th>\n",
              "    </tr>\n",
              "  </thead>\n",
              "  <tbody>\n",
              "    <tr>\n",
              "      <th>0</th>\n",
              "      <td>1-BENS DE CONSUMO</td>\n",
              "      <td>152526</td>\n",
              "      <td>96.47</td>\n",
              "    </tr>\n",
              "    <tr>\n",
              "      <th>1</th>\n",
              "      <td>2-CASA E CONSTRUCAO</td>\n",
              "      <td>1992</td>\n",
              "      <td>1.26</td>\n",
              "    </tr>\n",
              "    <tr>\n",
              "      <th>2</th>\n",
              "      <td>5-HEALTHCARE</td>\n",
              "      <td>1789</td>\n",
              "      <td>1.13</td>\n",
              "    </tr>\n",
              "    <tr>\n",
              "      <th>3</th>\n",
              "      <td>4-FASHION E ESPORTIVO</td>\n",
              "      <td>1259</td>\n",
              "      <td>0.80</td>\n",
              "    </tr>\n",
              "    <tr>\n",
              "      <th>4</th>\n",
              "      <td>3-ELETROMOVEIS</td>\n",
              "      <td>361</td>\n",
              "      <td>0.23</td>\n",
              "    </tr>\n",
              "    <tr>\n",
              "      <th>5</th>\n",
              "      <td>6-PETROQUIMICA</td>\n",
              "      <td>186</td>\n",
              "      <td>0.12</td>\n",
              "    </tr>\n",
              "  </tbody>\n",
              "</table>\n",
              "</div>\n",
              "      <button class=\"colab-df-convert\" onclick=\"convertToInteractive('df-e77a9a64-733d-43c0-a3d0-f0be59762806')\"\n",
              "              title=\"Convert this dataframe to an interactive table.\"\n",
              "              style=\"display:none;\">\n",
              "        \n",
              "  <svg xmlns=\"http://www.w3.org/2000/svg\" height=\"24px\"viewBox=\"0 0 24 24\"\n",
              "       width=\"24px\">\n",
              "    <path d=\"M0 0h24v24H0V0z\" fill=\"none\"/>\n",
              "    <path d=\"M18.56 5.44l.94 2.06.94-2.06 2.06-.94-2.06-.94-.94-2.06-.94 2.06-2.06.94zm-11 1L8.5 8.5l.94-2.06 2.06-.94-2.06-.94L8.5 2.5l-.94 2.06-2.06.94zm10 10l.94 2.06.94-2.06 2.06-.94-2.06-.94-.94-2.06-.94 2.06-2.06.94z\"/><path d=\"M17.41 7.96l-1.37-1.37c-.4-.4-.92-.59-1.43-.59-.52 0-1.04.2-1.43.59L10.3 9.45l-7.72 7.72c-.78.78-.78 2.05 0 2.83L4 21.41c.39.39.9.59 1.41.59.51 0 1.02-.2 1.41-.59l7.78-7.78 2.81-2.81c.8-.78.8-2.07 0-2.86zM5.41 20L4 18.59l7.72-7.72 1.47 1.35L5.41 20z\"/>\n",
              "  </svg>\n",
              "      </button>\n",
              "      \n",
              "  <style>\n",
              "    .colab-df-container {\n",
              "      display:flex;\n",
              "      flex-wrap:wrap;\n",
              "      gap: 12px;\n",
              "    }\n",
              "\n",
              "    .colab-df-convert {\n",
              "      background-color: #E8F0FE;\n",
              "      border: none;\n",
              "      border-radius: 50%;\n",
              "      cursor: pointer;\n",
              "      display: none;\n",
              "      fill: #1967D2;\n",
              "      height: 32px;\n",
              "      padding: 0 0 0 0;\n",
              "      width: 32px;\n",
              "    }\n",
              "\n",
              "    .colab-df-convert:hover {\n",
              "      background-color: #E2EBFA;\n",
              "      box-shadow: 0px 1px 2px rgba(60, 64, 67, 0.3), 0px 1px 3px 1px rgba(60, 64, 67, 0.15);\n",
              "      fill: #174EA6;\n",
              "    }\n",
              "\n",
              "    [theme=dark] .colab-df-convert {\n",
              "      background-color: #3B4455;\n",
              "      fill: #D2E3FC;\n",
              "    }\n",
              "\n",
              "    [theme=dark] .colab-df-convert:hover {\n",
              "      background-color: #434B5C;\n",
              "      box-shadow: 0px 1px 3px 1px rgba(0, 0, 0, 0.15);\n",
              "      filter: drop-shadow(0px 1px 2px rgba(0, 0, 0, 0.3));\n",
              "      fill: #FFFFFF;\n",
              "    }\n",
              "  </style>\n",
              "\n",
              "      <script>\n",
              "        const buttonEl =\n",
              "          document.querySelector('#df-e77a9a64-733d-43c0-a3d0-f0be59762806 button.colab-df-convert');\n",
              "        buttonEl.style.display =\n",
              "          google.colab.kernel.accessAllowed ? 'block' : 'none';\n",
              "\n",
              "        async function convertToInteractive(key) {\n",
              "          const element = document.querySelector('#df-e77a9a64-733d-43c0-a3d0-f0be59762806');\n",
              "          const dataTable =\n",
              "            await google.colab.kernel.invokeFunction('convertToInteractive',\n",
              "                                                     [key], {});\n",
              "          if (!dataTable) return;\n",
              "\n",
              "          const docLinkHtml = 'Like what you see? Visit the ' +\n",
              "            '<a target=\"_blank\" href=https://colab.research.google.com/notebooks/data_table.ipynb>data table notebook</a>'\n",
              "            + ' to learn more about interactive tables.';\n",
              "          element.innerHTML = '';\n",
              "          dataTable['output_type'] = 'display_data';\n",
              "          await google.colab.output.renderOutput(dataTable, element);\n",
              "          const docLink = document.createElement('div');\n",
              "          docLink.innerHTML = docLinkHtml;\n",
              "          element.appendChild(docLink);\n",
              "        }\n",
              "      </script>\n",
              "    </div>\n",
              "  </div>\n",
              "  "
            ],
            "text/plain": [
              "                segmento   count      %\n",
              "0      1-BENS DE CONSUMO  152526  96.47\n",
              "1    2-CASA E CONSTRUCAO    1992   1.26\n",
              "2           5-HEALTHCARE    1789   1.13\n",
              "3  4-FASHION E ESPORTIVO    1259   0.80\n",
              "4         3-ELETROMOVEIS     361   0.23\n",
              "5         6-PETROQUIMICA     186   0.12"
            ]
          },
          "execution_count": 34,
          "metadata": {},
          "output_type": "execute_result"
        }
      ],
      "source": [
        "segmento = df.groupby('segmento').size().sort_values(ascending = False)\n",
        "segmento = segmento.reset_index()\n",
        "segmento.columns = ['segmento', 'count']\n",
        "segmento['%'] = (100 * segmento['count'] / segmento['count'].sum()).round(2)\n",
        "segmento"
      ]
    },
    {
      "cell_type": "code",
      "execution_count": null,
      "metadata": {
        "colab": {
          "base_uri": "https://localhost:8080/",
          "height": 509
        },
        "id": "YDTn-I3Ua5OJ",
        "outputId": "7ef38833-73fd-46ef-f7ae-c9a73f118c57"
      },
      "outputs": [
        {
          "data": {
            "image/png": "[encoded data removed]",
            "text/plain": [
              "<Figure size 1152x576 with 1 Axes>"
            ]
          },
          "metadata": {},
          "output_type": "display_data"
        }
      ],
      "source": [
        "sns.barplot(data = segmento.head(15), y = 'segmento', x = '%')\n",
        "plt.xticks(rotation=90);"
      ]
    },
    {
      "cell_type": "code",
      "execution_count": null,
      "metadata": {
        "id": "b4GXq_LUa7Hl"
      },
      "outputs": [],
      "source": []
    },
    {
      "cell_type": "markdown",
      "metadata": {
        "id": "y20ENv6za-Sc"
      },
      "source": [
        "## 2 - Categoria"
      ]
    },
    {
      "cell_type": "code",
      "execution_count": null,
      "metadata": {
        "colab": {
          "base_uri": "https://localhost:8080/"
        },
        "id": "ExlCo7o1a_al",
        "outputId": "cb4fd66d-7a1c-4a1d-96a3-96089c8664cd"
      },
      "outputs": [
        {
          "name": "stdout",
          "output_type": "stream",
          "text": [
            "Existem 70 classes diferentes de categoria\n"
          ]
        }
      ],
      "source": [
        "print(f\"Existem {len(df.categoria.unique())} classes diferentes de categoria\")"
      ]
    },
    {
      "cell_type": "code",
      "execution_count": null,
      "metadata": {
        "colab": {
          "base_uri": "https://localhost:8080/"
        },
        "id": "bRN3gCpma_22",
        "outputId": "7b097fcd-b3df-4419-98b9-93518a320594"
      },
      "outputs": [
        {
          "data": {
            "text/plain": [
              "categoria\n",
              "6-MERCEARIA                  48320\n",
              "32-PRODUTOS DE LIMPEZA       13834\n",
              "3-FRIOS E LATICINIOS         13299\n",
              "31-HIGIENE PESSOAL           12158\n",
              "8-PREPARADOS E CONGELADOS     7018\n",
              "dtype: int64"
            ]
          },
          "execution_count": 37,
          "metadata": {},
          "output_type": "execute_result"
        }
      ],
      "source": [
        "df[df['segmento'] == '1-BENS DE CONSUMO'].groupby('categoria').size().sort_values(ascending = False)[:5]"
      ]
    },
    {
      "cell_type": "code",
      "execution_count": null,
      "metadata": {
        "colab": {
          "base_uri": "https://localhost:8080/",
          "height": 363
        },
        "id": "Z4xXsRmIbBZw",
        "outputId": "d71f8f3f-66ad-4477-8798-e5ce27532b0d"
      },
      "outputs": [
        {
          "data": {
            "text/html": [
              "\n",
              "  <div id=\"df-0643dc0f-6e6b-424f-b2ca-baf0dac973b3\">\n",
              "    <div class=\"colab-df-container\">\n",
              "      <div>\n",
              "<style scoped>\n",
              "    .dataframe tbody tr th:only-of-type {\n",
              "        vertical-align: middle;\n",
              "    }\n",
              "\n",
              "    .dataframe tbody tr th {\n",
              "        vertical-align: top;\n",
              "    }\n",
              "\n",
              "    .dataframe thead th {\n",
              "        text-align: right;\n",
              "    }\n",
              "</style>\n",
              "<table border=\"1\" class=\"dataframe\">\n",
              "  <thead>\n",
              "    <tr style=\"text-align: right;\">\n",
              "      <th></th>\n",
              "      <th>categoria</th>\n",
              "      <th>count</th>\n",
              "      <th>%</th>\n",
              "    </tr>\n",
              "  </thead>\n",
              "  <tbody>\n",
              "    <tr>\n",
              "      <th>0</th>\n",
              "      <td>6-MERCEARIA</td>\n",
              "      <td>48320</td>\n",
              "      <td>31.68</td>\n",
              "    </tr>\n",
              "    <tr>\n",
              "      <th>1</th>\n",
              "      <td>32-PRODUTOS DE LIMPEZA</td>\n",
              "      <td>13834</td>\n",
              "      <td>9.07</td>\n",
              "    </tr>\n",
              "    <tr>\n",
              "      <th>2</th>\n",
              "      <td>3-FRIOS E LATICINIOS</td>\n",
              "      <td>13299</td>\n",
              "      <td>8.72</td>\n",
              "    </tr>\n",
              "    <tr>\n",
              "      <th>3</th>\n",
              "      <td>31-HIGIENE PESSOAL</td>\n",
              "      <td>12158</td>\n",
              "      <td>7.97</td>\n",
              "    </tr>\n",
              "    <tr>\n",
              "      <th>4</th>\n",
              "      <td>8-PREPARADOS E CONGELADOS</td>\n",
              "      <td>7018</td>\n",
              "      <td>4.60</td>\n",
              "    </tr>\n",
              "    <tr>\n",
              "      <th>5</th>\n",
              "      <td>5-HORTIFRUTI (FLV)</td>\n",
              "      <td>6353</td>\n",
              "      <td>4.17</td>\n",
              "    </tr>\n",
              "    <tr>\n",
              "      <th>6</th>\n",
              "      <td>1-ACOUGUE E PEIXARIA</td>\n",
              "      <td>6328</td>\n",
              "      <td>4.15</td>\n",
              "    </tr>\n",
              "    <tr>\n",
              "      <th>7</th>\n",
              "      <td>7-PADARIA E CONFEITARIA</td>\n",
              "      <td>5716</td>\n",
              "      <td>3.75</td>\n",
              "    </tr>\n",
              "    <tr>\n",
              "      <th>8</th>\n",
              "      <td>24-SUCOS E REFRESCOS</td>\n",
              "      <td>5080</td>\n",
              "      <td>3.33</td>\n",
              "    </tr>\n",
              "    <tr>\n",
              "      <th>9</th>\n",
              "      <td>18-BEBIDAS ALCOOLICAS</td>\n",
              "      <td>4626</td>\n",
              "      <td>3.03</td>\n",
              "    </tr>\n",
              "  </tbody>\n",
              "</table>\n",
              "</div>\n",
              "      <button class=\"colab-df-convert\" onclick=\"convertToInteractive('df-0643dc0f-6e6b-424f-b2ca-baf0dac973b3')\"\n",
              "              title=\"Convert this dataframe to an interactive table.\"\n",
              "              style=\"display:none;\">\n",
              "        \n",
              "  <svg xmlns=\"http://www.w3.org/2000/svg\" height=\"24px\"viewBox=\"0 0 24 24\"\n",
              "       width=\"24px\">\n",
              "    <path d=\"M0 0h24v24H0V0z\" fill=\"none\"/>\n",
              "    <path d=\"M18.56 5.44l.94 2.06.94-2.06 2.06-.94-2.06-.94-.94-2.06-.94 2.06-2.06.94zm-11 1L8.5 8.5l.94-2.06 2.06-.94-2.06-.94L8.5 2.5l-.94 2.06-2.06.94zm10 10l.94 2.06.94-2.06 2.06-.94-2.06-.94-.94-2.06-.94 2.06-2.06.94z\"/><path d=\"M17.41 7.96l-1.37-1.37c-.4-.4-.92-.59-1.43-.59-.52 0-1.04.2-1.43.59L10.3 9.45l-7.72 7.72c-.78.78-.78 2.05 0 2.83L4 21.41c.39.39.9.59 1.41.59.51 0 1.02-.2 1.41-.59l7.78-7.78 2.81-2.81c.8-.78.8-2.07 0-2.86zM5.41 20L4 18.59l7.72-7.72 1.47 1.35L5.41 20z\"/>\n",
              "  </svg>\n",
              "      </button>\n",
              "      \n",
              "  <style>\n",
              "    .colab-df-container {\n",
              "      display:flex;\n",
              "      flex-wrap:wrap;\n",
              "      gap: 12px;\n",
              "    }\n",
              "\n",
              "    .colab-df-convert {\n",
              "      background-color: #E8F0FE;\n",
              "      border: none;\n",
              "      border-radius: 50%;\n",
              "      cursor: pointer;\n",
              "      display: none;\n",
              "      fill: #1967D2;\n",
              "      height: 32px;\n",
              "      padding: 0 0 0 0;\n",
              "      width: 32px;\n",
              "    }\n",
              "\n",
              "    .colab-df-convert:hover {\n",
              "      background-color: #E2EBFA;\n",
              "      box-shadow: 0px 1px 2px rgba(60, 64, 67, 0.3), 0px 1px 3px 1px rgba(60, 64, 67, 0.15);\n",
              "      fill: #174EA6;\n",
              "    }\n",
              "\n",
              "    [theme=dark] .colab-df-convert {\n",
              "      background-color: #3B4455;\n",
              "      fill: #D2E3FC;\n",
              "    }\n",
              "\n",
              "    [theme=dark] .colab-df-convert:hover {\n",
              "      background-color: #434B5C;\n",
              "      box-shadow: 0px 1px 3px 1px rgba(0, 0, 0, 0.15);\n",
              "      filter: drop-shadow(0px 1px 2px rgba(0, 0, 0, 0.3));\n",
              "      fill: #FFFFFF;\n",
              "    }\n",
              "  </style>\n",
              "\n",
              "      <script>\n",
              "        const buttonEl =\n",
              "          document.querySelector('#df-0643dc0f-6e6b-424f-b2ca-baf0dac973b3 button.colab-df-convert');\n",
              "        buttonEl.style.display =\n",
              "          google.colab.kernel.accessAllowed ? 'block' : 'none';\n",
              "\n",
              "        async function convertToInteractive(key) {\n",
              "          const element = document.querySelector('#df-0643dc0f-6e6b-424f-b2ca-baf0dac973b3');\n",
              "          const dataTable =\n",
              "            await google.colab.kernel.invokeFunction('convertToInteractive',\n",
              "                                                     [key], {});\n",
              "          if (!dataTable) return;\n",
              "\n",
              "          const docLinkHtml = 'Like what you see? Visit the ' +\n",
              "            '<a target=\"_blank\" href=https://colab.research.google.com/notebooks/data_table.ipynb>data table notebook</a>'\n",
              "            + ' to learn more about interactive tables.';\n",
              "          element.innerHTML = '';\n",
              "          dataTable['output_type'] = 'display_data';\n",
              "          await google.colab.output.renderOutput(dataTable, element);\n",
              "          const docLink = document.createElement('div');\n",
              "          docLink.innerHTML = docLinkHtml;\n",
              "          element.appendChild(docLink);\n",
              "        }\n",
              "      </script>\n",
              "    </div>\n",
              "  </div>\n",
              "  "
            ],
            "text/plain": [
              "                   categoria  count      %\n",
              "0                6-MERCEARIA  48320  31.68\n",
              "1     32-PRODUTOS DE LIMPEZA  13834   9.07\n",
              "2       3-FRIOS E LATICINIOS  13299   8.72\n",
              "3         31-HIGIENE PESSOAL  12158   7.97\n",
              "4  8-PREPARADOS E CONGELADOS   7018   4.60\n",
              "5         5-HORTIFRUTI (FLV)   6353   4.17\n",
              "6       1-ACOUGUE E PEIXARIA   6328   4.15\n",
              "7    7-PADARIA E CONFEITARIA   5716   3.75\n",
              "8       24-SUCOS E REFRESCOS   5080   3.33\n",
              "9     18-BEBIDAS ALCOOLICAS    4626   3.03"
            ]
          },
          "execution_count": 38,
          "metadata": {},
          "output_type": "execute_result"
        }
      ],
      "source": [
        "bens = pd.DataFrame(df[df['segmento'] == '1-BENS DE CONSUMO'].groupby('categoria').size().sort_values(ascending = False))\n",
        "bens = bens.reset_index()\n",
        "bens.columns = ['categoria', 'count']\n",
        "bens['%'] = (100 * bens['count'] / bens['count'].sum()).round(2)\n",
        "bens.head(10)"
      ]
    },
    {
      "cell_type": "code",
      "execution_count": null,
      "metadata": {
        "colab": {
          "base_uri": "https://localhost:8080/",
          "height": 537
        },
        "id": "UWT9qxN1bDL1",
        "outputId": "25b46c07-5339-4e33-f22f-6146d94ec62b"
      },
      "outputs": [
        {
          "data": {
            "text/plain": [
              "Text(0.5, 1.0, '15 principais categorias para o segmento Bens de Consumo')"
            ]
          },
          "execution_count": 39,
          "metadata": {},
          "output_type": "execute_result"
        },
        {
          "data": {
            "image/png": "[encoded data removed]",
            "text/plain": [
              "<Figure size 1152x576 with 1 Axes>"
            ]
          },
          "metadata": {},
          "output_type": "display_data"
        }
      ],
      "source": [
        "sns.barplot(data = bens.head(15), y = 'categoria', x = '%')\n",
        "plt.xticks(rotation=90)\n",
        "plt.title('15 principais categorias para o segmento Bens de Consumo')"
      ]
    },
    {
      "cell_type": "code",
      "execution_count": null,
      "metadata": {
        "colab": {
          "base_uri": "https://localhost:8080/"
        },
        "id": "zyJ708gjbFe8",
        "outputId": "296be3ef-1383-42fa-fc4f-d2098321a17e"
      },
      "outputs": [
        {
          "data": {
            "text/plain": [
              "categoria\n",
              "72-OUTROS FARMA                   1529\n",
              "67-ENFERMAGEM E INSTRUMENTACAO     233\n",
              "68-HOMECARE                         11\n",
              "76-CLINICAS E LABORATORIOS           5\n",
              "73-SAUDE ANIMAL                      4\n",
              "69-HOSPITALARES E CLINICOS           3\n",
              "75-OUTROS HEALTHCARE                 2\n",
              "71-MEDICAMENTOS                      1\n",
              "74-SUPLEMENTOS                       1\n",
              "dtype: int64"
            ]
          },
          "execution_count": 40,
          "metadata": {},
          "output_type": "execute_result"
        }
      ],
      "source": [
        "df[df['segmento'] == '5-HEALTHCARE'].groupby('categoria').size().sort_values(ascending = False)"
      ]
    },
    {
      "cell_type": "code",
      "execution_count": null,
      "metadata": {
        "colab": {
          "base_uri": "https://localhost:8080/"
        },
        "id": "_q9_TGMMbHYV",
        "outputId": "48907c26-105a-42b2-b3ae-ea55551a12f0"
      },
      "outputs": [
        {
          "data": {
            "text/plain": [
              "categoria\n",
              "39-DIVERSOS DECORACAO E JARDIM            924\n",
              "38-CAMAMESA E BANHO                       464\n",
              "40-ILUMINACAO                             181\n",
              "47-BANHEIROCOZINHA E LAVANDERIA           125\n",
              "41-TAPETES E CORTINAS                      56\n",
              "46-ACABAMENTO                              53\n",
              "44-FERRAGENS E FERRAMENTAS                 52\n",
              "49-ELETRICA                                47\n",
              "36-AREA DE LAZER                           30\n",
              "52-PINTURA E VEDACAO                       21\n",
              "51-HIDRAULICA E GAS                        15\n",
              "37-ARTIGOS DE DECORACAO                    11\n",
              "45-DIVERSOS HOME CENTER                     6\n",
              "43-EQUIPAMENTOS                             4\n",
              "42-DIVERSOS FERRAMENTAS E EQUIPAMENTOS      3\n",
              "dtype: int64"
            ]
          },
          "execution_count": 41,
          "metadata": {},
          "output_type": "execute_result"
        }
      ],
      "source": [
        "df[df['segmento'] == '2-CASA E CONSTRUCAO'].groupby('categoria').size().sort_values(ascending = False)"
      ]
    },
    {
      "cell_type": "code",
      "execution_count": null,
      "metadata": {
        "id": "AK7-iWrwbJLg"
      },
      "outputs": [],
      "source": []
    },
    {
      "cell_type": "markdown",
      "metadata": {
        "id": "jN8zoSoLbQJH"
      },
      "source": [
        "## 3 - Subcategoria"
      ]
    },
    {
      "cell_type": "code",
      "execution_count": null,
      "metadata": {
        "colab": {
          "base_uri": "https://localhost:8080/"
        },
        "id": "7C_sXJLTbT7r",
        "outputId": "405b7fc1-b41a-40d8-9474-bfd305e805c4"
      },
      "outputs": [
        {
          "name": "stdout",
          "output_type": "stream",
          "text": [
            "Existem 153 classes diferentes de subcategoria\n"
          ]
        }
      ],
      "source": [
        "print(f\"Existem {len(df.subcategoria.unique())} classes diferentes de subcategoria\")"
      ]
    },
    {
      "cell_type": "code",
      "execution_count": null,
      "metadata": {
        "colab": {
          "base_uri": "https://localhost:8080/"
        },
        "id": "FjzvDMTcbVyQ",
        "outputId": "328911df-c6e8-4337-bc30-9926012d9a68"
      },
      "outputs": [
        {
          "data": {
            "text/plain": [
              "array(['6-EMBUTIDOS', '1-ACOUGUE', '56-DESTILADOS', '22-MERCEARIA LACTEA',\n",
              "       '62-BEBIDAS LACTEAS', '24-PREPAROS E COBERTURAS',\n",
              "       '86-RACOES E PETISCOS', '73-HIGIENE DO BEBE',\n",
              "       '75-ACESSORIOS E DESCARTAVEIS', '80-LIMPEZA DOMESTICA',\n",
              "       '15-CONDIMENTOS', '18-FARINACEOS ', '23-MOLHOS E TEMPEROS DE MESA',\n",
              "       '68-CUIDADO COM O CORPO ', '55-CERVEJAS', '78-HIGIENE CORPORAL',\n",
              "       '17-DOCESSALGADOS E BOMBONIERE', '77-HIGIENE CAPILAR',\n",
              "       '28-CONGELADOS', '76-HIGIENE BUCAL', '8-FUNCIONAIS E RESTRITIVOS',\n",
              "       '64-SUCOS E REFRESCOS', '7-LATICINIOS REFRIGERADOS',\n",
              "       '208-RESFRIADOS', '11-LEGUMES', '14-AZEITE E OLEOS ', '59-CHAS',\n",
              "       '58-CAFE', '170-CURATIVO E BANDAGENS', '79-LAVANDERIA',\n",
              "       '69-MAQUIAGEM E ESMALTERIA', '63-REFRIGERANTES', '21-MASSAS',\n",
              "       '20-GRAOS', '65-FERMENTADOS', '4-SAZONAIS',\n",
              "       '19-ALIMENTOS E FORMULAS INFANTIS', '53-DESCARTAVEIS CASA',\n",
              "       '35-ARTIGOS PARA FESTA', '61-ENERGETICOS E ISOTONICOS',\n",
              "       '44-DIVERSOS BAZAR E DEPARTAMENTOS', '54-AGUA',\n",
              "       '52-ACESSORIOS COZINHA', '66-VEGETAL HIGIENIZADO E PROCESSADO',\n",
              "       '25-PADARIA E CONFEITARIA', '13-ACUCAR',\n",
              "       '30-SORVETES E SOBREMESAS', '184-OUTROS FARMA',\n",
              "       '111-CHUVEIROS E DUCHAS', '16-CONSERVAS', '10-GRANJA',\n",
              "       '213-LAVANDERIA', '67-CUIDADO CAPILAR', '47-PAPELARIA ',\n",
              "       '216-FIAMBRERIA E SALSICHARIA',\n",
              "       '81-UTENSILIOS DE LIMPEZA E LAVANDERIA', '3-PEIXARIA',\n",
              "       '163-CALCADOS', '207-OUTROS HORTIFRUTI', '174-CUIDADOS DIARIOS',\n",
              "       '49-PERCURSAO', '110-PISOS E REVESTIMENTOS',\n",
              "       '173-VESTUARIO E PROTECAO', '2-FRUTOS DO MAR',\n",
              "       '29-REFEICOES PRONTAS', '83-HIGIENE PET',\n",
              "       '34-ARTIGOS PARA CHURRASCO', '132-ELETROPORTATEIS USO PESSOAL',\n",
              "       '186-PALIATIVO VETERINARIO', '166-MODA INVERNO',\n",
              "       '60-DIVERSOS BEBIDAS', '12-VERDURAS', '101-EPI', '9-FRUTAS',\n",
              "       '74-DIVERSOS HIGIENE E LIMPEZA', '169-MODA VERAO',\n",
              "       '171-DESCARTAVEIS', '165-MODA INTIMA', '40-CARRINHOS E AUTORAMAS',\n",
              "       '57-BEBIDAS QUENTES', '36-OUTROS ARTIGOS PARA LAZER',\n",
              "       '96-DIVERSOS DECORACAO E JARDIM', '209-AUTOMOTIVO', '93-BANHO',\n",
              "       '210-OUTROS AMBIENTES', '38-BONECAS E BONECOS',\n",
              "       '142-COZINHA E AREA DE SERVICO', '89-PISCINAS',\n",
              "       '131-ELETROPORTATEIS COZINHA', '133-APARELHOS DE COZINHA',\n",
              "       '92-OBJETOS DECORATIVOS', '87-DIVERSOS PET SHOP',\n",
              "       '130-ELETROPORTATEIS CASA', '88-AREA GOURMET',\n",
              "       '151-CAMPINGCACA E PESCA', '71-PERFUMARIA', '94-CAMA',\n",
              "       '139-INFORMATICA E PERIFERICOS', '158-ACESSORIOS DE CABECA',\n",
              "       '105-FERRAMENTAS DE CONSTRUCAO E CARPINTARIA',\n",
              "       '126-VEDACAO E IMPERMEABILIZACAO', '123-REGISTROS E VALVULAS',\n",
              "       '138-CELULARES E TELECOM', '46-ARTIGOS ESCOLARES',\n",
              "       '149-BOLAS E ACESSORIOS', '103-ACESSORIOS DE PINTURA', '137-VIDEO',\n",
              "       '102-EQUIPAMENTOS PARA CANTEIRO DE OBRA', '42-JOGOS ',\n",
              "       '82-ACESSORIOS PET', '161-OTICA E RELOJOARIA',\n",
              "       '196-TRATAMENTO E RECUPERACAO', '99-TAPETES E CAPACHOS',\n",
              "       '45-ARTIGOS DE ESCRITORIO', '97-LAMPADAS E LUMINARIAS',\n",
              "       '115-ACESSORIOS DE ELETRICA', '37-ARTES E ATIVIDADES',\n",
              "       '125-TINTAS E SOLVENTES', '215-ORGANIZADORES',\n",
              "       '211-DEMAIS BRINQUEDOS', '134-CLIMATIZACAO', '135-LAVANDERIA',\n",
              "       '70-DIVERSOS COSMETICOS E PERFUMARIA',\n",
              "       '122-CAIXAS E RESERVATORIOS', '106-FERRAMENTAS DE JARDINAGEM',\n",
              "       '145-SALA DE ESTAR', '72-ACESSORIOS DE BEBE',\n",
              "       '191-OUTROS HEALTHCARE', '155-MODA FITNESS',\n",
              "       '112-LOUCAS SANITARIAS', '48-CORDA', '212-ARMADILHAS',\n",
              "       '143-OFFICE E HOME OFFICE', '95-MESA', '217-SWIFT CONGELADOS',\n",
              "       '182-PALIATIVOS', '160-JOIAS E BIJOUTERIA',\n",
              "       '159-ACESSORIOS DE FRIO', '167-MODA PRAIA ',\n",
              "       '179-MOBILIARIO HOSPITALAR E CLINICO', '124-TUBOS E CONEXOES',\n",
              "       '118-QUADROS E INTERRUPTORES', '116-DUTOS E FIACAO',\n",
              "       '98-CORTINAS E PERSIANAS', '157-ROUPAS FUNCIONAIS',\n",
              "       '107-DIVERSOS HOME CENTER', '136-AUDIO', '190-TERAPEUTICO',\n",
              "       '156-ROUPAS AQUATICAS', '164-MODA BABY', '147-ARTIGOS DE PROTECAO',\n",
              "       '168-MODA SOCIAL', '32-ACESSORIOS DE VIAGEM'], dtype=object)"
            ]
          },
          "execution_count": 43,
          "metadata": {},
          "output_type": "execute_result"
        }
      ],
      "source": [
        "df.subcategoria.unique()"
      ]
    },
    {
      "cell_type": "code",
      "execution_count": null,
      "metadata": {
        "id": "7ydwONZRbXLe"
      },
      "outputs": [],
      "source": []
    },
    {
      "cell_type": "markdown",
      "metadata": {
        "id": "2V57u4a1NtC_"
      },
      "source": [
        "# Teste de modelos"
      ]
    },
    {
      "cell_type": "markdown",
      "metadata": {
        "id": "uNR2_voqBDV7"
      },
      "source": [
        "## SVC"
      ]
    },
    {
      "cell_type": "code",
      "execution_count": null,
      "metadata": {
        "id": "LjlPjtmFBHES"
      },
      "outputs": [],
      "source": [
        "X = df['nm_item']"
      ]
    },
    {
      "cell_type": "code",
      "execution_count": null,
      "metadata": {
        "id": "UTXAClGiC1TT"
      },
      "outputs": [],
      "source": [
        "documents = []\n",
        "\n",
        "for i in range(0, len(X)):\n",
        "    # Remove all the special characters\n",
        "    document = re.sub(r'\\W', ' ', str(X[i]))\n",
        "    \n",
        "    # remove all single characters\n",
        "    document = re.sub(r'\\s+[a-zA-Z]\\s+', ' ', document)\n",
        "    \n",
        "    # Remove single characters from the start\n",
        "    #document = re.sub(r'\\^[a-zA-Z]\\s+', ' ', document) \n",
        "    \n",
        "    # Substituting multiple spaces with single space\n",
        "    #document = re.sub(r'\\s+', ' ', document, flags=re.I)\n",
        "    \n",
        "    # Converting to Lowercase\n",
        "    document = document.lower().strip()\n",
        "    \n",
        "    documents.append(document)"
      ]
    },
    {
      "cell_type": "code",
      "execution_count": null,
      "metadata": {
        "colab": {
          "base_uri": "https://localhost:8080/"
        },
        "id": "k4KTKpcNDHB6",
        "outputId": "11e2642e-1abc-4a99-e3e0-5368f5d8d3fe"
      },
      "outputs": [
        {
          "data": {
            "text/plain": [
              "['apresuntado rezende pec kg',\n",
              " 'carne suin espinhaco kg',\n",
              " 'whisky white 1lhorse trad',\n",
              " 'whisky johnn walker 1l unred label',\n",
              " 'lte cond mocasemi desn tp 395g',\n",
              " 'beb nestle fast 280mlalpino',\n",
              " 'achoc po nescau sch2 0 800g',\n",
              " 'racao frisk 3kgmix de cne sel sab',\n",
              " 'sab johns baby 80ghora sono',\n",
              " 'abs sempre livre es adp lv16 pgmenos un',\n",
              " 'sh johns baby 400mlregular',\n",
              " 'prot carefree 40unprot perf',\n",
              " 'limp san harpic 500mllav',\n",
              " 'limp veja uso 500mlcampest',\n",
              " 'caldo knorr 19ggal',\n",
              " 'caldo knorr 57gleg',\n",
              " 'caldo knorr 57ggal',\n",
              " 'caldo knorr 114ggal',\n",
              " 'amido milho maizena cx 200g',\n",
              " 'amido milho maizena cx 500g',\n",
              " 'amido milho maizena cx 1kg',\n",
              " 'maionese hellmanns sch 200g',\n",
              " 'caldo knorr 57gcostela',\n",
              " 'caldo knorr 57gbacon louro',\n",
              " 'maionese hellmanns 250gtrad',\n",
              " 'maionese hellmanns trad pt 500g',\n",
              " 'desod aer nivea 150mlblewhit cl',\n",
              " 'desod nivea 50mlblack white clean',\n",
              " 'desod aer nivea 150mlblewhit pow',\n",
              " 'desod nivea 50mlblack white pow']"
            ]
          },
          "execution_count": 40,
          "metadata": {},
          "output_type": "execute_result"
        }
      ],
      "source": [
        "documents[:30]"
      ]
    },
    {
      "cell_type": "code",
      "execution_count": null,
      "metadata": {
        "id": "BAl_wrY8DMks"
      },
      "outputs": [],
      "source": [
        "vectorizer = CountVectorizer(max_features=1500, min_df=5, max_df=0.7, stop_words=stopwords.words('portuguese'))\n",
        "X = vectorizer.fit_transform(documents).toarray()"
      ]
    },
    {
      "cell_type": "code",
      "execution_count": null,
      "metadata": {
        "colab": {
          "base_uri": "https://localhost:8080/"
        },
        "id": "slFpTud2D7xM",
        "outputId": "815aed5b-bf07-4fab-f7d6-283b9d0dab83"
      },
      "outputs": [
        {
          "data": {
            "text/plain": [
              "array([[0, 0, 0, ..., 0, 0, 0],\n",
              "       [0, 0, 0, ..., 0, 0, 0],\n",
              "       [0, 0, 0, ..., 0, 0, 0],\n",
              "       ...,\n",
              "       [0, 0, 0, ..., 0, 0, 0],\n",
              "       [0, 0, 1, ..., 0, 0, 0],\n",
              "       [0, 0, 0, ..., 0, 0, 0]])"
            ]
          },
          "execution_count": 42,
          "metadata": {},
          "output_type": "execute_result"
        }
      ],
      "source": [
        "X"
      ]
    },
    {
      "cell_type": "code",
      "execution_count": null,
      "metadata": {
        "id": "NJ05kz60EGZ5"
      },
      "outputs": [],
      "source": [
        "tfidfconverter = TfidfTransformer()\n",
        "X = tfidfconverter.fit_transform(X).toarray()"
      ]
    },
    {
      "cell_type": "code",
      "execution_count": null,
      "metadata": {
        "colab": {
          "base_uri": "https://localhost:8080/"
        },
        "id": "g0r3Gm1KEO3v",
        "outputId": "b4779d3a-babb-4cbe-992b-63fe7154bd6c"
      },
      "outputs": [
        {
          "data": {
            "text/plain": [
              "array([[0.        , 0.        , 0.        , ..., 0.        , 0.        ,\n",
              "        0.        ],\n",
              "       [0.        , 0.        , 0.        , ..., 0.        , 0.        ,\n",
              "        0.        ],\n",
              "       [0.        , 0.        , 0.        , ..., 0.        , 0.        ,\n",
              "        0.        ],\n",
              "       ...,\n",
              "       [0.        , 0.        , 0.        , ..., 0.        , 0.        ,\n",
              "        0.        ],\n",
              "       [0.        , 0.        , 0.41615648, ..., 0.        , 0.        ,\n",
              "        0.        ],\n",
              "       [0.        , 0.        , 0.        , ..., 0.        , 0.        ,\n",
              "        0.        ]])"
            ]
          },
          "execution_count": 44,
          "metadata": {},
          "output_type": "execute_result"
        }
      ],
      "source": [
        "X"
      ]
    },
    {
      "cell_type": "code",
      "execution_count": null,
      "metadata": {
        "colab": {
          "base_uri": "https://localhost:8080/"
        },
        "id": "0ARNL5jgEcWr",
        "outputId": "59eb2f0e-1c7a-41dc-9887-717b1f2ca56b"
      },
      "outputs": [
        {
          "data": {
            "text/plain": [
              "(158113, 1500)"
            ]
          },
          "execution_count": 45,
          "metadata": {},
          "output_type": "execute_result"
        }
      ],
      "source": [
        "X.shape"
      ]
    },
    {
      "cell_type": "code",
      "execution_count": null,
      "metadata": {
        "colab": {
          "base_uri": "https://localhost:8080/"
        },
        "id": "m2wK8AR0JW-_",
        "outputId": "7851c820-364f-4e4d-f6b5-8f22664b9983"
      },
      "outputs": [
        {
          "data": {
            "text/plain": [
              "(158113, 5)"
            ]
          },
          "execution_count": 46,
          "metadata": {},
          "output_type": "execute_result"
        }
      ],
      "source": [
        "df.shape"
      ]
    },
    {
      "cell_type": "code",
      "execution_count": null,
      "metadata": {
        "colab": {
          "base_uri": "https://localhost:8080/",
          "height": 424
        },
        "id": "Or3F6PoEVTS0",
        "outputId": "e3bdebea-7d40-4825-f8b6-d3bdf1a69f64"
      },
      "outputs": [
        {
          "data": {
            "text/html": [
              "\n",
              "  <div id=\"df-c8df649c-06e3-43d8-ad24-b1d037d2ffd5\">\n",
              "    <div class=\"colab-df-container\">\n",
              "      <div>\n",
              "<style scoped>\n",
              "    .dataframe tbody tr th:only-of-type {\n",
              "        vertical-align: middle;\n",
              "    }\n",
              "\n",
              "    .dataframe tbody tr th {\n",
              "        vertical-align: top;\n",
              "    }\n",
              "\n",
              "    .dataframe thead th {\n",
              "        text-align: right;\n",
              "    }\n",
              "</style>\n",
              "<table border=\"1\" class=\"dataframe\">\n",
              "  <thead>\n",
              "    <tr style=\"text-align: right;\">\n",
              "      <th></th>\n",
              "      <th>1-BENS DE CONSUMO</th>\n",
              "      <th>2-CASA E CONSTRUCAO</th>\n",
              "      <th>3-ELETROMOVEIS</th>\n",
              "      <th>4-FASHION E ESPORTIVO</th>\n",
              "      <th>5-HEALTHCARE</th>\n",
              "      <th>6-PETROQUIMICA</th>\n",
              "    </tr>\n",
              "  </thead>\n",
              "  <tbody>\n",
              "    <tr>\n",
              "      <th>0</th>\n",
              "      <td>1</td>\n",
              "      <td>0</td>\n",
              "      <td>0</td>\n",
              "      <td>0</td>\n",
              "      <td>0</td>\n",
              "      <td>0</td>\n",
              "    </tr>\n",
              "    <tr>\n",
              "      <th>1</th>\n",
              "      <td>1</td>\n",
              "      <td>0</td>\n",
              "      <td>0</td>\n",
              "      <td>0</td>\n",
              "      <td>0</td>\n",
              "      <td>0</td>\n",
              "    </tr>\n",
              "    <tr>\n",
              "      <th>2</th>\n",
              "      <td>1</td>\n",
              "      <td>0</td>\n",
              "      <td>0</td>\n",
              "      <td>0</td>\n",
              "      <td>0</td>\n",
              "      <td>0</td>\n",
              "    </tr>\n",
              "    <tr>\n",
              "      <th>3</th>\n",
              "      <td>1</td>\n",
              "      <td>0</td>\n",
              "      <td>0</td>\n",
              "      <td>0</td>\n",
              "      <td>0</td>\n",
              "      <td>0</td>\n",
              "    </tr>\n",
              "    <tr>\n",
              "      <th>4</th>\n",
              "      <td>1</td>\n",
              "      <td>0</td>\n",
              "      <td>0</td>\n",
              "      <td>0</td>\n",
              "      <td>0</td>\n",
              "      <td>0</td>\n",
              "    </tr>\n",
              "    <tr>\n",
              "      <th>...</th>\n",
              "      <td>...</td>\n",
              "      <td>...</td>\n",
              "      <td>...</td>\n",
              "      <td>...</td>\n",
              "      <td>...</td>\n",
              "      <td>...</td>\n",
              "    </tr>\n",
              "    <tr>\n",
              "      <th>158108</th>\n",
              "      <td>1</td>\n",
              "      <td>0</td>\n",
              "      <td>0</td>\n",
              "      <td>0</td>\n",
              "      <td>0</td>\n",
              "      <td>0</td>\n",
              "    </tr>\n",
              "    <tr>\n",
              "      <th>158109</th>\n",
              "      <td>1</td>\n",
              "      <td>0</td>\n",
              "      <td>0</td>\n",
              "      <td>0</td>\n",
              "      <td>0</td>\n",
              "      <td>0</td>\n",
              "    </tr>\n",
              "    <tr>\n",
              "      <th>158110</th>\n",
              "      <td>1</td>\n",
              "      <td>0</td>\n",
              "      <td>0</td>\n",
              "      <td>0</td>\n",
              "      <td>0</td>\n",
              "      <td>0</td>\n",
              "    </tr>\n",
              "    <tr>\n",
              "      <th>158111</th>\n",
              "      <td>1</td>\n",
              "      <td>0</td>\n",
              "      <td>0</td>\n",
              "      <td>0</td>\n",
              "      <td>0</td>\n",
              "      <td>0</td>\n",
              "    </tr>\n",
              "    <tr>\n",
              "      <th>158112</th>\n",
              "      <td>1</td>\n",
              "      <td>0</td>\n",
              "      <td>0</td>\n",
              "      <td>0</td>\n",
              "      <td>0</td>\n",
              "      <td>0</td>\n",
              "    </tr>\n",
              "  </tbody>\n",
              "</table>\n",
              "<p>158113 rows × 6 columns</p>\n",
              "</div>\n",
              "      <button class=\"colab-df-convert\" onclick=\"convertToInteractive('df-c8df649c-06e3-43d8-ad24-b1d037d2ffd5')\"\n",
              "              title=\"Convert this dataframe to an interactive table.\"\n",
              "              style=\"display:none;\">\n",
              "        \n",
              "  <svg xmlns=\"http://www.w3.org/2000/svg\" height=\"24px\"viewBox=\"0 0 24 24\"\n",
              "       width=\"24px\">\n",
              "    <path d=\"M0 0h24v24H0V0z\" fill=\"none\"/>\n",
              "    <path d=\"M18.56 5.44l.94 2.06.94-2.06 2.06-.94-2.06-.94-.94-2.06-.94 2.06-2.06.94zm-11 1L8.5 8.5l.94-2.06 2.06-.94-2.06-.94L8.5 2.5l-.94 2.06-2.06.94zm10 10l.94 2.06.94-2.06 2.06-.94-2.06-.94-.94-2.06-.94 2.06-2.06.94z\"/><path d=\"M17.41 7.96l-1.37-1.37c-.4-.4-.92-.59-1.43-.59-.52 0-1.04.2-1.43.59L10.3 9.45l-7.72 7.72c-.78.78-.78 2.05 0 2.83L4 21.41c.39.39.9.59 1.41.59.51 0 1.02-.2 1.41-.59l7.78-7.78 2.81-2.81c.8-.78.8-2.07 0-2.86zM5.41 20L4 18.59l7.72-7.72 1.47 1.35L5.41 20z\"/>\n",
              "  </svg>\n",
              "      </button>\n",
              "      \n",
              "  <style>\n",
              "    .colab-df-container {\n",
              "      display:flex;\n",
              "      flex-wrap:wrap;\n",
              "      gap: 12px;\n",
              "    }\n",
              "\n",
              "    .colab-df-convert {\n",
              "      background-color: #E8F0FE;\n",
              "      border: none;\n",
              "      border-radius: 50%;\n",
              "      cursor: pointer;\n",
              "      display: none;\n",
              "      fill: #1967D2;\n",
              "      height: 32px;\n",
              "      padding: 0 0 0 0;\n",
              "      width: 32px;\n",
              "    }\n",
              "\n",
              "    .colab-df-convert:hover {\n",
              "      background-color: #E2EBFA;\n",
              "      box-shadow: 0px 1px 2px rgba(60, 64, 67, 0.3), 0px 1px 3px 1px rgba(60, 64, 67, 0.15);\n",
              "      fill: #174EA6;\n",
              "    }\n",
              "\n",
              "    [theme=dark] .colab-df-convert {\n",
              "      background-color: #3B4455;\n",
              "      fill: #D2E3FC;\n",
              "    }\n",
              "\n",
              "    [theme=dark] .colab-df-convert:hover {\n",
              "      background-color: #434B5C;\n",
              "      box-shadow: 0px 1px 3px 1px rgba(0, 0, 0, 0.15);\n",
              "      filter: drop-shadow(0px 1px 2px rgba(0, 0, 0, 0.3));\n",
              "      fill: #FFFFFF;\n",
              "    }\n",
              "  </style>\n",
              "\n",
              "      <script>\n",
              "        const buttonEl =\n",
              "          document.querySelector('#df-c8df649c-06e3-43d8-ad24-b1d037d2ffd5 button.colab-df-convert');\n",
              "        buttonEl.style.display =\n",
              "          google.colab.kernel.accessAllowed ? 'block' : 'none';\n",
              "\n",
              "        async function convertToInteractive(key) {\n",
              "          const element = document.querySelector('#df-c8df649c-06e3-43d8-ad24-b1d037d2ffd5');\n",
              "          const dataTable =\n",
              "            await google.colab.kernel.invokeFunction('convertToInteractive',\n",
              "                                                     [key], {});\n",
              "          if (!dataTable) return;\n",
              "\n",
              "          const docLinkHtml = 'Like what you see? Visit the ' +\n",
              "            '<a target=\"_blank\" href=https://colab.research.google.com/notebooks/data_table.ipynb>data table notebook</a>'\n",
              "            + ' to learn more about interactive tables.';\n",
              "          element.innerHTML = '';\n",
              "          dataTable['output_type'] = 'display_data';\n",
              "          await google.colab.output.renderOutput(dataTable, element);\n",
              "          const docLink = document.createElement('div');\n",
              "          docLink.innerHTML = docLinkHtml;\n",
              "          element.appendChild(docLink);\n",
              "        }\n",
              "      </script>\n",
              "    </div>\n",
              "  </div>\n",
              "  "
            ],
            "text/plain": [
              "        1-BENS DE CONSUMO  2-CASA E CONSTRUCAO  3-ELETROMOVEIS  \\\n",
              "0                       1                    0               0   \n",
              "1                       1                    0               0   \n",
              "2                       1                    0               0   \n",
              "3                       1                    0               0   \n",
              "4                       1                    0               0   \n",
              "...                   ...                  ...             ...   \n",
              "158108                  1                    0               0   \n",
              "158109                  1                    0               0   \n",
              "158110                  1                    0               0   \n",
              "158111                  1                    0               0   \n",
              "158112                  1                    0               0   \n",
              "\n",
              "        4-FASHION E ESPORTIVO  5-HEALTHCARE  6-PETROQUIMICA  \n",
              "0                           0             0               0  \n",
              "1                           0             0               0  \n",
              "2                           0             0               0  \n",
              "3                           0             0               0  \n",
              "4                           0             0               0  \n",
              "...                       ...           ...             ...  \n",
              "158108                      0             0               0  \n",
              "158109                      0             0               0  \n",
              "158110                      0             0               0  \n",
              "158111                      0             0               0  \n",
              "158112                      0             0               0  \n",
              "\n",
              "[158113 rows x 6 columns]"
            ]
          },
          "execution_count": 47,
          "metadata": {},
          "output_type": "execute_result"
        }
      ],
      "source": [
        "pd.get_dummies(df['segmento'])"
      ]
    },
    {
      "cell_type": "code",
      "execution_count": null,
      "metadata": {
        "id": "3wHXsI7WJa11"
      },
      "outputs": [],
      "source": [
        "Y = pd.get_dummies(df['segmento'])"
      ]
    },
    {
      "cell_type": "code",
      "execution_count": null,
      "metadata": {
        "id": "bGYcqGc1JgHv"
      },
      "outputs": [],
      "source": [
        "y = np.array(Y)"
      ]
    },
    {
      "cell_type": "code",
      "execution_count": null,
      "metadata": {
        "id": "1Qrd5I-rKu49"
      },
      "outputs": [],
      "source": [
        "X_train, X_test, y_train, y_test = train_test_split(X, y, train_size=0.8, random_state = 0)"
      ]
    },
    {
      "cell_type": "code",
      "execution_count": null,
      "metadata": {
        "id": "r7KKvsu0Yy2g"
      },
      "outputs": [],
      "source": [
        "svc = SVC(kernel = 'rbf')\n",
        "multi_svc = OneVsRestClassifier(svc)"
      ]
    },
    {
      "cell_type": "code",
      "execution_count": null,
      "metadata": {
        "colab": {
          "base_uri": "https://localhost:8080/"
        },
        "id": "xhMOrixeZkTB",
        "outputId": "83065aa4-6848-42fd-dc1b-b2f34f3a83c3"
      },
      "outputs": [
        {
          "data": {
            "text/plain": [
              "OneVsRestClassifier(estimator=SVC())"
            ]
          },
          "execution_count": 53,
          "metadata": {},
          "output_type": "execute_result"
        }
      ],
      "source": [
        "multi_svc.fit(X_train, y_train)"
      ]
    },
    {
      "cell_type": "code",
      "execution_count": null,
      "metadata": {
        "colab": {
          "background_save": true,
          "base_uri": "https://localhost:8080/"
        },
        "id": "OuMWtzXsY7az",
        "outputId": "40cb0a44-9f01-45a2-9669-3edb5c01eac1"
      },
      "outputs": [
        {
          "name": "stdout",
          "output_type": "stream",
          "text": [
            "F1 validation:  0.9729416353076348\n",
            "F1 training:  0.9768044904735552\n"
          ]
        }
      ],
      "source": [
        "print(\"F1 validation: \", f1_score(y_test, multi_svc.predict(X_test), average='samples'))\n",
        "print(\"F1 training: \", f1_score(y_train, multi_svc.predict(X_train), average='samples'))"
      ]
    },
    {
      "cell_type": "code",
      "execution_count": null,
      "metadata": {
        "id": "9MqWiPgwF3sC"
      },
      "outputs": [],
      "source": [
        "y_pred = multi_svc.predict(X_test)"
      ]
    },
    {
      "cell_type": "markdown",
      "metadata": {
        "id": "c-6qi-yXZxFw"
      },
      "source": [
        "###Cross-Validation (para o futuro)"
      ]
    },
    {
      "cell_type": "code",
      "execution_count": null,
      "metadata": {
        "id": "V21m7a5aWS1h"
      },
      "outputs": [],
      "source": [
        "C_range = [2 ** exp for exp in range(-5, 6)]\n",
        "gamma_range = [2 ** exp for exp in range(-13, 1)]"
      ]
    },
    {
      "cell_type": "code",
      "execution_count": null,
      "metadata": {
        "id": "ZiV0DyyZWSmE"
      },
      "outputs": [],
      "source": [
        "svc = SVC()\n",
        "multi_svc = OneVsRestClassifier(svc)\n",
        "\n",
        "tuned_parameters = {'estimator__kernel': ['rbf'],\n",
        "                    'estimator__gamma': gamma_range,\n",
        "                    'estimator__C': C_range}\n",
        "\n",
        "# clf = GridSearchCV(\n",
        "#         multi_svc,\n",
        "#         tuned_parameters,\n",
        "#         scoring='f1_samples',\n",
        "#         verbose=1,\n",
        "#         n_jobs=-1\n",
        "#     )\n",
        "\n",
        "clf = RandomizedSearchCV(\n",
        "    estimator=multi_svc, \n",
        "    param_distributions=tuned_parameters,\n",
        "    scoring='f1_samples',\n",
        "    n_jobs=-1,\n",
        "    n_iter=10,\n",
        "    verbose=1\n",
        ")\n",
        "\n",
        "%time clf.fit(X_train, y_train)\n",
        "\n",
        "print(\"F1 validation: \", f1_score(y_test, clf.predict(X_test), average='samples'))\n",
        "print(\"F1 training: \", f1_score(y_train, clf.predict(X_train), average='samples'))\n",
        "print(\"Best params: \", clf.best_params_)"
      ]
    },
    {
      "cell_type": "code",
      "execution_count": null,
      "metadata": {
        "id": "hpMSlm7TWSMb"
      },
      "outputs": [],
      "source": []
    },
    {
      "cell_type": "code",
      "execution_count": null,
      "metadata": {
        "id": "gTMkRaG2LVY6"
      },
      "outputs": [],
      "source": []
    },
    {
      "cell_type": "markdown",
      "metadata": {
        "id": "oW2rJZcBeSN0"
      },
      "source": [
        "# Teste - Matriz de confusão"
      ]
    },
    {
      "cell_type": "code",
      "execution_count": null,
      "metadata": {
        "id": "MZ3C1G4FeXd_"
      },
      "outputs": [],
      "source": [
        "from sklearn.metrics import multilabel_confusion_matrix\n",
        "def plot_confusion_matrix(y_true, y_pred, labels=None, show=False):\n",
        "    columns = 3\n",
        "    rows = 3\n",
        "    fig = plt.figure(figsize=(16, 12))\n",
        "    fig.suptitle('Matriz de confusão', fontsize=20)\n",
        "    confusion_array = multilabel_confusion_matrix(y_true, y_pred)\n",
        "    for idx,conf in enumerate(confusion_array):\n",
        "        ax = fig.add_subplot(rows, columns, idx+1)\n",
        "        ax.title.set_text(labels[idx])\n",
        "        probs = conf / conf.sum(axis=1, keepdims=True)\n",
        "        sns.heatmap(probs,\n",
        "                    cmap=\"YlGnBu\", linewidths=.5, annot=True, fmt=\".1%\",\n",
        "                    xticklabels=['Sim', 'Não'],\n",
        "                    yticklabels=['Sim', 'Não'],\n",
        "                    cbar=False).figure.show()\n",
        "#    plt.savefig(f'{args.confusion_matrix_chart_file}')\n",
        "    if show:\n",
        "        plt.show()"
      ]
    },
    {
      "cell_type": "code",
      "execution_count": null,
      "metadata": {
        "colab": {
          "base_uri": "https://localhost:8080/"
        },
        "id": "ELwJd67Ne1Y5",
        "outputId": "0d1eab40-9630-47b5-91bf-f8f34fb39a75"
      },
      "outputs": [
        {
          "data": {
            "text/plain": [
              "Index(['1-BENS DE CONSUMO', '2-CASA E CONSTRUCAO', '3-ELETROMOVEIS',\n",
              "       '4-FASHION E ESPORTIVO', '5-HEALTHCARE', '6-PETROQUIMICA'],\n",
              "      dtype='object')"
            ]
          },
          "execution_count": 27,
          "metadata": {},
          "output_type": "execute_result"
        }
      ],
      "source": [
        "Y.columns"
      ]
    },
    {
      "cell_type": "code",
      "execution_count": null,
      "metadata": {
        "id": "eeisZ0OBehxA"
      },
      "outputs": [],
      "source": [
        "labels = ['BENS DE CONSUMO', 'CASA E CONSTRUCAO', 'ELETROMOVEIS', 'FASHION E ESPORTIVO',\n",
        "          'HEALTHCARE', 'PETROQUIMICA']"
      ]
    },
    {
      "cell_type": "code",
      "execution_count": null,
      "metadata": {
        "colab": {
          "base_uri": "https://localhost:8080/",
          "height": 556
        },
        "id": "_P-hYuqtepxR",
        "outputId": "c72760fa-1094-467d-e214-979460a21633"
      },
      "outputs": [
        {
          "output_type": "display_data",
          "data": {
            "text/plain": [
              "<Figure size 1152x864 with 6 Axes>"
            ],
            "image/png": "[encoded data removed]"
          },
          "metadata": {
            "needs_background": "light"
          }
        }
      ],
      "source": [
        "plot_confusion_matrix(y_test, y_pred, labels)"
      ]
    },
    {
      "cell_type": "code",
      "execution_count": null,
      "metadata": {
        "id": "16Xw5azXfFcN"
      },
      "outputs": [],
      "source": []
    }
  ],
  "metadata": {
    "colab": {
      "toc_visible": true,
      "provenance": [],
      "collapsed_sections": [
        "y20ENv6za-Sc",
        "jN8zoSoLbQJH"
      ],
      "include_colab_link": true
    },
    "kernelspec": {
      "display_name": "Python 3",
      "name": "python3"
    },
    "language_info": {
      "name": "python"
    }
  },
  "nbformat": 4,
  "nbformat_minor": 0
}